{
 "cells": [
  {
   "cell_type": "code",
   "execution_count": 1,
   "metadata": {},
   "outputs": [],
   "source": [
    "import numpy as np\n",
    "import matplotlib.pyplot as plt\n",
    "import matplotlib.cm as cm\n",
    "from ipywidgets import fixed, interactive\n",
    "from IPython.display import display\n",
    "\n",
    "##########################################\n",
    "# CONFIGS\n",
    "##########################################\n",
    "\n",
    "PARAM_RANGE = (-10.0, 10.0)  # range value for weights and biases\n",
    "RESOLUTION = 100  # number of points for surface plot (a kind of resolution)\n",
    "X1_RANGE = [-0.25, 1.25]  # axis range\n",
    "X2_RANGE = [-0.25, 1.25]  # axis range\n",
    "FIGURE_PARAMS = {'num': None,\n",
    "                 'figsize': (5, 5),\n",
    "                 'dpi': 100,\n",
    "                 'facecolor': 'w',\n",
    "                 'edgecolor': None,\n",
    "                 }\n",
    "MAIN_TITLE = {'fontsize': 'xx-large',\n",
    "              'ha': 'center',\n",
    "              }\n",
    "CORRECT_COLOR = 'g'\n",
    "WRONG_COLOR = 'r'\n",
    "ZEROS_COLOR = 'r'\n",
    "ONES_COLOR = 'b'\n",
    "LEVELS = np.linspace(0, 1, 3)  # number of colormap levels\n",
    "CMAP = cm.RdBu  # color mapp; other candidates: bwr_r seismic_r\n",
    "POINT_SIZE = 200  # size of the test points\n",
    "EDGECOLORS = 'w'  # test points edge color (white)\n",
    "TITLE = {'color': 'w',\n",
    "         'fontsize': 'large',\n",
    "         'verticalalignment': 'top',\n",
    "         }\n",
    "WRONG = 'Don\\'t Give Up! You Can Do It!'  # title for wrong solution\n",
    "CORRECT = 'Nice! You Did It!'  # title for correct solution\n",
    "XTICKS = [0, 1]  # ticks for x axis\n",
    "YTICKS = [0, 1]  # ticks for y axis\n",
    "# titles, x test values and y ground truth values used for perceptrons:\n",
    "ANDCONFIG = ['ANDPerceptron', [(0, 0), (0, 1), (1, 0), (1, 1)], [0, 0, 0, 1]]\n",
    "ORCONFIG = ['ORPerceptron', [(0, 0), (0, 1), (1, 0), (1, 1)], [0, 1, 1, 1]]\n",
    "NOTCONFIG = ['NOTPerceptron', [(0, 0), (0, 1), (1, 0), (1, 1)], [1, 0, 1, 0]]\n",
    "XORCONFIG = ['XORPerceptron', [(0, 0), (0, 1), (1, 0), (1, 1)], [0, 1, 1, 0]]\n",
    "XOR2CONFIG = ['XOR2LayerPerceptron', XORCONFIG[1], XORCONFIG[2]]\n",
    "\n",
    "##########################################\n",
    "# All the functional stuff starts here\n",
    "##########################################\n",
    "\n",
    "\n",
    "def heaviside(z):\n",
    "    \"\"\"Heaviside step function.\"\"\"\n",
    "    a = np.where(z >= 0, 1, 0)\n",
    "    return a\n",
    "\n",
    "\n",
    "def neuron(x, w, b, activation=heaviside):\n",
    "    \"\"\"Simple forward propagation: linear + heaviside (by default).\n",
    "    Inputs:\n",
    "    x: input;\n",
    "    w: weights;\n",
    "    b: bias;\n",
    "    activation: activation function (default: heaviside).\n",
    "    \"\"\"\n",
    "    return activation(x @ w.T + b)\n",
    "\n",
    "\n",
    "def transform():\n",
    "    \"\"\"Prepares input data for neuron.\"\"\"\n",
    "    X1 = np.linspace(X1_RANGE[0], X1_RANGE[1], RESOLUTION)\n",
    "    X2 = np.linspace(X2_RANGE[0], X2_RANGE[1], RESOLUTION)\n",
    "    XX1, XX2 = np.meshgrid(X1, X2)\n",
    "    X = np.dstack([XX1, XX2])\n",
    "    return X\n",
    "\n",
    "\n",
    "def plot_results(x, yhat):\n",
    "    \"\"\"Simply plots the results.\n",
    "    Inputs:\n",
    "    x: input;\n",
    "    yhat: predicted values of y\"\"\"\n",
    "    plt.contourf(x[:, :, 0], x[:, :, 1], yhat, cmap=CMAP, levels=LEVELS)\n",
    "\n",
    "\n",
    "def plot_test_points(x, y, wb, mlp=False) -> None:\n",
    "    \"\"\"Plots test points, showing the required solution (result).\n",
    "    Inputs:\n",
    "    x: input;\n",
    "    y: ground truth values;\n",
    "    wb: list of weights and bias(es);\n",
    "    mlp: type of propagation (default: single neuron).\n",
    "    \"\"\"\n",
    "    gt = list()\n",
    "    for i, j in zip(x, y):\n",
    "        gt_i = int(neuron(i, wb[0], wb[1])) if not mlp else int(propagate_mlp(i, wb))\n",
    "        gt.append(gt_i)\n",
    "        c = ONES_COLOR if j else ZEROS_COLOR\n",
    "        plt.scatter([i[0]], [i[1]], s=POINT_SIZE, edgecolors=EDGECOLORS, c=c)\n",
    "\n",
    "    result, c = (CORRECT, CORRECT_COLOR) if (gt == y) else (WRONG, WRONG_COLOR)\n",
    "    TITLE['label'] = f'{result}'  # sets the corrct title\n",
    "    TITLE['backgroundcolor'] = c  # sets the right title color\n",
    "    plt.title(**TITLE)\n",
    "\n",
    "\n",
    "def prepare_plot(t: str) -> None:\n",
    "    \"\"\"Sets title, init fig, sets ticks and axis limits.\n",
    "    Inputs:\n",
    "    t: plot title.\n",
    "    \"\"\"\n",
    "    # set the plot title\n",
    "    MAIN_TITLE['t'] = f'  {t}'\n",
    "    # prepare figure\n",
    "    plt.figure(**FIGURE_PARAMS)\n",
    "    plt.suptitle(**MAIN_TITLE)\n",
    "    # add ticks\n",
    "    plt.xticks(XTICKS)\n",
    "    plt.yticks(YTICKS)\n",
    "    # set the axis limits\n",
    "    plt.xlim(X1_RANGE)\n",
    "    plt.ylim(X2_RANGE)\n",
    "\n",
    "\n",
    "def plot(x, y, weight1, weight2, bias):\n",
    "    \"\"\"Propagates and plots the results for the simple neuron.\n",
    "    Inputs:\n",
    "    x: input;\n",
    "    y: ground truth values;\n",
    "    weight[], bias: weights and bias of the neuron.\n",
    "    \"\"\"\n",
    "    w = np.array([weight1, weight2])\n",
    "    X = transform()\n",
    "    yhat = neuron(X, w, bias)\n",
    "\n",
    "    plot_results(X, yhat)\n",
    "    plot_test_points(x, y, [w, bias])\n",
    "\n",
    "\n",
    "def run(t, x, y, weight1=PARAM_RANGE, weight2=PARAM_RANGE, bias=PARAM_RANGE):\n",
    "    \"\"\"This function will be interactive.\n",
    "    Inputs:\n",
    "    t: main title;\n",
    "    x: input;\n",
    "    y: ground truth values;\n",
    "    weight[], bias: weights and bias of the neuron.\n",
    "    \"\"\"\n",
    "    prepare_plot(t)\n",
    "    plot(x, y, weight1, weight2, bias)\n",
    "\n",
    "\n",
    "def perceptron(t: str, x, y, **kwargs):\n",
    "    \"\"\"Base function for single neuron perceptrons. Returns ipython widget.\n",
    "    Inputs:\n",
    "    t: main title;\n",
    "    x: input;\n",
    "    y: ground truth values.\n",
    "    \"\"\"\n",
    "    return interactive(run, t=fixed(t), x=fixed(x), y=fixed(y), **kwargs)\n",
    "\n",
    "\n",
    "def propagate_mlp(x, wb: list):\n",
    "    \"\"\"Forward propagation for 2LayerPerceptron.\n",
    "    Inputs:\n",
    "    x: input;\n",
    "    wb: weights and biases values.\n",
    "    \"\"\"\n",
    "    l1n1 = neuron(x, wb[0], wb[1])  # Layer 1 Neuron 1\n",
    "    l1n2 = neuron(x, wb[2], wb[3])  # Layer 1 Neuron 2\n",
    "    l1 = np.dstack([l1n1, l1n2])  # Layer 1 output\n",
    "    l2 = neuron(l1, wb[4], wb[5])  # Layer 2 output\n",
    "    return l2\n",
    "\n",
    "\n",
    "def plot_mlp(x, y, wb: list):\n",
    "    \"\"\"Propagates and plot the mlp results.\n",
    "    Inputs:\n",
    "    x: input;\n",
    "    y: ground truth values;\n",
    "    wb: weights and biases values.\n",
    "    \"\"\"\n",
    "    X = transform()\n",
    "    yhat = propagate_mlp(X, wb)\n",
    "    plot_results(X, yhat)\n",
    "    plot_test_points(x, y, wb, mlp=True)\n",
    "\n",
    "\n",
    "def run_mlp(t,\n",
    "            x,\n",
    "            y,\n",
    "            l1n1_w1=PARAM_RANGE,\n",
    "            l1n1_w2=PARAM_RANGE,\n",
    "            l1n1_b=PARAM_RANGE,\n",
    "            l1n2_w1=PARAM_RANGE,\n",
    "            l1n2_w2=PARAM_RANGE,\n",
    "            l1n2_b=PARAM_RANGE,\n",
    "            l2_w1=PARAM_RANGE,\n",
    "            l2_w2=PARAM_RANGE,\n",
    "            l2_b=PARAM_RANGE):\n",
    "    \"\"\"This function will be interactive.\"\"\"\n",
    "    l1n1_W, l1n2_W = np.array([l1n1_w1, l1n1_w2]), np.array([l1n2_w1, l1n2_w2])\n",
    "    l2_W = np.array([l2_w1, l2_w2])\n",
    "    wb = [l1n1_W, l1n1_b, l1n2_W, l1n2_b, l2_W, l2_b]\n",
    "\n",
    "    prepare_plot(t)\n",
    "    plot_mlp(x, y, wb)\n",
    "\n",
    "\n",
    "def mlp(t, x, y, **kwargs):\n",
    "    \"\"\"Base function for interactive MLPs.\"\"\"\n",
    "    return interactive(run_mlp, t=fixed(t), x=fixed(x), y=fixed(y), **kwargs)\n",
    "\n",
    "\n",
    "##########################################\n",
    "# Here's final functions for export :)\n",
    "##########################################\n",
    "\n",
    "\n",
    "def and_perceptron():\n",
    "    \"\"\"Interactive AND Perceptron.\"\"\"\n",
    "    display(perceptron(*ANDCONFIG))\n",
    "\n",
    "\n",
    "def or_perceptron():\n",
    "    \"\"\"Interactive OR Perceptron.\"\"\"\n",
    "    display(perceptron(*ORCONFIG))\n",
    "\n",
    "\n",
    "def not_perceptron():\n",
    "    \"\"\"Interactive NOT Perceptron.\"\"\"\n",
    "    display(perceptron(*NOTCONFIG, weight1=(0, 0)))\n",
    "\n",
    "\n",
    "def xor_perceptron():\n",
    "    \"\"\"Unsolvable Interactive XOR Perceptron.\"\"\"\n",
    "    display(perceptron(*XORCONFIG))\n",
    "\n",
    "\n",
    "def xor_mlp():\n",
    "    \"\"\"Interactive XOR 2-Layer Perceptron.\"\"\"\n",
    "    display(mlp(*XOR2CONFIG))"
   ]
  },
  {
   "cell_type": "code",
   "execution_count": 2,
   "metadata": {},
   "outputs": [],
   "source": [
    "%matplotlib inline"
   ]
  },
  {
   "cell_type": "code",
   "execution_count": 3,
   "metadata": {},
   "outputs": [
    {
     "data": {
      "application/vnd.jupyter.widget-view+json": {
       "model_id": "f894ebcaba3346849a1ae87904e313e7",
       "version_major": 2,
       "version_minor": 0
      },
      "text/plain": [
       "interactive(children=(FloatSlider(value=0.0, description='weight1', max=10.0, min=-10.0), FloatSlider(value=0.…"
      ]
     },
     "metadata": {},
     "output_type": "display_data"
    }
   ],
   "source": [
    "and_perceptron()"
   ]
  },
  {
   "cell_type": "code",
   "execution_count": 4,
   "metadata": {},
   "outputs": [
    {
     "data": {
      "application/vnd.jupyter.widget-view+json": {
       "model_id": "d49dd467af004156b23076681a417a8c",
       "version_major": 2,
       "version_minor": 0
      },
      "text/plain": [
       "interactive(children=(FloatSlider(value=0.0, description='weight1', max=10.0, min=-10.0), FloatSlider(value=0.…"
      ]
     },
     "metadata": {},
     "output_type": "display_data"
    }
   ],
   "source": [
    "or_perceptron()"
   ]
  },
  {
   "cell_type": "code",
   "execution_count": 5,
   "metadata": {},
   "outputs": [
    {
     "data": {
      "application/vnd.jupyter.widget-view+json": {
       "model_id": "61b42db6ace34740bb4d8a8ebf2c3319",
       "version_major": 2,
       "version_minor": 0
      },
      "text/plain": [
       "interactive(children=(IntSlider(value=0, description='weight1', max=0), FloatSlider(value=0.0, description='we…"
      ]
     },
     "metadata": {},
     "output_type": "display_data"
    }
   ],
   "source": [
    "not_perceptron()"
   ]
  },
  {
   "cell_type": "code",
   "execution_count": 6,
   "metadata": {},
   "outputs": [
    {
     "data": {
      "application/vnd.jupyter.widget-view+json": {
       "model_id": "4c808ee5f4ff40f4ac353167918ebbf4",
       "version_major": 2,
       "version_minor": 0
      },
      "text/plain": [
       "interactive(children=(FloatSlider(value=0.0, description='weight1', max=10.0, min=-10.0), FloatSlider(value=0.…"
      ]
     },
     "metadata": {},
     "output_type": "display_data"
    }
   ],
   "source": [
    "xor_perceptron()"
   ]
  },
  {
   "cell_type": "code",
   "execution_count": 7,
   "metadata": {},
   "outputs": [
    {
     "data": {
      "application/vnd.jupyter.widget-view+json": {
       "model_id": "91e7d5584e4142b28ed12f2c07f2091d",
       "version_major": 2,
       "version_minor": 0
      },
      "text/plain": [
       "interactive(children=(FloatSlider(value=0.0, description='l1n1_w1', max=10.0, min=-10.0), FloatSlider(value=0.…"
      ]
     },
     "metadata": {},
     "output_type": "display_data"
    }
   ],
   "source": [
    "xor_mlp()"
   ]
  }
 ],
 "metadata": {
  "kernelspec": {
   "display_name": "Python 3",
   "language": "python",
   "name": "python3"
  },
  "language_info": {
   "codemirror_mode": {
    "name": "ipython",
    "version": 3
   },
   "file_extension": ".py",
   "mimetype": "text/x-python",
   "name": "python",
   "nbconvert_exporter": "python",
   "pygments_lexer": "ipython3",
   "version": "3.7.4"
  }
 },
 "nbformat": 4,
 "nbformat_minor": 4
}
