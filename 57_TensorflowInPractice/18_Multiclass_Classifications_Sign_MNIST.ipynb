{
 "cells": [
  {
   "cell_type": "code",
   "execution_count": 1,
   "metadata": {},
   "outputs": [],
   "source": [
    "import csv\n",
    "import numpy as np\n",
    "import tensorflow as tf\n",
    "from tensorflow.keras.preprocessing.image import ImageDataGenerator\n",
    "from os import path, getcwd"
   ]
  },
  {
   "cell_type": "code",
   "execution_count": 2,
   "metadata": {},
   "outputs": [
    {
     "name": "stdout",
     "output_type": "stream",
     "text": [
      "(27455, 28, 28)\n",
      "(27455,)\n",
      "(7172, 28, 28)\n",
      "(7172,)\n"
     ]
    }
   ],
   "source": [
    "def get_data(filename):\n",
    "    with open(filename) as training_file:\n",
    "        csv_reader = csv.reader(training_file, delimiter=',')\n",
    "        first_line = True\n",
    "        temp_images = []\n",
    "        temp_labels = []\n",
    "        for row in csv_reader:\n",
    "            if first_line:\n",
    "                # print(\"Ignoring first line\")\n",
    "                first_line = False\n",
    "            else:\n",
    "                temp_labels.append(row[0])\n",
    "                image_data = row[1:785]\n",
    "                image_data_as_array = np.array_split(image_data, 28)\n",
    "                temp_images.append(image_data_as_array)\n",
    "        images = np.array(temp_images).astype('float')\n",
    "        labels = np.array(temp_labels).astype('float')\n",
    "    return images, labels\n",
    "\n",
    "\n",
    "training_images, training_labels = get_data(f'{getcwd()}/sign_mnist_datasets/sign_mnist_train.csv')\n",
    "testing_images, testing_labels = get_data(f'{getcwd()}/sign_mnist_datasets/sign_mnist_test.csv')\n",
    "\n",
    "print(training_images.shape)\n",
    "print(training_labels.shape)\n",
    "print(testing_images.shape)\n",
    "print(testing_labels.shape)"
   ]
  },
  {
   "cell_type": "code",
   "execution_count": 3,
   "metadata": {},
   "outputs": [
    {
     "name": "stdout",
     "output_type": "stream",
     "text": [
      "(27455, 28, 28, 1)\n",
      "(7172, 28, 28, 1)\n"
     ]
    }
   ],
   "source": [
    "training_images = np.expand_dims(training_images, axis=3)\n",
    "testing_images = np.expand_dims(testing_images, axis=3)\n",
    "\n",
    "train_datagen = ImageDataGenerator(\n",
    "    rescale=1. / 255,\n",
    "    rotation_range=40,\n",
    "    width_shift_range=0.2,\n",
    "    height_shift_range=0.2,\n",
    "    shear_range=0.2,\n",
    "    zoom_range=0.2,\n",
    "    horizontal_flip=True,\n",
    "    fill_mode='nearest')\n",
    "\n",
    "validation_datagen = ImageDataGenerator(\n",
    "    rescale=1. / 255)\n",
    "\n",
    "print(training_images.shape)\n",
    "print(testing_images.shape)"
   ]
  },
  {
   "cell_type": "code",
   "execution_count": 4,
   "metadata": {},
   "outputs": [
    {
     "name": "stdout",
     "output_type": "stream",
     "text": [
      "WARNING:tensorflow:sample_weight modes were coerced from\n",
      "  ...\n",
      "    to  \n",
      "  ['...']\n",
      "WARNING:tensorflow:sample_weight modes were coerced from\n",
      "  ...\n",
      "    to  \n",
      "  ['...']\n",
      "Train for 857.96875 steps, validate for 224.125 steps\n",
      "Epoch 1/15\n",
      "858/857 [==============================] - 34s 40ms/step - loss: 2.7553 - accuracy: 0.1640 - val_loss: 1.8519 - val_accuracy: 0.4137\n",
      "Epoch 2/15\n",
      "858/857 [==============================] - 34s 40ms/step - loss: 2.0659 - accuracy: 0.3471 - val_loss: 1.2341 - val_accuracy: 0.5924\n",
      "Epoch 3/15\n",
      "858/857 [==============================] - 34s 39ms/step - loss: 1.7053 - accuracy: 0.4541 - val_loss: 1.1027 - val_accuracy: 0.6100\n",
      "Epoch 4/15\n",
      "858/857 [==============================] - 33s 39ms/step - loss: 1.4958 - accuracy: 0.5170 - val_loss: 0.9801 - val_accuracy: 0.6613\n",
      "Epoch 5/15\n",
      "858/857 [==============================] - 33s 38ms/step - loss: 1.3481 - accuracy: 0.5615 - val_loss: 0.8630 - val_accuracy: 0.6949\n",
      "Epoch 6/15\n",
      "858/857 [==============================] - 33s 38ms/step - loss: 1.2164 - accuracy: 0.6004 - val_loss: 0.7179 - val_accuracy: 0.7387\n",
      "Epoch 7/15\n",
      "858/857 [==============================] - 33s 39ms/step - loss: 1.1282 - accuracy: 0.6263 - val_loss: 0.7794 - val_accuracy: 0.7249\n",
      "Epoch 8/15\n",
      "858/857 [==============================] - 36s 42ms/step - loss: 1.0508 - accuracy: 0.6524 - val_loss: 0.7017 - val_accuracy: 0.7483\n",
      "Epoch 9/15\n",
      "858/857 [==============================] - 35s 41ms/step - loss: 0.9900 - accuracy: 0.6727 - val_loss: 0.5248 - val_accuracy: 0.8158\n",
      "Epoch 10/15\n",
      "858/857 [==============================] - 33s 39ms/step - loss: 0.9297 - accuracy: 0.6923 - val_loss: 0.5163 - val_accuracy: 0.8164\n",
      "Epoch 11/15\n",
      "858/857 [==============================] - 33s 39ms/step - loss: 0.8741 - accuracy: 0.7101 - val_loss: 0.5428 - val_accuracy: 0.7854\n",
      "Epoch 12/15\n",
      "858/857 [==============================] - 33s 39ms/step - loss: 0.8279 - accuracy: 0.7256 - val_loss: 0.4025 - val_accuracy: 0.8549\n",
      "Epoch 13/15\n",
      "858/857 [==============================] - 33s 39ms/step - loss: 0.7856 - accuracy: 0.7410 - val_loss: 0.4224 - val_accuracy: 0.8618\n",
      "Epoch 14/15\n",
      "858/857 [==============================] - 33s 39ms/step - loss: 0.7686 - accuracy: 0.7453 - val_loss: 0.3712 - val_accuracy: 0.8599\n",
      "Epoch 15/15\n",
      "858/857 [==============================] - 33s 39ms/step - loss: 0.7219 - accuracy: 0.7599 - val_loss: 0.3605 - val_accuracy: 0.8702\n",
      "7172/7172 [==============================] - 4s 513us/sample - loss: 478.5481 - accuracy: 0.5022\n"
     ]
    },
    {
     "data": {
      "text/plain": [
       "[478.5480835165182, 0.5022309]"
      ]
     },
     "execution_count": 4,
     "metadata": {},
     "output_type": "execute_result"
    }
   ],
   "source": [
    "model = tf.keras.models.Sequential([\n",
    "    tf.keras.layers.Conv2D(64, (3, 3), activation='relu', input_shape=(28, 28, 1)),\n",
    "    tf.keras.layers.MaxPooling2D(2, 2),\n",
    "    tf.keras.layers.Conv2D(64, (3, 3), activation='relu'),\n",
    "    tf.keras.layers.MaxPooling2D(2, 2),\n",
    "    tf.keras.layers.Flatten(),\n",
    "    tf.keras.layers.Dense(128, activation=tf.nn.relu),\n",
    "    tf.keras.layers.Dense(26, activation=tf.nn.softmax)])\n",
    "\n",
    "model.compile(optimizer = tf.optimizers.Adam(),\n",
    "              loss = 'sparse_categorical_crossentropy',\n",
    "              metrics=['accuracy'])\n",
    "\n",
    "history = model.fit(train_datagen.flow(training_images, training_labels, batch_size=32),\n",
    "                              steps_per_epoch=len(training_images) / 32,\n",
    "                              epochs=15,\n",
    "                              validation_data=validation_datagen.flow(testing_images, testing_labels, batch_size=32),\n",
    "                              validation_steps=len(testing_images) / 32)\n",
    "\n",
    "model.evaluate(testing_images, testing_labels)"
   ]
  },
  {
   "cell_type": "code",
   "execution_count": 5,
   "metadata": {},
   "outputs": [
    {
     "data": {
      "image/png": "[encoded data removed]",
      "text/plain": [
       "<Figure size 432x288 with 1 Axes>"
      ]
     },
     "metadata": {
      "needs_background": "light"
     },
     "output_type": "display_data"
    },
    {
     "data": {
      "image/png": "[encoded data removed]",
      "text/plain": [
       "<Figure size 432x288 with 1 Axes>"
      ]
     },
     "metadata": {
      "needs_background": "light"
     },
     "output_type": "display_data"
    }
   ],
   "source": [
    "import matplotlib.pyplot as plt\n",
    "acc = history.history['accuracy']\n",
    "val_acc = history.history['val_accuracy']\n",
    "loss = history.history['loss']\n",
    "val_loss = history.history['val_loss']\n",
    "\n",
    "epochs = range(len(acc))\n",
    "\n",
    "plt.plot(epochs, acc, 'r', label='Training accuracy')\n",
    "plt.plot(epochs, val_acc, 'b', label='Validation accuracy')\n",
    "plt.title('Training and validation accuracy')\n",
    "plt.legend()\n",
    "plt.figure()\n",
    "\n",
    "plt.plot(epochs, loss, 'r', label='Training Loss')\n",
    "plt.plot(epochs, val_loss, 'b', label='Validation Loss')\n",
    "plt.title('Training and validation loss')\n",
    "plt.legend()\n",
    "\n",
    "plt.show()"
   ]
  }
 ],
 "metadata": {
  "kernelspec": {
   "display_name": "Python 3",
   "language": "python",
   "name": "python3"
  },
  "language_info": {
   "codemirror_mode": {
    "name": "ipython",
    "version": 3
   },
   "file_extension": ".py",
   "mimetype": "text/x-python",
   "name": "python",
   "nbconvert_exporter": "python",
   "pygments_lexer": "ipython3",
   "version": "3.7.6"
  }
 },
 "nbformat": 4,
 "nbformat_minor": 4
}
