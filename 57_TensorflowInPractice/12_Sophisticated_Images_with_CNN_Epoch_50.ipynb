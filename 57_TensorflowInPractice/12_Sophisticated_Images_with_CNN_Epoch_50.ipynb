{
 "cells": [
  {
   "cell_type": "code",
   "execution_count": 1,
   "metadata": {},
   "outputs": [],
   "source": [
    "import os\n",
    "import zipfile\n",
    "import random\n",
    "import tensorflow as tf\n",
    "from tensorflow.keras.optimizers import RMSprop\n",
    "from tensorflow.keras.preprocessing.image import ImageDataGenerator\n",
    "from shutil import copyfile\n",
    "from os import path, getcwd"
   ]
  },
  {
   "cell_type": "code",
   "execution_count": null,
   "metadata": {},
   "outputs": [],
   "source": [
    "local = f'{getcwd()}/kagglecatsanddogs.zip'\n",
    "zip_ref = zipfile.ZipFile(local, 'r')\n",
    "zip_ref = zip_ref.extractall(f'{getcwd()}/')\n",
    "zip_ref.close()"
   ]
  },
  {
   "cell_type": "code",
   "execution_count": 2,
   "metadata": {
    "scrolled": true
   },
   "outputs": [
    {
     "name": "stdout",
     "output_type": "stream",
     "text": [
      "12501\n",
      "12501\n"
     ]
    }
   ],
   "source": [
    "print(len(os.listdir(f'{getcwd()}/PetImages/Cat/')))\n",
    "print(len(os.listdir(f'{getcwd()}/PetImages/Dog/')))"
   ]
  },
  {
   "cell_type": "code",
   "execution_count": 12,
   "metadata": {},
   "outputs": [],
   "source": [
    "try:\n",
    "    os.mkdir(f'{getcwd()}/cats-v-dogs')\n",
    "    os.mkdir(f'{getcwd()}/cats-v-dogs/training')\n",
    "    os.mkdir(f'{getcwd()}/cats-v-dogs/testing')\n",
    "    os.mkdir(f'{getcwd()}/cats-v-dogs/training/cats')\n",
    "    os.mkdir(f'{getcwd()}/cats-v-dogs/training/dogs')\n",
    "    os.mkdir(f'{getcwd()}/cats-v-dogs/testing/cats')\n",
    "    os.mkdir(f'{getcwd()}/cats-v-dogs/testing/dogs')\n",
    "except OSError:\n",
    "    pass"
   ]
  },
  {
   "cell_type": "code",
   "execution_count": 13,
   "metadata": {},
   "outputs": [
    {
     "name": "stdout",
     "output_type": "stream",
     "text": [
      "666.jpg is zero length, so ignoring.\n",
      "11702.jpg is zero length, so ignoring.\n"
     ]
    }
   ],
   "source": [
    "def split_data(SOURCE, TRAINING, TESTING, SPLIT_SIZE):\n",
    "    files = []\n",
    "    for filename in os.listdir(SOURCE):\n",
    "        file = SOURCE + filename\n",
    "        if os.path.getsize(file) > 0:\n",
    "            files.append(filename)\n",
    "        else:\n",
    "            print(filename + \" is zero length, so ignoring.\")\n",
    "\n",
    "    training_length = int(len(files) * SPLIT_SIZE)\n",
    "    testing_length = int(len(files) - training_length)\n",
    "    shuffled_set = random.sample(files, len(files))\n",
    "    training_set = shuffled_set[0:training_length]\n",
    "    testing_set = shuffled_set[-testing_length:]\n",
    "\n",
    "    for filename in training_set:\n",
    "        this_file = SOURCE + filename\n",
    "        destination = TRAINING + filename\n",
    "        copyfile(this_file, destination)\n",
    "\n",
    "    for filename in testing_set:\n",
    "        this_file = SOURCE + filename\n",
    "        destination = TESTING + filename\n",
    "        copyfile(this_file, destination)\n",
    "\n",
    "\n",
    "CAT_SOURCE_DIR = f\"{getcwd()}/PetImages/Cat/\"\n",
    "TRAINING_CATS_DIR = f\"{getcwd()}/cats-v-dogs/training/cats/\"\n",
    "TESTING_CATS_DIR = f\"{getcwd()}/cats-v-dogs/testing/cats/\"\n",
    "DOG_SOURCE_DIR = f\"{getcwd()}/PetImages/Dog/\"\n",
    "TRAINING_DOGS_DIR = f\"{getcwd()}/cats-v-dogs/training/dogs/\"\n",
    "TESTING_DOGS_DIR = f\"{getcwd()}/cats-v-dogs/testing/dogs/\"\n",
    "\n",
    "split_size = .9\n",
    "split_data(CAT_SOURCE_DIR, TRAINING_CATS_DIR, TESTING_CATS_DIR, split_size)\n",
    "split_data(DOG_SOURCE_DIR, TRAINING_DOGS_DIR, TESTING_DOGS_DIR, split_size)"
   ]
  },
  {
   "cell_type": "code",
   "execution_count": 6,
   "metadata": {},
   "outputs": [],
   "source": [
    "model = tf.keras.models.Sequential([\n",
    "    tf.keras.layers.Conv2D(16, (3, 3), activation='relu', input_shape=(150, 150, 3)),\n",
    "    tf.keras.layers.MaxPooling2D(2, 2),\n",
    "    tf.keras.layers.Conv2D(32, (3, 3), activation='relu'),\n",
    "    tf.keras.layers.MaxPooling2D(2, 2),\n",
    "    tf.keras.layers.Conv2D(64, (3, 3), activation='relu'),\n",
    "    tf.keras.layers.MaxPooling2D(2, 2),\n",
    "    tf.keras.layers.Flatten(),\n",
    "    tf.keras.layers.Dense(512, activation='relu'),\n",
    "    tf.keras.layers.Dense(1, activation='sigmoid')\n",
    "])\n",
    "\n",
    "model.compile(optimizer=RMSprop(lr=0.001), loss='binary_crossentropy', metrics=['accuracy'])"
   ]
  },
  {
   "cell_type": "code",
   "execution_count": 14,
   "metadata": {},
   "outputs": [
    {
     "name": "stdout",
     "output_type": "stream",
     "text": [
      "Found 22498 images belonging to 2 classes.\n",
      "Found 2500 images belonging to 2 classes.\n"
     ]
    }
   ],
   "source": [
    "TRAINING_DIR = f\"{getcwd()}/cats-v-dogs/training/\"\n",
    "train_datagen = ImageDataGenerator(rescale=1.0/255.)\n",
    "train_generator = train_datagen.flow_from_directory(TRAINING_DIR,\n",
    "                                                    batch_size=100,\n",
    "                                                    class_mode='binary',\n",
    "                                                    target_size=(150, 150))\n",
    "\n",
    "VALIDATION_DIR = f\"{getcwd()}/cats-v-dogs/testing/\"\n",
    "validation_datagen = ImageDataGenerator(rescale=1.0/255.)\n",
    "validation_generator = validation_datagen.flow_from_directory(VALIDATION_DIR,\n",
    "                                                              batch_size=100,\n",
    "                                                              class_mode='binary',\n",
    "                                                              target_size=(150, 150))\n",
    "\n",
    "# Expected Output:\n",
    "# Found 22498 images belonging to 2 classes.\n",
    "# Found 2500 images belonging to 2 classes."
   ]
  },
  {
   "cell_type": "code",
   "execution_count": 15,
   "metadata": {},
   "outputs": [
    {
     "name": "stdout",
     "output_type": "stream",
     "text": [
      "WARNING:tensorflow:sample_weight modes were coerced from\n",
      "  ...\n",
      "    to  \n",
      "  ['...']\n",
      "WARNING:tensorflow:sample_weight modes were coerced from\n",
      "  ...\n",
      "    to  \n",
      "  ['...']\n",
      "Train for 225 steps, validate for 25 steps\n",
      "Epoch 1/50\n",
      " 93/225 [===========>..................] - ETA: 1:57 - loss: 0.8820 - accuracy: 0.5692"
     ]
    },
    {
     "name": "stderr",
     "output_type": "stream",
     "text": [
      "F:\\DO_NOT_TOUCH\\Anaconda3\\lib\\site-packages\\PIL\\TiffImagePlugin.py:770: UserWarning: Possibly corrupt EXIF data.  Expecting to read 32 bytes but only got 0. Skipping tag 270\n",
      "  \" Skipping tag %s\" % (size, len(data), tag)\n",
      "F:\\DO_NOT_TOUCH\\Anaconda3\\lib\\site-packages\\PIL\\TiffImagePlugin.py:770: UserWarning: Possibly corrupt EXIF data.  Expecting to read 5 bytes but only got 0. Skipping tag 271\n",
      "  \" Skipping tag %s\" % (size, len(data), tag)\n",
      "F:\\DO_NOT_TOUCH\\Anaconda3\\lib\\site-packages\\PIL\\TiffImagePlugin.py:770: UserWarning: Possibly corrupt EXIF data.  Expecting to read 8 bytes but only got 0. Skipping tag 272\n",
      "  \" Skipping tag %s\" % (size, len(data), tag)\n",
      "F:\\DO_NOT_TOUCH\\Anaconda3\\lib\\site-packages\\PIL\\TiffImagePlugin.py:770: UserWarning: Possibly corrupt EXIF data.  Expecting to read 8 bytes but only got 0. Skipping tag 282\n",
      "  \" Skipping tag %s\" % (size, len(data), tag)\n",
      "F:\\DO_NOT_TOUCH\\Anaconda3\\lib\\site-packages\\PIL\\TiffImagePlugin.py:770: UserWarning: Possibly corrupt EXIF data.  Expecting to read 8 bytes but only got 0. Skipping tag 283\n",
      "  \" Skipping tag %s\" % (size, len(data), tag)\n",
      "F:\\DO_NOT_TOUCH\\Anaconda3\\lib\\site-packages\\PIL\\TiffImagePlugin.py:770: UserWarning: Possibly corrupt EXIF data.  Expecting to read 20 bytes but only got 0. Skipping tag 306\n",
      "  \" Skipping tag %s\" % (size, len(data), tag)\n",
      "F:\\DO_NOT_TOUCH\\Anaconda3\\lib\\site-packages\\PIL\\TiffImagePlugin.py:770: UserWarning: Possibly corrupt EXIF data.  Expecting to read 48 bytes but only got 0. Skipping tag 532\n",
      "  \" Skipping tag %s\" % (size, len(data), tag)\n",
      "F:\\DO_NOT_TOUCH\\Anaconda3\\lib\\site-packages\\PIL\\TiffImagePlugin.py:788: UserWarning: Corrupt EXIF data.  Expecting to read 2 bytes but only got 0. \n",
      "  warnings.warn(str(msg))\n"
     ]
    },
    {
     "name": "stdout",
     "output_type": "stream",
     "text": [
      "225/225 [==============================] - 206s 917ms/step - loss: 0.7099 - accuracy: 0.6396 - val_loss: 0.5137 - val_accuracy: 0.7664\n",
      "Epoch 2/50\n",
      "225/225 [==============================] - 203s 902ms/step - loss: 0.4950 - accuracy: 0.7589 - val_loss: 0.4412 - val_accuracy: 0.7984\n",
      "Epoch 3/50\n",
      "225/225 [==============================] - 203s 902ms/step - loss: 0.4321 - accuracy: 0.8014 - val_loss: 0.4213 - val_accuracy: 0.8028\n",
      "Epoch 4/50\n",
      "225/225 [==============================] - 202s 896ms/step - loss: 0.3774 - accuracy: 0.8315 - val_loss: 0.4748 - val_accuracy: 0.7684\n",
      "Epoch 5/50\n",
      "225/225 [==============================] - 202s 900ms/step - loss: 0.3208 - accuracy: 0.8607 - val_loss: 0.4511 - val_accuracy: 0.7888\n",
      "Epoch 6/50\n",
      "225/225 [==============================] - 203s 901ms/step - loss: 0.2567 - accuracy: 0.8944 - val_loss: 0.4090 - val_accuracy: 0.8228\n",
      "Epoch 7/50\n",
      "225/225 [==============================] - 203s 903ms/step - loss: 0.1860 - accuracy: 0.9258 - val_loss: 0.4833 - val_accuracy: 0.8276\n",
      "Epoch 8/50\n",
      "225/225 [==============================] - 199s 885ms/step - loss: 0.1231 - accuracy: 0.9547 - val_loss: 0.4959 - val_accuracy: 0.8284\n",
      "Epoch 9/50\n",
      "225/225 [==============================] - 203s 903ms/step - loss: 0.0822 - accuracy: 0.9723 - val_loss: 1.4438 - val_accuracy: 0.6456\n",
      "Epoch 10/50\n",
      "225/225 [==============================] - 204s 907ms/step - loss: 0.0582 - accuracy: 0.9816 - val_loss: 0.6869 - val_accuracy: 0.8144\n",
      "Epoch 11/50\n",
      "225/225 [==============================] - 204s 908ms/step - loss: 0.0564 - accuracy: 0.9862 - val_loss: 0.7031 - val_accuracy: 0.8164\n",
      "Epoch 12/50\n",
      "225/225 [==============================] - 209s 931ms/step - loss: 0.0444 - accuracy: 0.9870 - val_loss: 0.8859 - val_accuracy: 0.8216\n",
      "Epoch 13/50\n",
      "225/225 [==============================] - 206s 916ms/step - loss: 0.0495 - accuracy: 0.9850 - val_loss: 0.9014 - val_accuracy: 0.8120\n",
      "Epoch 14/50\n",
      "225/225 [==============================] - 204s 908ms/step - loss: 0.0384 - accuracy: 0.9896 - val_loss: 1.0284 - val_accuracy: 0.8156\n",
      "Epoch 15/50\n",
      "225/225 [==============================] - 205s 912ms/step - loss: 0.0585 - accuracy: 0.9860 - val_loss: 0.7758 - val_accuracy: 0.8140\n",
      "Epoch 16/50\n",
      "225/225 [==============================] - 203s 904ms/step - loss: 0.0425 - accuracy: 0.9895 - val_loss: 1.0375 - val_accuracy: 0.8148\n",
      "Epoch 17/50\n",
      "225/225 [==============================] - 203s 902ms/step - loss: 0.0520 - accuracy: 0.9896 - val_loss: 1.0443 - val_accuracy: 0.8128\n",
      "Epoch 18/50\n",
      "225/225 [==============================] - 203s 902ms/step - loss: 0.0449 - accuracy: 0.9871 - val_loss: 1.0890 - val_accuracy: 0.8156\n",
      "Epoch 19/50\n",
      "225/225 [==============================] - 204s 908ms/step - loss: 0.0499 - accuracy: 0.9888 - val_loss: 0.9711 - val_accuracy: 0.8076\n",
      "Epoch 20/50\n",
      "225/225 [==============================] - 203s 904ms/step - loss: 0.0368 - accuracy: 0.9900 - val_loss: 1.3353 - val_accuracy: 0.8172\n",
      "Epoch 21/50\n",
      "225/225 [==============================] - 205s 909ms/step - loss: 0.0441 - accuracy: 0.9893 - val_loss: 1.1618 - val_accuracy: 0.8052\n",
      "Epoch 22/50\n",
      "225/225 [==============================] - 201s 892ms/step - loss: 0.0584 - accuracy: 0.9867 - val_loss: 1.1964 - val_accuracy: 0.8216\n",
      "Epoch 23/50\n",
      "225/225 [==============================] - 203s 901ms/step - loss: 0.0545 - accuracy: 0.9864 - val_loss: 1.0092 - val_accuracy: 0.8096\n",
      "Epoch 24/50\n",
      "225/225 [==============================] - 201s 894ms/step - loss: 0.0409 - accuracy: 0.9895 - val_loss: 1.1462 - val_accuracy: 0.7984\n",
      "Epoch 25/50\n",
      "225/225 [==============================] - 201s 895ms/step - loss: 0.0524 - accuracy: 0.9858 - val_loss: 1.0534 - val_accuracy: 0.8152\n",
      "Epoch 26/50\n",
      "225/225 [==============================] - 203s 900ms/step - loss: 0.0450 - accuracy: 0.9891 - val_loss: 1.1256 - val_accuracy: 0.8036\n",
      "Epoch 27/50\n",
      "225/225 [==============================] - 201s 892ms/step - loss: 0.0351 - accuracy: 0.9926 - val_loss: 1.9487 - val_accuracy: 0.8080\n",
      "Epoch 28/50\n",
      "225/225 [==============================] - 202s 898ms/step - loss: 0.0659 - accuracy: 0.9867 - val_loss: 1.3531 - val_accuracy: 0.7988\n",
      "Epoch 29/50\n",
      "225/225 [==============================] - 199s 885ms/step - loss: 0.0572 - accuracy: 0.9882 - val_loss: 1.3587 - val_accuracy: 0.8108\n",
      "Epoch 30/50\n",
      "225/225 [==============================] - 198s 882ms/step - loss: 0.0672 - accuracy: 0.9862 - val_loss: 1.4973 - val_accuracy: 0.8132\n",
      "Epoch 31/50\n",
      "225/225 [==============================] - 199s 887ms/step - loss: 0.0522 - accuracy: 0.9900 - val_loss: 2.0099 - val_accuracy: 0.7932\n",
      "Epoch 32/50\n",
      "225/225 [==============================] - 199s 885ms/step - loss: 0.0703 - accuracy: 0.9888 - val_loss: 1.6734 - val_accuracy: 0.8120\n",
      "Epoch 33/50\n",
      "225/225 [==============================] - 199s 884ms/step - loss: 0.0597 - accuracy: 0.9874 - val_loss: 1.4302 - val_accuracy: 0.7892\n",
      "Epoch 34/50\n",
      "225/225 [==============================] - 198s 878ms/step - loss: 0.0621 - accuracy: 0.9875 - val_loss: 1.4934 - val_accuracy: 0.7796\n",
      "Epoch 35/50\n",
      "225/225 [==============================] - 198s 878ms/step - loss: 0.0540 - accuracy: 0.9904 - val_loss: 1.7265 - val_accuracy: 0.7992\n",
      "Epoch 36/50\n",
      "225/225 [==============================] - 197s 876ms/step - loss: 0.0894 - accuracy: 0.9829 - val_loss: 1.4985 - val_accuracy: 0.8028\n",
      "Epoch 37/50\n",
      "225/225 [==============================] - 198s 878ms/step - loss: 0.0532 - accuracy: 0.9890 - val_loss: 1.9291 - val_accuracy: 0.8088\n",
      "Epoch 38/50\n",
      "225/225 [==============================] - 197s 877ms/step - loss: 0.1163 - accuracy: 0.9824 - val_loss: 1.9872 - val_accuracy: 0.8156\n",
      "Epoch 39/50\n",
      "225/225 [==============================] - 197s 876ms/step - loss: 0.0841 - accuracy: 0.9861 - val_loss: 1.9477 - val_accuracy: 0.7800\n",
      "Epoch 40/50\n",
      "225/225 [==============================] - 197s 877ms/step - loss: 0.1057 - accuracy: 0.9848 - val_loss: 1.2298 - val_accuracy: 0.7884\n",
      "Epoch 41/50\n",
      "225/225 [==============================] - 197s 876ms/step - loss: 0.0347 - accuracy: 0.9925 - val_loss: 2.2869 - val_accuracy: 0.8192\n",
      "Epoch 42/50\n",
      "225/225 [==============================] - 197s 877ms/step - loss: 0.0892 - accuracy: 0.9829 - val_loss: 1.5275 - val_accuracy: 0.7996\n",
      "Epoch 43/50\n",
      "225/225 [==============================] - 197s 876ms/step - loss: 0.0856 - accuracy: 0.9871 - val_loss: 1.4974 - val_accuracy: 0.7980\n",
      "Epoch 44/50\n",
      "225/225 [==============================] - 197s 876ms/step - loss: 0.0670 - accuracy: 0.9881 - val_loss: 1.5318 - val_accuracy: 0.7972\n",
      "Epoch 45/50\n",
      "225/225 [==============================] - 197s 877ms/step - loss: 0.0726 - accuracy: 0.9878 - val_loss: 1.6359 - val_accuracy: 0.8060\n",
      "Epoch 46/50\n",
      "225/225 [==============================] - 197s 876ms/step - loss: 0.0528 - accuracy: 0.9897 - val_loss: 1.8748 - val_accuracy: 0.8020\n",
      "Epoch 47/50\n",
      "225/225 [==============================] - 197s 877ms/step - loss: 0.1357 - accuracy: 0.9838 - val_loss: 1.4289 - val_accuracy: 0.7656\n",
      "Epoch 48/50\n",
      "225/225 [==============================] - 197s 875ms/step - loss: 0.0564 - accuracy: 0.9890 - val_loss: 1.9372 - val_accuracy: 0.7980\n",
      "Epoch 49/50\n",
      "225/225 [==============================] - 197s 877ms/step - loss: 0.0674 - accuracy: 0.9871 - val_loss: 1.5362 - val_accuracy: 0.7952\n",
      "Epoch 50/50\n",
      "225/225 [==============================] - 198s 880ms/step - loss: 0.0600 - accuracy: 0.9895 - val_loss: 1.9343 - val_accuracy: 0.8000\n"
     ]
    }
   ],
   "source": [
    "# Note that this may take some time.\n",
    "history = model.fit(train_generator,\n",
    "                              epochs=50,\n",
    "                              verbose=1,\n",
    "                              validation_data=validation_generator)"
   ]
  },
  {
   "cell_type": "code",
   "execution_count": 16,
   "metadata": {},
   "outputs": [
    {
     "data": {
      "text/plain": [
       "<Figure size 432x288 with 0 Axes>"
      ]
     },
     "execution_count": 16,
     "metadata": {},
     "output_type": "execute_result"
    },
    {
     "data": {
      "image/png": "[encoded data removed]",
      "text/plain": [
       "<Figure size 432x288 with 1 Axes>"
      ]
     },
     "metadata": {
      "needs_background": "light"
     },
     "output_type": "display_data"
    },
    {
     "data": {
      "image/png": "[encoded data removed]",
      "text/plain": [
       "<Figure size 432x288 with 1 Axes>"
      ]
     },
     "metadata": {
      "needs_background": "light"
     },
     "output_type": "display_data"
    },
    {
     "data": {
      "text/plain": [
       "<Figure size 432x288 with 0 Axes>"
      ]
     },
     "metadata": {},
     "output_type": "display_data"
    }
   ],
   "source": [
    "%matplotlib inline\n",
    "\n",
    "import matplotlib.image  as mpimg\n",
    "import matplotlib.pyplot as plt\n",
    "\n",
    "#-----------------------------------------------------------\n",
    "# Retrieve a list of list results on training and test data\n",
    "# sets for each training epoch\n",
    "#-----------------------------------------------------------\n",
    "acc=history.history['accuracy']\n",
    "val_acc=history.history['val_accuracy']\n",
    "loss=history.history['loss']\n",
    "val_loss=history.history['val_loss']\n",
    "\n",
    "epochs=range(len(acc)) # Get number of epochs\n",
    "\n",
    "#------------------------------------------------\n",
    "# Plot training and validation accuracy per epoch\n",
    "#------------------------------------------------\n",
    "plt.plot(epochs, acc, 'r', \"Training Accuracy\")\n",
    "plt.plot(epochs, val_acc, 'b', \"Validation Accuracy\")\n",
    "plt.title('Training and validation accuracy')\n",
    "plt.figure()\n",
    "\n",
    "#------------------------------------------------\n",
    "# Plot training and validation loss per epoch\n",
    "#------------------------------------------------\n",
    "plt.plot(epochs, loss, 'r', \"Training Loss\")\n",
    "plt.plot(epochs, val_loss, 'b', \"Validation Loss\")\n",
    "plt.figure()\n",
    "\n",
    "\n",
    "# Desired output. Charts with training and validation metrics. No crash :)"
   ]
  },
  {
   "cell_type": "code",
   "execution_count": 18,
   "metadata": {},
   "outputs": [
    {
     "name": "stdout",
     "output_type": "stream",
     "text": [
      "[1.]\n",
      "Dog.jpg is a dog\n"
     ]
    }
   ],
   "source": [
    "import numpy as np\n",
    "from keras.preprocessing import image\n",
    "\n",
    "fn = 'Dog.jpg'\n",
    "path = f'{getcwd()}/Test_Images/' + fn\n",
    "img = image.load_img(path, target_size=(150, 150))\n",
    "\n",
    "x = image.img_to_array(img)\n",
    "x = np.expand_dims(x, axis=0)\n",
    "images = np.vstack([x])\n",
    "\n",
    "classes = model.predict(images, batch_size=10)\n",
    "\n",
    "print(classes[0])\n",
    "\n",
    "if classes[0] > 0:\n",
    "    print(fn + \" is a dog\")\n",
    "else:\n",
    "    print(fn + \" is a cat\")"
   ]
  }
 ],
 "metadata": {
  "kernelspec": {
   "display_name": "Python 3",
   "language": "python",
   "name": "python3"
  },
  "language_info": {
   "codemirror_mode": {
    "name": "ipython",
    "version": 3
   },
   "file_extension": ".py",
   "mimetype": "text/x-python",
   "name": "python",
   "nbconvert_exporter": "python",
   "pygments_lexer": "ipython3",
   "version": "3.7.6"
  }
 },
 "nbformat": 4,
 "nbformat_minor": 4
}
