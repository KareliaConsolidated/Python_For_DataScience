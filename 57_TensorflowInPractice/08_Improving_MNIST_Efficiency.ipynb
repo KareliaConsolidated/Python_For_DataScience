{
 "cells": [
  {
   "cell_type": "markdown",
   "metadata": {},
   "source": [
    "For your exercise see if you can improve MNIST to 99.8% accuracy or more using only a single convolutional layer and a single MaxPooling 2D. You should stop training once the accuracy goes above this amount. It should happen in less than 20 epochs, so it's ok to hard code the number of epochs for training, but your training must end once it hits the above metric. If it doesn't, then you'll need to redesign your layers.\n",
    "\n",
    "I've started the code for you -- you need to finish it!\n",
    "\n",
    "When 99.8% accuracy has been hit, you should print out the string \"Reached 99.8% accuracy so cancelling training!\"\n"
   ]
  },
  {
   "cell_type": "code",
   "execution_count": 4,
   "metadata": {},
   "outputs": [],
   "source": [
    "import tensorflow as tf\n",
    "from os import path, getcwd, chdir\n",
    "\n",
    "path = f\"{getcwd()}/mnist.npz\""
   ]
  },
  {
   "cell_type": "code",
   "execution_count": 8,
   "metadata": {},
   "outputs": [],
   "source": [
    "# GRADED FUNCTION: train_mnist_conv\n",
    "def train_mnist_conv():\n",
    "    \n",
    "    class myCallback(tf.keras.callbacks.Callback):\n",
    "        def on_epoc_end(self, epoch, logs={}):\n",
    "            if(logs.get('accuracy') > 0.998):\n",
    "                print(\"Reached accuracy 99.8% accuracyc so cancelling training!\")\n",
    "                self.model.stop_training = True\n",
    "    callbacks = myCallback()\n",
    "    \n",
    "\n",
    "    mnist = tf.keras.datasets.mnist\n",
    "    (training_images, training_labels), (test_images, test_labels) = mnist.load_data(path=path)\n",
    "    \n",
    "    training_images = training_images.reshape(60000, 28, 28, 1)\n",
    "    training_images = training_images/255.0\n",
    "    test_images = test_images.reshape(10000, 28, 28, 1)\n",
    "    test_images = test_images/255.0\n",
    "    \n",
    "\n",
    "    model = tf.keras.models.Sequential([\n",
    "            \n",
    "            tf.keras.layers.Conv2D(32, (3,3), activation = 'relu', input_shape = (28, 28, 1)),\n",
    "            tf.keras.layers.MaxPooling2D(2,2),\n",
    "            tf.keras.layers.Flatten(),\n",
    "            tf.keras.layers.Dense(128, activation = 'relu'),\n",
    "            tf.keras.layers.Dense(10, activation = 'softmax')\n",
    "            \n",
    "    ])\n",
    "\n",
    "    model.compile(optimizer='adam', loss='sparse_categorical_crossentropy', metrics=['accuracy'])\n",
    "    \n",
    "    # model fitting\n",
    "    history = model.fit(\n",
    "    \n",
    "        training_images, training_labels, epochs = 10, callbacks = [callbacks]\n",
    "    \n",
    "    )\n",
    "    \n",
    "    # model fitting\n",
    "    return history.epoch, history.history['accuracy'][-1]"
   ]
  },
  {
   "cell_type": "code",
   "execution_count": 9,
   "metadata": {},
   "outputs": [
    {
     "name": "stdout",
     "output_type": "stream",
     "text": [
      "Train on 60000 samples\n",
      "Epoch 1/10\n",
      "60000/60000 [==============================] - 30s 496us/sample - loss: 0.1505 - accuracy: 0.9539\n",
      "Epoch 2/10\n",
      "60000/60000 [==============================] - 30s 505us/sample - loss: 0.0535 - accuracy: 0.9840\n",
      "Epoch 3/10\n",
      "60000/60000 [==============================] - 29s 484us/sample - loss: 0.0332 - accuracy: 0.9896\n",
      "Epoch 4/10\n",
      "60000/60000 [==============================] - 31s 509us/sample - loss: 0.0214 - accuracy: 0.9930\n",
      "Epoch 5/10\n",
      "60000/60000 [==============================] - 29s 482us/sample - loss: 0.0144 - accuracy: 0.9955\n",
      "Epoch 6/10\n",
      "60000/60000 [==============================] - 29s 482us/sample - loss: 0.0107 - accuracy: 0.9966\n",
      "Epoch 7/10\n",
      "60000/60000 [==============================] - 29s 480us/sample - loss: 0.0086 - accuracy: 0.9972\n",
      "Epoch 8/10\n",
      "60000/60000 [==============================] - 29s 484us/sample - loss: 0.0064 - accuracy: 0.9980\n",
      "Epoch 9/10\n",
      "60000/60000 [==============================] - 29s 476us/sample - loss: 0.0043 - accuracy: 0.9985\n",
      "Epoch 10/10\n",
      "60000/60000 [==============================] - 29s 477us/sample - loss: 0.0051 - accuracy: 0.9984\n"
     ]
    }
   ],
   "source": [
    "_, _ = train_mnist_conv()"
   ]
  }
 ],
 "metadata": {
  "kernelspec": {
   "display_name": "Python 3",
   "language": "python",
   "name": "python3"
  },
  "language_info": {
   "codemirror_mode": {
    "name": "ipython",
    "version": 3
   },
   "file_extension": ".py",
   "mimetype": "text/x-python",
   "name": "python",
   "nbconvert_exporter": "python",
   "pygments_lexer": "ipython3",
   "version": "3.7.6"
  }
 },
 "nbformat": 4,
 "nbformat_minor": 4
}
