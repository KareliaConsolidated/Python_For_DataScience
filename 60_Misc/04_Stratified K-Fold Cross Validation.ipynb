{
 "cells": [
  {
   "cell_type": "markdown",
   "metadata": {},
   "source": [
    "### Stratified K-Fold Cross-Validation"
   ]
  },
  {
   "cell_type": "code",
   "execution_count": 1,
   "metadata": {},
   "outputs": [],
   "source": [
    "import pandas as pd\n",
    "import seaborn as sns\n",
    "import matplotlib.pyplot as plt\n",
    "from sklearn import model_selection\n",
    "\n",
    "df_cv = pd.read_csv('Datasets/train.csv', delimiter=';')\n",
    "\n",
    "# We create a new column called kfold and fill it with -1\n",
    "df_cv['kfold'] = -1\n",
    "\n",
    "# The next step is to randomize the rows of the data\n",
    "df_cv = df_cv.sample(frac=1).reset_index(drop=True)\n",
    "\n",
    "# Fetch Target(quality)\n",
    "y = df_cv.quality.values\n",
    "\n",
    "# Initiate the KFold Class from model_selection module\n",
    "kf = model_selection.StratifiedKFold(n_splits=5)\n",
    "\n",
    "# Fill the new kfold column\n",
    "for fold, (trn_, val_) in enumerate(kf.split(X=df_cv, y=y)):\n",
    "    df_cv.loc[val_, 'kfold'] = fold\n",
    "    \n",
    "df_cv.to_csv(\"Datasets/train_Stratifiedfolds.csv\", index=False)    "
   ]
  },
  {
   "cell_type": "code",
   "execution_count": 4,
   "metadata": {},
   "outputs": [
    {
     "data": {
      "image/png": "[encoded data removed]",
      "text/plain": [
       "<Figure size 432x288 with 1 Axes>"
      ]
     },
     "metadata": {
      "needs_background": "light"
     },
     "output_type": "display_data"
    }
   ],
   "source": [
    "# For a Wine Dataset, Let's Look at the distribution of labels\n",
    "wine_quality = sns.countplot(x='quality', data=df_cv)\n",
    "wine_quality.set_xlabel(\"Quality\", fontsize=20)\n",
    "wine_quality.set_ylabel(\"Count\", fontsize=20)\n",
    "plt.show()"
   ]
  }
 ],
 "metadata": {
  "kernelspec": {
   "display_name": "Python 3",
   "language": "python",
   "name": "python3"
  },
  "language_info": {
   "codemirror_mode": {
    "name": "ipython",
    "version": 3
   },
   "file_extension": ".py",
   "mimetype": "text/x-python",
   "name": "python",
   "nbconvert_exporter": "python",
   "pygments_lexer": "ipython3",
   "version": "3.7.4"
  }
 },
 "nbformat": 4,
 "nbformat_minor": 4
}
