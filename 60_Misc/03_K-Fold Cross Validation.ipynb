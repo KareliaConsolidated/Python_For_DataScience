{
 "cells": [
  {
   "cell_type": "markdown",
   "metadata": {},
   "source": [
    "### K-Fold Cross-Validation"
   ]
  },
  {
   "cell_type": "code",
   "execution_count": 45,
   "metadata": {},
   "outputs": [],
   "source": [
    "import pandas as pd\n",
    "from sklearn import model_selection\n",
    "\n",
    "df_cv = pd.read_csv('Datasets/train.csv', delimiter=';')\n",
    "\n",
    "# We create a new column called kfold and fill it with -1\n",
    "df_cv['kfold'] = -1\n",
    "\n",
    "# The next step is to randomize the rows of the data\n",
    "df_cv = df_cv.sample(frac=1).reset_index(drop=True)\n",
    "\n",
    "# Initiate the KFold Class from model_selection module\n",
    "kf = model_selection.KFold(n_splits=5)\n",
    "\n",
    "# Fill the new kfold column\n",
    "for fold, (trn_, val_) in enumerate(kf.split(X=df)):\n",
    "    df_cv.loc[val_, 'kfold'] = fold\n",
    "    \n",
    "df_cv.to_csv(\"Datasets/train_folds.csv\", index=False)    "
   ]
  }
 ],
 "metadata": {
  "kernelspec": {
   "display_name": "Python 3",
   "language": "python",
   "name": "python3"
  },
  "language_info": {
   "codemirror_mode": {
    "name": "ipython",
    "version": 3
   },
   "file_extension": ".py",
   "mimetype": "text/x-python",
   "name": "python",
   "nbconvert_exporter": "python",
   "pygments_lexer": "ipython3",
   "version": "3.7.4"
  }
 },
 "nbformat": 4,
 "nbformat_minor": 4
}
