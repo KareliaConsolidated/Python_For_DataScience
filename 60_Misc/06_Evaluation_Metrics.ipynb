{
 "cells": [
  {
   "cell_type": "code",
   "execution_count": 1,
   "metadata": {},
   "outputs": [],
   "source": [
    "import numpy as np\n",
    "import pandas as pd"
   ]
  },
  {
   "cell_type": "markdown",
   "metadata": {},
   "source": [
    "#### Accuracy"
   ]
  },
  {
   "cell_type": "code",
   "execution_count": 2,
   "metadata": {},
   "outputs": [],
   "source": [
    "def accuracy(y_true, y_pred):\n",
    "    \"\"\"\n",
    "    Function to Calculate Accuracy\n",
    "    \n",
    "    Param: y_true (List of True values)\n",
    "    Param: y_pred (List of Predicted values)\n",
    "    \n",
    "    Returns: accuracy_score\n",
    "    \"\"\"\n",
    "    \n",
    "    # Initialize the Counter for Correct Predictions\n",
    "    correct_counter = 0\n",
    "    \n",
    "    # Loop over all the elements of y_true and y_pred together\n",
    "    for yt, yp in zip(y_true, y_pred):\n",
    "        if yt == yp:\n",
    "            correct_counter += 1\n",
    "    \n",
    "    # Return Accuracy\n",
    "    return correct_counter / len(y_true)"
   ]
  },
  {
   "cell_type": "code",
   "execution_count": 3,
   "metadata": {},
   "outputs": [
    {
     "data": {
      "text/plain": [
       "0.625"
      ]
     },
     "execution_count": 3,
     "metadata": {},
     "output_type": "execute_result"
    }
   ],
   "source": [
    "# Scikit Learn\n",
    "from sklearn import metrics\n",
    "l1 = [0,1,1,1,0,0,0,1]\n",
    "l2 = [0,1,0,1,0,1,0,0]\n",
    "\n",
    "metrics = metrics.accuracy_score(l1,l2)\n",
    "metrics"
   ]
  },
  {
   "cell_type": "markdown",
   "metadata": {},
   "source": [
    "#### True Positives"
   ]
  },
  {
   "cell_type": "code",
   "execution_count": 4,
   "metadata": {},
   "outputs": [],
   "source": [
    "def true_positives(y_true, y_pred):\n",
    "    \"\"\"\n",
    "    Function to Calculate True Positives\n",
    "    \n",
    "    Param: y_true (List of all True Values)\n",
    "    Param: y_pred (List of all Predicted Values)\n",
    "    \n",
    "    Returns: Number of True Positives\n",
    "    \"\"\"\n",
    "    # Initialize\n",
    "    true_pos = 0\n",
    "    for yt, yp in zip(y_true,y_pred):\n",
    "        if yt == 1 and yp == 1:\n",
    "            true_pos += 1\n",
    "    return true_pos"
   ]
  },
  {
   "cell_type": "markdown",
   "metadata": {},
   "source": [
    "#### True Negatives"
   ]
  },
  {
   "cell_type": "code",
   "execution_count": 5,
   "metadata": {},
   "outputs": [],
   "source": [
    "def true_negatives(y_true, y_pred):\n",
    "    \"\"\"\n",
    "    Function to Calculate True Negatives\n",
    "    \n",
    "    Param: y_true (List of all True Values)\n",
    "    Param: y_pred (List of all Predicted Values)\n",
    "    \n",
    "    Returns: Number of True Negatives\n",
    "    \"\"\"\n",
    "    # Initialize\n",
    "    true_neg = 0\n",
    "    for yt, yp in zip(y_true,y_pred):\n",
    "        if yt == 0 and yp == 0:\n",
    "            true_neg += 1\n",
    "    return true_neg    "
   ]
  },
  {
   "cell_type": "markdown",
   "metadata": {},
   "source": [
    "#### False Positives"
   ]
  },
  {
   "cell_type": "code",
   "execution_count": 6,
   "metadata": {},
   "outputs": [],
   "source": [
    "def false_positives(y_true, y_pred):\n",
    "    \"\"\"\n",
    "    Function to Calculate False Positives\n",
    "    \n",
    "    Param: y_true (List of all True Values)\n",
    "    Param: y_pred (List of all Predicted Values)\n",
    "    \n",
    "    Returns: Number of False Positives\n",
    "    \"\"\"\n",
    "    # Initialize\n",
    "    false_pos = 0\n",
    "    for yt, yp in zip(y_true,y_pred):\n",
    "        if yt == 0 and yp == 1:\n",
    "            false_pos += 1\n",
    "    return false_pos"
   ]
  },
  {
   "cell_type": "markdown",
   "metadata": {},
   "source": [
    "#### False Negatives"
   ]
  },
  {
   "cell_type": "code",
   "execution_count": 7,
   "metadata": {},
   "outputs": [],
   "source": [
    "def false_negatives(y_true, y_pred):\n",
    "    \"\"\"\n",
    "    Function to Calculate False Negatives\n",
    "    \n",
    "    Param: y_true (List of all True Values)\n",
    "    Param: y_pred (List of all Predicted Values)\n",
    "    \n",
    "    Returns: Number of False Negatives\n",
    "    \"\"\"\n",
    "    # Initialize\n",
    "    false_neg = 0\n",
    "    for yt, yp in zip(y_true,y_pred):\n",
    "        if yt == 1 and yp == 0:\n",
    "            false_neg += 1\n",
    "    return false_neg"
   ]
  },
  {
   "cell_type": "code",
   "execution_count": 8,
   "metadata": {},
   "outputs": [
    {
     "name": "stdout",
     "output_type": "stream",
     "text": [
      "2\n",
      "1\n",
      "2\n",
      "3\n"
     ]
    }
   ],
   "source": [
    "l1 = [0,1,1,1,0,0,0,1]\n",
    "l2 = [0,1,0,1,0,1,0,0]\n",
    "\n",
    "print(true_positives(l1, l2))\n",
    "\n",
    "print(false_positives(l1, l2))\n",
    "\n",
    "print(false_negatives(l1, l2))\n",
    "\n",
    "print(true_negatives(l1, l2))"
   ]
  },
  {
   "cell_type": "code",
   "execution_count": 9,
   "metadata": {},
   "outputs": [],
   "source": [
    "def accuracy_v2(y_true, y_pred):\n",
    "    \"\"\"\n",
    "    Function to calculate accuracy using TP/FN/FP/TN\n",
    "    \n",
    "    Param: y_true (List of all True Values)\n",
    "    Param: y_pred (List of all Predicted Values)\n",
    "    \n",
    "    Returns: Accuracy Score\n",
    "    \"\"\"\n",
    "    tp = true_positives(y_true, y_pred)\n",
    "    tn = true_negatives(y_true, y_pred)\n",
    "    fn = false_positives(y_true, y_pred)\n",
    "    fp = false_negatives(y_true, y_pred)\n",
    "    \n",
    "    accuracy_score = (tp+tn) / (tp + tn + fp + fn)\n",
    "    \n",
    "    return accuracy_score"
   ]
  },
  {
   "cell_type": "code",
   "execution_count": 11,
   "metadata": {},
   "outputs": [
    {
     "name": "stdout",
     "output_type": "stream",
     "text": [
      "Version_01: 0.625\n",
      "Version_02: 0.625\n",
      "Scikit Accuracy: 0.625\n"
     ]
    }
   ],
   "source": [
    "l1 = [0, 1, 1, 1, 0, 0, 0, 1]\n",
    "l2 = [0, 1, 0, 1, 0, 1, 0, 0]\n",
    "\n",
    "from sklearn import metrics\n",
    "\n",
    "print(f\"Version_01: {accuracy(l1, l2)}\")\n",
    "\n",
    "print(f\"Version_02: {accuracy_v2(l1, l2)}\")\n",
    "\n",
    "print(f\"Scikit Accuracy: {metrics.accuracy_score(l1, l2)}\")"
   ]
  }
 ],
 "metadata": {
  "kernelspec": {
   "display_name": "Python 3",
   "language": "python",
   "name": "python3"
  },
  "language_info": {
   "codemirror_mode": {
    "name": "ipython",
    "version": 3
   },
   "file_extension": ".py",
   "mimetype": "text/x-python",
   "name": "python",
   "nbconvert_exporter": "python",
   "pygments_lexer": "ipython3",
   "version": "3.7.4"
  }
 },
 "nbformat": 4,
 "nbformat_minor": 4
}
