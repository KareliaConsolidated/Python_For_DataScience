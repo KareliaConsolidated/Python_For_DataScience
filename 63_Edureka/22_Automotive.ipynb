{
 "cells": [
  {
   "cell_type": "code",
   "execution_count": 1,
   "metadata": {},
   "outputs": [],
   "source": [
    "import warnings\n",
    "warnings.filterwarnings('ignore')"
   ]
  },
  {
   "cell_type": "code",
   "execution_count": 2,
   "metadata": {},
   "outputs": [],
   "source": [
    "import numpy as np\n",
    "import pandas as pd\n",
    "import matplotlib.pyplot as plt\n",
    "import seaborn as sns\n",
    "\n",
    "from sklearn.cluster import KMeans\n",
    "\n",
    "%matplotlib inline"
   ]
  },
  {
   "cell_type": "code",
   "execution_count": 3,
   "metadata": {},
   "outputs": [
    {
     "data": {
      "text/html": [
       "<div>\n",
       "<style scoped>\n",
       "    .dataframe tbody tr th:only-of-type {\n",
       "        vertical-align: middle;\n",
       "    }\n",
       "\n",
       "    .dataframe tbody tr th {\n",
       "        vertical-align: top;\n",
       "    }\n",
       "\n",
       "    .dataframe thead th {\n",
       "        text-align: right;\n",
       "    }\n",
       "</style>\n",
       "<table border=\"1\" class=\"dataframe\">\n",
       "  <thead>\n",
       "    <tr style=\"text-align: right;\">\n",
       "      <th></th>\n",
       "      <th>mean_dist_day</th>\n",
       "      <th>mean_over_speed_perc</th>\n",
       "    </tr>\n",
       "    <tr>\n",
       "      <th>id</th>\n",
       "      <th></th>\n",
       "      <th></th>\n",
       "    </tr>\n",
       "  </thead>\n",
       "  <tbody>\n",
       "    <tr>\n",
       "      <th>3423311935</th>\n",
       "      <td>71.24</td>\n",
       "      <td>28</td>\n",
       "    </tr>\n",
       "    <tr>\n",
       "      <th>3423313212</th>\n",
       "      <td>52.53</td>\n",
       "      <td>25</td>\n",
       "    </tr>\n",
       "    <tr>\n",
       "      <th>3423313724</th>\n",
       "      <td>64.54</td>\n",
       "      <td>27</td>\n",
       "    </tr>\n",
       "    <tr>\n",
       "      <th>3423311373</th>\n",
       "      <td>55.69</td>\n",
       "      <td>22</td>\n",
       "    </tr>\n",
       "    <tr>\n",
       "      <th>3423310999</th>\n",
       "      <td>54.58</td>\n",
       "      <td>25</td>\n",
       "    </tr>\n",
       "  </tbody>\n",
       "</table>\n",
       "</div>"
      ],
      "text/plain": [
       "            mean_dist_day  mean_over_speed_perc\n",
       "id                                             \n",
       "3423311935          71.24                    28\n",
       "3423313212          52.53                    25\n",
       "3423313724          64.54                    27\n",
       "3423311373          55.69                    22\n",
       "3423310999          54.58                    25"
      ]
     },
     "execution_count": 3,
     "metadata": {},
     "output_type": "execute_result"
    }
   ],
   "source": [
    "df = pd.read_csv('Datasets/driver-data.csv', index_col='id')\n",
    "df.head()"
   ]
  },
  {
   "cell_type": "code",
   "execution_count": 4,
   "metadata": {},
   "outputs": [
    {
     "data": {
      "text/plain": [
       "KMeans(n_clusters=4)"
      ]
     },
     "execution_count": 4,
     "metadata": {},
     "output_type": "execute_result"
    }
   ],
   "source": [
    "kmeans = KMeans(n_clusters=4)\n",
    "kmeans.fit(df)"
   ]
  },
  {
   "cell_type": "code",
   "execution_count": 5,
   "metadata": {},
   "outputs": [
    {
     "name": "stdout",
     "output_type": "stream",
     "text": [
      "Cluster's Center\n",
      "\n",
      "[[ 49.9799964    5.22434282]\n",
      " [180.34311782  10.52011494]\n",
      " [ 50.49167849  32.49172577]\n",
      " [177.83509615  70.28846154]]\n"
     ]
    }
   ],
   "source": [
    "print(\"Cluster's Center\\n\")\n",
    "print(kmeans.cluster_centers_)"
   ]
  },
  {
   "cell_type": "code",
   "execution_count": 9,
   "metadata": {},
   "outputs": [
    {
     "name": "stdout",
     "output_type": "stream",
     "text": [
      "Count of each cluster\n",
      "{0: 2775, 1: 696, 2: 425, 3: 104}\n",
      "Inertia\n",
      "\n",
      "719603.9690822506\n",
      "Data with clusters\n",
      "\n",
      "            mean_dist_day  mean_over_speed_perc  cluster\n",
      "id                                                      \n",
      "3423311935          71.24                    28        2\n",
      "3423313212          52.53                    25        2\n",
      "3423313724          64.54                    27        2\n",
      "3423311373          55.69                    22        2\n",
      "3423310999          54.58                    25        2\n",
      "...                   ...                   ...      ...\n",
      "3423310685         160.04                    10        1\n",
      "3423312600         176.17                     5        1\n",
      "3423312921         170.91                    12        1\n",
      "3423313630         176.14                     5        1\n",
      "3423311533         168.03                     9        1\n",
      "\n",
      "[4000 rows x 3 columns]\n"
     ]
    },
    {
     "data": {
      "image/png": "[encoded data removed]",
      "text/plain": [
       "<Figure size 474.375x432 with 1 Axes>"
      ]
     },
     "metadata": {
      "needs_background": "light"
     },
     "output_type": "display_data"
    }
   ],
   "source": [
    "# Find count of each cluster\n",
    "unique, counts = np.unique(kmeans.labels_, return_counts=True)\n",
    "dict_data = dict(zip(unique, counts))\n",
    "print(\"Count of each cluster\")\n",
    "print(dict_data)\n",
    "\n",
    "\n",
    "# Plot the clusters\n",
    "df[\"cluster\"] = kmeans.labels_\n",
    "sns.lmplot('mean_dist_day', 'mean_over_speed_perc', data=df,\n",
    "           hue='cluster', palette='coolwarm', size=6, aspect=1, fit_reg=False)\n",
    "\n",
    "\n",
    "# Inertia is the sum of squared error for each cluster.\n",
    "# Therefore the smaller the inertia the denser the cluster(closer together all the points are)\n",
    "print(\"Inertia\\n\")\n",
    "print(kmeans.inertia_)\n",
    "\n",
    "\n",
    "# Print the data\n",
    "print(\"Data with clusters\\n\")\n",
    "print(df)"
   ]
  }
 ],
 "metadata": {
  "kernelspec": {
   "display_name": "Python 3",
   "language": "python",
   "name": "python3"
  },
  "language_info": {
   "codemirror_mode": {
    "name": "ipython",
    "version": 3
   },
   "file_extension": ".py",
   "mimetype": "text/x-python",
   "name": "python",
   "nbconvert_exporter": "python",
   "pygments_lexer": "ipython3",
   "version": "3.7.4"
  }
 },
 "nbformat": 4,
 "nbformat_minor": 4
}
