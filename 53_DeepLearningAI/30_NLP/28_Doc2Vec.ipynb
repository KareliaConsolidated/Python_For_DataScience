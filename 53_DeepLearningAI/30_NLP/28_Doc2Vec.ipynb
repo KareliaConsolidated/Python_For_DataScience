{
 "cells": [
  {
   "cell_type": "markdown",
   "metadata": {},
   "source": [
    "# doc2vec: How To Implement doc2vec"
   ]
  },
  {
   "cell_type": "markdown",
   "metadata": {},
   "source": [
    "### Train Our Own Model"
   ]
  },
  {
   "cell_type": "code",
   "execution_count": 1,
   "metadata": {},
   "outputs": [],
   "source": [
    "# Read in data, clean it, and then split into train and test sets\n",
    "import gensim\n",
    "import pandas as pd\n",
    "from sklearn.model_selection import train_test_split\n",
    "pd.set_option('display.max_colwidth', 100)\n",
    "\n",
    "messages = pd.read_csv('data/spam.csv', encoding='latin-1')\n",
    "messages = messages.drop(labels = [\"Unnamed: 2\", \"Unnamed: 3\", \"Unnamed: 4\"], axis = 1)\n",
    "messages.columns = [\"label\", \"text\"]\n",
    "messages['text_clean'] = messages['text'].apply(lambda x: gensim.utils.simple_preprocess(x))\n",
    "\n",
    "X_train, X_test, y_train, y_test = train_test_split(messages['text_clean'],\n",
    "                                                    messages['label'], test_size=0.2)"
   ]
  },
  {
   "cell_type": "code",
   "execution_count": 6,
   "metadata": {},
   "outputs": [],
   "source": [
    "# Create tagged document objects to prepare to train the model\n",
    "tagged_docs = [gensim.models.doc2vec.TaggedDocument(v, [i]) for i, v in enumerate(X_train)]"
   ]
  },
  {
   "cell_type": "code",
   "execution_count": 7,
   "metadata": {},
   "outputs": [
    {
     "data": {
      "text/plain": [
       "TaggedDocument(words=['sorry', 'man', 'accidentally', 'left', 'my', 'phone', 'on', 'silent', 'last', 'night', 'and', 'didn', 'check', 'it', 'til', 'got', 'up'], tags=[0])"
      ]
     },
     "execution_count": 7,
     "metadata": {},
     "output_type": "execute_result"
    }
   ],
   "source": [
    "# Look at what a tagged document looks like\n",
    "tagged_docs[0]"
   ]
  },
  {
   "cell_type": "code",
   "execution_count": 8,
   "metadata": {},
   "outputs": [],
   "source": [
    "# Train a basic doc2vec model\n",
    "d2v_model = gensim.models.Doc2Vec(tagged_docs, vector_size=100, window=5, min_count=2)"
   ]
  },
  {
   "cell_type": "code",
   "execution_count": 9,
   "metadata": {},
   "outputs": [
    {
     "ename": "TypeError",
     "evalue": "Parameter doc_words of infer_vector() must be a list of strings (not a single string).",
     "output_type": "error",
     "traceback": [
      "\u001b[1;31m---------------------------------------------------------------------------\u001b[0m",
      "\u001b[1;31mTypeError\u001b[0m                                 Traceback (most recent call last)",
      "\u001b[1;32m<ipython-input-9-81bc935a6094>\u001b[0m in \u001b[0;36m<module>\u001b[1;34m\u001b[0m\n\u001b[0;32m      1\u001b[0m \u001b[1;31m# What happens if we pass in a single word like we did for word2vec?\u001b[0m\u001b[1;33m\u001b[0m\u001b[1;33m\u001b[0m\u001b[1;33m\u001b[0m\u001b[0m\n\u001b[1;32m----> 2\u001b[1;33m \u001b[0md2v_model\u001b[0m\u001b[1;33m.\u001b[0m\u001b[0minfer_vector\u001b[0m\u001b[1;33m(\u001b[0m\u001b[1;34m'text'\u001b[0m\u001b[1;33m)\u001b[0m\u001b[1;33m\u001b[0m\u001b[1;33m\u001b[0m\u001b[0m\n\u001b[0m",
      "\u001b[1;32m~\\anaconda3\\lib\\site-packages\\gensim\\models\\doc2vec.py\u001b[0m in \u001b[0;36minfer_vector\u001b[1;34m(self, doc_words, alpha, min_alpha, epochs, steps)\u001b[0m\n\u001b[0;32m    606\u001b[0m         \"\"\"\n\u001b[0;32m    607\u001b[0m         \u001b[1;32mif\u001b[0m \u001b[0misinstance\u001b[0m\u001b[1;33m(\u001b[0m\u001b[0mdoc_words\u001b[0m\u001b[1;33m,\u001b[0m \u001b[0mstr\u001b[0m\u001b[1;33m)\u001b[0m\u001b[1;33m:\u001b[0m  \u001b[1;31m# a common mistake; fail with a nicer error\u001b[0m\u001b[1;33m\u001b[0m\u001b[1;33m\u001b[0m\u001b[0m\n\u001b[1;32m--> 608\u001b[1;33m             \u001b[1;32mraise\u001b[0m \u001b[0mTypeError\u001b[0m\u001b[1;33m(\u001b[0m\u001b[1;34m\"Parameter doc_words of infer_vector() must be a list of strings (not a single string).\"\u001b[0m\u001b[1;33m)\u001b[0m\u001b[1;33m\u001b[0m\u001b[1;33m\u001b[0m\u001b[0m\n\u001b[0m\u001b[0;32m    609\u001b[0m \u001b[1;33m\u001b[0m\u001b[0m\n\u001b[0;32m    610\u001b[0m         \u001b[0malpha\u001b[0m \u001b[1;33m=\u001b[0m \u001b[0malpha\u001b[0m \u001b[1;32mor\u001b[0m \u001b[0mself\u001b[0m\u001b[1;33m.\u001b[0m\u001b[0malpha\u001b[0m\u001b[1;33m\u001b[0m\u001b[1;33m\u001b[0m\u001b[0m\n",
      "\u001b[1;31mTypeError\u001b[0m: Parameter doc_words of infer_vector() must be a list of strings (not a single string)."
     ]
    }
   ],
   "source": [
    "# What happens if we pass in a single word like we did for word2vec?\n",
    "d2v_model.infer_vector('text')"
   ]
  },
  {
   "cell_type": "code",
   "execution_count": 10,
   "metadata": {},
   "outputs": [
    {
     "data": {
      "text/plain": [
       "array([-0.00700438,  0.01663531,  0.00863076,  0.00041389,  0.00027562,\n",
       "       -0.0339589 ,  0.00563524,  0.03175854, -0.00817696, -0.02149219,\n",
       "        0.00388519, -0.01745444, -0.00127102,  0.01249101,  0.01017968,\n",
       "       -0.01696631,  0.01095164, -0.00938394, -0.00613327, -0.03153675,\n",
       "        0.0126316 ,  0.001393  ,  0.01482108, -0.01540773, -0.00029658,\n",
       "        0.00083479, -0.01247164, -0.0104255 , -0.02467247, -0.00172686,\n",
       "        0.01675825,  0.0049846 ,  0.01089753, -0.01739047, -0.00826481,\n",
       "        0.0249942 ,  0.00276795, -0.00509331, -0.00841393, -0.03133387,\n",
       "       -0.01548341, -0.01489053, -0.01909465, -0.00909864,  0.01223203,\n",
       "       -0.01579312, -0.00887041, -0.0075473 ,  0.01421885,  0.01681462,\n",
       "        0.00403175, -0.01382973,  0.00432675, -0.00156719, -0.00427518,\n",
       "        0.01039628,  0.00255965, -0.00146323, -0.01194454,  0.00480561,\n",
       "        0.00700911,  0.00432272, -0.00290664, -0.00019616, -0.01866924,\n",
       "        0.02826177,  0.00930049,  0.01766691, -0.01874159,  0.02454042,\n",
       "       -0.01381533,  0.00955569,  0.0209449 ,  0.00456881,  0.03520084,\n",
       "        0.02284604,  0.00141965, -0.00096893, -0.00944832,  0.00683028,\n",
       "       -0.02166279,  0.002553  , -0.0166874 ,  0.02151105, -0.01809291,\n",
       "       -0.00289878,  0.00399012,  0.00972694,  0.03428299,  0.01454751,\n",
       "        0.02354919,  0.01491213,  0.00355357,  0.00108192,  0.02695581,\n",
       "        0.01151187,  0.00660355, -0.01254312, -0.00526622, -0.00142242],\n",
       "      dtype=float32)"
      ]
     },
     "execution_count": 10,
     "metadata": {},
     "output_type": "execute_result"
    }
   ],
   "source": [
    "# What happens if we pass in a list of words?\n",
    "d2v_model.infer_vector(['i', 'am', 'learning', 'nlp'])"
   ]
  },
  {
   "cell_type": "markdown",
   "metadata": {},
   "source": [
    "### What About Pre-trained Document Vectors?\n",
    "\n",
    "There are not as many options as there are for word vectors. There also is not an easy API to read these in like there is for `word2vec` so it is more time consuming.\n",
    "\n",
    "Pre-trained vectors from training on Wikipedia and Associated Press News can be found [here](https://github.com/jhlau/doc2vec). Feel free to explore on your own!"
   ]
  },
  {
   "cell_type": "code",
   "execution_count": 11,
   "metadata": {},
   "outputs": [],
   "source": [
    "# How do we prepare these vectors to be used in ML Model?\n",
    "vectors = [[d2v_model.infer_vector(words)]for words in X_test]"
   ]
  },
  {
   "cell_type": "code",
   "execution_count": 12,
   "metadata": {},
   "outputs": [
    {
     "data": {
      "text/plain": [
       "[array([-0.00554773,  0.00724458,  0.00329775, -0.00521936,  0.00226071,\n",
       "        -0.01753865,  0.0076242 ,  0.02584808, -0.01059273, -0.00605462,\n",
       "         0.00103585, -0.01811593,  0.00269339,  0.00043434,  0.00351522,\n",
       "        -0.01278899,  0.0074543 , -0.01031785,  0.00543193, -0.02477286,\n",
       "         0.0076733 ,  0.00635272,  0.00754381, -0.01372754,  0.00316142,\n",
       "         0.00650532, -0.01064131, -0.00772442, -0.01489499, -0.00298955,\n",
       "         0.0130528 ,  0.00680355,  0.0015731 , -0.00945888, -0.007642  ,\n",
       "         0.01858883,  0.00739441, -0.00325762, -0.00644208, -0.0191325 ,\n",
       "        -0.00514582, -0.00759772, -0.00316734, -0.00785367,  0.00089852,\n",
       "        -0.01210361, -0.00723339, -0.00082462, -0.00062712,  0.00634365,\n",
       "         0.00674049, -0.01309119,  0.00492129, -0.00735441, -0.00650074,\n",
       "         0.00132795,  0.00785866,  0.00384196, -0.01147376,  0.01078517,\n",
       "         0.00308634,  0.00184158, -0.00675979,  0.00201015, -0.01298821,\n",
       "         0.01513827,  0.00274793,  0.00884538, -0.01538494,  0.01720695,\n",
       "        -0.01008317,  0.0030626 ,  0.00928853,  0.00213031,  0.02508699,\n",
       "         0.01124752, -0.00361871,  0.00336515, -0.01139168,  0.00107189,\n",
       "        -0.01342536,  0.00220422, -0.00411494,  0.00947217, -0.00394971,\n",
       "         0.00122782, -0.00596591,  0.00750135,  0.01819547,  0.01176725,\n",
       "         0.01876347,  0.00347292,  0.00088227,  0.00742818,  0.01516168,\n",
       "         0.0056896 ,  0.0044495 , -0.0094345 ,  0.00924955, -0.00356639],\n",
       "       dtype=float32)]"
      ]
     },
     "execution_count": 12,
     "metadata": {},
     "output_type": "execute_result"
    }
   ],
   "source": [
    "vectors[0]"
   ]
  }
 ],
 "metadata": {
  "kernelspec": {
   "display_name": "Python 3",
   "language": "python",
   "name": "python3"
  },
  "language_info": {
   "codemirror_mode": {
    "name": "ipython",
    "version": 3
   },
   "file_extension": ".py",
   "mimetype": "text/x-python",
   "name": "python",
   "nbconvert_exporter": "python",
   "pygments_lexer": "ipython3",
   "version": "3.8.5"
  }
 },
 "nbformat": 4,
 "nbformat_minor": 1
}
