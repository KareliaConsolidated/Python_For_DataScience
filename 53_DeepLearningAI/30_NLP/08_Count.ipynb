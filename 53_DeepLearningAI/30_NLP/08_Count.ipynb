{
 "cells": [
  {
   "cell_type": "code",
   "execution_count": 1,
   "metadata": {},
   "outputs": [],
   "source": [
    "text = 'As I was waiting, a man came out of a side room, and at a glance I was sure he must be Long John. His left leg was cut off close by the hip, and under the left shoulder he carried a crutch, which he managed with wonderful dexterity, hopping about upon it like a bird. He was very tall and strong, with a face as big as a ham—plain and pale, but intelligent and smiling. Indeed, he seemed in the most cheerful spirits, whistling as he moved about among the tables, with a merry word or a slap on the shoulder for the more favoured of his guests.'"
   ]
  },
  {
   "cell_type": "code",
   "execution_count": 2,
   "metadata": {},
   "outputs": [],
   "source": [
    "import re\n",
    "\n",
    "def counts(text):\n",
    "    counts = dict()\n",
    "    \n",
    "    words = re.split(r'[^\\w]', text)\n",
    "    \n",
    "    for word in words:\n",
    "        if word != \"\":\n",
    "            if word not in counts:\n",
    "                counts[word] = 1\n",
    "            else:\n",
    "                counts[word] += 1\n",
    "    return counts"
   ]
  },
  {
   "cell_type": "code",
   "execution_count": 3,
   "metadata": {},
   "outputs": [
    {
     "data": {
      "text/plain": [
       "{'As': 1,\n",
       " 'I': 2,\n",
       " 'was': 4,\n",
       " 'waiting': 1,\n",
       " 'a': 9,\n",
       " 'man': 1,\n",
       " 'came': 1,\n",
       " 'out': 1,\n",
       " 'of': 2,\n",
       " 'side': 1,\n",
       " 'room': 1,\n",
       " 'and': 5,\n",
       " 'at': 1,\n",
       " 'glance': 1,\n",
       " 'sure': 1,\n",
       " 'he': 5,\n",
       " 'must': 1,\n",
       " 'be': 1,\n",
       " 'Long': 1,\n",
       " 'John': 1,\n",
       " 'His': 1,\n",
       " 'left': 2,\n",
       " 'leg': 1,\n",
       " 'cut': 1,\n",
       " 'off': 1,\n",
       " 'close': 1,\n",
       " 'by': 1,\n",
       " 'the': 6,\n",
       " 'hip': 1,\n",
       " 'under': 1,\n",
       " 'shoulder': 2,\n",
       " 'carried': 1,\n",
       " 'crutch': 1,\n",
       " 'which': 1,\n",
       " 'managed': 1,\n",
       " 'with': 3,\n",
       " 'wonderful': 1,\n",
       " 'dexterity': 1,\n",
       " 'hopping': 1,\n",
       " 'about': 2,\n",
       " 'upon': 1,\n",
       " 'it': 1,\n",
       " 'like': 1,\n",
       " 'bird': 1,\n",
       " 'He': 1,\n",
       " 'very': 1,\n",
       " 'tall': 1,\n",
       " 'strong': 1,\n",
       " 'face': 1,\n",
       " 'as': 3,\n",
       " 'big': 1,\n",
       " 'ham': 1,\n",
       " 'plain': 1,\n",
       " 'pale': 1,\n",
       " 'but': 1,\n",
       " 'intelligent': 1,\n",
       " 'smiling': 1,\n",
       " 'Indeed': 1,\n",
       " 'seemed': 1,\n",
       " 'in': 1,\n",
       " 'most': 1,\n",
       " 'cheerful': 1,\n",
       " 'spirits': 1,\n",
       " 'whistling': 1,\n",
       " 'moved': 1,\n",
       " 'among': 1,\n",
       " 'tables': 1,\n",
       " 'merry': 1,\n",
       " 'word': 1,\n",
       " 'or': 1,\n",
       " 'slap': 1,\n",
       " 'on': 1,\n",
       " 'for': 1,\n",
       " 'more': 1,\n",
       " 'favoured': 1,\n",
       " 'his': 1,\n",
       " 'guests': 1}"
      ]
     },
     "execution_count": 3,
     "metadata": {},
     "output_type": "execute_result"
    }
   ],
   "source": [
    "counts(text)"
   ]
  },
  {
   "cell_type": "code",
   "execution_count": 4,
   "metadata": {},
   "outputs": [],
   "source": [
    "def sent_tokenize(text):\n",
    "    \"\"\"Split text into sentences.\"\"\"\n",
    "    \n",
    "    # Split text by sentence delimiters (remove delimiters)\n",
    "    sentence = text.split('.')\n",
    "    \n",
    "    # Remove leading and trailing spaces from each sentence\n",
    "    sentence = [sent.strip(' ') for sent in sentence if sent != '']\n",
    "    \n",
    "    return sentence"
   ]
  },
  {
   "cell_type": "code",
   "execution_count": 5,
   "metadata": {},
   "outputs": [
    {
     "data": {
      "text/plain": [
       "['As I was waiting, a man came out of a side room, and at a glance I was sure he must be Long John',\n",
       " 'His left leg was cut off close by the hip, and under the left shoulder he carried a crutch, which he managed with wonderful dexterity, hopping about upon it like a bird',\n",
       " 'He was very tall and strong, with a face as big as a ham—plain and pale, but intelligent and smiling',\n",
       " 'Indeed, he seemed in the most cheerful spirits, whistling as he moved about among the tables, with a merry word or a slap on the shoulder for the more favoured of his guests']"
      ]
     },
     "execution_count": 5,
     "metadata": {},
     "output_type": "execute_result"
    }
   ],
   "source": [
    "sent_tokenize(text)"
   ]
  },
  {
   "cell_type": "code",
   "execution_count": 6,
   "metadata": {},
   "outputs": [],
   "source": [
    "import pandas as pd"
   ]
  },
  {
   "cell_type": "code",
   "execution_count": 7,
   "metadata": {},
   "outputs": [],
   "source": [
    "def word_tokenize(sent):\n",
    "    \"\"\"Split a sentence into words.\"\"\"\n",
    "    word = sent.split(' ')\n",
    "    \n",
    "    word_pd = pd.Series(word).str.strip()\n",
    "    \n",
    "    word_fin = word_pd.tolist()\n",
    "    \n",
    "    return word_fin"
   ]
  },
  {
   "cell_type": "code",
   "execution_count": 8,
   "metadata": {},
   "outputs": [
    {
     "name": "stdout",
     "output_type": "stream",
     "text": [
      "\u001b[93mAs I was waiting, a man came out of a side room, and at a glance I was sure he must be Long John\n",
      "\u001b[94m\n",
      "['As', 'I', 'was', 'waiting,', 'a', 'man', 'came', 'out', 'of', 'a', 'side', 'room,', 'and', 'at', 'a', 'glance', 'I', 'was', 'sure', 'he', 'must', 'be', 'Long', 'John']\n",
      "\u001b[93mHis left leg was cut off close by the hip, and under the left shoulder he carried a crutch, which he managed with wonderful dexterity, hopping about upon it like a bird\n",
      "\u001b[94m\n",
      "['His', 'left', 'leg', 'was', 'cut', 'off', 'close', 'by', 'the', 'hip,', 'and', 'under', 'the', 'left', 'shoulder', 'he', 'carried', 'a', 'crutch,', 'which', 'he', 'managed', 'with', 'wonderful', 'dexterity,', 'hopping', 'about', 'upon', 'it', 'like', 'a', 'bird']\n",
      "\u001b[93mHe was very tall and strong, with a face as big as a ham—plain and pale, but intelligent and smiling\n",
      "\u001b[94m\n",
      "['He', 'was', 'very', 'tall', 'and', 'strong,', 'with', 'a', 'face', 'as', 'big', 'as', 'a', 'ham—plain', 'and', 'pale,', 'but', 'intelligent', 'and', 'smiling']\n",
      "\u001b[93mIndeed, he seemed in the most cheerful spirits, whistling as he moved about among the tables, with a merry word or a slap on the shoulder for the more favoured of his guests\n",
      "\u001b[94m\n",
      "['Indeed,', 'he', 'seemed', 'in', 'the', 'most', 'cheerful', 'spirits,', 'whistling', 'as', 'he', 'moved', 'about', 'among', 'the', 'tables,', 'with', 'a', 'merry', 'word', 'or', 'a', 'slap', 'on', 'the', 'shoulder', 'for', 'the', 'more', 'favoured', 'of', 'his', 'guests']\n"
     ]
    }
   ],
   "source": [
    "for sent in sent_tokenize(text):\n",
    "    print('\\33[93m'+sent)\n",
    "    print('\\33[94m')\n",
    "    print(word_tokenize(sent))"
   ]
  },
  {
   "cell_type": "code",
   "execution_count": 9,
   "metadata": {
    "scrolled": false
   },
   "outputs": [
    {
     "data": {
      "text/plain": [
       "[('I', 'PRP'),\n",
       " ('always', 'RB'),\n",
       " ('lie', 'VBP'),\n",
       " ('down', 'RP'),\n",
       " ('to', 'TO'),\n",
       " ('tell', 'VB'),\n",
       " ('a', 'DT'),\n",
       " ('lie', 'NN')]"
      ]
     },
     "execution_count": 9,
     "metadata": {},
     "output_type": "execute_result"
    }
   ],
   "source": [
    "from nltk import pos_tag, word_tokenize\n",
    "\n",
    "sentence = word_tokenize(\"I always lie down to tell a lie\")\n",
    "pos_tag(sentence)"
   ]
  },
  {
   "cell_type": "code",
   "execution_count": null,
   "metadata": {},
   "outputs": [],
   "source": []
  }
 ],
 "metadata": {
  "kernelspec": {
   "display_name": "Python 3",
   "language": "python",
   "name": "python3"
  },
  "language_info": {
   "codemirror_mode": {
    "name": "ipython",
    "version": 3
   },
   "file_extension": ".py",
   "mimetype": "text/x-python",
   "name": "python",
   "nbconvert_exporter": "python",
   "pygments_lexer": "ipython3",
   "version": "3.8.5"
  }
 },
 "nbformat": 4,
 "nbformat_minor": 4
}
