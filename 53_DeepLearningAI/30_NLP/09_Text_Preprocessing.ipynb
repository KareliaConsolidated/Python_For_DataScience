{
 "cells": [
  {
   "cell_type": "markdown",
   "metadata": {},
   "source": [
    "### Plain Text"
   ]
  },
  {
   "cell_type": "code",
   "execution_count": 1,
   "metadata": {},
   "outputs": [
    {
     "name": "stdout",
     "output_type": "stream",
     "text": [
      "Hieroglyphic writing dates from c. 3000 BC, and is composed of hundreds of symbols. A hieroglyph can represent a word, a sound, or a silent determinative; and the same symbol can serve different purposes in different contexts. Hieroglyphs were a formal script, used on stone monuments and in tombs, that could be as detailed as individual works of art.\n",
      "\n"
     ]
    }
   ],
   "source": [
    "import os\n",
    "\n",
    "# Read in a plain text file\n",
    "with open(os.path.join(\"data\", \"hieroglyph.txt\"), \"r\") as f:\n",
    "    text = f.read()\n",
    "    print(text)"
   ]
  },
  {
   "cell_type": "markdown",
   "metadata": {},
   "source": [
    "### Tabular Data"
   ]
  },
  {
   "cell_type": "code",
   "execution_count": 2,
   "metadata": {},
   "outputs": [
    {
     "data": {
      "text/html": [
       "<div>\n",
       "<style scoped>\n",
       "    .dataframe tbody tr th:only-of-type {\n",
       "        vertical-align: middle;\n",
       "    }\n",
       "\n",
       "    .dataframe tbody tr th {\n",
       "        vertical-align: top;\n",
       "    }\n",
       "\n",
       "    .dataframe thead th {\n",
       "        text-align: right;\n",
       "    }\n",
       "</style>\n",
       "<table border=\"1\" class=\"dataframe\">\n",
       "  <thead>\n",
       "    <tr style=\"text-align: right;\">\n",
       "      <th></th>\n",
       "      <th>publisher</th>\n",
       "      <th>title</th>\n",
       "    </tr>\n",
       "  </thead>\n",
       "  <tbody>\n",
       "    <tr>\n",
       "      <th>0</th>\n",
       "      <td>Livemint</td>\n",
       "      <td>Fed's Charles Plosser sees high bar for change...</td>\n",
       "    </tr>\n",
       "    <tr>\n",
       "      <th>1</th>\n",
       "      <td>IFA Magazine</td>\n",
       "      <td>US open: Stocks fall after Fed official hints ...</td>\n",
       "    </tr>\n",
       "    <tr>\n",
       "      <th>2</th>\n",
       "      <td>IFA Magazine</td>\n",
       "      <td>Fed risks falling 'behind the curve', Charles ...</td>\n",
       "    </tr>\n",
       "    <tr>\n",
       "      <th>3</th>\n",
       "      <td>Moneynews</td>\n",
       "      <td>Fed's Plosser: Nasty Weather Has Curbed Job Gr...</td>\n",
       "    </tr>\n",
       "    <tr>\n",
       "      <th>4</th>\n",
       "      <td>NASDAQ</td>\n",
       "      <td>Plosser: Fed May Have to Accelerate Tapering Pace</td>\n",
       "    </tr>\n",
       "  </tbody>\n",
       "</table>\n",
       "</div>"
      ],
      "text/plain": [
       "      publisher                                              title\n",
       "0      Livemint  Fed's Charles Plosser sees high bar for change...\n",
       "1  IFA Magazine  US open: Stocks fall after Fed official hints ...\n",
       "2  IFA Magazine  Fed risks falling 'behind the curve', Charles ...\n",
       "3     Moneynews  Fed's Plosser: Nasty Weather Has Curbed Job Gr...\n",
       "4        NASDAQ  Plosser: Fed May Have to Accelerate Tapering Pace"
      ]
     },
     "execution_count": 2,
     "metadata": {},
     "output_type": "execute_result"
    }
   ],
   "source": [
    "import pandas as pd\n",
    "\n",
    "df = pd.read_csv(os.path.join('data', 'news.csv'))\n",
    "df.head()[['publisher', 'title']]"
   ]
  },
  {
   "cell_type": "code",
   "execution_count": 3,
   "metadata": {},
   "outputs": [
    {
     "data": {
      "text/html": [
       "<div>\n",
       "<style scoped>\n",
       "    .dataframe tbody tr th:only-of-type {\n",
       "        vertical-align: middle;\n",
       "    }\n",
       "\n",
       "    .dataframe tbody tr th {\n",
       "        vertical-align: top;\n",
       "    }\n",
       "\n",
       "    .dataframe thead th {\n",
       "        text-align: right;\n",
       "    }\n",
       "</style>\n",
       "<table border=\"1\" class=\"dataframe\">\n",
       "  <thead>\n",
       "    <tr style=\"text-align: right;\">\n",
       "      <th></th>\n",
       "      <th>publisher</th>\n",
       "      <th>title</th>\n",
       "    </tr>\n",
       "  </thead>\n",
       "  <tbody>\n",
       "    <tr>\n",
       "      <th>0</th>\n",
       "      <td>Livemint</td>\n",
       "      <td>fed's charles plosser sees high bar for change...</td>\n",
       "    </tr>\n",
       "    <tr>\n",
       "      <th>1</th>\n",
       "      <td>IFA Magazine</td>\n",
       "      <td>us open: stocks fall after fed official hints ...</td>\n",
       "    </tr>\n",
       "    <tr>\n",
       "      <th>2</th>\n",
       "      <td>IFA Magazine</td>\n",
       "      <td>fed risks falling 'behind the curve', charles ...</td>\n",
       "    </tr>\n",
       "    <tr>\n",
       "      <th>3</th>\n",
       "      <td>Moneynews</td>\n",
       "      <td>fed's plosser: nasty weather has curbed job gr...</td>\n",
       "    </tr>\n",
       "    <tr>\n",
       "      <th>4</th>\n",
       "      <td>NASDAQ</td>\n",
       "      <td>plosser: fed may have to accelerate tapering pace</td>\n",
       "    </tr>\n",
       "  </tbody>\n",
       "</table>\n",
       "</div>"
      ],
      "text/plain": [
       "      publisher                                              title\n",
       "0      Livemint  fed's charles plosser sees high bar for change...\n",
       "1  IFA Magazine  us open: stocks fall after fed official hints ...\n",
       "2  IFA Magazine  fed risks falling 'behind the curve', charles ...\n",
       "3     Moneynews  fed's plosser: nasty weather has curbed job gr...\n",
       "4        NASDAQ  plosser: fed may have to accelerate tapering pace"
      ]
     },
     "execution_count": 3,
     "metadata": {},
     "output_type": "execute_result"
    }
   ],
   "source": [
    "# Convert text column to lowercase\n",
    "df['title'] = df['title'].str.lower()\n",
    "df.head()[['publisher', 'title']]"
   ]
  },
  {
   "cell_type": "code",
   "execution_count": 5,
   "metadata": {},
   "outputs": [
    {
     "name": "stdout",
     "output_type": "stream",
     "text": [
      "{\n",
      "    \"success\": {\n",
      "        \"total\": 1\n",
      "    },\n",
      "    \"contents\": {\n",
      "        \"quotes\": [\n",
      "            {\n",
      "                \"quote\": \"It isn't what you have, or who you are, or where you are, or what you are doing that makes you happy or unhappy. It is what you think about.\",\n",
      "                \"length\": \"140\",\n",
      "                \"author\": \"Dale Carnegie\",\n",
      "                \"tags\": [\n",
      "                    \"happiness\",\n",
      "                    \"inspire\",\n",
      "                    \"thought\"\n",
      "                ],\n",
      "                \"category\": \"inspire\",\n",
      "                \"language\": \"en\",\n",
      "                \"date\": \"2021-04-13\",\n",
      "                \"permalink\": \"https://theysaidso.com/quote/dale-carnegie-it-isnt-what-you-have-or-who-you-are-or-where-you-are-or-what-you\",\n",
      "                \"id\": \"2CNTJ3GR8Gx7Bi6UA0qtqgeF\",\n",
      "                \"background\": \"https://theysaidso.com/img/qod/qod-inspire.jpg\",\n",
      "                \"title\": \"Inspiring Quote of the day\"\n",
      "            }\n",
      "        ]\n",
      "    },\n",
      "    \"baseurl\": \"https://theysaidso.com\",\n",
      "    \"copyright\": {\n",
      "        \"year\": 2023,\n",
      "        \"url\": \"https://theysaidso.com\"\n",
      "    }\n",
      "}\n"
     ]
    }
   ],
   "source": [
    "import requests\n",
    "import json\n",
    "\n",
    "r = requests.get(\"https://quotes.rest/qod.json\")\n",
    "res = r.json()\n",
    "print(json.dumps(res, indent=4))"
   ]
  },
  {
   "cell_type": "code",
   "execution_count": 6,
   "metadata": {},
   "outputs": [
    {
     "name": "stdout",
     "output_type": "stream",
     "text": [
      "It isn't what you have, or who you are, or where you are, or what you are doing that makes you happy or unhappy. It is what you think about. \n",
      "-- Dale Carnegie\n"
     ]
    }
   ],
   "source": [
    "# Extract relevant object and field\n",
    "q = res[\"contents\"][\"quotes\"][0]\n",
    "print(q[\"quote\"], \"\\n--\", q[\"author\"])"
   ]
  },
  {
   "cell_type": "code",
   "execution_count": 7,
   "metadata": {},
   "outputs": [
    {
     "name": "stdout",
     "output_type": "stream",
     "text": [
      "<html lang=\"en\" op=\"news\"><head><meta name=\"referrer\" content=\"origin\"><meta name=\"viewport\" content=\"width=device-width, initial-scale=1.0\"><link rel=\"stylesheet\" type=\"text/css\" href=\"news.css?ByzR2VCazcHqBPYc6t4C\">\n",
      "        <link rel=\"shortcut icon\" href=\"favicon.ico\">\n",
      "          <link rel=\"alternate\" type=\"application/rss+xml\" title=\"RSS\" href=\"rss\">\n",
      "        <title>Hacker News</title></head><body><center><table id=\"hnmain\" border=\"0\" cellpadding=\"0\" cellspacing=\"0\" width=\"85%\" bgcolor=\"#f6f6ef\">\n",
      "        <tr><td bgcolor=\"#ff6600\"><table border=\"0\" cellpadding=\"0\" cellspacing=\"0\" width=\"100%\" style=\"padding:2px\"><tr><td style=\"width:18px;padding-right:4px\"><a href=\"https://news.ycombinator.com\"><img src=\"y18.gif\" width=\"18\" height=\"18\" style=\"border:1px white solid;\"></a></td>\n",
      "                  <td style=\"line-height:12pt; height:10px;\"><span class=\"pagetop\"><b class=\"hnname\"><a href=\"news\">Hacker News</a></b>\n",
      "              <a href=\"newest\">new</a> | <a href=\"front\">past</a> | <a href=\"newcomments\">comments</a> | <a href=\"ask\">ask</a> | <a href=\"show\">show</a> | <a href=\"jobs\">jobs</a> | <a href=\"submit\">submit</a>            </span></td><td style=\"text-align:right;padding-right:4px;\"><span class=\"pagetop\">\n",
      "                              <a href=\"login?goto=news\">login</a>\n",
      "                          </span></td>\n",
      "              </tr></table></td></tr>\n",
      "<tr id=\"pagespace\" title=\"\" style=\"height:10px\"></tr><tr><td><table border=\"0\" cellpadding=\"0\" cellspacing=\"0\" class=\"itemlist\">\n",
      "              <tr class='athing' id='26791582'>\n",
      "      <td align=\"right\" valign=\"top\" class=\"title\"><span class=\"rank\">1.</span></td>      <td valign=\"top\" class=\"votelinks\"><center><a id='up_26791582' href='vote?id=26791582&amp;how=up&amp;goto=news'><div class='votearrow' title='upvote'></div></a></center></td><td class=\"title\"><a href=\"https://deephn.org\" class=\"storylink\">Show HN: DeepHN – Full-text search of 30M Hacker News posts and linked webpages</a><span class=\"sitebit comhead\"> (<a href=\"from?site=deephn.org\"><span class=\"sitestr\">deephn.org</span></a>)</span></td></tr><tr><td colspan=\"2\"></td><td class=\"subtext\">\n",
      "        <span class=\"score\" id=\"score_26791582\">169 points</span> by <a href=\"user?id=wolfgarbe\" class=\"hnuser\">wolfgarbe</a> <span class=\"age\"><a href=\"item?id=26791582\">2 hours ago</a></span> <span id=\"unv_26791582\"></span> | <a href=\"hide?id=26791582&amp;goto=news\">hide</a> | <a href=\"item?id=26791582\">51&nbsp;comments</a>              </td></tr>\n",
      "      <tr class=\"spacer\" style=\"height:5px\"></tr>\n",
      "                <tr class='athing' id='26791402'>\n",
      "      <td align=\"right\" valign=\"top\" class=\"title\"><span class=\"rank\">2.</span></td>      <td valign=\"top\" class=\"votelinks\"><center><a id='up_26791402' href='vote?id=26791402&amp;how=up&amp;goto=news'><div class='votearrow' title='upvote'></div></a></center></td><td class=\"title\"><a href=\"https://www.cbc.ca/news/gopublic/tattleware-privacy-employment-1.5978337\" class=\"storylink\">School custodian refuses to download app that monitors location, got her fired</a><span class=\"sitebit comhead\"> (<a href=\"from?site=cbc.ca\"><span class=\"sitestr\">cbc.ca</span></a>)</span></td></tr><tr><td colspan=\"2\"></td><td class=\"subtext\">\n",
      "        <span class=\"score\" id=\"score_26791402\">37 points</span> by <a href=\"user?id=docdeek\" class=\"hnuser\">docdeek</a> <span class=\"age\"><a href=\"item?id=26791402\">2 hours ago</a></span> <span id=\"unv_26791402\"></span> | <a href=\"hide?id=26791402&amp;goto=news\">hide</a> | <a href=\"item?id=26791402\">9&nbsp;comments</a>              </td></tr>\n",
      "      <tr class=\"spacer\" style=\"height:5px\"></tr>\n",
      "                <tr class='athing' id='26792876'>\n",
      "      <td align=\"right\" valign=\"top\" class=\"title\"><span class=\"rank\">3.</span></td>      <td valign=\"top\" class=\"votelinks\"><center><a id='up_26792876' href='vote?id=26792876&amp;how=up&amp;goto=news'><div class='votearrow' title='upvote'></div></a></center></td><td class=\"title\"><a href=\"https://davesullivan.is/my_startup_failed_then_i_found_out_i_was_unemployable.html\" class=\"storylink\">My startup failed, then I found out I was unemployable</a><span class=\"sitebit comhead\"> (<a href=\"from?site=davesullivan.is\"><span class=\"sitestr\">davesullivan.is</span></a>)</span></td></tr><tr><td colspan=\"2\"></td><td class=\"subtext\">\n",
      "        <span class=\"score\" id=\"score_26792876\">116 points</span> by <a href=\"user?id=dave_sullivan\" class=\"hnuser\">dave_sullivan</a> <span class=\"age\"><a href=\"item?id=26792876\">34 minutes ago</a></span> <span id=\"unv_26792876\"></span> | <a href=\"hide?id=26792876&amp;goto=news\">hide</a> | <a href=\"item?id=26792876\">88&nbsp;comments</a>              </td></tr>\n",
      "      <tr class=\"spacer\" style=\"height:5px\"></tr>\n",
      "                <tr class='athing' id='26791186'>\n",
      "      <td align=\"right\" valign=\"top\" class=\"title\"><span class=\"rank\">4.</span></td>      <td valign=\"top\" class=\"votelinks\"><center><a id='up_26791186' href='vote?id=26791186&amp;how=up&amp;goto=news'><div class='votearrow' title='upvote'></div></a></center></td><td class=\"title\"><a href=\"https://svs.informatik.uni-hamburg.de/publications/2018/2018-12-06-Sy-ACSAC-Tracking_Users_across_the_Web_via_TLS_Session_Resumption.pdf\" class=\"storylink\">Tracking Users Across the Web via TLS Session Resumption (2018) [pdf]</a><span class=\"sitebit comhead\"> (<a href=\"from?site=uni-hamburg.de\"><span class=\"sitestr\">uni-hamburg.de</span></a>)</span></td></tr><tr><td colspan=\"2\"></td><td class=\"subtext\">\n",
      "        <span class=\"score\" id=\"score_26791186\">34 points</span> by <a href=\"user?id=Tomte\" class=\"hnuser\">Tomte</a> <span class=\"age\"><a href=\"item?id=26791186\">3 hours ago</a></span> <span id=\"unv_26791186\"></span> | <a href=\"hide?id=26791186&amp;goto=news\">hide</a> | <a href=\"item?id=26791186\">3&nbsp;comments</a>              </td></tr>\n",
      "      <tr class=\"spacer\" style=\"height:5px\"></tr>\n",
      "                <tr class='athing' id='26790862'>\n",
      "      <td align=\"right\" valign=\"top\" class=\"title\"><span class=\"rank\">5.</span></td>      <td valign=\"top\" class=\"votelinks\"><center><a id='up_26790862' href='vote?id=26790862&amp;how=up&amp;goto=news'><div class='votearrow' title='upvote'></div></a></center></td><td class=\"title\"><a href=\"https://www.bluedot.space/tutorials/how-many-devices-can-you-connect-on-i2c-bus/\" class=\"storylink\">How many Devices can you Connect to the I2C Bus?</a><span class=\"sitebit comhead\"> (<a href=\"from?site=bluedot.space\"><span class=\"sitestr\">bluedot.space</span></a>)</span></td></tr><tr><td colspan=\"2\"></td><td class=\"subtext\">\n",
      "        <span class=\"score\" id=\"score_26790862\">67 points</span> by <a href=\"user?id=drmacak\" class=\"hnuser\">drmacak</a> <span class=\"age\"><a href=\"item?id=26790862\">3 hours ago</a></span> <span id=\"unv_26790862\"></span> | <a href=\"hide?id=26790862&amp;goto=news\">hide</a> | <a href=\"item?id=26790862\">37&nbsp;comments</a>              </td></tr>\n",
      "      <tr class=\"spacer\" style=\"height:5px\"></tr>\n",
      "                <tr class='athing' id='26790285'>\n",
      "      <td align=\"right\" valign=\"top\" class=\"title\"><span class=\"rank\">6.</span></td>      <td valign=\"top\" class=\"votelinks\"><center><a id='up_26790285' href='vote?id=26790285&amp;how=up&amp;goto=news'><div class='votearrow' title='upvote'></div></a></center></td><td class=\"title\"><a href=\"https://natto.dev\" class=\"storylink\">Natto.dev – A Canvas for JavaScript</a><span class=\"sitebit comhead\"> (<a href=\"from?site=natto.dev\"><span class=\"sitestr\">natto.dev</span></a>)</span></td></tr><tr><td colspan=\"2\"></td><td class=\"subtext\">\n",
      "        <span class=\"score\" id=\"score_26790285\">148 points</span> by <a href=\"user?id=stigi\" class=\"hnuser\">stigi</a> <span class=\"age\"><a href=\"item?id=26790285\">5 hours ago</a></span> <span id=\"unv_26790285\"></span> | <a href=\"hide?id=26790285&amp;goto=news\">hide</a> | <a href=\"item?id=26790285\">45&nbsp;comments</a>              </td></tr>\n",
      "      <tr class=\"spacer\" style=\"height:5px\"></tr>\n",
      "                <tr class='athing' id='26791138'>\n",
      "      <td align=\"right\" valign=\"top\" class=\"title\"><span class=\"rank\">7.</span></td>      <td valign=\"top\" class=\"votelinks\"><center><a id='up_26791138' href='vote?id=26791138&amp;how=up&amp;goto=news'><div class='votearrow' title='upvote'></div></a></center></td><td class=\"title\"><a href=\"https://refactoring.fm/p/the-true-meaning-of-technical-debt\" class=\"storylink\">The True Meaning of Technical Debt (2020)</a><span class=\"sitebit comhead\"> (<a href=\"from?site=refactoring.fm\"><span class=\"sitestr\">refactoring.fm</span></a>)</span></td></tr><tr><td colspan=\"2\"></td><td class=\"subtext\">\n",
      "        <span class=\"score\" id=\"score_26791138\">129 points</span> by <a href=\"user?id=srijan4\" class=\"hnuser\">srijan4</a> <span class=\"age\"><a href=\"item?id=26791138\">3 hours ago</a></span> <span id=\"unv_26791138\"></span> | <a href=\"hide?id=26791138&amp;goto=news\">hide</a> | <a href=\"item?id=26791138\">77&nbsp;comments</a>              </td></tr>\n",
      "      <tr class=\"spacer\" style=\"height:5px\"></tr>\n",
      "                <tr class='athing' id='26789022'>\n",
      "      <td align=\"right\" valign=\"top\" class=\"title\"><span class=\"rank\">8.</span></td>      <td valign=\"top\" class=\"votelinks\"><center><a id='up_26789022' href='vote?id=26789022&amp;how=up&amp;goto=news'><div class='votearrow' title='upvote'></div></a></center></td><td class=\"title\"><a href=\"https://replit.com/kaboom\" class=\"storylink\">Kaboom – JavaScript game programming library and environment</a><span class=\"sitebit comhead\"> (<a href=\"from?site=replit.com\"><span class=\"sitestr\">replit.com</span></a>)</span></td></tr><tr><td colspan=\"2\"></td><td class=\"subtext\">\n",
      "        <span class=\"score\" id=\"score_26789022\">174 points</span> by <a href=\"user?id=kiyanwang\" class=\"hnuser\">kiyanwang</a> <span class=\"age\"><a href=\"item?id=26789022\">7 hours ago</a></span> <span id=\"unv_26789022\"></span> | <a href=\"hide?id=26789022&amp;goto=news\">hide</a> | <a href=\"item?id=26789022\">52&nbsp;comments</a>              </td></tr>\n",
      "      <tr class=\"spacer\" style=\"height:5px\"></tr>\n",
      "                <tr class='athing' id='26790881'>\n",
      "      <td align=\"right\" valign=\"top\" class=\"title\"><span class=\"rank\">9.</span></td>      <td valign=\"top\" class=\"votelinks\"><center><a id='up_26790881' href='vote?id=26790881&amp;how=up&amp;goto=news'><div class='votearrow' title='upvote'></div></a></center></td><td class=\"title\"><a href=\"https://www.bbc.co.uk/news/world-us-canada-56733715\" class=\"storylink\">US agencies call for pause in Johnson & Johnson vaccine</a><span class=\"sitebit comhead\"> (<a href=\"from?site=bbc.co.uk\"><span class=\"sitestr\">bbc.co.uk</span></a>)</span></td></tr><tr><td colspan=\"2\"></td><td class=\"subtext\">\n",
      "        <span class=\"score\" id=\"score_26790881\">92 points</span> by <a href=\"user?id=kjakm\" class=\"hnuser\">kjakm</a> <span class=\"age\"><a href=\"item?id=26790881\">3 hours ago</a></span> <span id=\"unv_26790881\"></span> | <a href=\"hide?id=26790881&amp;goto=news\">hide</a> | <a href=\"item?id=26790881\">156&nbsp;comments</a>              </td></tr>\n",
      "      <tr class=\"spacer\" style=\"height:5px\"></tr>\n",
      "                <tr class='athing' id='26789010'>\n",
      "      <td align=\"right\" valign=\"top\" class=\"title\"><span class=\"rank\">10.</span></td>      <td valign=\"top\" class=\"votelinks\"><center><a id='up_26789010' href='vote?id=26789010&amp;how=up&amp;goto=news'><div class='votearrow' title='upvote'></div></a></center></td><td class=\"title\"><a href=\"http://paulgraham.com/paypal.html\" class=\"storylink\">Inside PayPal (2010)</a><span class=\"sitebit comhead\"> (<a href=\"from?site=paulgraham.com\"><span class=\"sitestr\">paulgraham.com</span></a>)</span></td></tr><tr><td colspan=\"2\"></td><td class=\"subtext\">\n",
      "        <span class=\"score\" id=\"score_26789010\">109 points</span> by <a href=\"user?id=prakhargurunani\" class=\"hnuser\">prakhargurunani</a> <span class=\"age\"><a href=\"item?id=26789010\">7 hours ago</a></span> <span id=\"unv_26789010\"></span> | <a href=\"hide?id=26789010&amp;goto=news\">hide</a> | <a href=\"item?id=26789010\">22&nbsp;comments</a>              </td></tr>\n",
      "      <tr class=\"spacer\" style=\"height:5px\"></tr>\n",
      "                <tr class='athing' id='26790380'>\n",
      "      <td align=\"right\" valign=\"top\" class=\"title\"><span class=\"rank\">11.</span></td>      <td valign=\"top\" class=\"votelinks\"><center><a id='up_26790380' href='vote?id=26790380&amp;how=up&amp;goto=news'><div class='votearrow' title='upvote'></div></a></center></td><td class=\"title\"><a href=\"https://arcan-fe.com/2017/07/12/the-dawn-of-a-new-command-line-interface/\" class=\"storylink\">The Dawn of a new Command Line Interface (2017)</a><span class=\"sitebit comhead\"> (<a href=\"from?site=arcan-fe.com\"><span class=\"sitestr\">arcan-fe.com</span></a>)</span></td></tr><tr><td colspan=\"2\"></td><td class=\"subtext\">\n",
      "        <span class=\"score\" id=\"score_26790380\">76 points</span> by <a href=\"user?id=harporoeder\" class=\"hnuser\">harporoeder</a> <span class=\"age\"><a href=\"item?id=26790380\">4 hours ago</a></span> <span id=\"unv_26790380\"></span> | <a href=\"hide?id=26790380&amp;goto=news\">hide</a> | <a href=\"item?id=26790380\">59&nbsp;comments</a>              </td></tr>\n",
      "      <tr class=\"spacer\" style=\"height:5px\"></tr>\n",
      "                <tr class='athing' id='26778319'>\n",
      "      <td align=\"right\" valign=\"top\" class=\"title\"><span class=\"rank\">12.</span></td>      <td valign=\"top\" class=\"votelinks\"><center><a id='up_26778319' href='vote?id=26778319&amp;how=up&amp;goto=news'><div class='votearrow' title='upvote'></div></a></center></td><td class=\"title\"><a href=\"http://aimmuseum.org/submarinesleepovers/\" class=\"storylink\">Submarine Sleepovers</a><span class=\"sitebit comhead\"> (<a href=\"from?site=aimmuseum.org\"><span class=\"sitestr\">aimmuseum.org</span></a>)</span></td></tr><tr><td colspan=\"2\"></td><td class=\"subtext\">\n",
      "        <span class=\"score\" id=\"score_26778319\">11 points</span> by <a href=\"user?id=RickJWagner\" class=\"hnuser\">RickJWagner</a> <span class=\"age\"><a href=\"item?id=26778319\">2 hours ago</a></span> <span id=\"unv_26778319\"></span> | <a href=\"hide?id=26778319&amp;goto=news\">hide</a> | <a href=\"item?id=26778319\">4&nbsp;comments</a>              </td></tr>\n",
      "      <tr class=\"spacer\" style=\"height:5px\"></tr>\n",
      "                <tr class='athing' id='26791030'>\n",
      "      <td align=\"right\" valign=\"top\" class=\"title\"><span class=\"rank\">13.</span></td>      <td></td><td class=\"title\"><a href=\"https://www.streak.com/careers/product-engineer\" class=\"storylink\" rel=\"nofollow\">Streak (YC S11) looking for a senior front end engineer (remote only)</a><span class=\"sitebit comhead\"> (<a href=\"from?site=streak.com\"><span class=\"sitestr\">streak.com</span></a>)</span></td></tr><tr><td colspan=\"2\"></td><td class=\"subtext\">\n",
      "        <span class=\"age\"><a href=\"item?id=26791030\">3 hours ago</a></span> | <a href=\"hide?id=26791030&amp;goto=news\">hide</a>      </td></tr>\n",
      "      <tr class=\"spacer\" style=\"height:5px\"></tr>\n",
      "                <tr class='athing' id='26787376'>\n",
      "      <td align=\"right\" valign=\"top\" class=\"title\"><span class=\"rank\">14.</span></td>      <td valign=\"top\" class=\"votelinks\"><center><a id='up_26787376' href='vote?id=26787376&amp;how=up&amp;goto=news'><div class='votearrow' title='upvote'></div></a></center></td><td class=\"title\"><a href=\"http://gitlet.maryrosecook.com/docs/gitlet.html\" class=\"storylink\">Gitlet.js – Git implemented in 1k lines of JavaScript (2015)</a><span class=\"sitebit comhead\"> (<a href=\"from?site=maryrosecook.com\"><span class=\"sitestr\">maryrosecook.com</span></a>)</span></td></tr><tr><td colspan=\"2\"></td><td class=\"subtext\">\n",
      "        <span class=\"score\" id=\"score_26787376\">319 points</span> by <a href=\"user?id=tambourine_man\" class=\"hnuser\">tambourine_man</a> <span class=\"age\"><a href=\"item?id=26787376\">13 hours ago</a></span> <span id=\"unv_26787376\"></span> | <a href=\"hide?id=26787376&amp;goto=news\">hide</a> | <a href=\"item?id=26787376\">70&nbsp;comments</a>              </td></tr>\n",
      "      <tr class=\"spacer\" style=\"height:5px\"></tr>\n",
      "                <tr class='athing' id='26786810'>\n",
      "      <td align=\"right\" valign=\"top\" class=\"title\"><span class=\"rank\">15.</span></td>      <td valign=\"top\" class=\"votelinks\"><center><a id='up_26786810' href='vote?id=26786810&amp;how=up&amp;goto=news'><div class='votearrow' title='upvote'></div></a></center></td><td class=\"title\"><a href=\"https://www.economist.com/finance-and-economics/2021/04/12/the-war-against-money-laundering-is-being-lost\" class=\"storylink\">The war against money-laundering is being lost</a><span class=\"sitebit comhead\"> (<a href=\"from?site=economist.com\"><span class=\"sitestr\">economist.com</span></a>)</span></td></tr><tr><td colspan=\"2\"></td><td class=\"subtext\">\n",
      "        <span class=\"score\" id=\"score_26786810\">210 points</span> by <a href=\"user?id=pseudolus\" class=\"hnuser\">pseudolus</a> <span class=\"age\"><a href=\"item?id=26786810\">14 hours ago</a></span> <span id=\"unv_26786810\"></span> | <a href=\"hide?id=26786810&amp;goto=news\">hide</a> | <a href=\"item?id=26786810\">175&nbsp;comments</a>              </td></tr>\n",
      "      <tr class=\"spacer\" style=\"height:5px\"></tr>\n",
      "                <tr class='athing' id='26789093'>\n",
      "      <td align=\"right\" valign=\"top\" class=\"title\"><span class=\"rank\">16.</span></td>      <td valign=\"top\" class=\"votelinks\"><center><a id='up_26789093' href='vote?id=26789093&amp;how=up&amp;goto=news'><div class='votearrow' title='upvote'></div></a></center></td><td class=\"title\"><a href=\"https://github.com/opencve/opencve\" class=\"storylink\">CVE Alerting Platform</a><span class=\"sitebit comhead\"> (<a href=\"from?site=github.com/opencve\"><span class=\"sitestr\">github.com/opencve</span></a>)</span></td></tr><tr><td colspan=\"2\"></td><td class=\"subtext\">\n",
      "        <span class=\"score\" id=\"score_26789093\">72 points</span> by <a href=\"user?id=ncrocfer\" class=\"hnuser\">ncrocfer</a> <span class=\"age\"><a href=\"item?id=26789093\">7 hours ago</a></span> <span id=\"unv_26789093\"></span> | <a href=\"hide?id=26789093&amp;goto=news\">hide</a> | <a href=\"item?id=26789093\">14&nbsp;comments</a>              </td></tr>\n",
      "      <tr class=\"spacer\" style=\"height:5px\"></tr>\n",
      "                <tr class='athing' id='26792031'>\n",
      "      <td align=\"right\" valign=\"top\" class=\"title\"><span class=\"rank\">17.</span></td>      <td valign=\"top\" class=\"votelinks\"><center><a id='up_26792031' href='vote?id=26792031&amp;how=up&amp;goto=news'><div class='votearrow' title='upvote'></div></a></center></td><td class=\"title\"><a href=\"https://support.discord.com/hc/en-us/articles/1500005389362-NSFW-Server-Designation\" class=\"storylink\">NSFW Server Designation</a><span class=\"sitebit comhead\"> (<a href=\"from?site=discord.com\"><span class=\"sitestr\">discord.com</span></a>)</span></td></tr><tr><td colspan=\"2\"></td><td class=\"subtext\">\n",
      "        <span class=\"score\" id=\"score_26792031\">211 points</span> by <a href=\"user?id=Mindwipe\" class=\"hnuser\">Mindwipe</a> <span class=\"age\"><a href=\"item?id=26792031\">1 hour ago</a></span> <span id=\"unv_26792031\"></span> | <a href=\"hide?id=26792031&amp;goto=news\">hide</a> | <a href=\"item?id=26792031\">178&nbsp;comments</a>              </td></tr>\n",
      "      <tr class=\"spacer\" style=\"height:5px\"></tr>\n",
      "                <tr class='athing' id='26792621'>\n",
      "      <td align=\"right\" valign=\"top\" class=\"title\"><span class=\"rank\">18.</span></td>      <td valign=\"top\" class=\"votelinks\"><center><a id='up_26792621' href='vote?id=26792621&amp;how=up&amp;goto=news'><div class='votearrow' title='upvote'></div></a></center></td><td class=\"title\"><a href=\"https://www.nytimes.com/live/2021/04/13/business/stock-market-today/new-york-times-tech-workers-form-a-union\" class=\"storylink\">New York Times tech workers form a union</a><span class=\"sitebit comhead\"> (<a href=\"from?site=nytimes.com\"><span class=\"sitestr\">nytimes.com</span></a>)</span></td></tr><tr><td colspan=\"2\"></td><td class=\"subtext\">\n",
      "        <span class=\"score\" id=\"score_26792621\">38 points</span> by <a href=\"user?id=ughitsaaron\" class=\"hnuser\">ughitsaaron</a> <span class=\"age\"><a href=\"item?id=26792621\">49 minutes ago</a></span> <span id=\"unv_26792621\"></span> | <a href=\"hide?id=26792621&amp;goto=news\">hide</a> | <a href=\"item?id=26792621\">34&nbsp;comments</a>              </td></tr>\n",
      "      <tr class=\"spacer\" style=\"height:5px\"></tr>\n",
      "                <tr class='athing' id='26792454'>\n",
      "      <td align=\"right\" valign=\"top\" class=\"title\"><span class=\"rank\">19.</span></td>      <td valign=\"top\" class=\"votelinks\"><center><a id='up_26792454' href='vote?id=26792454&amp;how=up&amp;goto=news'><div class='votearrow' title='upvote'></div></a></center></td><td class=\"title\"><a href=\"https://www.independent.co.uk/news/world/middle-east/iraq-crystal-meth-drugs-epidemic-b1828463.html\" class=\"storylink\">How Iraq’s crystal meth epidemic is ravaging the nation</a><span class=\"sitebit comhead\"> (<a href=\"from?site=independent.co.uk\"><span class=\"sitestr\">independent.co.uk</span></a>)</span></td></tr><tr><td colspan=\"2\"></td><td class=\"subtext\">\n",
      "        <span class=\"score\" id=\"score_26792454\">17 points</span> by <a href=\"user?id=badwetter\" class=\"hnuser\">badwetter</a> <span class=\"age\"><a href=\"item?id=26792454\">1 hour ago</a></span> <span id=\"unv_26792454\"></span> | <a href=\"hide?id=26792454&amp;goto=news\">hide</a> | <a href=\"item?id=26792454\">discuss</a>              </td></tr>\n",
      "      <tr class=\"spacer\" style=\"height:5px\"></tr>\n",
      "                <tr class='athing' id='26777905'>\n",
      "      <td align=\"right\" valign=\"top\" class=\"title\"><span class=\"rank\">20.</span></td>      <td valign=\"top\" class=\"votelinks\"><center><a id='up_26777905' href='vote?id=26777905&amp;how=up&amp;goto=news'><div class='votearrow' title='upvote'></div></a></center></td><td class=\"title\"><a href=\"https://www.theparisreview.org/blog/2018/07/16/how-finland-rebranded-itself-as-a-literary-country/\" class=\"storylink\">How Finland rebranded itself as a literary country (2018)</a><span class=\"sitebit comhead\"> (<a href=\"from?site=theparisreview.org\"><span class=\"sitestr\">theparisreview.org</span></a>)</span></td></tr><tr><td colspan=\"2\"></td><td class=\"subtext\">\n",
      "        <span class=\"score\" id=\"score_26777905\">29 points</span> by <a href=\"user?id=macbookaries\" class=\"hnuser\">macbookaries</a> <span class=\"age\"><a href=\"item?id=26777905\">6 hours ago</a></span> <span id=\"unv_26777905\"></span> | <a href=\"hide?id=26777905&amp;goto=news\">hide</a> | <a href=\"item?id=26777905\">16&nbsp;comments</a>              </td></tr>\n",
      "      <tr class=\"spacer\" style=\"height:5px\"></tr>\n",
      "                <tr class='athing' id='26777800'>\n",
      "      <td align=\"right\" valign=\"top\" class=\"title\"><span class=\"rank\">21.</span></td>      <td valign=\"top\" class=\"votelinks\"><center><a id='up_26777800' href='vote?id=26777800&amp;how=up&amp;goto=news'><div class='votearrow' title='upvote'></div></a></center></td><td class=\"title\"><a href=\"http://members.chello.at/easyfilter/bresenham.html\" class=\"storylink\">The Beauty of Bresenham's Algorithm (2016)</a><span class=\"sitebit comhead\"> (<a href=\"from?site=members.chello.at\"><span class=\"sitestr\">members.chello.at</span></a>)</span></td></tr><tr><td colspan=\"2\"></td><td class=\"subtext\">\n",
      "        <span class=\"score\" id=\"score_26777800\">46 points</span> by <a href=\"user?id=ingve\" class=\"hnuser\">ingve</a> <span class=\"age\"><a href=\"item?id=26777800\">7 hours ago</a></span> <span id=\"unv_26777800\"></span> | <a href=\"hide?id=26777800&amp;goto=news\">hide</a> | <a href=\"item?id=26777800\">7&nbsp;comments</a>              </td></tr>\n",
      "      <tr class=\"spacer\" style=\"height:5px\"></tr>\n",
      "                <tr class='athing' id='26777977'>\n",
      "      <td align=\"right\" valign=\"top\" class=\"title\"><span class=\"rank\">22.</span></td>      <td valign=\"top\" class=\"votelinks\"><center><a id='up_26777977' href='vote?id=26777977&amp;how=up&amp;goto=news'><div class='votearrow' title='upvote'></div></a></center></td><td class=\"title\"><a href=\"https://www.mipmip.org/tidbits/pasa.pdf\" class=\"storylink\">Pessimal Algorithms and Simplexity Analysis [pdf]</a><span class=\"sitebit comhead\"> (<a href=\"from?site=mipmip.org\"><span class=\"sitestr\">mipmip.org</span></a>)</span></td></tr><tr><td colspan=\"2\"></td><td class=\"subtext\">\n",
      "        <span class=\"score\" id=\"score_26777977\">31 points</span> by <a href=\"user?id=belter\" class=\"hnuser\">belter</a> <span class=\"age\"><a href=\"item?id=26777977\">6 hours ago</a></span> <span id=\"unv_26777977\"></span> | <a href=\"hide?id=26777977&amp;goto=news\">hide</a> | <a href=\"item?id=26777977\">6&nbsp;comments</a>              </td></tr>\n",
      "      <tr class=\"spacer\" style=\"height:5px\"></tr>\n",
      "                <tr class='athing' id='26786838'>\n",
      "      <td align=\"right\" valign=\"top\" class=\"title\"><span class=\"rank\">23.</span></td>      <td valign=\"top\" class=\"votelinks\"><center><a id='up_26786838' href='vote?id=26786838&amp;how=up&amp;goto=news'><div class='votearrow' title='upvote'></div></a></center></td><td class=\"title\"><a href=\"https://www.accuweather.com/en/severe-weather/historians-pinpoint-the-very-worst-year-to-ever-be-alive/927803\" class=\"storylink\">Skies went dark: Historians pinpoint the 'worst year' ever to be alive</a><span class=\"sitebit comhead\"> (<a href=\"from?site=accuweather.com\"><span class=\"sitestr\">accuweather.com</span></a>)</span></td></tr><tr><td colspan=\"2\"></td><td class=\"subtext\">\n",
      "        <span class=\"score\" id=\"score_26786838\">118 points</span> by <a href=\"user?id=pseudolus\" class=\"hnuser\">pseudolus</a> <span class=\"age\"><a href=\"item?id=26786838\">14 hours ago</a></span> <span id=\"unv_26786838\"></span> | <a href=\"hide?id=26786838&amp;goto=news\">hide</a> | <a href=\"item?id=26786838\">103&nbsp;comments</a>              </td></tr>\n",
      "      <tr class=\"spacer\" style=\"height:5px\"></tr>\n",
      "                <tr class='athing' id='26789525'>\n",
      "      <td align=\"right\" valign=\"top\" class=\"title\"><span class=\"rank\">24.</span></td>      <td valign=\"top\" class=\"votelinks\"><center><a id='up_26789525' href='vote?id=26789525&amp;how=up&amp;goto=news'><div class='votearrow' title='upvote'></div></a></center></td><td class=\"title\"><a href=\"https://www.baseclass.io/guides/string-handling-modern-js\" class=\"storylink\">The complete guide to working with strings in modern JavaScript</a><span class=\"sitebit comhead\"> (<a href=\"from?site=baseclass.io\"><span class=\"sitestr\">baseclass.io</span></a>)</span></td></tr><tr><td colspan=\"2\"></td><td class=\"subtext\">\n",
      "        <span class=\"score\" id=\"score_26789525\">24 points</span> by <a href=\"user?id=davethedevguy\" class=\"hnuser\">davethedevguy</a> <span class=\"age\"><a href=\"item?id=26789525\">7 hours ago</a></span> <span id=\"unv_26789525\"></span> | <a href=\"hide?id=26789525&amp;goto=news\">hide</a> | <a href=\"item?id=26789525\">6&nbsp;comments</a>              </td></tr>\n",
      "      <tr class=\"spacer\" style=\"height:5px\"></tr>\n",
      "                <tr class='athing' id='26786932'>\n",
      "      <td align=\"right\" valign=\"top\" class=\"title\"><span class=\"rank\">25.</span></td>      <td valign=\"top\" class=\"votelinks\"><center><a id='up_26786932' href='vote?id=26786932&amp;how=up&amp;goto=news'><div class='votearrow' title='upvote'></div></a></center></td><td class=\"title\"><a href=\"https://www.nytimes.com/2021/04/05/science/ants-wilson-photography-niga-rice.html\" class=\"storylink\">Let us now praise tiny ants</a><span class=\"sitebit comhead\"> (<a href=\"from?site=nytimes.com\"><span class=\"sitestr\">nytimes.com</span></a>)</span></td></tr><tr><td colspan=\"2\"></td><td class=\"subtext\">\n",
      "        <span class=\"score\" id=\"score_26786932\">85 points</span> by <a href=\"user?id=Hooke\" class=\"hnuser\">Hooke</a> <span class=\"age\"><a href=\"item?id=26786932\">13 hours ago</a></span> <span id=\"unv_26786932\"></span> | <a href=\"hide?id=26786932&amp;goto=news\">hide</a> | <a href=\"item?id=26786932\">54&nbsp;comments</a>              </td></tr>\n",
      "      <tr class=\"spacer\" style=\"height:5px\"></tr>\n",
      "                <tr class='athing' id='26786326'>\n",
      "      <td align=\"right\" valign=\"top\" class=\"title\"><span class=\"rank\">26.</span></td>      <td valign=\"top\" class=\"votelinks\"><center><a id='up_26786326' href='vote?id=26786326&amp;how=up&amp;goto=news'><div class='votearrow' title='upvote'></div></a></center></td><td class=\"title\"><a href=\"https://github.com/r4j0x00/exploits/commit/7ba55e5ab034d05877498e83f144e187d3ddb160\" class=\"storylink\">Chrome zero-day released on GitHub (fixed on V8 but still works on latest)</a><span class=\"sitebit comhead\"> (<a href=\"from?site=github.com/r4j0x00\"><span class=\"sitestr\">github.com/r4j0x00</span></a>)</span></td></tr><tr><td colspan=\"2\"></td><td class=\"subtext\">\n",
      "        <span class=\"score\" id=\"score_26786326\">377 points</span> by <a href=\"user?id=alpb\" class=\"hnuser\">alpb</a> <span class=\"age\"><a href=\"item?id=26786326\">16 hours ago</a></span> <span id=\"unv_26786326\"></span> | <a href=\"hide?id=26786326&amp;goto=news\">hide</a> | <a href=\"item?id=26786326\">140&nbsp;comments</a>              </td></tr>\n",
      "      <tr class=\"spacer\" style=\"height:5px\"></tr>\n",
      "                <tr class='athing' id='26786264'>\n",
      "      <td align=\"right\" valign=\"top\" class=\"title\"><span class=\"rank\">27.</span></td>      <td valign=\"top\" class=\"votelinks\"><center><a id='up_26786264' href='vote?id=26786264&amp;how=up&amp;goto=news'><div class='votearrow' title='upvote'></div></a></center></td><td class=\"title\"><a href=\"https://www.reuters.com/article/us-usa-semiconductors-idUSKBN2BZ2C4\" class=\"storylink\">CEO: Intel in talks to produce chips for automakers within six to nine months</a><span class=\"sitebit comhead\"> (<a href=\"from?site=reuters.com\"><span class=\"sitestr\">reuters.com</span></a>)</span></td></tr><tr><td colspan=\"2\"></td><td class=\"subtext\">\n",
      "        <span class=\"score\" id=\"score_26786264\">285 points</span> by <a href=\"user?id=alexrustic\" class=\"hnuser\">alexrustic</a> <span class=\"age\"><a href=\"item?id=26786264\">16 hours ago</a></span> <span id=\"unv_26786264\"></span> | <a href=\"hide?id=26786264&amp;goto=news\">hide</a> | <a href=\"item?id=26786264\">195&nbsp;comments</a>              </td></tr>\n",
      "      <tr class=\"spacer\" style=\"height:5px\"></tr>\n",
      "                <tr class='athing' id='26776927'>\n",
      "      <td align=\"right\" valign=\"top\" class=\"title\"><span class=\"rank\">28.</span></td>      <td valign=\"top\" class=\"votelinks\"><center><a id='up_26776927' href='vote?id=26776927&amp;how=up&amp;goto=news'><div class='votearrow' title='upvote'></div></a></center></td><td class=\"title\"><a href=\"http://www.kunstderfuge.com/\" class=\"storylink\">Kunst Der Fuge Collection – Free Classical MIDI Files</a><span class=\"sitebit comhead\"> (<a href=\"from?site=kunstderfuge.com\"><span class=\"sitestr\">kunstderfuge.com</span></a>)</span></td></tr><tr><td colspan=\"2\"></td><td class=\"subtext\">\n",
      "        <span class=\"score\" id=\"score_26776927\">68 points</span> by <a href=\"user?id=eternalban\" class=\"hnuser\">eternalban</a> <span class=\"age\"><a href=\"item?id=26776927\">12 hours ago</a></span> <span id=\"unv_26776927\"></span> | <a href=\"hide?id=26776927&amp;goto=news\">hide</a> | <a href=\"item?id=26776927\">26&nbsp;comments</a>              </td></tr>\n",
      "      <tr class=\"spacer\" style=\"height:5px\"></tr>\n",
      "                <tr class='athing' id='26787472'>\n",
      "      <td align=\"right\" valign=\"top\" class=\"title\"><span class=\"rank\">29.</span></td>      <td valign=\"top\" class=\"votelinks\"><center><a id='up_26787472' href='vote?id=26787472&amp;how=up&amp;goto=news'><div class='votearrow' title='upvote'></div></a></center></td><td class=\"title\"><a href=\"https://www.quantamagazine.org/mathematician-disproves-group-algebra-unit-conjecture-20210412/\" class=\"storylink\">Mathematician Disproves 80-Year-Old Algebra Conjecture</a><span class=\"sitebit comhead\"> (<a href=\"from?site=quantamagazine.org\"><span class=\"sitestr\">quantamagazine.org</span></a>)</span></td></tr><tr><td colspan=\"2\"></td><td class=\"subtext\">\n",
      "        <span class=\"score\" id=\"score_26787472\">90 points</span> by <a href=\"user?id=pseudolus\" class=\"hnuser\">pseudolus</a> <span class=\"age\"><a href=\"item?id=26787472\">13 hours ago</a></span> <span id=\"unv_26787472\"></span> | <a href=\"hide?id=26787472&amp;goto=news\">hide</a> | <a href=\"item?id=26787472\">7&nbsp;comments</a>              </td></tr>\n",
      "      <tr class=\"spacer\" style=\"height:5px\"></tr>\n",
      "                <tr class='athing' id='26787654'>\n",
      "      <td align=\"right\" valign=\"top\" class=\"title\"><span class=\"rank\">30.</span></td>      <td valign=\"top\" class=\"votelinks\"><center><a id='up_26787654' href='vote?id=26787654&amp;how=up&amp;goto=news'><div class='votearrow' title='upvote'></div></a></center></td><td class=\"title\"><a href=\"https://keenen.xyz/just-be-rich/\" class=\"storylink\">Just Be Rich</a><span class=\"sitebit comhead\"> (<a href=\"from?site=keenen.xyz\"><span class=\"sitestr\">keenen.xyz</span></a>)</span></td></tr><tr><td colspan=\"2\"></td><td class=\"subtext\">\n",
      "        <span class=\"score\" id=\"score_26787654\">1575 points</span> by <a href=\"user?id=kjcharles\" class=\"hnuser\">kjcharles</a> <span class=\"age\"><a href=\"item?id=26787654\">12 hours ago</a></span> <span id=\"unv_26787654\"></span> | <a href=\"hide?id=26787654&amp;goto=news\">hide</a> | <a href=\"item?id=26787654\">799&nbsp;comments</a>              </td></tr>\n",
      "      <tr class=\"spacer\" style=\"height:5px\"></tr>\n",
      "            <tr class=\"morespace\" style=\"height:10px\"></tr><tr><td colspan=\"2\"></td><td class=\"title\"><a href=\"news?p=2\" class=\"morelink\" rel=\"next\">More</a></td></tr>\n",
      "  </table>\n",
      "</td></tr>\n",
      "<tr><td><img src=\"s.gif\" height=\"10\" width=\"0\"><table width=\"100%\" cellspacing=\"0\" cellpadding=\"1\"><tr><td bgcolor=\"#ff6600\"></td></tr></table><br><center><span class=\"yclinks\"><a href=\"newsguidelines.html\">Guidelines</a>\n",
      "        | <a href=\"newsfaq.html\">FAQ</a>\n",
      "        | <a href=\"lists\">Lists</a>\n",
      "        | <a href=\"https://github.com/HackerNews/API\">API</a>\n",
      "        | <a href=\"security.html\">Security</a>\n",
      "        | <a href=\"http://www.ycombinator.com/legal/\">Legal</a>\n",
      "        | <a href=\"http://www.ycombinator.com/apply/\">Apply to YC</a>\n",
      "        | <a href=\"mailto:hn@ycombinator.com\">Contact</a></span><br><br><form method=\"get\" action=\"//hn.algolia.com/\">Search:\n",
      "          <input type=\"text\" name=\"q\" value=\"\" size=\"17\" autocorrect=\"off\" spellcheck=\"false\" autocapitalize=\"off\" autocomplete=\"false\"></form>\n",
      "            </center></td></tr>\n",
      "      </table></center></body><script type='text/javascript' src='hn.js?ByzR2VCazcHqBPYc6t4C'></script></html>\n",
      "\n"
     ]
    }
   ],
   "source": [
    "import requests\n",
    "\n",
    "# Fetch a web page\n",
    "r = requests.get(\"https://news.ycombinator.com\")\n",
    "print(r.text)"
   ]
  },
  {
   "cell_type": "code",
   "execution_count": 9,
   "metadata": {},
   "outputs": [
    {
     "name": "stdout",
     "output_type": "stream",
     "text": [
      "\n",
      "        \n",
      "          \n",
      "        Hacker News\n",
      "        \n",
      "                  Hacker News\n",
      "              new | past | comments | ask | show | jobs | submit            \n",
      "                              login\n",
      "                          \n",
      "              \n",
      "\n",
      "              \n",
      "      1.      Show HN: DeepHN – Full-text search of 30M Hacker News posts and linked webpages (deephn.org)\n",
      "        169 points by wolfgarbe 2 hours ago  | hide | 51&nbsp;comments              \n",
      "      \n",
      "                \n",
      "      2.      School custodian refuses to download app that monitors location, got her fired (cbc.ca)\n",
      "        37 points by docdeek 2 hours ago  | hide | 9&nbsp;comments              \n",
      "      \n",
      "                \n",
      "      3.      My startup failed, then I found out I was unemployable (davesullivan.is)\n",
      "        116 points by dave_sullivan 34 minutes ago  | hide | 88&nbsp;comments              \n",
      "      \n",
      "                \n",
      "      4.      Tracking Users Across the Web via TLS Session Resumption (2018) [pdf] (uni-hamburg.de)\n",
      "        34 points by Tomte 3 hours ago  | hide | 3&nbsp;comments              \n",
      "      \n",
      "                \n",
      "      5.      How many Devices can you Connect to the I2C Bus? (bluedot.space)\n",
      "        67 points by drmacak 3 hours ago  | hide | 37&nbsp;comments              \n",
      "      \n",
      "                \n",
      "      6.      Natto.dev – A Canvas for JavaScript (natto.dev)\n",
      "        148 points by stigi 5 hours ago  | hide | 45&nbsp;comments              \n",
      "      \n",
      "                \n",
      "      7.      The True Meaning of Technical Debt (2020) (refactoring.fm)\n",
      "        129 points by srijan4 3 hours ago  | hide | 77&nbsp;comments              \n",
      "      \n",
      "                \n",
      "      8.      Kaboom – JavaScript game programming library and environment (replit.com)\n",
      "        174 points by kiyanwang 7 hours ago  | hide | 52&nbsp;comments              \n",
      "      \n",
      "                \n",
      "      9.      US agencies call for pause in Johnson & Johnson vaccine (bbc.co.uk)\n",
      "        92 points by kjakm 3 hours ago  | hide | 156&nbsp;comments              \n",
      "      \n",
      "                \n",
      "      10.      Inside PayPal (2010) (paulgraham.com)\n",
      "        109 points by prakhargurunani 7 hours ago  | hide | 22&nbsp;comments              \n",
      "      \n",
      "                \n",
      "      11.      The Dawn of a new Command Line Interface (2017) (arcan-fe.com)\n",
      "        76 points by harporoeder 4 hours ago  | hide | 59&nbsp;comments              \n",
      "      \n",
      "                \n",
      "      12.      Submarine Sleepovers (aimmuseum.org)\n",
      "        11 points by RickJWagner 2 hours ago  | hide | 4&nbsp;comments              \n",
      "      \n",
      "                \n",
      "      13.      Streak (YC S11) looking for a senior front end engineer (remote only) (streak.com)\n",
      "        3 hours ago | hide      \n",
      "      \n",
      "                \n",
      "      14.      Gitlet.js – Git implemented in 1k lines of JavaScript (2015) (maryrosecook.com)\n",
      "        319 points by tambourine_man 13 hours ago  | hide | 70&nbsp;comments              \n",
      "      \n",
      "                \n",
      "      15.      The war against money-laundering is being lost (economist.com)\n",
      "        210 points by pseudolus 14 hours ago  | hide | 175&nbsp;comments              \n",
      "      \n",
      "                \n",
      "      16.      CVE Alerting Platform (github.com/opencve)\n",
      "        72 points by ncrocfer 7 hours ago  | hide | 14&nbsp;comments              \n",
      "      \n",
      "                \n",
      "      17.      NSFW Server Designation (discord.com)\n",
      "        211 points by Mindwipe 1 hour ago  | hide | 178&nbsp;comments              \n",
      "      \n",
      "                \n",
      "      18.      New York Times tech workers form a union (nytimes.com)\n",
      "        38 points by ughitsaaron 49 minutes ago  | hide | 34&nbsp;comments              \n",
      "      \n",
      "                \n",
      "      19.      How Iraq’s crystal meth epidemic is ravaging the nation (independent.co.uk)\n",
      "        17 points by badwetter 1 hour ago  | hide | discuss              \n",
      "      \n",
      "                \n",
      "      20.      How Finland rebranded itself as a literary country (2018) (theparisreview.org)\n",
      "        29 points by macbookaries 6 hours ago  | hide | 16&nbsp;comments              \n",
      "      \n",
      "                \n",
      "      21.      The Beauty of Bresenham's Algorithm (2016) (members.chello.at)\n",
      "        46 points by ingve 7 hours ago  | hide | 7&nbsp;comments              \n",
      "      \n",
      "                \n",
      "      22.      Pessimal Algorithms and Simplexity Analysis [pdf] (mipmip.org)\n",
      "        31 points by belter 6 hours ago  | hide | 6&nbsp;comments              \n",
      "      \n",
      "                \n",
      "      23.      Skies went dark: Historians pinpoint the 'worst year' ever to be alive (accuweather.com)\n",
      "        118 points by pseudolus 14 hours ago  | hide | 103&nbsp;comments              \n",
      "      \n",
      "                \n",
      "      24.      The complete guide to working with strings in modern JavaScript (baseclass.io)\n",
      "        24 points by davethedevguy 7 hours ago  | hide | 6&nbsp;comments              \n",
      "      \n",
      "                \n",
      "      25.      Let us now praise tiny ants (nytimes.com)\n",
      "        85 points by Hooke 13 hours ago  | hide | 54&nbsp;comments              \n",
      "      \n",
      "                \n",
      "      26.      Chrome zero-day released on GitHub (fixed on V8 but still works on latest) (github.com/r4j0x00)\n",
      "        377 points by alpb 16 hours ago  | hide | 140&nbsp;comments              \n",
      "      \n",
      "                \n",
      "      27.      CEO: Intel in talks to produce chips for automakers within six to nine months (reuters.com)\n",
      "        285 points by alexrustic 16 hours ago  | hide | 195&nbsp;comments              \n",
      "      \n",
      "                \n",
      "      28.      Kunst Der Fuge Collection – Free Classical MIDI Files (kunstderfuge.com)\n",
      "        68 points by eternalban 12 hours ago  | hide | 26&nbsp;comments              \n",
      "      \n",
      "                \n",
      "      29.      Mathematician Disproves 80-Year-Old Algebra Conjecture (quantamagazine.org)\n",
      "        90 points by pseudolus 13 hours ago  | hide | 7&nbsp;comments              \n",
      "      \n",
      "                \n",
      "      30.      Just Be Rich (keenen.xyz)\n",
      "        1575 points by kjcharles 12 hours ago  | hide | 799&nbsp;comments              \n",
      "      \n",
      "            More\n",
      "  \n",
      "\n",
      "Guidelines\n",
      "        | FAQ\n",
      "        | Lists\n",
      "        | API\n",
      "        | Security\n",
      "        | Legal\n",
      "        | Apply to YC\n",
      "        | ContactSearch:\n",
      "          \n",
      "            \n",
      "      \n",
      "\n"
     ]
    }
   ],
   "source": [
    "import re\n",
    "\n",
    "# Remove HTML tags using RegEx\n",
    "pattern = re.compile(r'<.*?>')\n",
    "print(pattern.sub('', r.text))"
   ]
  },
  {
   "cell_type": "code",
   "execution_count": 10,
   "metadata": {},
   "outputs": [
    {
     "name": "stdout",
     "output_type": "stream",
     "text": [
      "\n",
      "        \n",
      "          \n",
      "        Hacker News\n",
      "        \n",
      "                  Hacker News\n",
      "              new | past | comments | ask | show | jobs | submit            \n",
      "                              login\n",
      "                          \n",
      "              \n",
      "\n",
      "              \n",
      "      1.      Show HN: DeepHN – Full-text search of 30M Hacker News posts and linked webpages (deephn.org)\n",
      "        169 points by wolfgarbe 2 hours ago  | hide | 51 comments              \n",
      "      \n",
      "                \n",
      "      2.      School custodian refuses to download app that monitors location, got her fired (cbc.ca)\n",
      "        37 points by docdeek 2 hours ago  | hide | 9 comments              \n",
      "      \n",
      "                \n",
      "      3.      My startup failed, then I found out I was unemployable (davesullivan.is)\n",
      "        116 points by dave_sullivan 34 minutes ago  | hide | 88 comments              \n",
      "      \n",
      "                \n",
      "      4.      Tracking Users Across the Web via TLS Session Resumption (2018) [pdf] (uni-hamburg.de)\n",
      "        34 points by Tomte 3 hours ago  | hide | 3 comments              \n",
      "      \n",
      "                \n",
      "      5.      How many Devices can you Connect to the I2C Bus? (bluedot.space)\n",
      "        67 points by drmacak 3 hours ago  | hide | 37 comments              \n",
      "      \n",
      "                \n",
      "      6.      Natto.dev – A Canvas for JavaScript (natto.dev)\n",
      "        148 points by stigi 5 hours ago  | hide | 45 comments              \n",
      "      \n",
      "                \n",
      "      7.      The True Meaning of Technical Debt (2020) (refactoring.fm)\n",
      "        129 points by srijan4 3 hours ago  | hide | 77 comments              \n",
      "      \n",
      "                \n",
      "      8.      Kaboom – JavaScript game programming library and environment (replit.com)\n",
      "        174 points by kiyanwang 7 hours ago  | hide | 52 comments              \n",
      "      \n",
      "                \n",
      "      9.      US agencies call for pause in Johnson & Johnson vaccine (bbc.co.uk)\n",
      "        92 points by kjakm 3 hours ago  | hide | 156 comments              \n",
      "      \n",
      "                \n",
      "      10.      Inside PayPal (2010) (paulgraham.com)\n",
      "        109 points by prakhargurunani 7 hours ago  | hide | 22 comments              \n",
      "      \n",
      "                \n",
      "      11.      The Dawn of a new Command Line Interface (2017) (arcan-fe.com)\n",
      "        76 points by harporoeder 4 hours ago  | hide | 59 comments              \n",
      "      \n",
      "                \n",
      "      12.      Submarine Sleepovers (aimmuseum.org)\n",
      "        11 points by RickJWagner 2 hours ago  | hide | 4 comments              \n",
      "      \n",
      "                \n",
      "      13.      Streak (YC S11) looking for a senior front end engineer (remote only) (streak.com)\n",
      "        3 hours ago | hide      \n",
      "      \n",
      "                \n",
      "      14.      Gitlet.js – Git implemented in 1k lines of JavaScript (2015) (maryrosecook.com)\n",
      "        319 points by tambourine_man 13 hours ago  | hide | 70 comments              \n",
      "      \n",
      "                \n",
      "      15.      The war against money-laundering is being lost (economist.com)\n",
      "        210 points by pseudolus 14 hours ago  | hide | 175 comments              \n",
      "      \n",
      "                \n",
      "      16.      CVE Alerting Platform (github.com/opencve)\n",
      "        72 points by ncrocfer 7 hours ago  | hide | 14 comments              \n",
      "      \n",
      "                \n",
      "      17.      NSFW Server Designation (discord.com)\n",
      "        211 points by Mindwipe 1 hour ago  | hide | 178 comments              \n",
      "      \n",
      "                \n",
      "      18.      New York Times tech workers form a union (nytimes.com)\n",
      "        38 points by ughitsaaron 49 minutes ago  | hide | 34 comments              \n",
      "      \n",
      "                \n",
      "      19.      How Iraq’s crystal meth epidemic is ravaging the nation (independent.co.uk)\n",
      "        17 points by badwetter 1 hour ago  | hide | discuss              \n",
      "      \n",
      "                \n",
      "      20.      How Finland rebranded itself as a literary country (2018) (theparisreview.org)\n",
      "        29 points by macbookaries 6 hours ago  | hide | 16 comments              \n",
      "      \n",
      "                \n",
      "      21.      The Beauty of Bresenham's Algorithm (2016) (members.chello.at)\n",
      "        46 points by ingve 7 hours ago  | hide | 7 comments              \n",
      "      \n",
      "                \n",
      "      22.      Pessimal Algorithms and Simplexity Analysis [pdf] (mipmip.org)\n",
      "        31 points by belter 6 hours ago  | hide | 6 comments              \n",
      "      \n",
      "                \n",
      "      23.      Skies went dark: Historians pinpoint the 'worst year' ever to be alive (accuweather.com)\n",
      "        118 points by pseudolus 14 hours ago  | hide | 103 comments              \n",
      "      \n",
      "                \n",
      "      24.      The complete guide to working with strings in modern JavaScript (baseclass.io)\n",
      "        24 points by davethedevguy 7 hours ago  | hide | 6 comments              \n",
      "      \n",
      "                \n",
      "      25.      Let us now praise tiny ants (nytimes.com)\n",
      "        85 points by Hooke 13 hours ago  | hide | 54 comments              \n",
      "      \n",
      "                \n",
      "      26.      Chrome zero-day released on GitHub (fixed on V8 but still works on latest) (github.com/r4j0x00)\n",
      "        377 points by alpb 16 hours ago  | hide | 140 comments              \n",
      "      \n",
      "                \n",
      "      27.      CEO: Intel in talks to produce chips for automakers within six to nine months (reuters.com)\n",
      "        285 points by alexrustic 16 hours ago  | hide | 195 comments              \n",
      "      \n",
      "                \n",
      "      28.      Kunst Der Fuge Collection – Free Classical MIDI Files (kunstderfuge.com)\n",
      "        68 points by eternalban 12 hours ago  | hide | 26 comments              \n",
      "      \n",
      "                \n",
      "      29.      Mathematician Disproves 80-Year-Old Algebra Conjecture (quantamagazine.org)\n",
      "        90 points by pseudolus 13 hours ago  | hide | 7 comments              \n",
      "      \n",
      "                \n",
      "      30.      Just Be Rich (keenen.xyz)\n",
      "        1575 points by kjcharles 12 hours ago  | hide | 799 comments              \n",
      "      \n",
      "            More\n",
      "  \n",
      "\n",
      "Guidelines\n",
      "        | FAQ\n",
      "        | Lists\n",
      "        | API\n",
      "        | Security\n",
      "        | Legal\n",
      "        | Apply to YC\n",
      "        | ContactSearch:\n",
      "          \n",
      "            \n",
      "      \n",
      "\n"
     ]
    }
   ],
   "source": [
    "from bs4 import BeautifulSoup\n",
    "\n",
    "soup = BeautifulSoup(r.text, \"html5lib\")\n",
    "print(soup.get_text())"
   ]
  },
  {
   "cell_type": "code",
   "execution_count": 11,
   "metadata": {},
   "outputs": [
    {
     "data": {
      "text/plain": [
       "<tr class=\"athing\" id=\"26791582\">\n",
       "      <td align=\"right\" class=\"title\" valign=\"top\"><span class=\"rank\">1.</span></td>      <td class=\"votelinks\" valign=\"top\"><center><a href=\"vote?id=26791582&amp;how=up&amp;goto=news\" id=\"up_26791582\"><div class=\"votearrow\" title=\"upvote\"></div></a></center></td><td class=\"title\"><a class=\"storylink\" href=\"https://deephn.org\">Show HN: DeepHN – Full-text search of 30M Hacker News posts and linked webpages</a><span class=\"sitebit comhead\"> (<a href=\"from?site=deephn.org\"><span class=\"sitestr\">deephn.org</span></a>)</span></td></tr>"
      ]
     },
     "execution_count": 11,
     "metadata": {},
     "output_type": "execute_result"
    }
   ],
   "source": [
    "# Find all articles\n",
    "summaries = soup.find_all(\"tr\", class_=\"athing\")\n",
    "summaries[0]"
   ]
  },
  {
   "cell_type": "code",
   "execution_count": 12,
   "metadata": {},
   "outputs": [
    {
     "data": {
      "text/plain": [
       "'Show HN: DeepHN – Full-text search of 30M Hacker News posts and linked webpages'"
      ]
     },
     "execution_count": 12,
     "metadata": {},
     "output_type": "execute_result"
    }
   ],
   "source": [
    "summaries[0].find(\"a\", class_=\"storylink\").get_text().strip()"
   ]
  },
  {
   "cell_type": "code",
   "execution_count": 14,
   "metadata": {},
   "outputs": [
    {
     "name": "stdout",
     "output_type": "stream",
     "text": [
      "30\n",
      "Show HN: DeepHN – Full-text search of 30M Hacker News posts and linked webpages\n"
     ]
    }
   ],
   "source": [
    "# Find all articles\n",
    "articles = []\n",
    "summaries = soup.find_all('tr', class_=\"athing\")\n",
    "for summary in summaries:\n",
    "    title = summary.find(\"a\", class_=\"storylink\").get_text().strip()\n",
    "    articles.append(title)\n",
    "\n",
    "print(len(articles))    \n",
    "print(articles[0])    "
   ]
  },
  {
   "cell_type": "markdown",
   "metadata": {},
   "source": [
    "### Normalization"
   ]
  },
  {
   "cell_type": "code",
   "execution_count": 15,
   "metadata": {},
   "outputs": [
    {
     "name": "stdout",
     "output_type": "stream",
     "text": [
      "The first time you see The Second Renaissance it may look boring. Look at it at least twice and definitely watch part 2. It will change your view of the matrix. Are the human people the ones who started the war ? Is AI a bad thing ?\n"
     ]
    }
   ],
   "source": [
    "# Sample text\n",
    "text = \"The first time you see The Second Renaissance it may look boring. Look at it at least twice and definitely watch part 2. It will change your view of the matrix. Are the human people the ones who started the war ? Is AI a bad thing ?\"\n",
    "print(text)"
   ]
  },
  {
   "cell_type": "code",
   "execution_count": 16,
   "metadata": {},
   "outputs": [
    {
     "name": "stdout",
     "output_type": "stream",
     "text": [
      "the first time you see the second renaissance it may look boring. look at it at least twice and definitely watch part 2. it will change your view of the matrix. are the human people the ones who started the war ? is ai a bad thing ?\n"
     ]
    }
   ],
   "source": [
    "# Convert to lowercase\n",
    "text = text.lower()\n",
    "print(text)"
   ]
  },
  {
   "cell_type": "markdown",
   "metadata": {},
   "source": [
    "### Punctuation Removal"
   ]
  },
  {
   "cell_type": "code",
   "execution_count": 17,
   "metadata": {},
   "outputs": [
    {
     "name": "stdout",
     "output_type": "stream",
     "text": [
      "the first time you see the second renaissance it may look boring  look at it at least twice and definitely watch part 2  it will change your view of the matrix  are the human people the ones who started the war   is ai a bad thing  \n"
     ]
    }
   ],
   "source": [
    "text = re.sub(r'[^a-z0-9A-Z]', \" \", text)\n",
    "print(text)"
   ]
  },
  {
   "cell_type": "markdown",
   "metadata": {},
   "source": [
    "### Tokenization"
   ]
  },
  {
   "cell_type": "code",
   "execution_count": 18,
   "metadata": {},
   "outputs": [
    {
     "name": "stdout",
     "output_type": "stream",
     "text": [
      "['the', 'first', 'time', 'you', 'see', 'the', 'second', 'renaissance', 'it', 'may', 'look', 'boring', 'look', 'at', 'it', 'at', 'least', 'twice', 'and', 'definitely', 'watch', 'part', '2', 'it', 'will', 'change', 'your', 'view', 'of', 'the', 'matrix', 'are', 'the', 'human', 'people', 'the', 'ones', 'who', 'started', 'the', 'war', 'is', 'ai', 'a', 'bad', 'thing']\n"
     ]
    }
   ],
   "source": [
    "words = text.split()\n",
    "print(words)"
   ]
  },
  {
   "cell_type": "markdown",
   "metadata": {},
   "source": [
    "### NLTK"
   ]
  },
  {
   "cell_type": "code",
   "execution_count": 19,
   "metadata": {},
   "outputs": [],
   "source": [
    "import os\n",
    "import nltk\n",
    "nltk.data.path.append(os.path.join(os.getcwd(), \"nltk_data\"))"
   ]
  },
  {
   "cell_type": "code",
   "execution_count": 20,
   "metadata": {},
   "outputs": [
    {
     "name": "stdout",
     "output_type": "stream",
     "text": [
      "Dr. Smith graduated from the University of Washington. He later started an analytics firm called Lux, which catered to enterprise customers.\n"
     ]
    }
   ],
   "source": [
    "# Another sample text\n",
    "text = \"Dr. Smith graduated from the University of Washington. He later started an analytics firm called Lux, which catered to enterprise customers.\"\n",
    "print(text)"
   ]
  },
  {
   "cell_type": "code",
   "execution_count": 21,
   "metadata": {},
   "outputs": [
    {
     "name": "stdout",
     "output_type": "stream",
     "text": [
      "['Dr.', 'Smith', 'graduated', 'from', 'the', 'University', 'of', 'Washington', '.', 'He', 'later', 'started', 'an', 'analytics', 'firm', 'called', 'Lux', ',', 'which', 'catered', 'to', 'enterprise', 'customers', '.']\n"
     ]
    }
   ],
   "source": [
    "from nltk.tokenize import word_tokenize\n",
    "\n",
    "# Split text into words using NLTK\n",
    "words = word_tokenize(text)\n",
    "print(words)"
   ]
  },
  {
   "cell_type": "code",
   "execution_count": 22,
   "metadata": {},
   "outputs": [
    {
     "name": "stdout",
     "output_type": "stream",
     "text": [
      "['Dr. Smith graduated from the University of Washington.', 'He later started an analytics firm called Lux, which catered to enterprise customers.']\n"
     ]
    }
   ],
   "source": [
    "from nltk.tokenize import sent_tokenize\n",
    "\n",
    "# Split text into sentences\n",
    "sentences = sent_tokenize(text)\n",
    "print(sentences)"
   ]
  },
  {
   "cell_type": "code",
   "execution_count": 23,
   "metadata": {},
   "outputs": [
    {
     "name": "stdout",
     "output_type": "stream",
     "text": [
      "['i', 'me', 'my', 'myself', 'we', 'our', 'ours', 'ourselves', 'you', \"you're\", \"you've\", \"you'll\", \"you'd\", 'your', 'yours', 'yourself', 'yourselves', 'he', 'him', 'his', 'himself', 'she', \"she's\", 'her', 'hers', 'herself', 'it', \"it's\", 'its', 'itself', 'they', 'them', 'their', 'theirs', 'themselves', 'what', 'which', 'who', 'whom', 'this', 'that', \"that'll\", 'these', 'those', 'am', 'is', 'are', 'was', 'were', 'be', 'been', 'being', 'have', 'has', 'had', 'having', 'do', 'does', 'did', 'doing', 'a', 'an', 'the', 'and', 'but', 'if', 'or', 'because', 'as', 'until', 'while', 'of', 'at', 'by', 'for', 'with', 'about', 'against', 'between', 'into', 'through', 'during', 'before', 'after', 'above', 'below', 'to', 'from', 'up', 'down', 'in', 'out', 'on', 'off', 'over', 'under', 'again', 'further', 'then', 'once', 'here', 'there', 'when', 'where', 'why', 'how', 'all', 'any', 'both', 'each', 'few', 'more', 'most', 'other', 'some', 'such', 'no', 'nor', 'not', 'only', 'own', 'same', 'so', 'than', 'too', 'very', 's', 't', 'can', 'will', 'just', 'don', \"don't\", 'should', \"should've\", 'now', 'd', 'll', 'm', 'o', 're', 've', 'y', 'ain', 'aren', \"aren't\", 'couldn', \"couldn't\", 'didn', \"didn't\", 'doesn', \"doesn't\", 'hadn', \"hadn't\", 'hasn', \"hasn't\", 'haven', \"haven't\", 'isn', \"isn't\", 'ma', 'mightn', \"mightn't\", 'mustn', \"mustn't\", 'needn', \"needn't\", 'shan', \"shan't\", 'shouldn', \"shouldn't\", 'wasn', \"wasn't\", 'weren', \"weren't\", 'won', \"won't\", 'wouldn', \"wouldn't\"]\n"
     ]
    }
   ],
   "source": [
    "# List stop words\n",
    "from nltk.corpus import stopwords\n",
    "print(stopwords.words(\"english\"))"
   ]
  },
  {
   "cell_type": "code",
   "execution_count": 24,
   "metadata": {},
   "outputs": [
    {
     "name": "stdout",
     "output_type": "stream",
     "text": [
      "['the', 'first', 'time', 'you', 'see', 'the', 'second', 'renaissance', 'it', 'may', 'look', 'boring', 'look', 'at', 'it', 'at', 'least', 'twice', 'and', 'definitely', 'watch', 'part', '2', 'it', 'will', 'change', 'your', 'view', 'of', 'the', 'matrix', 'are', 'the', 'human', 'people', 'the', 'ones', 'who', 'started', 'the', 'war', 'is', 'ai', 'a', 'bad', 'thing']\n"
     ]
    }
   ],
   "source": [
    "# Reset text\n",
    "text = \"The first time you see The Second Renaissance it may look boring. Look at it at least twice and definitely watch part 2. It will change your view of the matrix. Are the human people the ones who started the war ? Is AI a bad thing ?\"\n",
    "\n",
    "# Normalize it\n",
    "text = re.sub(r\"[^a-zA-Z0-9]\", \" \", text.lower())\n",
    "\n",
    "# Tokenize it\n",
    "words = text.split()\n",
    "print(words)"
   ]
  },
  {
   "cell_type": "code",
   "execution_count": 25,
   "metadata": {},
   "outputs": [
    {
     "name": "stdout",
     "output_type": "stream",
     "text": [
      "['first', 'time', 'see', 'second', 'renaissance', 'may', 'look', 'boring', 'look', 'least', 'twice', 'definitely', 'watch', 'part', '2', 'change', 'view', 'matrix', 'human', 'people', 'ones', 'started', 'war', 'ai', 'bad', 'thing']\n"
     ]
    }
   ],
   "source": [
    "# Remove stop words\n",
    "words = [w for w in words if w not in stopwords.words(\"english\")]\n",
    "print(words)"
   ]
  },
  {
   "cell_type": "code",
   "execution_count": 26,
   "metadata": {},
   "outputs": [
    {
     "name": "stdout",
     "output_type": "stream",
     "text": [
      "(S\n",
      "  (NP I)\n",
      "  (VP\n",
      "    (VP (V shot) (NP (Det an) (N elephant)))\n",
      "    (PP (P in) (NP (Det my) (N pajamas)))))\n",
      "(S\n",
      "  (NP I)\n",
      "  (VP\n",
      "    (V shot)\n",
      "    (NP (Det an) (N elephant) (PP (P in) (NP (Det my) (N pajamas))))))\n"
     ]
    }
   ],
   "source": [
    "import nltk\n",
    "\n",
    "# Define a custom grammar\n",
    "my_grammar = nltk.CFG.fromstring(\"\"\"\n",
    "S -> NP VP\n",
    "PP -> P NP\n",
    "NP -> Det N | Det N PP | 'I'\n",
    "VP -> V NP | VP PP\n",
    "Det -> 'an' | 'my'\n",
    "N -> 'elephant' | 'pajamas'\n",
    "V -> 'shot'\n",
    "P -> 'in'\n",
    "\"\"\")\n",
    "parser = nltk.ChartParser(my_grammar)\n",
    "\n",
    "# Parse a sentence\n",
    "sentence = word_tokenize(\"I shot an elephant in my pajamas\")\n",
    "for tree in parser.parse(sentence):\n",
    "    print(tree)"
   ]
  },
  {
   "cell_type": "markdown",
   "metadata": {},
   "source": [
    "### Stemming"
   ]
  },
  {
   "cell_type": "code",
   "execution_count": 27,
   "metadata": {},
   "outputs": [
    {
     "name": "stdout",
     "output_type": "stream",
     "text": [
      "['first', 'time', 'see', 'second', 'renaiss', 'may', 'look', 'bore', 'look', 'least', 'twice', 'definit', 'watch', 'part', '2', 'chang', 'view', 'matrix', 'human', 'peopl', 'one', 'start', 'war', 'ai', 'bad', 'thing']\n"
     ]
    }
   ],
   "source": [
    "from nltk.stem.porter import PorterStemmer\n",
    "\n",
    "# Reduce words to their stems\n",
    "stemmed = [PorterStemmer().stem(w) for w in words]\n",
    "print(stemmed)"
   ]
  },
  {
   "cell_type": "code",
   "execution_count": 28,
   "metadata": {},
   "outputs": [
    {
     "name": "stdout",
     "output_type": "stream",
     "text": [
      "['first', 'time', 'see', 'second', 'renaissance', 'may', 'look', 'boring', 'look', 'least', 'twice', 'definitely', 'watch', 'part', '2', 'change', 'view', 'matrix', 'human', 'people', 'one', 'started', 'war', 'ai', 'bad', 'thing']\n"
     ]
    }
   ],
   "source": [
    "from nltk.stem.wordnet import WordNetLemmatizer\n",
    "\n",
    "# Reduce words to their root form\n",
    "lemmed = [WordNetLemmatizer().lemmatize(w) for w in words]\n",
    "print(lemmed)"
   ]
  },
  {
   "cell_type": "code",
   "execution_count": 29,
   "metadata": {},
   "outputs": [
    {
     "name": "stdout",
     "output_type": "stream",
     "text": [
      "['first', 'time', 'see', 'second', 'renaissance', 'may', 'look', 'bore', 'look', 'least', 'twice', 'definitely', 'watch', 'part', '2', 'change', 'view', 'matrix', 'human', 'people', 'one', 'start', 'war', 'ai', 'bad', 'thing']\n"
     ]
    }
   ],
   "source": [
    "\n",
    "# Lemmatize verbs by specifying pos\n",
    "lemmed = [WordNetLemmatizer().lemmatize(w, pos='v') for w in lemmed]\n",
    "print(lemmed)"
   ]
  }
 ],
 "metadata": {
  "kernelspec": {
   "display_name": "Python 3",
   "language": "python",
   "name": "python3"
  },
  "language_info": {
   "codemirror_mode": {
    "name": "ipython",
    "version": 3
   },
   "file_extension": ".py",
   "mimetype": "text/x-python",
   "name": "python",
   "nbconvert_exporter": "python",
   "pygments_lexer": "ipython3",
   "version": "3.8.5"
  }
 },
 "nbformat": 4,
 "nbformat_minor": 4
}
