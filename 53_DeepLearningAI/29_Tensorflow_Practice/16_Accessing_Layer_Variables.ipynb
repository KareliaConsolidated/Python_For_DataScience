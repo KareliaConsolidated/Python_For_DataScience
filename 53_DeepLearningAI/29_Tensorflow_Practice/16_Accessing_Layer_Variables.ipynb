{
 "cells": [
  {
   "cell_type": "code",
   "execution_count": 1,
   "metadata": {},
   "outputs": [],
   "source": [
    "from tensorflow.keras.models import Model\n",
    "from tensorflow.keras.layers import Input, Dense, Flatten, Conv1D, AveragePooling1D"
   ]
  },
  {
   "cell_type": "code",
   "execution_count": 10,
   "metadata": {},
   "outputs": [],
   "source": [
    "inputs = Input(shape=(32,1))\n",
    "h = Conv1D(3,5,activation='relu', name='conv_1')(inputs)\n",
    "h = AveragePooling1D(3)(h)\n",
    "h = Flatten()(h)\n",
    "outputs = Dense(1, activation='sigmoid')(h)\n",
    "\n",
    "model = Model(inputs=inputs, outputs=outputs)"
   ]
  },
  {
   "cell_type": "code",
   "execution_count": 9,
   "metadata": {},
   "outputs": [
    {
     "name": "stdout",
     "output_type": "stream",
     "text": [
      "<tf.Variable 'conv1d/bias:0' shape=(3,) dtype=float32, numpy=array([0., 0., 0.], dtype=float32)>\n"
     ]
    }
   ],
   "source": [
    "print(model.layers[1].bias)"
   ]
  },
  {
   "cell_type": "code",
   "execution_count": 12,
   "metadata": {},
   "outputs": [
    {
     "name": "stdout",
     "output_type": "stream",
     "text": [
      "<tf.Variable 'conv_1/kernel:0' shape=(5, 1, 3) dtype=float32, numpy=\n",
      "array([[[-0.3943588 ,  0.5259881 , -0.38705564]],\n",
      "\n",
      "       [[-0.01681989, -0.20857641,  0.5434649 ]],\n",
      "\n",
      "       [[-0.4830516 ,  0.3483404 ,  0.05593038]],\n",
      "\n",
      "       [[-0.42145163,  0.10903502, -0.09418592]],\n",
      "\n",
      "       [[ 0.2516005 ,  0.2562729 , -0.4468284 ]]], dtype=float32)>\n"
     ]
    }
   ],
   "source": [
    "print(model.get_layer('conv_1').kernel)"
   ]
  },
  {
   "cell_type": "code",
   "execution_count": null,
   "metadata": {},
   "outputs": [],
   "source": []
  }
 ],
 "metadata": {
  "kernelspec": {
   "display_name": "Python 3",
   "language": "python",
   "name": "python3"
  },
  "language_info": {
   "codemirror_mode": {
    "name": "ipython",
    "version": 3
   },
   "file_extension": ".py",
   "mimetype": "text/x-python",
   "name": "python",
   "nbconvert_exporter": "python",
   "pygments_lexer": "ipython3",
   "version": "3.8.5"
  }
 },
 "nbformat": 4,
 "nbformat_minor": 4
}
