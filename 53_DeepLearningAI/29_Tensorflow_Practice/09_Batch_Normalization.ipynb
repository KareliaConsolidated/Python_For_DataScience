{
 "cells": [
  {
   "cell_type": "code",
   "execution_count": 1,
   "metadata": {},
   "outputs": [],
   "source": [
    "import warnings\n",
    "warnings.filterwarnings('ignore')"
   ]
  },
  {
   "cell_type": "code",
   "execution_count": 2,
   "metadata": {},
   "outputs": [],
   "source": [
    "import numpy as np\n",
    "import pandas as pd\n",
    "import tensorflow as tf"
   ]
  },
  {
   "cell_type": "code",
   "execution_count": 3,
   "metadata": {
    "scrolled": true
   },
   "outputs": [
    {
     "name": "stdout",
     "output_type": "stream",
     "text": [
      ".. _diabetes_dataset:\n",
      "\n",
      "Diabetes dataset\n",
      "----------------\n",
      "\n",
      "Ten baseline variables, age, sex, body mass index, average blood\n",
      "pressure, and six blood serum measurements were obtained for each of n =\n",
      "442 diabetes patients, as well as the response of interest, a\n",
      "quantitative measure of disease progression one year after baseline.\n",
      "\n",
      "**Data Set Characteristics:**\n",
      "\n",
      "  :Number of Instances: 442\n",
      "\n",
      "  :Number of Attributes: First 10 columns are numeric predictive values\n",
      "\n",
      "  :Target: Column 11 is a quantitative measure of disease progression one year after baseline\n",
      "\n",
      "  :Attribute Information:\n",
      "      - age     age in years\n",
      "      - sex\n",
      "      - bmi     body mass index\n",
      "      - bp      average blood pressure\n",
      "      - s1      tc, T-Cells (a type of white blood cells)\n",
      "      - s2      ldl, low-density lipoproteins\n",
      "      - s3      hdl, high-density lipoproteins\n",
      "      - s4      tch, thyroid stimulating hormone\n",
      "      - s5      ltg, lamotrigine\n",
      "      - s6      glu, blood sugar level\n",
      "\n",
      "Note: Each of these 10 feature variables have been mean centered and scaled by the standard deviation times `n_samples` (i.e. the sum of squares of each column totals 1).\n",
      "\n",
      "Source URL:\n",
      "https://www4.stat.ncsu.edu/~boos/var.select/diabetes.html\n",
      "\n",
      "For more information see:\n",
      "Bradley Efron, Trevor Hastie, Iain Johnstone and Robert Tibshirani (2004) \"Least Angle Regression,\" Annals of Statistics (with discussion), 407-499.\n",
      "(https://web.stanford.edu/~hastie/Papers/LARS/LeastAngle_2002.pdf)\n"
     ]
    }
   ],
   "source": [
    "from sklearn.datasets import load_diabetes\n",
    "\n",
    "diabetes_dataset = load_diabetes()\n",
    "print(diabetes_dataset['DESCR'])"
   ]
  },
  {
   "cell_type": "code",
   "execution_count": 4,
   "metadata": {},
   "outputs": [
    {
     "name": "stdout",
     "output_type": "stream",
     "text": [
      "dict_keys(['data', 'target', 'frame', 'DESCR', 'feature_names', 'data_filename', 'target_filename'])\n"
     ]
    }
   ],
   "source": [
    "print(diabetes_dataset.keys())"
   ]
  },
  {
   "cell_type": "code",
   "execution_count": 5,
   "metadata": {},
   "outputs": [],
   "source": [
    "data = diabetes_dataset['data']\n",
    "target = diabetes_dataset['target']"
   ]
  },
  {
   "cell_type": "code",
   "execution_count": 6,
   "metadata": {},
   "outputs": [
    {
     "data": {
      "text/plain": [
       "array([-1.47194752e-02, -1.00165882e+00, -1.44579915e-01,  6.99512942e-01,\n",
       "       -2.22496178e-01, -7.15965848e-01, -1.83538046e-01, -1.15749134e+00,\n",
       "       -5.47147277e-01,  2.05006151e+00, -6.64021672e-01, -1.07957508e+00,\n",
       "        3.48889755e-01,  4.26806019e-01, -4.43258925e-01,  2.45001404e-01,\n",
       "        1.80071184e-01, -1.05621783e-01, -7.15965848e-01,  2.06043272e-01,\n",
       "       -1.09256112e+00, -1.33929596e+00, -1.09256112e+00,  1.20596866e+00,\n",
       "        4.13819975e-01,  6.47568766e-01, -1.96524090e-01, -8.71798376e-01,\n",
       "       -2.74440354e-01,  1.69943833e+00, -3.00412442e-01, -1.20943552e+00,\n",
       "        2.45262887e+00, -8.45826288e-01, -1.13151925e+00, -6.51035629e-01,\n",
       "        1.46568953e+00,  1.60853602e+00,  1.29687096e+00, -8.06868156e-01,\n",
       "       -6.77007716e-01, -1.26137969e+00, -1.18346343e+00, -7.80896068e-01,\n",
       "        1.38777327e+00, -1.28735178e+00,  4.91736239e-01, -1.31593871e-01,\n",
       "       -1.00165882e+00, -1.31593871e-01,  3.72247006e-02,  9.46247777e-01,\n",
       "       -1.20943552e+00, -6.25063541e-01,  3.87847887e-01, -3.13398486e-01,\n",
       "       -1.30033783e+00, -1.49512849e+00,  2.32015360e-01,  2.32015360e-01,\n",
       "       -1.18346343e+00, -1.05621783e-01, -1.30033783e+00, -3.13398486e-01,\n",
       "       -1.05360299e+00,  1.41113052e-01, -2.77055191e-02, -7.15965848e-01,\n",
       "        1.02154920e-01,  3.35903711e-01, -1.35228200e+00,  1.53061975e+00,\n",
       "        6.47568766e-01, -5.34161233e-01, -8.71798376e-01, -1.43019827e+00,\n",
       "        2.32015360e-01,  6.21596678e-01,  1.29687096e+00, -5.08189145e-01,\n",
       "       -1.18607827e-01, -1.31332387e+00, -1.30033783e+00,  7.51457118e-01,\n",
       "       -1.13151925e+00, -1.44579915e-01, -1.26137969e+00, -2.35482222e-01,\n",
       "       -1.43019827e+00, -5.34161233e-01, -7.02979804e-01,  1.54099096e-01,\n",
       "       -1.35228200e+00, -7.28951892e-01, -8.06868156e-01,  1.28127008e-01,\n",
       "       -2.77055191e-02,  1.64749415e+00, -7.80896068e-01, -8.97770464e-01,\n",
       "       -3.13398486e-01, -6.51035629e-01,  1.94617316e+00,  5.95624590e-01,\n",
       "       -7.41937936e-01, -1.28735178e+00, -2.35482222e-01, -1.05621783e-01,\n",
       "        1.03715008e+00, -9.23742551e-01, -6.25063541e-01, -1.20943552e+00,\n",
       "        1.21895470e+00,  1.88124294e+00,  1.37478723e+00,  9.98191953e-01,\n",
       "        1.59554997e+00,  1.67346624e+00,  3.48889755e-01,  6.21596678e-01,\n",
       "        6.21596678e-01,  2.70973492e-01,  3.61875799e-01, -8.84784420e-01,\n",
       "       -4.04300794e-01,  1.15140964e-01, -6.89993760e-01, -5.60133321e-01,\n",
       "       -4.82217057e-01,  1.50464767e+00,  1.58256393e+00,  7.61828325e-02,\n",
       "       -5.86105409e-01, -8.97770464e-01, -6.38049585e-01,  1.55659184e+00,\n",
       "       -8.71798376e-01,  1.66048019e+00,  2.38769865e+00,  1.67346624e+00,\n",
       "       -4.43258925e-01,  2.14096382e+00,  1.07610822e+00, -1.19644947e+00,\n",
       "        2.83959536e-01,  1.38777327e+00,  3.35903711e-01, -3.13398486e-01,\n",
       "       -7.28951892e-01, -3.39370574e-01,  1.76436855e+00, -8.32840244e-01,\n",
       "        1.81631272e+00, -1.05360299e+00,  5.82638546e-01,  4.39792063e-01,\n",
       "       -1.65096101e+00, -8.84784420e-01, -7.28951892e-01,  5.56666458e-01,\n",
       "       -1.28735178e+00,  8.42359425e-01,  2.57987448e-01, -2.74440354e-01,\n",
       "        8.03401293e-01, -1.20943552e+00, -1.06658903e+00,  8.81317557e-01,\n",
       "        1.50464767e+00, -1.73343121e-03, -1.36526805e+00, -1.01464486e+00,\n",
       "        1.85527085e+00, -6.64021672e-01, -1.47194752e-02, -3.26384530e-01,\n",
       "        1.10208030e+00,  9.46247777e-01, -9.23742551e-01, -1.47194752e-02,\n",
       "       -5.86105409e-01, -1.14450530e+00, -1.83538046e-01,  4.26806019e-01,\n",
       "        1.46568953e+00, -6.64021672e-01, -1.96524090e-01, -1.18607827e-01,\n",
       "       -1.44579915e-01, -9.49714639e-01,  1.81631272e+00,  3.35903711e-01,\n",
       "       -7.93882112e-01, -4.69231013e-01, -8.58812332e-01, -3.91314750e-01,\n",
       "       -1.04061695e+00, -3.00412442e-01, -1.31593871e-01, -8.06868156e-01,\n",
       "        7.61828325e-02, -1.46915640e+00,  5.69652502e-01,  9.07289645e-01,\n",
       "        1.62152206e+00, -6.89993760e-01,  5.69652502e-01,  6.47568766e-01,\n",
       "        3.72247006e-02, -9.75686727e-01,  5.04722283e-01, -1.06658903e+00,\n",
       "       -1.02763090e+00, -1.33929596e+00, -1.13151925e+00,  1.43971745e+00,\n",
       "        1.24492679e+00,  1.86825690e+00,  8.03401293e-01,  4.26806019e-01,\n",
       "       -9.62700683e-01, -7.67910024e-01,  1.29687096e+00, -2.77055191e-02,\n",
       "       -9.75686727e-01,  7.25485030e-01, -9.75686727e-01, -5.73119365e-01,\n",
       "        1.02154920e-01, -1.28735178e+00,  8.81317557e-01,  2.42386567e-02,\n",
       "        1.38777327e+00, -8.06868156e-01,  1.21895470e+00, -3.65342662e-01,\n",
       "       -1.10554717e+00, -1.04061695e+00,  1.36180118e+00,  1.42673140e+00,\n",
       "        1.59554997e+00,  3.22917667e-01, -1.05360299e+00, -1.36526805e+00,\n",
       "        4.52778107e-01, -3.52356618e-01, -9.62700683e-01, -1.31332387e+00,\n",
       "        1.37478723e+00,  8.16387337e-01,  1.95915920e+00,  1.17999657e+00,\n",
       "       -7.93882112e-01, -2.77055191e-02,  2.05006151e+00,  1.12526127e-02,\n",
       "        2.51755909e+00, -1.15749134e+00, -8.19854200e-01, -1.32630991e+00,\n",
       "       -1.46915640e+00, -6.38049585e-01,  2.02408942e+00, -4.69231013e-01,\n",
       "       -9.26357388e-02, -1.01464486e+00, -1.39124013e+00, -4.82217057e-01,\n",
       "        1.45270349e+00, -8.45826288e-01,  6.47568766e-01, -3.26384530e-01,\n",
       "        3.87847887e-01,  1.15402448e+00, -1.11853321e+00, -7.54923980e-01,\n",
       "        1.69943833e+00, -1.14450530e+00, -6.51035629e-01,  6.21596678e-01,\n",
       "        1.46568953e+00, -7.54923980e-01,  1.01117800e+00,  3.74861843e-01,\n",
       "        5.02107446e-02,  1.05013613e+00, -1.19644947e+00,  8.68331513e-01,\n",
       "       -9.36728595e-01, -1.09256112e+00,  2.33575448e+00,  1.24492679e+00,\n",
       "       -8.84784420e-01,  6.21596678e-01, -1.26137969e+00, -8.71798376e-01,\n",
       "       -8.19854200e-01, -1.57304475e+00, -3.00412442e-01, -8.97770464e-01,\n",
       "        1.59554997e+00, -1.13151925e+00,  5.95624590e-01,  1.08909426e+00,\n",
       "        1.30985701e+00, -3.65342662e-01, -1.40422618e+00,  2.57987448e-01,\n",
       "       -4.95203101e-01, -1.31593871e-01, -5.60133321e-01,  3.61875799e-01,\n",
       "       -1.05621783e-01,  1.41113052e-01, -6.66636509e-02, -7.15965848e-01,\n",
       "        8.81317557e-01,  4.91736239e-01, -5.60133321e-01,  5.04722283e-01,\n",
       "       -3.91314750e-01,  1.01117800e+00,  1.16701052e+00,  1.24492679e+00,\n",
       "        1.25791283e+00,  5.17708327e-01, -2.74440354e-01,  1.10208030e+00,\n",
       "       -9.62700683e-01, -2.22496178e-01,  1.19298261e+00,  6.08610634e-01,\n",
       "        1.53061975e+00,  1.54099096e-01, -1.04061695e+00, -7.28951892e-01,\n",
       "        1.99811734e+00, -7.93882112e-01,  8.03401293e-01, -7.41937936e-01,\n",
       "        8.29373381e-01,  1.43971745e+00,  3.35903711e-01, -5.08189145e-01,\n",
       "        6.21596678e-01, -1.70552003e-01, -1.70552003e-01, -8.32840244e-01,\n",
       "       -5.36776070e-02, -8.32840244e-01,  1.17999657e+00, -1.05360299e+00,\n",
       "       -9.75686727e-01, -5.60133321e-01,  1.55659184e+00, -1.19644947e+00,\n",
       "       -1.27436574e+00,  8.94303601e-01, -8.06868156e-01,  2.06304756e+00,\n",
       "        1.67346624e+00,  3.87847887e-01,  2.19290800e+00, -1.22242156e+00,\n",
       "        1.42673140e+00,  6.99512942e-01,  1.05013613e+00,  1.16701052e+00,\n",
       "       -3.78328706e-01,  1.93057228e-01, -1.15749134e+00,  5.82638546e-01,\n",
       "       -1.05360299e+00,  2.06043272e-01, -1.57565959e-01,  8.42359425e-01,\n",
       "       -4.04300794e-01,  1.07610822e+00,  1.20596866e+00, -1.45617035e+00,\n",
       "       -1.30033783e+00, -6.25063541e-01, -2.61454310e-01, -8.32840244e-01,\n",
       "       -1.07957508e+00,  8.68331513e-01, -1.04061695e+00,  6.34582722e-01,\n",
       "       -5.47147277e-01, -1.31332387e+00,  1.62152206e+00, -1.15749134e+00,\n",
       "       -4.43258925e-01, -1.07957508e+00,  1.56957789e+00,  1.37478723e+00,\n",
       "       -1.41721222e+00,  5.95624590e-01,  1.16701052e+00,  1.03715008e+00,\n",
       "        2.96945580e-01, -7.67910024e-01,  2.06043272e-01,  1.59554997e+00,\n",
       "        1.82929877e+00,  1.67346624e+00, -1.04061695e+00, -1.57565959e-01,\n",
       "        4.78750195e-01,  3.74861843e-01,  7.38471074e-01, -2.09510134e-01,\n",
       "        1.41374536e+00, -5.08189145e-01, -2.74440354e-01,  2.83959536e-01,\n",
       "        1.36180118e+00, -1.26137969e+00, -8.84784420e-01, -1.43019827e+00,\n",
       "       -7.96496949e-02,  7.77429206e-01,  1.05013613e+00, -7.93882112e-01,\n",
       "       -5.34161233e-01, -1.73343121e-03, -4.17286837e-01, -1.10554717e+00,\n",
       "        2.05006151e+00, -7.54923980e-01,  4.00833931e-01, -1.11853321e+00,\n",
       "        2.70973492e-01, -1.04061695e+00, -1.33929596e+00, -1.14450530e+00,\n",
       "       -1.35228200e+00,  3.35903711e-01, -6.25063541e-01, -2.61454310e-01,\n",
       "        8.81317557e-01, -1.23540761e+00])"
      ]
     },
     "execution_count": 6,
     "metadata": {},
     "output_type": "execute_result"
    }
   ],
   "source": [
    "# Normalize the target data (this will make clearer training curves)\n",
    "target = (target - target.mean(axis=0)) / target.std()\n",
    "target"
   ]
  },
  {
   "cell_type": "code",
   "execution_count": 7,
   "metadata": {},
   "outputs": [
    {
     "name": "stdout",
     "output_type": "stream",
     "text": [
      "(397, 10)\n",
      "(45, 10)\n",
      "(397,)\n",
      "(45,)\n"
     ]
    }
   ],
   "source": [
    "from sklearn.model_selection import train_test_split\n",
    "\n",
    "X_train, X_test, y_train, y_test = train_test_split(data, target, test_size=0.1)\n",
    "\n",
    "print(X_train.shape)\n",
    "print(X_test.shape)\n",
    "print(y_train.shape)\n",
    "print(y_test.shape)"
   ]
  },
  {
   "cell_type": "markdown",
   "metadata": {},
   "source": [
    "### Train a Feedforward Neural Network Model"
   ]
  },
  {
   "cell_type": "code",
   "execution_count": 8,
   "metadata": {},
   "outputs": [],
   "source": [
    "from tensorflow.keras.models import Sequential\n",
    "from tensorflow.keras.layers import Dense\n",
    "\n",
    "def get_model():\n",
    "    model = Sequential([\n",
    "        Dense(128, activation='relu', input_shape=(X_train.shape[1],)),\n",
    "        Dense(128, activation='relu'),\n",
    "        Dense(128, activation='relu'),\n",
    "        Dense(128, activation='relu'),\n",
    "        Dense(128, activation='relu'),\n",
    "        Dense(128, activation='relu'),\n",
    "        Dense(1)\n",
    "    ])\n",
    "    return model"
   ]
  },
  {
   "cell_type": "code",
   "execution_count": 9,
   "metadata": {},
   "outputs": [],
   "source": [
    "model = get_model()"
   ]
  },
  {
   "cell_type": "code",
   "execution_count": 10,
   "metadata": {
    "scrolled": true
   },
   "outputs": [
    {
     "name": "stdout",
     "output_type": "stream",
     "text": [
      "Model: \"sequential\"\n",
      "_________________________________________________________________\n",
      "Layer (type)                 Output Shape              Param #   \n",
      "=================================================================\n",
      "dense (Dense)                (None, 128)               1408      \n",
      "_________________________________________________________________\n",
      "dense_1 (Dense)              (None, 128)               16512     \n",
      "_________________________________________________________________\n",
      "dense_2 (Dense)              (None, 128)               16512     \n",
      "_________________________________________________________________\n",
      "dense_3 (Dense)              (None, 128)               16512     \n",
      "_________________________________________________________________\n",
      "dense_4 (Dense)              (None, 128)               16512     \n",
      "_________________________________________________________________\n",
      "dense_5 (Dense)              (None, 128)               16512     \n",
      "_________________________________________________________________\n",
      "dense_6 (Dense)              (None, 1)                 129       \n",
      "=================================================================\n",
      "Total params: 84,097\n",
      "Trainable params: 84,097\n",
      "Non-trainable params: 0\n",
      "_________________________________________________________________\n"
     ]
    }
   ],
   "source": [
    "# Print the Model Summary\n",
    "model.summary()"
   ]
  },
  {
   "cell_type": "code",
   "execution_count": 11,
   "metadata": {},
   "outputs": [],
   "source": [
    "# Compile the Model\n",
    "model.compile(optimizer='adam', loss='mse', metrics=['mae'])"
   ]
  },
  {
   "cell_type": "code",
   "execution_count": 12,
   "metadata": {},
   "outputs": [
    {
     "name": "stdout",
     "output_type": "stream",
     "text": [
      "Epoch 1/100\n",
      "6/6 - 0s - loss: 1.0151 - mae: 0.8696 - val_loss: 0.9004 - val_mae: 0.8030\n",
      "Epoch 2/100\n",
      "6/6 - 0s - loss: 0.9004 - mae: 0.8205 - val_loss: 0.6925 - val_mae: 0.7039\n",
      "Epoch 3/100\n",
      "6/6 - 0s - loss: 0.6961 - mae: 0.7267 - val_loss: 0.6485 - val_mae: 0.6251\n",
      "Epoch 4/100\n",
      "6/6 - 0s - loss: 0.5508 - mae: 0.5982 - val_loss: 0.5798 - val_mae: 0.5979\n",
      "Epoch 5/100\n",
      "6/6 - 0s - loss: 0.4951 - mae: 0.5504 - val_loss: 0.5416 - val_mae: 0.5888\n",
      "Epoch 6/100\n",
      "6/6 - 0s - loss: 0.4675 - mae: 0.5520 - val_loss: 0.6405 - val_mae: 0.6273\n",
      "Epoch 7/100\n",
      "6/6 - 0s - loss: 0.5154 - mae: 0.5717 - val_loss: 0.4240 - val_mae: 0.5321\n",
      "Epoch 8/100\n",
      "6/6 - 0s - loss: 0.4725 - mae: 0.5544 - val_loss: 0.6356 - val_mae: 0.6216\n",
      "Epoch 9/100\n",
      "6/6 - 0s - loss: 0.4769 - mae: 0.5325 - val_loss: 0.4448 - val_mae: 0.5376\n",
      "Epoch 10/100\n",
      "6/6 - 0s - loss: 0.4552 - mae: 0.5416 - val_loss: 0.4970 - val_mae: 0.5651\n",
      "Epoch 11/100\n",
      "6/6 - 0s - loss: 0.4318 - mae: 0.5184 - val_loss: 0.4404 - val_mae: 0.5343\n",
      "Epoch 12/100\n",
      "6/6 - 0s - loss: 0.4125 - mae: 0.5109 - val_loss: 0.4888 - val_mae: 0.5599\n",
      "Epoch 13/100\n",
      "6/6 - 0s - loss: 0.4214 - mae: 0.5065 - val_loss: 0.4300 - val_mae: 0.5311\n",
      "Epoch 14/100\n",
      "6/6 - 0s - loss: 0.4057 - mae: 0.5079 - val_loss: 0.5757 - val_mae: 0.6016\n",
      "Epoch 15/100\n",
      "6/6 - 0s - loss: 0.4194 - mae: 0.5043 - val_loss: 0.4004 - val_mae: 0.5232\n",
      "Epoch 16/100\n",
      "6/6 - 0s - loss: 0.4215 - mae: 0.5149 - val_loss: 0.4443 - val_mae: 0.5458\n",
      "Epoch 17/100\n",
      "6/6 - 0s - loss: 0.3811 - mae: 0.4858 - val_loss: 0.4900 - val_mae: 0.5674\n",
      "Epoch 18/100\n",
      "6/6 - 0s - loss: 0.3765 - mae: 0.4733 - val_loss: 0.4207 - val_mae: 0.5380\n",
      "Epoch 19/100\n",
      "6/6 - 0s - loss: 0.3927 - mae: 0.4983 - val_loss: 0.6042 - val_mae: 0.6268\n",
      "Epoch 20/100\n",
      "6/6 - 0s - loss: 0.3761 - mae: 0.4692 - val_loss: 0.4192 - val_mae: 0.5327\n",
      "Epoch 21/100\n",
      "6/6 - 0s - loss: 0.3623 - mae: 0.4806 - val_loss: 0.6318 - val_mae: 0.6235\n",
      "Epoch 22/100\n",
      "6/6 - 0s - loss: 0.3730 - mae: 0.4733 - val_loss: 0.4171 - val_mae: 0.5261\n",
      "Epoch 23/100\n",
      "6/6 - 0s - loss: 0.4166 - mae: 0.5115 - val_loss: 0.7716 - val_mae: 0.6929\n",
      "Epoch 24/100\n",
      "6/6 - 0s - loss: 0.3940 - mae: 0.4857 - val_loss: 0.4077 - val_mae: 0.5197\n",
      "Epoch 25/100\n",
      "6/6 - 0s - loss: 0.3846 - mae: 0.5005 - val_loss: 0.5479 - val_mae: 0.5958\n",
      "Epoch 26/100\n",
      "6/6 - 0s - loss: 0.3580 - mae: 0.4675 - val_loss: 0.4478 - val_mae: 0.5457\n",
      "Epoch 27/100\n",
      "6/6 - 0s - loss: 0.3398 - mae: 0.4580 - val_loss: 0.4798 - val_mae: 0.5668\n",
      "Epoch 28/100\n",
      "6/6 - 0s - loss: 0.3337 - mae: 0.4475 - val_loss: 0.5398 - val_mae: 0.5995\n",
      "Epoch 29/100\n",
      "6/6 - 0s - loss: 0.3438 - mae: 0.4454 - val_loss: 0.4353 - val_mae: 0.5447\n",
      "Epoch 30/100\n",
      "6/6 - 0s - loss: 0.3223 - mae: 0.4482 - val_loss: 0.5169 - val_mae: 0.5853\n",
      "Epoch 31/100\n",
      "6/6 - 0s - loss: 0.3070 - mae: 0.4255 - val_loss: 0.4767 - val_mae: 0.5590\n",
      "Epoch 32/100\n",
      "6/6 - 0s - loss: 0.2992 - mae: 0.4186 - val_loss: 0.4787 - val_mae: 0.5630\n",
      "Epoch 33/100\n",
      "6/6 - 0s - loss: 0.3011 - mae: 0.4247 - val_loss: 0.6431 - val_mae: 0.6454\n",
      "Epoch 34/100\n",
      "6/6 - 0s - loss: 0.2920 - mae: 0.4156 - val_loss: 0.4672 - val_mae: 0.5628\n",
      "Epoch 35/100\n",
      "6/6 - 0s - loss: 0.2815 - mae: 0.4019 - val_loss: 0.5020 - val_mae: 0.5752\n",
      "Epoch 36/100\n",
      "6/6 - 0s - loss: 0.2589 - mae: 0.3837 - val_loss: 0.5553 - val_mae: 0.6039\n",
      "Epoch 37/100\n",
      "6/6 - 0s - loss: 0.2488 - mae: 0.3786 - val_loss: 0.4988 - val_mae: 0.5842\n",
      "Epoch 38/100\n",
      "6/6 - 0s - loss: 0.2686 - mae: 0.3973 - val_loss: 0.8009 - val_mae: 0.7105\n",
      "Epoch 39/100\n",
      "6/6 - 0s - loss: 0.2961 - mae: 0.4192 - val_loss: 0.4751 - val_mae: 0.5595\n",
      "Epoch 40/100\n",
      "6/6 - 0s - loss: 0.2742 - mae: 0.4100 - val_loss: 0.5159 - val_mae: 0.5844\n",
      "Epoch 41/100\n",
      "6/6 - 0s - loss: 0.2382 - mae: 0.3771 - val_loss: 0.5917 - val_mae: 0.6191\n",
      "Epoch 42/100\n",
      "6/6 - 0s - loss: 0.2183 - mae: 0.3531 - val_loss: 0.5933 - val_mae: 0.6251\n",
      "Epoch 43/100\n",
      "6/6 - 0s - loss: 0.2057 - mae: 0.3378 - val_loss: 0.5931 - val_mae: 0.6299\n",
      "Epoch 44/100\n",
      "6/6 - 0s - loss: 0.1949 - mae: 0.3342 - val_loss: 0.5783 - val_mae: 0.6266\n",
      "Epoch 45/100\n",
      "6/6 - 0s - loss: 0.1918 - mae: 0.3311 - val_loss: 0.7075 - val_mae: 0.6659\n",
      "Epoch 46/100\n",
      "6/6 - 0s - loss: 0.2016 - mae: 0.3411 - val_loss: 0.5965 - val_mae: 0.6127\n",
      "Epoch 47/100\n",
      "6/6 - 0s - loss: 0.1684 - mae: 0.3121 - val_loss: 0.5831 - val_mae: 0.6187\n",
      "Epoch 48/100\n",
      "6/6 - 0s - loss: 0.1571 - mae: 0.3009 - val_loss: 0.6438 - val_mae: 0.6354\n",
      "Epoch 49/100\n",
      "6/6 - 0s - loss: 0.1473 - mae: 0.2908 - val_loss: 0.6678 - val_mae: 0.6571\n",
      "Epoch 50/100\n",
      "6/6 - 0s - loss: 0.1457 - mae: 0.2846 - val_loss: 0.7262 - val_mae: 0.6726\n",
      "Epoch 51/100\n",
      "6/6 - 0s - loss: 0.1369 - mae: 0.2763 - val_loss: 0.6831 - val_mae: 0.6585\n",
      "Epoch 52/100\n",
      "6/6 - 0s - loss: 0.1498 - mae: 0.2972 - val_loss: 0.6552 - val_mae: 0.6518\n",
      "Epoch 53/100\n",
      "6/6 - 0s - loss: 0.1670 - mae: 0.3179 - val_loss: 0.6498 - val_mae: 0.6521\n",
      "Epoch 54/100\n",
      "6/6 - 0s - loss: 0.1381 - mae: 0.2766 - val_loss: 0.6526 - val_mae: 0.6508\n",
      "Epoch 55/100\n",
      "6/6 - 0s - loss: 0.1240 - mae: 0.2667 - val_loss: 0.7092 - val_mae: 0.6640\n",
      "Epoch 56/100\n",
      "6/6 - 0s - loss: 0.1141 - mae: 0.2557 - val_loss: 0.7542 - val_mae: 0.6990\n",
      "Epoch 57/100\n",
      "6/6 - 0s - loss: 0.1177 - mae: 0.2602 - val_loss: 0.7844 - val_mae: 0.7080\n",
      "Epoch 58/100\n",
      "6/6 - 0s - loss: 0.1176 - mae: 0.2617 - val_loss: 0.6902 - val_mae: 0.6623\n",
      "Epoch 59/100\n",
      "6/6 - 0s - loss: 0.0978 - mae: 0.2348 - val_loss: 0.7192 - val_mae: 0.6742\n",
      "Epoch 60/100\n",
      "6/6 - 0s - loss: 0.0941 - mae: 0.2350 - val_loss: 0.6461 - val_mae: 0.6425\n",
      "Epoch 61/100\n",
      "6/6 - 0s - loss: 0.0875 - mae: 0.2295 - val_loss: 0.6827 - val_mae: 0.6576\n",
      "Epoch 62/100\n",
      "6/6 - 0s - loss: 0.0753 - mae: 0.2077 - val_loss: 0.7216 - val_mae: 0.6732\n",
      "Epoch 63/100\n",
      "6/6 - 0s - loss: 0.0711 - mae: 0.2038 - val_loss: 0.7643 - val_mae: 0.7069\n",
      "Epoch 64/100\n",
      "6/6 - 0s - loss: 0.0845 - mae: 0.2287 - val_loss: 0.7468 - val_mae: 0.6915\n",
      "Epoch 65/100\n",
      "6/6 - 0s - loss: 0.0747 - mae: 0.2032 - val_loss: 0.7379 - val_mae: 0.6790\n",
      "Epoch 66/100\n",
      "6/6 - 0s - loss: 0.0739 - mae: 0.2086 - val_loss: 0.6968 - val_mae: 0.6536\n",
      "Epoch 67/100\n",
      "6/6 - 0s - loss: 0.1020 - mae: 0.2402 - val_loss: 0.7099 - val_mae: 0.6713\n",
      "Epoch 68/100\n",
      "6/6 - 0s - loss: 0.1050 - mae: 0.2544 - val_loss: 0.7253 - val_mae: 0.6780\n",
      "Epoch 69/100\n",
      "6/6 - 0s - loss: 0.0944 - mae: 0.2405 - val_loss: 0.6678 - val_mae: 0.6509\n",
      "Epoch 70/100\n",
      "6/6 - 0s - loss: 0.1028 - mae: 0.2480 - val_loss: 0.6581 - val_mae: 0.6491\n",
      "Epoch 71/100\n",
      "6/6 - 0s - loss: 0.0709 - mae: 0.2000 - val_loss: 0.7198 - val_mae: 0.6797\n",
      "Epoch 72/100\n",
      "6/6 - 0s - loss: 0.0593 - mae: 0.1832 - val_loss: 0.7364 - val_mae: 0.6864\n",
      "Epoch 73/100\n",
      "6/6 - 0s - loss: 0.0572 - mae: 0.1878 - val_loss: 0.7290 - val_mae: 0.6900\n",
      "Epoch 74/100\n",
      "6/6 - 0s - loss: 0.0490 - mae: 0.1661 - val_loss: 0.7206 - val_mae: 0.6814\n",
      "Epoch 75/100\n",
      "6/6 - 0s - loss: 0.0460 - mae: 0.1579 - val_loss: 0.7432 - val_mae: 0.6951\n",
      "Epoch 76/100\n",
      "6/6 - 0s - loss: 0.0413 - mae: 0.1462 - val_loss: 0.7725 - val_mae: 0.7128\n",
      "Epoch 77/100\n",
      "6/6 - 0s - loss: 0.0423 - mae: 0.1529 - val_loss: 0.8074 - val_mae: 0.7249\n",
      "Epoch 78/100\n",
      "6/6 - 0s - loss: 0.0473 - mae: 0.1665 - val_loss: 0.8396 - val_mae: 0.7326\n",
      "Epoch 79/100\n",
      "6/6 - 0s - loss: 0.0499 - mae: 0.1724 - val_loss: 0.7693 - val_mae: 0.7112\n",
      "Epoch 80/100\n",
      "6/6 - 0s - loss: 0.0492 - mae: 0.1683 - val_loss: 0.7418 - val_mae: 0.6864\n",
      "Epoch 81/100\n",
      "6/6 - 0s - loss: 0.0529 - mae: 0.1778 - val_loss: 0.7584 - val_mae: 0.7015\n",
      "Epoch 82/100\n",
      "6/6 - 0s - loss: 0.0563 - mae: 0.1861 - val_loss: 0.7404 - val_mae: 0.6883\n",
      "Epoch 83/100\n",
      "6/6 - 0s - loss: 0.0568 - mae: 0.1792 - val_loss: 0.7284 - val_mae: 0.6678\n",
      "Epoch 84/100\n",
      "6/6 - 0s - loss: 0.0402 - mae: 0.1523 - val_loss: 0.7642 - val_mae: 0.7090\n",
      "Epoch 85/100\n",
      "6/6 - 0s - loss: 0.0410 - mae: 0.1543 - val_loss: 0.7863 - val_mae: 0.7125\n",
      "Epoch 86/100\n",
      "6/6 - 0s - loss: 0.0402 - mae: 0.1513 - val_loss: 0.7872 - val_mae: 0.7142\n",
      "Epoch 87/100\n",
      "6/6 - 0s - loss: 0.0330 - mae: 0.1369 - val_loss: 0.7828 - val_mae: 0.7133\n",
      "Epoch 88/100\n",
      "6/6 - 0s - loss: 0.0362 - mae: 0.1436 - val_loss: 0.7693 - val_mae: 0.6924\n",
      "Epoch 89/100\n",
      "6/6 - 0s - loss: 0.0285 - mae: 0.1221 - val_loss: 0.7503 - val_mae: 0.6971\n",
      "Epoch 90/100\n",
      "6/6 - 0s - loss: 0.0269 - mae: 0.1225 - val_loss: 0.7963 - val_mae: 0.7262\n",
      "Epoch 91/100\n",
      "6/6 - 0s - loss: 0.0225 - mae: 0.1056 - val_loss: 0.7778 - val_mae: 0.7098\n",
      "Epoch 92/100\n",
      "6/6 - 0s - loss: 0.0219 - mae: 0.1036 - val_loss: 0.7768 - val_mae: 0.7035\n",
      "Epoch 93/100\n",
      "6/6 - 0s - loss: 0.0291 - mae: 0.1296 - val_loss: 0.8325 - val_mae: 0.7498\n",
      "Epoch 94/100\n",
      "6/6 - 0s - loss: 0.0320 - mae: 0.1315 - val_loss: 0.8344 - val_mae: 0.7427\n"
     ]
    },
    {
     "name": "stdout",
     "output_type": "stream",
     "text": [
      "Epoch 95/100\n",
      "6/6 - 0s - loss: 0.0356 - mae: 0.1408 - val_loss: 0.7662 - val_mae: 0.6898\n",
      "Epoch 96/100\n",
      "6/6 - 0s - loss: 0.0388 - mae: 0.1576 - val_loss: 0.8049 - val_mae: 0.7179\n",
      "Epoch 97/100\n",
      "6/6 - 0s - loss: 0.0308 - mae: 0.1347 - val_loss: 0.7867 - val_mae: 0.7041\n",
      "Epoch 98/100\n",
      "6/6 - 0s - loss: 0.0241 - mae: 0.1146 - val_loss: 0.7588 - val_mae: 0.6996\n",
      "Epoch 99/100\n",
      "6/6 - 0s - loss: 0.0219 - mae: 0.1096 - val_loss: 0.7584 - val_mae: 0.6924\n",
      "Epoch 100/100\n",
      "6/6 - 0s - loss: 0.0217 - mae: 0.1080 - val_loss: 0.8302 - val_mae: 0.7463\n"
     ]
    }
   ],
   "source": [
    "# Train the Model, with some of the data reserved for validation\n",
    "history = model.fit(X_train, y_train, epochs=100, validation_split=0.15, batch_size=64, verbose=2)"
   ]
  },
  {
   "cell_type": "code",
   "execution_count": 13,
   "metadata": {},
   "outputs": [
    {
     "name": "stdout",
     "output_type": "stream",
     "text": [
      "1/2 [==============>...............] - ETA: 0s - loss: 0.9574 - mae: 0.8030WARNING:tensorflow:Callbacks method `on_test_batch_end` is slow compared to the batch time (batch time: 0.0000s vs `on_test_batch_end` time: 0.0010s). Check your callbacks.\n",
      "2/2 [==============================] - 0s 1ms/step - loss: 0.8615 - mae: 0.7610\n"
     ]
    },
    {
     "data": {
      "text/plain": [
       "[0.8614941239356995, 0.7609834671020508]"
      ]
     },
     "execution_count": 13,
     "metadata": {},
     "output_type": "execute_result"
    }
   ],
   "source": [
    "# Evaluate the model on the test set\n",
    "model.evaluate(X_test, y_test)"
   ]
  },
  {
   "cell_type": "code",
   "execution_count": 14,
   "metadata": {},
   "outputs": [
    {
     "data": {
      "image/png": "[encoded data removed]",
      "text/plain": [
       "<Figure size 432x288 with 1 Axes>"
      ]
     },
     "metadata": {
      "needs_background": "light"
     },
     "output_type": "display_data"
    }
   ],
   "source": [
    "#### Plot the learning curves\n",
    "import matplotlib.pyplot as plt\n",
    "\n",
    "plt.plot(history.history['loss'])\n",
    "plt.plot(history.history['val_loss'])\n",
    "plt.title('Loss vs Epochs')\n",
    "plt.ylabel('Loss')\n",
    "plt.xlabel('Epochs')\n",
    "plt.legend(['Training', 'Validation'], loc='best')\n",
    "plt.show()"
   ]
  },
  {
   "cell_type": "markdown",
   "metadata": {},
   "source": [
    "### Model Regularization"
   ]
  },
  {
   "cell_type": "code",
   "execution_count": 15,
   "metadata": {},
   "outputs": [],
   "source": [
    "from tensorflow.keras.layers import Dropout\n",
    "from tensorflow.keras import regularizers"
   ]
  },
  {
   "cell_type": "code",
   "execution_count": 16,
   "metadata": {},
   "outputs": [],
   "source": [
    "def get_regularized_model(wd, rate):\n",
    "    model = Sequential([\n",
    "        Dense(128, kernel_regularizer= regularizers.l2(wd), activation='relu', input_shape=(X_train.shape[1],)),\n",
    "        Dropout(rate),\n",
    "        Dense(128, kernel_regularizer= regularizers.l2(wd), activation='relu'),\n",
    "        Dropout(rate),\n",
    "        Dense(128, kernel_regularizer= regularizers.l2(wd), activation='relu'),\n",
    "        Dropout(rate),\n",
    "        Dense(128, kernel_regularizer= regularizers.l2(wd), activation='relu'),\n",
    "        Dropout(rate),\n",
    "        Dense(128, kernel_regularizer= regularizers.l2(wd), activation='relu'),\n",
    "        Dropout(rate),\n",
    "        Dense(128, kernel_regularizer= regularizers.l2(wd),activation='relu'),\n",
    "        Dropout(rate),\n",
    "        Dense(1)\n",
    "    ])\n",
    "    return model"
   ]
  },
  {
   "cell_type": "code",
   "execution_count": 17,
   "metadata": {},
   "outputs": [],
   "source": [
    "model = get_regularized_model(1e-5, 0.3)"
   ]
  },
  {
   "cell_type": "code",
   "execution_count": 18,
   "metadata": {},
   "outputs": [],
   "source": [
    "model.compile(optimizer='adam', loss='mse', metrics = ['mae'])"
   ]
  },
  {
   "cell_type": "code",
   "execution_count": 19,
   "metadata": {},
   "outputs": [
    {
     "name": "stdout",
     "output_type": "stream",
     "text": [
      "Epoch 1/100\n",
      "6/6 [==============================] - 0s 27ms/step - loss: 1.0381 - mae: 0.8748 - val_loss: 0.9738 - val_mae: 0.8291\n",
      "Epoch 2/100\n",
      "6/6 [==============================] - 0s 5ms/step - loss: 1.0209 - mae: 0.8672 - val_loss: 0.9279 - val_mae: 0.8075\n",
      "Epoch 3/100\n",
      "6/6 [==============================] - 0s 5ms/step - loss: 0.9671 - mae: 0.8454 - val_loss: 0.7952 - val_mae: 0.7480\n",
      "Epoch 4/100\n",
      "6/6 [==============================] - 0s 5ms/step - loss: 0.8334 - mae: 0.7847 - val_loss: 0.5907 - val_mae: 0.6320\n",
      "Epoch 5/100\n",
      "6/6 [==============================] - 0s 5ms/step - loss: 0.6708 - mae: 0.6725 - val_loss: 0.6008 - val_mae: 0.5878\n",
      "Epoch 6/100\n",
      "6/6 [==============================] - 0s 4ms/step - loss: 0.6244 - mae: 0.6162 - val_loss: 0.5131 - val_mae: 0.5526\n",
      "Epoch 7/100\n",
      "6/6 [==============================] - 0s 4ms/step - loss: 0.5296 - mae: 0.5724 - val_loss: 0.5500 - val_mae: 0.5781\n",
      "Epoch 8/100\n",
      "6/6 [==============================] - 0s 5ms/step - loss: 0.5051 - mae: 0.5653 - val_loss: 0.4914 - val_mae: 0.5513\n",
      "Epoch 9/100\n",
      "6/6 [==============================] - 0s 5ms/step - loss: 0.5338 - mae: 0.5932 - val_loss: 0.5314 - val_mae: 0.5704\n",
      "Epoch 10/100\n",
      "6/6 [==============================] - 0s 5ms/step - loss: 0.5297 - mae: 0.5937 - val_loss: 0.5140 - val_mae: 0.5631\n",
      "Epoch 11/100\n",
      "6/6 [==============================] - 0s 5ms/step - loss: 0.5220 - mae: 0.5762 - val_loss: 0.5246 - val_mae: 0.5685\n",
      "Epoch 12/100\n",
      "6/6 [==============================] - 0s 4ms/step - loss: 0.5392 - mae: 0.5811 - val_loss: 0.5076 - val_mae: 0.5592\n",
      "Epoch 13/100\n",
      "6/6 [==============================] - 0s 5ms/step - loss: 0.5366 - mae: 0.5961 - val_loss: 0.4513 - val_mae: 0.5356\n",
      "Epoch 14/100\n",
      "6/6 [==============================] - 0s 5ms/step - loss: 0.5288 - mae: 0.5937 - val_loss: 0.5681 - val_mae: 0.5857\n",
      "Epoch 15/100\n",
      "6/6 [==============================] - 0s 4ms/step - loss: 0.5064 - mae: 0.5669 - val_loss: 0.4768 - val_mae: 0.5510\n",
      "Epoch 16/100\n",
      "6/6 [==============================] - 0s 5ms/step - loss: 0.5381 - mae: 0.5857 - val_loss: 0.5225 - val_mae: 0.5738\n",
      "Epoch 17/100\n",
      "6/6 [==============================] - 0s 4ms/step - loss: 0.5444 - mae: 0.5997 - val_loss: 0.5574 - val_mae: 0.5796\n",
      "Epoch 18/100\n",
      "6/6 [==============================] - 0s 5ms/step - loss: 0.5255 - mae: 0.5921 - val_loss: 0.4468 - val_mae: 0.5371\n",
      "Epoch 19/100\n",
      "6/6 [==============================] - 0s 5ms/step - loss: 0.5282 - mae: 0.5868 - val_loss: 0.4955 - val_mae: 0.5585\n",
      "Epoch 20/100\n",
      "6/6 [==============================] - 0s 5ms/step - loss: 0.4909 - mae: 0.5641 - val_loss: 0.4808 - val_mae: 0.5527\n",
      "Epoch 21/100\n",
      "6/6 [==============================] - 0s 5ms/step - loss: 0.5111 - mae: 0.5803 - val_loss: 0.4700 - val_mae: 0.5427\n",
      "Epoch 22/100\n",
      "6/6 [==============================] - 0s 5ms/step - loss: 0.4938 - mae: 0.5703 - val_loss: 0.4755 - val_mae: 0.5496\n",
      "Epoch 23/100\n",
      "6/6 [==============================] - 0s 5ms/step - loss: 0.4785 - mae: 0.5474 - val_loss: 0.4766 - val_mae: 0.5552\n",
      "Epoch 24/100\n",
      "6/6 [==============================] - 0s 5ms/step - loss: 0.4970 - mae: 0.5552 - val_loss: 0.5164 - val_mae: 0.5733\n",
      "Epoch 25/100\n",
      "6/6 [==============================] - 0s 5ms/step - loss: 0.4886 - mae: 0.5644 - val_loss: 0.4451 - val_mae: 0.5339\n",
      "Epoch 26/100\n",
      "6/6 [==============================] - 0s 5ms/step - loss: 0.4875 - mae: 0.5624 - val_loss: 0.4656 - val_mae: 0.5444\n",
      "Epoch 27/100\n",
      "6/6 [==============================] - 0s 4ms/step - loss: 0.4812 - mae: 0.5640 - val_loss: 0.5298 - val_mae: 0.5784\n",
      "Epoch 28/100\n",
      "6/6 [==============================] - 0s 4ms/step - loss: 0.4931 - mae: 0.5580 - val_loss: 0.4628 - val_mae: 0.5430\n",
      "Epoch 29/100\n",
      "6/6 [==============================] - 0s 4ms/step - loss: 0.5057 - mae: 0.5649 - val_loss: 0.4774 - val_mae: 0.5487\n",
      "Epoch 30/100\n",
      "6/6 [==============================] - 0s 5ms/step - loss: 0.4711 - mae: 0.5481 - val_loss: 0.5078 - val_mae: 0.5590\n",
      "Epoch 31/100\n",
      "6/6 [==============================] - 0s 5ms/step - loss: 0.4686 - mae: 0.5570 - val_loss: 0.4740 - val_mae: 0.5490\n",
      "Epoch 32/100\n",
      "6/6 [==============================] - 0s 5ms/step - loss: 0.4590 - mae: 0.5338 - val_loss: 0.4965 - val_mae: 0.5633\n",
      "Epoch 33/100\n",
      "6/6 [==============================] - 0s 4ms/step - loss: 0.4344 - mae: 0.5192 - val_loss: 0.4622 - val_mae: 0.5421\n",
      "Epoch 34/100\n",
      "6/6 [==============================] - 0s 4ms/step - loss: 0.4690 - mae: 0.5442 - val_loss: 0.4537 - val_mae: 0.5348\n",
      "Epoch 35/100\n",
      "6/6 [==============================] - 0s 5ms/step - loss: 0.4655 - mae: 0.5487 - val_loss: 0.4680 - val_mae: 0.5463\n",
      "Epoch 36/100\n",
      "6/6 [==============================] - 0s 5ms/step - loss: 0.4379 - mae: 0.5240 - val_loss: 0.4753 - val_mae: 0.5521\n",
      "Epoch 37/100\n",
      "6/6 [==============================] - 0s 4ms/step - loss: 0.4408 - mae: 0.5288 - val_loss: 0.4666 - val_mae: 0.5493\n",
      "Epoch 38/100\n",
      "6/6 [==============================] - 0s 4ms/step - loss: 0.4667 - mae: 0.5416 - val_loss: 0.5043 - val_mae: 0.5680\n",
      "Epoch 39/100\n",
      "6/6 [==============================] - 0s 4ms/step - loss: 0.4382 - mae: 0.5277 - val_loss: 0.4669 - val_mae: 0.5478\n",
      "Epoch 40/100\n",
      "6/6 [==============================] - 0s 5ms/step - loss: 0.4716 - mae: 0.5595 - val_loss: 0.4555 - val_mae: 0.5398\n",
      "Epoch 41/100\n",
      "6/6 [==============================] - 0s 5ms/step - loss: 0.4518 - mae: 0.5459 - val_loss: 0.4547 - val_mae: 0.5361\n",
      "Epoch 42/100\n",
      "6/6 [==============================] - 0s 4ms/step - loss: 0.4618 - mae: 0.5327 - val_loss: 0.4790 - val_mae: 0.5480\n",
      "Epoch 43/100\n",
      "6/6 [==============================] - 0s 4ms/step - loss: 0.4652 - mae: 0.5419 - val_loss: 0.4489 - val_mae: 0.5317\n",
      "Epoch 44/100\n",
      "6/6 [==============================] - 0s 4ms/step - loss: 0.4683 - mae: 0.5572 - val_loss: 0.4819 - val_mae: 0.5493\n",
      "Epoch 45/100\n",
      "6/6 [==============================] - 0s 4ms/step - loss: 0.4373 - mae: 0.5265 - val_loss: 0.4696 - val_mae: 0.5467\n",
      "Epoch 46/100\n",
      "6/6 [==============================] - 0s 4ms/step - loss: 0.4630 - mae: 0.5298 - val_loss: 0.4439 - val_mae: 0.5225\n",
      "Epoch 47/100\n",
      "6/6 [==============================] - 0s 4ms/step - loss: 0.4584 - mae: 0.5350 - val_loss: 0.4658 - val_mae: 0.5366\n",
      "Epoch 48/100\n",
      "6/6 [==============================] - 0s 4ms/step - loss: 0.4237 - mae: 0.5241 - val_loss: 0.4413 - val_mae: 0.5215\n",
      "Epoch 49/100\n",
      "6/6 [==============================] - 0s 4ms/step - loss: 0.4262 - mae: 0.5142 - val_loss: 0.4812 - val_mae: 0.5541\n",
      "Epoch 50/100\n",
      "6/6 [==============================] - 0s 4ms/step - loss: 0.4216 - mae: 0.5072 - val_loss: 0.4392 - val_mae: 0.5215\n",
      "Epoch 51/100\n",
      "6/6 [==============================] - 0s 4ms/step - loss: 0.4263 - mae: 0.5188 - val_loss: 0.5248 - val_mae: 0.5733\n",
      "Epoch 52/100\n",
      "6/6 [==============================] - 0s 4ms/step - loss: 0.4273 - mae: 0.5113 - val_loss: 0.4384 - val_mae: 0.5162\n",
      "Epoch 53/100\n",
      "6/6 [==============================] - 0s 4ms/step - loss: 0.4345 - mae: 0.5208 - val_loss: 0.4389 - val_mae: 0.5176\n",
      "Epoch 54/100\n",
      "6/6 [==============================] - 0s 4ms/step - loss: 0.4582 - mae: 0.5332 - val_loss: 0.5170 - val_mae: 0.5617\n",
      "Epoch 55/100\n",
      "6/6 [==============================] - 0s 4ms/step - loss: 0.4393 - mae: 0.5205 - val_loss: 0.4460 - val_mae: 0.5182\n",
      "Epoch 56/100\n",
      "6/6 [==============================] - 0s 5ms/step - loss: 0.4446 - mae: 0.5293 - val_loss: 0.4362 - val_mae: 0.5110\n",
      "Epoch 57/100\n",
      "6/6 [==============================] - 0s 5ms/step - loss: 0.4073 - mae: 0.5042 - val_loss: 0.5145 - val_mae: 0.5696\n",
      "Epoch 58/100\n",
      "6/6 [==============================] - 0s 4ms/step - loss: 0.4244 - mae: 0.5022 - val_loss: 0.4642 - val_mae: 0.5405\n",
      "Epoch 59/100\n",
      "6/6 [==============================] - 0s 4ms/step - loss: 0.4469 - mae: 0.5314 - val_loss: 0.4477 - val_mae: 0.5259\n",
      "Epoch 60/100\n",
      "6/6 [==============================] - 0s 4ms/step - loss: 0.4124 - mae: 0.5071 - val_loss: 0.4511 - val_mae: 0.5245\n",
      "Epoch 61/100\n",
      "6/6 [==============================] - 0s 4ms/step - loss: 0.4246 - mae: 0.5244 - val_loss: 0.4352 - val_mae: 0.5171\n",
      "Epoch 62/100\n",
      "6/6 [==============================] - 0s 4ms/step - loss: 0.4335 - mae: 0.5225 - val_loss: 0.4729 - val_mae: 0.5397\n",
      "Epoch 63/100\n",
      "6/6 [==============================] - 0s 4ms/step - loss: 0.4134 - mae: 0.5066 - val_loss: 0.3986 - val_mae: 0.4994\n",
      "Epoch 64/100\n"
     ]
    },
    {
     "name": "stdout",
     "output_type": "stream",
     "text": [
      "6/6 [==============================] - 0s 4ms/step - loss: 0.4328 - mae: 0.5238 - val_loss: 0.4683 - val_mae: 0.5453\n",
      "Epoch 65/100\n",
      "6/6 [==============================] - 0s 4ms/step - loss: 0.4082 - mae: 0.5075 - val_loss: 0.4373 - val_mae: 0.5204\n",
      "Epoch 66/100\n",
      "6/6 [==============================] - 0s 4ms/step - loss: 0.4161 - mae: 0.5062 - val_loss: 0.4386 - val_mae: 0.5204\n",
      "Epoch 67/100\n",
      "6/6 [==============================] - 0s 4ms/step - loss: 0.4001 - mae: 0.5070 - val_loss: 0.4652 - val_mae: 0.5333\n",
      "Epoch 68/100\n",
      "6/6 [==============================] - 0s 4ms/step - loss: 0.4082 - mae: 0.4986 - val_loss: 0.4566 - val_mae: 0.5327\n",
      "Epoch 69/100\n",
      "6/6 [==============================] - 0s 5ms/step - loss: 0.4040 - mae: 0.4975 - val_loss: 0.4595 - val_mae: 0.5346\n",
      "Epoch 70/100\n",
      "6/6 [==============================] - 0s 4ms/step - loss: 0.4048 - mae: 0.4973 - val_loss: 0.4615 - val_mae: 0.5403\n",
      "Epoch 71/100\n",
      "6/6 [==============================] - 0s 4ms/step - loss: 0.3933 - mae: 0.4932 - val_loss: 0.4621 - val_mae: 0.5389\n",
      "Epoch 72/100\n",
      "6/6 [==============================] - 0s 4ms/step - loss: 0.3910 - mae: 0.4976 - val_loss: 0.4314 - val_mae: 0.5196\n",
      "Epoch 73/100\n",
      "6/6 [==============================] - 0s 4ms/step - loss: 0.3911 - mae: 0.4961 - val_loss: 0.4952 - val_mae: 0.5503\n",
      "Epoch 74/100\n",
      "6/6 [==============================] - 0s 4ms/step - loss: 0.3692 - mae: 0.4653 - val_loss: 0.4525 - val_mae: 0.5300\n",
      "Epoch 75/100\n",
      "6/6 [==============================] - 0s 4ms/step - loss: 0.3823 - mae: 0.4928 - val_loss: 0.4519 - val_mae: 0.5298\n",
      "Epoch 76/100\n",
      "6/6 [==============================] - 0s 4ms/step - loss: 0.3976 - mae: 0.4895 - val_loss: 0.4854 - val_mae: 0.5543\n",
      "Epoch 77/100\n",
      "6/6 [==============================] - 0s 4ms/step - loss: 0.3982 - mae: 0.4924 - val_loss: 0.4187 - val_mae: 0.5109\n",
      "Epoch 78/100\n",
      "6/6 [==============================] - 0s 5ms/step - loss: 0.3716 - mae: 0.4722 - val_loss: 0.4373 - val_mae: 0.5233\n",
      "Epoch 79/100\n",
      "6/6 [==============================] - 0s 4ms/step - loss: 0.3631 - mae: 0.4817 - val_loss: 0.4569 - val_mae: 0.5350\n",
      "Epoch 80/100\n",
      "6/6 [==============================] - 0s 4ms/step - loss: 0.3796 - mae: 0.4894 - val_loss: 0.4207 - val_mae: 0.5203\n",
      "Epoch 81/100\n",
      "6/6 [==============================] - 0s 4ms/step - loss: 0.3876 - mae: 0.4856 - val_loss: 0.4565 - val_mae: 0.5368\n",
      "Epoch 82/100\n",
      "6/6 [==============================] - 0s 4ms/step - loss: 0.3870 - mae: 0.4907 - val_loss: 0.4310 - val_mae: 0.5300\n",
      "Epoch 83/100\n",
      "6/6 [==============================] - 0s 4ms/step - loss: 0.3752 - mae: 0.4766 - val_loss: 0.4688 - val_mae: 0.5429\n",
      "Epoch 84/100\n",
      "6/6 [==============================] - 0s 4ms/step - loss: 0.3946 - mae: 0.4990 - val_loss: 0.4529 - val_mae: 0.5375\n",
      "Epoch 85/100\n",
      "6/6 [==============================] - 0s 4ms/step - loss: 0.3901 - mae: 0.5031 - val_loss: 0.4479 - val_mae: 0.5292\n",
      "Epoch 86/100\n",
      "6/6 [==============================] - 0s 4ms/step - loss: 0.3946 - mae: 0.4995 - val_loss: 0.4933 - val_mae: 0.5436\n",
      "Epoch 87/100\n",
      "6/6 [==============================] - 0s 4ms/step - loss: 0.4097 - mae: 0.4976 - val_loss: 0.4498 - val_mae: 0.5199\n",
      "Epoch 88/100\n",
      "6/6 [==============================] - 0s 4ms/step - loss: 0.4145 - mae: 0.5030 - val_loss: 0.4431 - val_mae: 0.5204\n",
      "Epoch 89/100\n",
      "6/6 [==============================] - 0s 4ms/step - loss: 0.3914 - mae: 0.4943 - val_loss: 0.4963 - val_mae: 0.5534\n",
      "Epoch 90/100\n",
      "6/6 [==============================] - 0s 4ms/step - loss: 0.3679 - mae: 0.4786 - val_loss: 0.4229 - val_mae: 0.5185\n",
      "Epoch 91/100\n",
      "6/6 [==============================] - 0s 4ms/step - loss: 0.3892 - mae: 0.4993 - val_loss: 0.4852 - val_mae: 0.5453\n",
      "Epoch 92/100\n",
      "6/6 [==============================] - 0s 5ms/step - loss: 0.3895 - mae: 0.4884 - val_loss: 0.4484 - val_mae: 0.5209\n",
      "Epoch 93/100\n",
      "6/6 [==============================] - 0s 5ms/step - loss: 0.3720 - mae: 0.4759 - val_loss: 0.4577 - val_mae: 0.5326\n",
      "Epoch 94/100\n",
      "6/6 [==============================] - 0s 4ms/step - loss: 0.3823 - mae: 0.4895 - val_loss: 0.4804 - val_mae: 0.5471\n",
      "Epoch 95/100\n",
      "6/6 [==============================] - 0s 4ms/step - loss: 0.3745 - mae: 0.4786 - val_loss: 0.4280 - val_mae: 0.5241\n",
      "Epoch 96/100\n",
      "6/6 [==============================] - 0s 4ms/step - loss: 0.3520 - mae: 0.4689 - val_loss: 0.4626 - val_mae: 0.5430\n",
      "Epoch 97/100\n",
      "6/6 [==============================] - 0s 5ms/step - loss: 0.3295 - mae: 0.4580 - val_loss: 0.4310 - val_mae: 0.5354\n",
      "Epoch 98/100\n",
      "6/6 [==============================] - 0s 5ms/step - loss: 0.3473 - mae: 0.4641 - val_loss: 0.4434 - val_mae: 0.5444\n",
      "Epoch 99/100\n",
      "6/6 [==============================] - 0s 4ms/step - loss: 0.3407 - mae: 0.4522 - val_loss: 0.4425 - val_mae: 0.5389\n",
      "Epoch 100/100\n",
      "6/6 [==============================] - 0s 5ms/step - loss: 0.3470 - mae: 0.4701 - val_loss: 0.4494 - val_mae: 0.5425\n"
     ]
    }
   ],
   "source": [
    "history = model.fit(X_train, y_train, validation_split= 0.15, epochs=100, batch_size=64, verbose=1)"
   ]
  },
  {
   "cell_type": "code",
   "execution_count": 20,
   "metadata": {
    "scrolled": true
   },
   "outputs": [
    {
     "name": "stdout",
     "output_type": "stream",
     "text": [
      "2/2 [==============================] - 0s 2ms/step - loss: 0.6452 - mae: 0.6663\n"
     ]
    },
    {
     "data": {
      "text/plain": [
       "[0.6451937556266785, 0.6662508249282837]"
      ]
     },
     "execution_count": 20,
     "metadata": {},
     "output_type": "execute_result"
    }
   ],
   "source": [
    "model.evaluate(X_test, y_test)"
   ]
  },
  {
   "cell_type": "code",
   "execution_count": 21,
   "metadata": {},
   "outputs": [
    {
     "data": {
      "image/png": "[encoded data removed]",
      "text/plain": [
       "<Figure size 432x288 with 1 Axes>"
      ]
     },
     "metadata": {
      "needs_background": "light"
     },
     "output_type": "display_data"
    }
   ],
   "source": [
    "#### Plot the learning curves\n",
    "import matplotlib.pyplot as plt\n",
    "\n",
    "plt.plot(history.history['loss'])\n",
    "plt.plot(history.history['val_loss'])\n",
    "plt.title('Loss vs Epochs')\n",
    "plt.ylabel('Loss')\n",
    "plt.xlabel('Epochs')\n",
    "plt.legend(['Training', 'Validation'], loc='best')\n",
    "plt.show()"
   ]
  },
  {
   "cell_type": "code",
   "execution_count": 22,
   "metadata": {},
   "outputs": [],
   "source": [
    "import warnings\n",
    "warnings.filterwarnings('ignore')"
   ]
  },
  {
   "cell_type": "code",
   "execution_count": 23,
   "metadata": {},
   "outputs": [],
   "source": [
    "import numpy as np\n",
    "import pandas as pd\n",
    "import tensorflow as tf"
   ]
  },
  {
   "cell_type": "code",
   "execution_count": 24,
   "metadata": {
    "scrolled": true
   },
   "outputs": [
    {
     "name": "stdout",
     "output_type": "stream",
     "text": [
      ".. _diabetes_dataset:\n",
      "\n",
      "Diabetes dataset\n",
      "----------------\n",
      "\n",
      "Ten baseline variables, age, sex, body mass index, average blood\n",
      "pressure, and six blood serum measurements were obtained for each of n =\n",
      "442 diabetes patients, as well as the response of interest, a\n",
      "quantitative measure of disease progression one year after baseline.\n",
      "\n",
      "**Data Set Characteristics:**\n",
      "\n",
      "  :Number of Instances: 442\n",
      "\n",
      "  :Number of Attributes: First 10 columns are numeric predictive values\n",
      "\n",
      "  :Target: Column 11 is a quantitative measure of disease progression one year after baseline\n",
      "\n",
      "  :Attribute Information:\n",
      "      - age     age in years\n",
      "      - sex\n",
      "      - bmi     body mass index\n",
      "      - bp      average blood pressure\n",
      "      - s1      tc, T-Cells (a type of white blood cells)\n",
      "      - s2      ldl, low-density lipoproteins\n",
      "      - s3      hdl, high-density lipoproteins\n",
      "      - s4      tch, thyroid stimulating hormone\n",
      "      - s5      ltg, lamotrigine\n",
      "      - s6      glu, blood sugar level\n",
      "\n",
      "Note: Each of these 10 feature variables have been mean centered and scaled by the standard deviation times `n_samples` (i.e. the sum of squares of each column totals 1).\n",
      "\n",
      "Source URL:\n",
      "https://www4.stat.ncsu.edu/~boos/var.select/diabetes.html\n",
      "\n",
      "For more information see:\n",
      "Bradley Efron, Trevor Hastie, Iain Johnstone and Robert Tibshirani (2004) \"Least Angle Regression,\" Annals of Statistics (with discussion), 407-499.\n",
      "(https://web.stanford.edu/~hastie/Papers/LARS/LeastAngle_2002.pdf)\n"
     ]
    }
   ],
   "source": [
    "from sklearn.datasets import load_diabetes\n",
    "\n",
    "diabetes_dataset = load_diabetes()\n",
    "print(diabetes_dataset['DESCR'])"
   ]
  },
  {
   "cell_type": "code",
   "execution_count": 25,
   "metadata": {},
   "outputs": [
    {
     "name": "stdout",
     "output_type": "stream",
     "text": [
      "dict_keys(['data', 'target', 'frame', 'DESCR', 'feature_names', 'data_filename', 'target_filename'])\n"
     ]
    }
   ],
   "source": [
    "print(diabetes_dataset.keys())"
   ]
  },
  {
   "cell_type": "code",
   "execution_count": 26,
   "metadata": {},
   "outputs": [],
   "source": [
    "data = diabetes_dataset['data']\n",
    "target = diabetes_dataset['target']"
   ]
  },
  {
   "cell_type": "code",
   "execution_count": 27,
   "metadata": {},
   "outputs": [
    {
     "data": {
      "text/plain": [
       "array([-1.47194752e-02, -1.00165882e+00, -1.44579915e-01,  6.99512942e-01,\n",
       "       -2.22496178e-01, -7.15965848e-01, -1.83538046e-01, -1.15749134e+00,\n",
       "       -5.47147277e-01,  2.05006151e+00, -6.64021672e-01, -1.07957508e+00,\n",
       "        3.48889755e-01,  4.26806019e-01, -4.43258925e-01,  2.45001404e-01,\n",
       "        1.80071184e-01, -1.05621783e-01, -7.15965848e-01,  2.06043272e-01,\n",
       "       -1.09256112e+00, -1.33929596e+00, -1.09256112e+00,  1.20596866e+00,\n",
       "        4.13819975e-01,  6.47568766e-01, -1.96524090e-01, -8.71798376e-01,\n",
       "       -2.74440354e-01,  1.69943833e+00, -3.00412442e-01, -1.20943552e+00,\n",
       "        2.45262887e+00, -8.45826288e-01, -1.13151925e+00, -6.51035629e-01,\n",
       "        1.46568953e+00,  1.60853602e+00,  1.29687096e+00, -8.06868156e-01,\n",
       "       -6.77007716e-01, -1.26137969e+00, -1.18346343e+00, -7.80896068e-01,\n",
       "        1.38777327e+00, -1.28735178e+00,  4.91736239e-01, -1.31593871e-01,\n",
       "       -1.00165882e+00, -1.31593871e-01,  3.72247006e-02,  9.46247777e-01,\n",
       "       -1.20943552e+00, -6.25063541e-01,  3.87847887e-01, -3.13398486e-01,\n",
       "       -1.30033783e+00, -1.49512849e+00,  2.32015360e-01,  2.32015360e-01,\n",
       "       -1.18346343e+00, -1.05621783e-01, -1.30033783e+00, -3.13398486e-01,\n",
       "       -1.05360299e+00,  1.41113052e-01, -2.77055191e-02, -7.15965848e-01,\n",
       "        1.02154920e-01,  3.35903711e-01, -1.35228200e+00,  1.53061975e+00,\n",
       "        6.47568766e-01, -5.34161233e-01, -8.71798376e-01, -1.43019827e+00,\n",
       "        2.32015360e-01,  6.21596678e-01,  1.29687096e+00, -5.08189145e-01,\n",
       "       -1.18607827e-01, -1.31332387e+00, -1.30033783e+00,  7.51457118e-01,\n",
       "       -1.13151925e+00, -1.44579915e-01, -1.26137969e+00, -2.35482222e-01,\n",
       "       -1.43019827e+00, -5.34161233e-01, -7.02979804e-01,  1.54099096e-01,\n",
       "       -1.35228200e+00, -7.28951892e-01, -8.06868156e-01,  1.28127008e-01,\n",
       "       -2.77055191e-02,  1.64749415e+00, -7.80896068e-01, -8.97770464e-01,\n",
       "       -3.13398486e-01, -6.51035629e-01,  1.94617316e+00,  5.95624590e-01,\n",
       "       -7.41937936e-01, -1.28735178e+00, -2.35482222e-01, -1.05621783e-01,\n",
       "        1.03715008e+00, -9.23742551e-01, -6.25063541e-01, -1.20943552e+00,\n",
       "        1.21895470e+00,  1.88124294e+00,  1.37478723e+00,  9.98191953e-01,\n",
       "        1.59554997e+00,  1.67346624e+00,  3.48889755e-01,  6.21596678e-01,\n",
       "        6.21596678e-01,  2.70973492e-01,  3.61875799e-01, -8.84784420e-01,\n",
       "       -4.04300794e-01,  1.15140964e-01, -6.89993760e-01, -5.60133321e-01,\n",
       "       -4.82217057e-01,  1.50464767e+00,  1.58256393e+00,  7.61828325e-02,\n",
       "       -5.86105409e-01, -8.97770464e-01, -6.38049585e-01,  1.55659184e+00,\n",
       "       -8.71798376e-01,  1.66048019e+00,  2.38769865e+00,  1.67346624e+00,\n",
       "       -4.43258925e-01,  2.14096382e+00,  1.07610822e+00, -1.19644947e+00,\n",
       "        2.83959536e-01,  1.38777327e+00,  3.35903711e-01, -3.13398486e-01,\n",
       "       -7.28951892e-01, -3.39370574e-01,  1.76436855e+00, -8.32840244e-01,\n",
       "        1.81631272e+00, -1.05360299e+00,  5.82638546e-01,  4.39792063e-01,\n",
       "       -1.65096101e+00, -8.84784420e-01, -7.28951892e-01,  5.56666458e-01,\n",
       "       -1.28735178e+00,  8.42359425e-01,  2.57987448e-01, -2.74440354e-01,\n",
       "        8.03401293e-01, -1.20943552e+00, -1.06658903e+00,  8.81317557e-01,\n",
       "        1.50464767e+00, -1.73343121e-03, -1.36526805e+00, -1.01464486e+00,\n",
       "        1.85527085e+00, -6.64021672e-01, -1.47194752e-02, -3.26384530e-01,\n",
       "        1.10208030e+00,  9.46247777e-01, -9.23742551e-01, -1.47194752e-02,\n",
       "       -5.86105409e-01, -1.14450530e+00, -1.83538046e-01,  4.26806019e-01,\n",
       "        1.46568953e+00, -6.64021672e-01, -1.96524090e-01, -1.18607827e-01,\n",
       "       -1.44579915e-01, -9.49714639e-01,  1.81631272e+00,  3.35903711e-01,\n",
       "       -7.93882112e-01, -4.69231013e-01, -8.58812332e-01, -3.91314750e-01,\n",
       "       -1.04061695e+00, -3.00412442e-01, -1.31593871e-01, -8.06868156e-01,\n",
       "        7.61828325e-02, -1.46915640e+00,  5.69652502e-01,  9.07289645e-01,\n",
       "        1.62152206e+00, -6.89993760e-01,  5.69652502e-01,  6.47568766e-01,\n",
       "        3.72247006e-02, -9.75686727e-01,  5.04722283e-01, -1.06658903e+00,\n",
       "       -1.02763090e+00, -1.33929596e+00, -1.13151925e+00,  1.43971745e+00,\n",
       "        1.24492679e+00,  1.86825690e+00,  8.03401293e-01,  4.26806019e-01,\n",
       "       -9.62700683e-01, -7.67910024e-01,  1.29687096e+00, -2.77055191e-02,\n",
       "       -9.75686727e-01,  7.25485030e-01, -9.75686727e-01, -5.73119365e-01,\n",
       "        1.02154920e-01, -1.28735178e+00,  8.81317557e-01,  2.42386567e-02,\n",
       "        1.38777327e+00, -8.06868156e-01,  1.21895470e+00, -3.65342662e-01,\n",
       "       -1.10554717e+00, -1.04061695e+00,  1.36180118e+00,  1.42673140e+00,\n",
       "        1.59554997e+00,  3.22917667e-01, -1.05360299e+00, -1.36526805e+00,\n",
       "        4.52778107e-01, -3.52356618e-01, -9.62700683e-01, -1.31332387e+00,\n",
       "        1.37478723e+00,  8.16387337e-01,  1.95915920e+00,  1.17999657e+00,\n",
       "       -7.93882112e-01, -2.77055191e-02,  2.05006151e+00,  1.12526127e-02,\n",
       "        2.51755909e+00, -1.15749134e+00, -8.19854200e-01, -1.32630991e+00,\n",
       "       -1.46915640e+00, -6.38049585e-01,  2.02408942e+00, -4.69231013e-01,\n",
       "       -9.26357388e-02, -1.01464486e+00, -1.39124013e+00, -4.82217057e-01,\n",
       "        1.45270349e+00, -8.45826288e-01,  6.47568766e-01, -3.26384530e-01,\n",
       "        3.87847887e-01,  1.15402448e+00, -1.11853321e+00, -7.54923980e-01,\n",
       "        1.69943833e+00, -1.14450530e+00, -6.51035629e-01,  6.21596678e-01,\n",
       "        1.46568953e+00, -7.54923980e-01,  1.01117800e+00,  3.74861843e-01,\n",
       "        5.02107446e-02,  1.05013613e+00, -1.19644947e+00,  8.68331513e-01,\n",
       "       -9.36728595e-01, -1.09256112e+00,  2.33575448e+00,  1.24492679e+00,\n",
       "       -8.84784420e-01,  6.21596678e-01, -1.26137969e+00, -8.71798376e-01,\n",
       "       -8.19854200e-01, -1.57304475e+00, -3.00412442e-01, -8.97770464e-01,\n",
       "        1.59554997e+00, -1.13151925e+00,  5.95624590e-01,  1.08909426e+00,\n",
       "        1.30985701e+00, -3.65342662e-01, -1.40422618e+00,  2.57987448e-01,\n",
       "       -4.95203101e-01, -1.31593871e-01, -5.60133321e-01,  3.61875799e-01,\n",
       "       -1.05621783e-01,  1.41113052e-01, -6.66636509e-02, -7.15965848e-01,\n",
       "        8.81317557e-01,  4.91736239e-01, -5.60133321e-01,  5.04722283e-01,\n",
       "       -3.91314750e-01,  1.01117800e+00,  1.16701052e+00,  1.24492679e+00,\n",
       "        1.25791283e+00,  5.17708327e-01, -2.74440354e-01,  1.10208030e+00,\n",
       "       -9.62700683e-01, -2.22496178e-01,  1.19298261e+00,  6.08610634e-01,\n",
       "        1.53061975e+00,  1.54099096e-01, -1.04061695e+00, -7.28951892e-01,\n",
       "        1.99811734e+00, -7.93882112e-01,  8.03401293e-01, -7.41937936e-01,\n",
       "        8.29373381e-01,  1.43971745e+00,  3.35903711e-01, -5.08189145e-01,\n",
       "        6.21596678e-01, -1.70552003e-01, -1.70552003e-01, -8.32840244e-01,\n",
       "       -5.36776070e-02, -8.32840244e-01,  1.17999657e+00, -1.05360299e+00,\n",
       "       -9.75686727e-01, -5.60133321e-01,  1.55659184e+00, -1.19644947e+00,\n",
       "       -1.27436574e+00,  8.94303601e-01, -8.06868156e-01,  2.06304756e+00,\n",
       "        1.67346624e+00,  3.87847887e-01,  2.19290800e+00, -1.22242156e+00,\n",
       "        1.42673140e+00,  6.99512942e-01,  1.05013613e+00,  1.16701052e+00,\n",
       "       -3.78328706e-01,  1.93057228e-01, -1.15749134e+00,  5.82638546e-01,\n",
       "       -1.05360299e+00,  2.06043272e-01, -1.57565959e-01,  8.42359425e-01,\n",
       "       -4.04300794e-01,  1.07610822e+00,  1.20596866e+00, -1.45617035e+00,\n",
       "       -1.30033783e+00, -6.25063541e-01, -2.61454310e-01, -8.32840244e-01,\n",
       "       -1.07957508e+00,  8.68331513e-01, -1.04061695e+00,  6.34582722e-01,\n",
       "       -5.47147277e-01, -1.31332387e+00,  1.62152206e+00, -1.15749134e+00,\n",
       "       -4.43258925e-01, -1.07957508e+00,  1.56957789e+00,  1.37478723e+00,\n",
       "       -1.41721222e+00,  5.95624590e-01,  1.16701052e+00,  1.03715008e+00,\n",
       "        2.96945580e-01, -7.67910024e-01,  2.06043272e-01,  1.59554997e+00,\n",
       "        1.82929877e+00,  1.67346624e+00, -1.04061695e+00, -1.57565959e-01,\n",
       "        4.78750195e-01,  3.74861843e-01,  7.38471074e-01, -2.09510134e-01,\n",
       "        1.41374536e+00, -5.08189145e-01, -2.74440354e-01,  2.83959536e-01,\n",
       "        1.36180118e+00, -1.26137969e+00, -8.84784420e-01, -1.43019827e+00,\n",
       "       -7.96496949e-02,  7.77429206e-01,  1.05013613e+00, -7.93882112e-01,\n",
       "       -5.34161233e-01, -1.73343121e-03, -4.17286837e-01, -1.10554717e+00,\n",
       "        2.05006151e+00, -7.54923980e-01,  4.00833931e-01, -1.11853321e+00,\n",
       "        2.70973492e-01, -1.04061695e+00, -1.33929596e+00, -1.14450530e+00,\n",
       "       -1.35228200e+00,  3.35903711e-01, -6.25063541e-01, -2.61454310e-01,\n",
       "        8.81317557e-01, -1.23540761e+00])"
      ]
     },
     "execution_count": 27,
     "metadata": {},
     "output_type": "execute_result"
    }
   ],
   "source": [
    "# Normalize the target data (this will make clearer training curves)\n",
    "target = (target - target.mean(axis=0)) / target.std()\n",
    "target"
   ]
  },
  {
   "cell_type": "code",
   "execution_count": 28,
   "metadata": {},
   "outputs": [
    {
     "name": "stdout",
     "output_type": "stream",
     "text": [
      "(397, 10)\n",
      "(45, 10)\n",
      "(397,)\n",
      "(45,)\n"
     ]
    }
   ],
   "source": [
    "from sklearn.model_selection import train_test_split\n",
    "\n",
    "X_train, X_test, y_train, y_test = train_test_split(data, target, test_size=0.1)\n",
    "\n",
    "print(X_train.shape)\n",
    "print(X_test.shape)\n",
    "print(y_train.shape)\n",
    "print(y_test.shape)"
   ]
  },
  {
   "cell_type": "markdown",
   "metadata": {},
   "source": [
    "### Train a Feedforward Neural Network Model"
   ]
  },
  {
   "cell_type": "code",
   "execution_count": 29,
   "metadata": {},
   "outputs": [],
   "source": [
    "from tensorflow.keras.models import Sequential\n",
    "from tensorflow.keras.layers import Dense\n",
    "\n",
    "def get_model():\n",
    "    model = Sequential([\n",
    "        Dense(128, activation='relu', input_shape=(X_train.shape[1],)),\n",
    "        Dense(128, activation='relu'),\n",
    "        Dense(128, activation='relu'),\n",
    "        Dense(128, activation='relu'),\n",
    "        Dense(128, activation='relu'),\n",
    "        Dense(128, activation='relu'),\n",
    "        Dense(1)\n",
    "    ])\n",
    "    return model"
   ]
  },
  {
   "cell_type": "code",
   "execution_count": 30,
   "metadata": {},
   "outputs": [],
   "source": [
    "model = get_model()"
   ]
  },
  {
   "cell_type": "code",
   "execution_count": 31,
   "metadata": {
    "scrolled": true
   },
   "outputs": [
    {
     "name": "stdout",
     "output_type": "stream",
     "text": [
      "Model: \"sequential_2\"\n",
      "_________________________________________________________________\n",
      "Layer (type)                 Output Shape              Param #   \n",
      "=================================================================\n",
      "dense_14 (Dense)             (None, 128)               1408      \n",
      "_________________________________________________________________\n",
      "dense_15 (Dense)             (None, 128)               16512     \n",
      "_________________________________________________________________\n",
      "dense_16 (Dense)             (None, 128)               16512     \n",
      "_________________________________________________________________\n",
      "dense_17 (Dense)             (None, 128)               16512     \n",
      "_________________________________________________________________\n",
      "dense_18 (Dense)             (None, 128)               16512     \n",
      "_________________________________________________________________\n",
      "dense_19 (Dense)             (None, 128)               16512     \n",
      "_________________________________________________________________\n",
      "dense_20 (Dense)             (None, 1)                 129       \n",
      "=================================================================\n",
      "Total params: 84,097\n",
      "Trainable params: 84,097\n",
      "Non-trainable params: 0\n",
      "_________________________________________________________________\n"
     ]
    }
   ],
   "source": [
    "# Print the Model Summary\n",
    "model.summary()"
   ]
  },
  {
   "cell_type": "code",
   "execution_count": 32,
   "metadata": {},
   "outputs": [],
   "source": [
    "# Compile the Model\n",
    "model.compile(optimizer='adam', loss='mse', metrics=['mae'])"
   ]
  },
  {
   "cell_type": "code",
   "execution_count": 33,
   "metadata": {},
   "outputs": [
    {
     "name": "stdout",
     "output_type": "stream",
     "text": [
      "Epoch 1/100\n",
      "6/6 - 0s - loss: 0.9956 - mae: 0.8528 - val_loss: 0.9132 - val_mae: 0.8235\n",
      "Epoch 2/100\n",
      "6/6 - 0s - loss: 0.9208 - mae: 0.8196 - val_loss: 0.7500 - val_mae: 0.7530\n",
      "Epoch 3/100\n",
      "6/6 - 0s - loss: 0.7276 - mae: 0.7328 - val_loss: 0.4791 - val_mae: 0.6028\n",
      "Epoch 4/100\n",
      "6/6 - 0s - loss: 0.5495 - mae: 0.6006 - val_loss: 0.5618 - val_mae: 0.5856\n",
      "Epoch 5/100\n",
      "6/6 - 0s - loss: 0.5124 - mae: 0.5670 - val_loss: 0.4525 - val_mae: 0.5451\n",
      "Epoch 6/100\n",
      "6/6 - 0s - loss: 0.4769 - mae: 0.5629 - val_loss: 0.4562 - val_mae: 0.5521\n",
      "Epoch 7/100\n",
      "6/6 - 0s - loss: 0.4823 - mae: 0.5665 - val_loss: 0.4551 - val_mae: 0.5348\n",
      "Epoch 8/100\n",
      "6/6 - 0s - loss: 0.4604 - mae: 0.5449 - val_loss: 0.4485 - val_mae: 0.5353\n",
      "Epoch 9/100\n",
      "6/6 - 0s - loss: 0.4537 - mae: 0.5414 - val_loss: 0.4377 - val_mae: 0.5308\n",
      "Epoch 10/100\n",
      "6/6 - 0s - loss: 0.4514 - mae: 0.5452 - val_loss: 0.4465 - val_mae: 0.5351\n",
      "Epoch 11/100\n",
      "6/6 - 0s - loss: 0.4432 - mae: 0.5276 - val_loss: 0.4789 - val_mae: 0.5525\n",
      "Epoch 12/100\n",
      "6/6 - 0s - loss: 0.4476 - mae: 0.5282 - val_loss: 0.4575 - val_mae: 0.5314\n",
      "Epoch 13/100\n",
      "6/6 - 0s - loss: 0.4383 - mae: 0.5296 - val_loss: 0.4446 - val_mae: 0.5389\n",
      "Epoch 14/100\n",
      "6/6 - 0s - loss: 0.4116 - mae: 0.5135 - val_loss: 0.4527 - val_mae: 0.5246\n",
      "Epoch 15/100\n",
      "6/6 - 0s - loss: 0.4171 - mae: 0.5116 - val_loss: 0.4918 - val_mae: 0.5638\n",
      "Epoch 16/100\n",
      "6/6 - 0s - loss: 0.4112 - mae: 0.5062 - val_loss: 0.4821 - val_mae: 0.5397\n",
      "Epoch 17/100\n",
      "6/6 - 0s - loss: 0.4125 - mae: 0.5133 - val_loss: 0.4887 - val_mae: 0.5431\n",
      "Epoch 18/100\n",
      "6/6 - 0s - loss: 0.3948 - mae: 0.4936 - val_loss: 0.4883 - val_mae: 0.5432\n",
      "Epoch 19/100\n",
      "6/6 - 0s - loss: 0.3864 - mae: 0.4893 - val_loss: 0.4717 - val_mae: 0.5318\n",
      "Epoch 20/100\n",
      "6/6 - 0s - loss: 0.3754 - mae: 0.4853 - val_loss: 0.4804 - val_mae: 0.5425\n",
      "Epoch 21/100\n",
      "6/6 - 0s - loss: 0.3891 - mae: 0.4850 - val_loss: 0.4975 - val_mae: 0.5498\n",
      "Epoch 22/100\n",
      "6/6 - 0s - loss: 0.3646 - mae: 0.4796 - val_loss: 0.5679 - val_mae: 0.5855\n",
      "Epoch 23/100\n",
      "6/6 - 0s - loss: 0.4262 - mae: 0.5139 - val_loss: 0.5155 - val_mae: 0.5504\n",
      "Epoch 24/100\n",
      "6/6 - 0s - loss: 0.3846 - mae: 0.4820 - val_loss: 0.5226 - val_mae: 0.5742\n",
      "Epoch 25/100\n",
      "6/6 - 0s - loss: 0.3596 - mae: 0.4742 - val_loss: 0.5206 - val_mae: 0.5477\n",
      "Epoch 26/100\n",
      "6/6 - 0s - loss: 0.3670 - mae: 0.4729 - val_loss: 0.5258 - val_mae: 0.5537\n",
      "Epoch 27/100\n",
      "6/6 - 0s - loss: 0.3412 - mae: 0.4499 - val_loss: 0.5662 - val_mae: 0.5886\n",
      "Epoch 28/100\n",
      "6/6 - 0s - loss: 0.3596 - mae: 0.4695 - val_loss: 0.5459 - val_mae: 0.5752\n",
      "Epoch 29/100\n",
      "6/6 - 0s - loss: 0.3562 - mae: 0.4696 - val_loss: 0.5655 - val_mae: 0.5693\n",
      "Epoch 30/100\n",
      "6/6 - 0s - loss: 0.3675 - mae: 0.4831 - val_loss: 0.5247 - val_mae: 0.5573\n",
      "Epoch 31/100\n",
      "6/6 - 0s - loss: 0.3486 - mae: 0.4523 - val_loss: 0.5337 - val_mae: 0.5661\n",
      "Epoch 32/100\n",
      "6/6 - 0s - loss: 0.3269 - mae: 0.4498 - val_loss: 0.5402 - val_mae: 0.5624\n",
      "Epoch 33/100\n",
      "6/6 - 0s - loss: 0.3054 - mae: 0.4257 - val_loss: 0.5484 - val_mae: 0.5618\n",
      "Epoch 34/100\n",
      "6/6 - 0s - loss: 0.2848 - mae: 0.4087 - val_loss: 0.5511 - val_mae: 0.5585\n",
      "Epoch 35/100\n",
      "6/6 - 0s - loss: 0.2752 - mae: 0.4054 - val_loss: 0.5889 - val_mae: 0.5770\n",
      "Epoch 36/100\n",
      "6/6 - 0s - loss: 0.2832 - mae: 0.4132 - val_loss: 0.5803 - val_mae: 0.5761\n",
      "Epoch 37/100\n",
      "6/6 - 0s - loss: 0.2748 - mae: 0.4117 - val_loss: 0.5583 - val_mae: 0.5679\n",
      "Epoch 38/100\n",
      "6/6 - 0s - loss: 0.2457 - mae: 0.3777 - val_loss: 0.6315 - val_mae: 0.5920\n",
      "Epoch 39/100\n",
      "6/6 - 0s - loss: 0.2723 - mae: 0.4077 - val_loss: 0.6718 - val_mae: 0.6010\n",
      "Epoch 40/100\n",
      "6/6 - 0s - loss: 0.2454 - mae: 0.3841 - val_loss: 0.6238 - val_mae: 0.5982\n",
      "Epoch 41/100\n",
      "6/6 - 0s - loss: 0.2308 - mae: 0.3705 - val_loss: 0.6276 - val_mae: 0.5901\n",
      "Epoch 42/100\n",
      "6/6 - 0s - loss: 0.2257 - mae: 0.3593 - val_loss: 0.6878 - val_mae: 0.6084\n",
      "Epoch 43/100\n",
      "6/6 - 0s - loss: 0.2037 - mae: 0.3447 - val_loss: 0.6568 - val_mae: 0.6060\n",
      "Epoch 44/100\n",
      "6/6 - 0s - loss: 0.2042 - mae: 0.3447 - val_loss: 0.6826 - val_mae: 0.5991\n",
      "Epoch 45/100\n",
      "6/6 - 0s - loss: 0.1872 - mae: 0.3192 - val_loss: 0.6768 - val_mae: 0.6158\n",
      "Epoch 46/100\n",
      "6/6 - 0s - loss: 0.2089 - mae: 0.3521 - val_loss: 0.7038 - val_mae: 0.6137\n",
      "Epoch 47/100\n",
      "6/6 - 0s - loss: 0.1880 - mae: 0.3224 - val_loss: 0.7520 - val_mae: 0.6305\n",
      "Epoch 48/100\n",
      "6/6 - 0s - loss: 0.1683 - mae: 0.3109 - val_loss: 0.6806 - val_mae: 0.6090\n",
      "Epoch 49/100\n",
      "6/6 - 0s - loss: 0.1600 - mae: 0.2955 - val_loss: 0.7612 - val_mae: 0.6434\n",
      "Epoch 50/100\n",
      "6/6 - 0s - loss: 0.1540 - mae: 0.2981 - val_loss: 0.7727 - val_mae: 0.6348\n",
      "Epoch 51/100\n",
      "6/6 - 0s - loss: 0.1315 - mae: 0.2664 - val_loss: 0.7421 - val_mae: 0.6326\n",
      "Epoch 52/100\n",
      "6/6 - 0s - loss: 0.1269 - mae: 0.2686 - val_loss: 0.7753 - val_mae: 0.6540\n",
      "Epoch 53/100\n",
      "6/6 - 0s - loss: 0.1449 - mae: 0.2818 - val_loss: 0.7684 - val_mae: 0.6668\n",
      "Epoch 54/100\n",
      "6/6 - 0s - loss: 0.1794 - mae: 0.3287 - val_loss: 0.7760 - val_mae: 0.6456\n",
      "Epoch 55/100\n",
      "6/6 - 0s - loss: 0.1530 - mae: 0.2968 - val_loss: 0.7099 - val_mae: 0.6221\n",
      "Epoch 56/100\n",
      "6/6 - 0s - loss: 0.1272 - mae: 0.2650 - val_loss: 0.7390 - val_mae: 0.6286\n",
      "Epoch 57/100\n",
      "6/6 - 0s - loss: 0.1197 - mae: 0.2632 - val_loss: 0.7803 - val_mae: 0.6604\n",
      "Epoch 58/100\n",
      "6/6 - 0s - loss: 0.1436 - mae: 0.2968 - val_loss: 0.8266 - val_mae: 0.6829\n",
      "Epoch 59/100\n",
      "6/6 - 0s - loss: 0.1224 - mae: 0.2692 - val_loss: 0.7346 - val_mae: 0.6455\n",
      "Epoch 60/100\n",
      "6/6 - 0s - loss: 0.0985 - mae: 0.2354 - val_loss: 0.8089 - val_mae: 0.6612\n",
      "Epoch 61/100\n",
      "6/6 - 0s - loss: 0.0936 - mae: 0.2215 - val_loss: 0.8228 - val_mae: 0.6702\n",
      "Epoch 62/100\n",
      "6/6 - 0s - loss: 0.0882 - mae: 0.2206 - val_loss: 0.8680 - val_mae: 0.6943\n",
      "Epoch 63/100\n",
      "6/6 - 0s - loss: 0.0947 - mae: 0.2311 - val_loss: 0.8184 - val_mae: 0.6616\n",
      "Epoch 64/100\n",
      "6/6 - 0s - loss: 0.0985 - mae: 0.2341 - val_loss: 0.7602 - val_mae: 0.6439\n",
      "Epoch 65/100\n",
      "6/6 - 0s - loss: 0.0904 - mae: 0.2242 - val_loss: 0.8239 - val_mae: 0.6783\n",
      "Epoch 66/100\n",
      "6/6 - 0s - loss: 0.0880 - mae: 0.2242 - val_loss: 0.8266 - val_mae: 0.6613\n",
      "Epoch 67/100\n",
      "6/6 - 0s - loss: 0.0904 - mae: 0.2264 - val_loss: 0.7847 - val_mae: 0.6732\n",
      "Epoch 68/100\n",
      "6/6 - 0s - loss: 0.0944 - mae: 0.2329 - val_loss: 0.8772 - val_mae: 0.6918\n",
      "Epoch 69/100\n",
      "6/6 - 0s - loss: 0.0827 - mae: 0.2112 - val_loss: 0.7583 - val_mae: 0.6436\n",
      "Epoch 70/100\n",
      "6/6 - 0s - loss: 0.0782 - mae: 0.2100 - val_loss: 0.7759 - val_mae: 0.6485\n",
      "Epoch 71/100\n",
      "6/6 - 0s - loss: 0.0690 - mae: 0.1939 - val_loss: 0.8526 - val_mae: 0.6773\n",
      "Epoch 72/100\n",
      "6/6 - 0s - loss: 0.0633 - mae: 0.1825 - val_loss: 0.7950 - val_mae: 0.6633\n",
      "Epoch 73/100\n",
      "6/6 - 0s - loss: 0.0899 - mae: 0.2323 - val_loss: 0.7987 - val_mae: 0.6531\n",
      "Epoch 74/100\n",
      "6/6 - 0s - loss: 0.0667 - mae: 0.1929 - val_loss: 0.8136 - val_mae: 0.6804\n",
      "Epoch 75/100\n",
      "6/6 - 0s - loss: 0.0662 - mae: 0.1907 - val_loss: 0.8089 - val_mae: 0.6630\n",
      "Epoch 76/100\n",
      "6/6 - 0s - loss: 0.0603 - mae: 0.1792 - val_loss: 0.8226 - val_mae: 0.6633\n",
      "Epoch 77/100\n",
      "6/6 - 0s - loss: 0.0604 - mae: 0.1844 - val_loss: 0.7819 - val_mae: 0.6660\n",
      "Epoch 78/100\n",
      "6/6 - 0s - loss: 0.0573 - mae: 0.1748 - val_loss: 0.8395 - val_mae: 0.6720\n",
      "Epoch 79/100\n",
      "6/6 - 0s - loss: 0.0763 - mae: 0.2084 - val_loss: 0.9077 - val_mae: 0.7268\n",
      "Epoch 80/100\n",
      "6/6 - 0s - loss: 0.0969 - mae: 0.2518 - val_loss: 0.7971 - val_mae: 0.6681\n",
      "Epoch 81/100\n",
      "6/6 - 0s - loss: 0.1084 - mae: 0.2498 - val_loss: 0.8287 - val_mae: 0.6736\n",
      "Epoch 82/100\n",
      "6/6 - 0s - loss: 0.1119 - mae: 0.2593 - val_loss: 0.8017 - val_mae: 0.6966\n",
      "Epoch 83/100\n",
      "6/6 - 0s - loss: 0.1253 - mae: 0.2764 - val_loss: 0.8786 - val_mae: 0.7031\n",
      "Epoch 84/100\n",
      "6/6 - 0s - loss: 0.1141 - mae: 0.2587 - val_loss: 0.7801 - val_mae: 0.6821\n",
      "Epoch 85/100\n",
      "6/6 - 0s - loss: 0.1366 - mae: 0.2982 - val_loss: 0.7654 - val_mae: 0.6447\n",
      "Epoch 86/100\n",
      "6/6 - 0s - loss: 0.1161 - mae: 0.2589 - val_loss: 0.7450 - val_mae: 0.6342\n",
      "Epoch 87/100\n",
      "6/6 - 0s - loss: 0.0856 - mae: 0.2260 - val_loss: 0.7895 - val_mae: 0.6528\n",
      "Epoch 88/100\n",
      "6/6 - 0s - loss: 0.0524 - mae: 0.1676 - val_loss: 0.8426 - val_mae: 0.6817\n",
      "Epoch 89/100\n",
      "6/6 - 0s - loss: 0.0475 - mae: 0.1606 - val_loss: 0.8273 - val_mae: 0.6825\n",
      "Epoch 90/100\n",
      "6/6 - 0s - loss: 0.0486 - mae: 0.1625 - val_loss: 0.8445 - val_mae: 0.6840\n",
      "Epoch 91/100\n",
      "6/6 - 0s - loss: 0.0461 - mae: 0.1551 - val_loss: 0.8121 - val_mae: 0.6769\n",
      "Epoch 92/100\n",
      "6/6 - 0s - loss: 0.0452 - mae: 0.1546 - val_loss: 0.8582 - val_mae: 0.7031\n",
      "Epoch 93/100\n",
      "6/6 - 0s - loss: 0.0487 - mae: 0.1651 - val_loss: 0.8799 - val_mae: 0.7016\n",
      "Epoch 94/100\n",
      "6/6 - 0s - loss: 0.0740 - mae: 0.2097 - val_loss: 0.7865 - val_mae: 0.6704\n"
     ]
    },
    {
     "name": "stdout",
     "output_type": "stream",
     "text": [
      "Epoch 95/100\n",
      "6/6 - 0s - loss: 0.0851 - mae: 0.2268 - val_loss: 0.8466 - val_mae: 0.6892\n",
      "Epoch 96/100\n",
      "6/6 - 0s - loss: 0.0738 - mae: 0.2048 - val_loss: 0.8062 - val_mae: 0.6829\n",
      "Epoch 97/100\n",
      "6/6 - 0s - loss: 0.0583 - mae: 0.1834 - val_loss: 0.8494 - val_mae: 0.6969\n",
      "Epoch 98/100\n",
      "6/6 - 0s - loss: 0.0643 - mae: 0.1947 - val_loss: 0.8733 - val_mae: 0.7170\n",
      "Epoch 99/100\n",
      "6/6 - 0s - loss: 0.0527 - mae: 0.1833 - val_loss: 0.8812 - val_mae: 0.7267\n",
      "Epoch 100/100\n",
      "6/6 - 0s - loss: 0.0427 - mae: 0.1533 - val_loss: 0.7848 - val_mae: 0.6685\n"
     ]
    }
   ],
   "source": [
    "# Train the Model, with some of the data reserved for validation\n",
    "history = model.fit(X_train, y_train, epochs=100, validation_split=0.15, batch_size=64, verbose=2)"
   ]
  },
  {
   "cell_type": "code",
   "execution_count": 34,
   "metadata": {},
   "outputs": [
    {
     "name": "stdout",
     "output_type": "stream",
     "text": [
      "2/2 [==============================] - 0s 1ms/step - loss: 0.5172 - mae: 0.5562\n"
     ]
    },
    {
     "data": {
      "text/plain": [
       "[0.5171864628791809, 0.5562112331390381]"
      ]
     },
     "execution_count": 34,
     "metadata": {},
     "output_type": "execute_result"
    }
   ],
   "source": [
    "# Evaluate the model on the test set\n",
    "model.evaluate(X_test, y_test)"
   ]
  },
  {
   "cell_type": "code",
   "execution_count": 35,
   "metadata": {},
   "outputs": [
    {
     "data": {
      "image/png": "[encoded data removed]",
      "text/plain": [
       "<Figure size 432x288 with 1 Axes>"
      ]
     },
     "metadata": {
      "needs_background": "light"
     },
     "output_type": "display_data"
    }
   ],
   "source": [
    "#### Plot the learning curves\n",
    "import matplotlib.pyplot as plt\n",
    "\n",
    "plt.plot(history.history['loss'])\n",
    "plt.plot(history.history['val_loss'])\n",
    "plt.title('Loss vs Epochs')\n",
    "plt.ylabel('Loss')\n",
    "plt.xlabel('Epochs')\n",
    "plt.legend(['Training', 'Validation'], loc='best')\n",
    "plt.show()"
   ]
  },
  {
   "cell_type": "markdown",
   "metadata": {},
   "source": [
    "### Model Regularization"
   ]
  },
  {
   "cell_type": "code",
   "execution_count": 36,
   "metadata": {},
   "outputs": [],
   "source": [
    "from tensorflow.keras.layers import Dropout\n",
    "from tensorflow.keras import regularizers"
   ]
  },
  {
   "cell_type": "code",
   "execution_count": 37,
   "metadata": {},
   "outputs": [],
   "source": [
    "def get_regularized_model(wd, rate):\n",
    "    model = Sequential([\n",
    "        Dense(128, kernel_regularizer= regularizers.l2(wd), activation='relu', input_shape=(X_train.shape[1],)),\n",
    "        Dropout(rate),\n",
    "        Dense(128, kernel_regularizer= regularizers.l2(wd), activation='relu'),\n",
    "        Dropout(rate),\n",
    "        Dense(128, kernel_regularizer= regularizers.l2(wd), activation='relu'),\n",
    "        Dropout(rate),\n",
    "        Dense(128, kernel_regularizer= regularizers.l2(wd), activation='relu'),\n",
    "        Dropout(rate),\n",
    "        Dense(128, kernel_regularizer= regularizers.l2(wd), activation='relu'),\n",
    "        Dropout(rate),\n",
    "        Dense(128, kernel_regularizer= regularizers.l2(wd),activation='relu'),\n",
    "        Dropout(rate),\n",
    "        Dense(1)\n",
    "    ])\n",
    "    return model"
   ]
  },
  {
   "cell_type": "code",
   "execution_count": 38,
   "metadata": {},
   "outputs": [],
   "source": [
    "model = get_regularized_model(1e-5, 0.3)"
   ]
  },
  {
   "cell_type": "code",
   "execution_count": 39,
   "metadata": {},
   "outputs": [],
   "source": [
    "model.compile(optimizer='adam', loss='mse', metrics = ['mae'])"
   ]
  },
  {
   "cell_type": "code",
   "execution_count": 40,
   "metadata": {},
   "outputs": [
    {
     "name": "stdout",
     "output_type": "stream",
     "text": [
      "Epoch 1/100\n",
      "6/6 [==============================] - 0s 27ms/step - loss: 1.0076 - mae: 0.8571 - val_loss: 0.9672 - val_mae: 0.8439\n",
      "Epoch 2/100\n",
      "6/6 [==============================] - 0s 5ms/step - loss: 0.9944 - mae: 0.8538 - val_loss: 0.9356 - val_mae: 0.8311\n",
      "Epoch 3/100\n",
      "6/6 [==============================] - 0s 4ms/step - loss: 0.9672 - mae: 0.8474 - val_loss: 0.8575 - val_mae: 0.7976\n",
      "Epoch 4/100\n",
      "6/6 [==============================] - 0s 5ms/step - loss: 0.8780 - mae: 0.8141 - val_loss: 0.7198 - val_mae: 0.7304\n",
      "Epoch 5/100\n",
      "6/6 [==============================] - 0s 4ms/step - loss: 0.7826 - mae: 0.7632 - val_loss: 0.6161 - val_mae: 0.6873\n",
      "Epoch 6/100\n",
      "6/6 [==============================] - 0s 4ms/step - loss: 0.6364 - mae: 0.6686 - val_loss: 0.5968 - val_mae: 0.6655\n",
      "Epoch 7/100\n",
      "6/6 [==============================] - 0s 4ms/step - loss: 0.6332 - mae: 0.6585 - val_loss: 0.5157 - val_mae: 0.6155\n",
      "Epoch 8/100\n",
      "6/6 [==============================] - 0s 4ms/step - loss: 0.6530 - mae: 0.6503 - val_loss: 0.5002 - val_mae: 0.6001\n",
      "Epoch 9/100\n",
      "6/6 [==============================] - 0s 4ms/step - loss: 0.5783 - mae: 0.6291 - val_loss: 0.5039 - val_mae: 0.6036\n",
      "Epoch 10/100\n",
      "6/6 [==============================] - 0s 5ms/step - loss: 0.6061 - mae: 0.6471 - val_loss: 0.4786 - val_mae: 0.5825\n",
      "Epoch 11/100\n",
      "6/6 [==============================] - 0s 5ms/step - loss: 0.5562 - mae: 0.6065 - val_loss: 0.4796 - val_mae: 0.5760\n",
      "Epoch 12/100\n",
      "6/6 [==============================] - 0s 4ms/step - loss: 0.5436 - mae: 0.6012 - val_loss: 0.4673 - val_mae: 0.5540\n",
      "Epoch 13/100\n",
      "6/6 [==============================] - 0s 5ms/step - loss: 0.6128 - mae: 0.6338 - val_loss: 0.4665 - val_mae: 0.5592\n",
      "Epoch 14/100\n",
      "6/6 [==============================] - 0s 5ms/step - loss: 0.5416 - mae: 0.6017 - val_loss: 0.4669 - val_mae: 0.5699\n",
      "Epoch 15/100\n",
      "6/6 [==============================] - 0s 5ms/step - loss: 0.5500 - mae: 0.6126 - val_loss: 0.4535 - val_mae: 0.5528\n",
      "Epoch 16/100\n",
      "6/6 [==============================] - 0s 4ms/step - loss: 0.5777 - mae: 0.6213 - val_loss: 0.4483 - val_mae: 0.5459\n",
      "Epoch 17/100\n",
      "6/6 [==============================] - 0s 5ms/step - loss: 0.5413 - mae: 0.6109 - val_loss: 0.4423 - val_mae: 0.5328\n",
      "Epoch 18/100\n",
      "6/6 [==============================] - 0s 5ms/step - loss: 0.5381 - mae: 0.5912 - val_loss: 0.4416 - val_mae: 0.5315\n",
      "Epoch 19/100\n",
      "6/6 [==============================] - 0s 5ms/step - loss: 0.5527 - mae: 0.6085 - val_loss: 0.4455 - val_mae: 0.5439\n",
      "Epoch 20/100\n",
      "6/6 [==============================] - 0s 4ms/step - loss: 0.5492 - mae: 0.5949 - val_loss: 0.4558 - val_mae: 0.5360\n",
      "Epoch 21/100\n",
      "6/6 [==============================] - 0s 4ms/step - loss: 0.5256 - mae: 0.5790 - val_loss: 0.4597 - val_mae: 0.5370\n",
      "Epoch 22/100\n",
      "6/6 [==============================] - 0s 5ms/step - loss: 0.5173 - mae: 0.5786 - val_loss: 0.4524 - val_mae: 0.5375\n",
      "Epoch 23/100\n",
      "6/6 [==============================] - 0s 5ms/step - loss: 0.5012 - mae: 0.5754 - val_loss: 0.4484 - val_mae: 0.5350\n",
      "Epoch 24/100\n",
      "6/6 [==============================] - 0s 5ms/step - loss: 0.5129 - mae: 0.5824 - val_loss: 0.4451 - val_mae: 0.5244\n",
      "Epoch 25/100\n",
      "6/6 [==============================] - 0s 5ms/step - loss: 0.4994 - mae: 0.5709 - val_loss: 0.4399 - val_mae: 0.5316\n",
      "Epoch 26/100\n",
      "6/6 [==============================] - 0s 5ms/step - loss: 0.5210 - mae: 0.5874 - val_loss: 0.4390 - val_mae: 0.5315\n",
      "Epoch 27/100\n",
      "6/6 [==============================] - 0s 5ms/step - loss: 0.5093 - mae: 0.5827 - val_loss: 0.4470 - val_mae: 0.5407\n",
      "Epoch 28/100\n",
      "6/6 [==============================] - 0s 5ms/step - loss: 0.5154 - mae: 0.5816 - val_loss: 0.4665 - val_mae: 0.5388\n",
      "Epoch 29/100\n",
      "6/6 [==============================] - 0s 5ms/step - loss: 0.4937 - mae: 0.5650 - val_loss: 0.4635 - val_mae: 0.5565\n",
      "Epoch 30/100\n",
      "6/6 [==============================] - 0s 5ms/step - loss: 0.5344 - mae: 0.6006 - val_loss: 0.4652 - val_mae: 0.5546\n",
      "Epoch 31/100\n",
      "6/6 [==============================] - 0s 4ms/step - loss: 0.5252 - mae: 0.5931 - val_loss: 0.4652 - val_mae: 0.5446\n",
      "Epoch 32/100\n",
      "6/6 [==============================] - 0s 5ms/step - loss: 0.5136 - mae: 0.5811 - val_loss: 0.4766 - val_mae: 0.5514\n",
      "Epoch 33/100\n",
      "6/6 [==============================] - 0s 5ms/step - loss: 0.4983 - mae: 0.5613 - val_loss: 0.4743 - val_mae: 0.5427\n",
      "Epoch 34/100\n",
      "6/6 [==============================] - 0s 4ms/step - loss: 0.4980 - mae: 0.5752 - val_loss: 0.4592 - val_mae: 0.5502\n",
      "Epoch 35/100\n",
      "6/6 [==============================] - 0s 4ms/step - loss: 0.5057 - mae: 0.5888 - val_loss: 0.4575 - val_mae: 0.5304\n",
      "Epoch 36/100\n",
      "6/6 [==============================] - 0s 4ms/step - loss: 0.4835 - mae: 0.5628 - val_loss: 0.4764 - val_mae: 0.5290\n",
      "Epoch 37/100\n",
      "6/6 [==============================] - 0s 4ms/step - loss: 0.4998 - mae: 0.5685 - val_loss: 0.4532 - val_mae: 0.5359\n",
      "Epoch 38/100\n",
      "6/6 [==============================] - 0s 4ms/step - loss: 0.4853 - mae: 0.5622 - val_loss: 0.4591 - val_mae: 0.5350\n",
      "Epoch 39/100\n",
      "6/6 [==============================] - 0s 4ms/step - loss: 0.4699 - mae: 0.5615 - val_loss: 0.4695 - val_mae: 0.5302\n",
      "Epoch 40/100\n",
      "6/6 [==============================] - 0s 5ms/step - loss: 0.4649 - mae: 0.5489 - val_loss: 0.4792 - val_mae: 0.5351\n",
      "Epoch 41/100\n",
      "6/6 [==============================] - 0s 4ms/step - loss: 0.5039 - mae: 0.5715 - val_loss: 0.4638 - val_mae: 0.5365\n",
      "Epoch 42/100\n",
      "6/6 [==============================] - 0s 4ms/step - loss: 0.4922 - mae: 0.5735 - val_loss: 0.4770 - val_mae: 0.5311\n",
      "Epoch 43/100\n",
      "6/6 [==============================] - 0s 4ms/step - loss: 0.5058 - mae: 0.5694 - val_loss: 0.4791 - val_mae: 0.5465\n",
      "Epoch 44/100\n",
      "6/6 [==============================] - 0s 5ms/step - loss: 0.4903 - mae: 0.5641 - val_loss: 0.4883 - val_mae: 0.5450\n",
      "Epoch 45/100\n",
      "6/6 [==============================] - 0s 5ms/step - loss: 0.4924 - mae: 0.5439 - val_loss: 0.4914 - val_mae: 0.5404\n",
      "Epoch 46/100\n",
      "6/6 [==============================] - 0s 5ms/step - loss: 0.4967 - mae: 0.5551 - val_loss: 0.4674 - val_mae: 0.5425\n",
      "Epoch 47/100\n",
      "6/6 [==============================] - 0s 5ms/step - loss: 0.4904 - mae: 0.5747 - val_loss: 0.4744 - val_mae: 0.5476\n",
      "Epoch 48/100\n",
      "6/6 [==============================] - 0s 5ms/step - loss: 0.5191 - mae: 0.5696 - val_loss: 0.4923 - val_mae: 0.5642\n",
      "Epoch 49/100\n",
      "6/6 [==============================] - 0s 5ms/step - loss: 0.4943 - mae: 0.5768 - val_loss: 0.4924 - val_mae: 0.5692\n",
      "Epoch 50/100\n",
      "6/6 [==============================] - 0s 5ms/step - loss: 0.4953 - mae: 0.5737 - val_loss: 0.4766 - val_mae: 0.5618\n",
      "Epoch 51/100\n",
      "6/6 [==============================] - 0s 5ms/step - loss: 0.4361 - mae: 0.5386 - val_loss: 0.4871 - val_mae: 0.5396\n",
      "Epoch 52/100\n",
      "6/6 [==============================] - 0s 4ms/step - loss: 0.4732 - mae: 0.5437 - val_loss: 0.4912 - val_mae: 0.5370\n",
      "Epoch 53/100\n",
      "6/6 [==============================] - 0s 5ms/step - loss: 0.4628 - mae: 0.5385 - val_loss: 0.4836 - val_mae: 0.5372\n",
      "Epoch 54/100\n",
      "6/6 [==============================] - 0s 5ms/step - loss: 0.4687 - mae: 0.5396 - val_loss: 0.4768 - val_mae: 0.5405\n",
      "Epoch 55/100\n",
      "6/6 [==============================] - 0s 5ms/step - loss: 0.4616 - mae: 0.5492 - val_loss: 0.4903 - val_mae: 0.5488\n",
      "Epoch 56/100\n",
      "6/6 [==============================] - 0s 5ms/step - loss: 0.4669 - mae: 0.5506 - val_loss: 0.4993 - val_mae: 0.5556\n",
      "Epoch 57/100\n",
      "6/6 [==============================] - 0s 5ms/step - loss: 0.4696 - mae: 0.5483 - val_loss: 0.5059 - val_mae: 0.5554\n",
      "Epoch 58/100\n",
      "6/6 [==============================] - 0s 4ms/step - loss: 0.4468 - mae: 0.5306 - val_loss: 0.5028 - val_mae: 0.5444\n",
      "Epoch 59/100\n",
      "6/6 [==============================] - 0s 4ms/step - loss: 0.4376 - mae: 0.5319 - val_loss: 0.5121 - val_mae: 0.5472\n",
      "Epoch 60/100\n",
      "6/6 [==============================] - 0s 4ms/step - loss: 0.4223 - mae: 0.5092 - val_loss: 0.5433 - val_mae: 0.5711\n",
      "Epoch 61/100\n",
      "6/6 [==============================] - 0s 5ms/step - loss: 0.4692 - mae: 0.5397 - val_loss: 0.5320 - val_mae: 0.5809\n",
      "Epoch 62/100\n",
      "6/6 [==============================] - 0s 5ms/step - loss: 0.4489 - mae: 0.5312 - val_loss: 0.5086 - val_mae: 0.5671\n",
      "Epoch 63/100\n",
      "6/6 [==============================] - 0s 5ms/step - loss: 0.4416 - mae: 0.5348 - val_loss: 0.5112 - val_mae: 0.5655\n",
      "Epoch 64/100\n"
     ]
    },
    {
     "name": "stdout",
     "output_type": "stream",
     "text": [
      "6/6 [==============================] - 0s 5ms/step - loss: 0.4308 - mae: 0.5252 - val_loss: 0.5278 - val_mae: 0.5661\n",
      "Epoch 65/100\n",
      "6/6 [==============================] - 0s 5ms/step - loss: 0.4712 - mae: 0.5344 - val_loss: 0.5194 - val_mae: 0.5661\n",
      "Epoch 66/100\n",
      "6/6 [==============================] - 0s 4ms/step - loss: 0.4154 - mae: 0.5075 - val_loss: 0.5113 - val_mae: 0.5619\n",
      "Epoch 67/100\n",
      "6/6 [==============================] - 0s 4ms/step - loss: 0.4363 - mae: 0.5289 - val_loss: 0.5239 - val_mae: 0.5719\n",
      "Epoch 68/100\n",
      "6/6 [==============================] - 0s 4ms/step - loss: 0.4338 - mae: 0.5178 - val_loss: 0.5564 - val_mae: 0.5907\n",
      "Epoch 69/100\n",
      "6/6 [==============================] - 0s 5ms/step - loss: 0.4500 - mae: 0.5266 - val_loss: 0.5345 - val_mae: 0.5959\n",
      "Epoch 70/100\n",
      "6/6 [==============================] - 0s 4ms/step - loss: 0.4265 - mae: 0.5224 - val_loss: 0.5299 - val_mae: 0.5826\n",
      "Epoch 71/100\n",
      "6/6 [==============================] - 0s 4ms/step - loss: 0.4074 - mae: 0.5023 - val_loss: 0.5445 - val_mae: 0.5802\n",
      "Epoch 72/100\n",
      "6/6 [==============================] - 0s 4ms/step - loss: 0.4105 - mae: 0.4931 - val_loss: 0.5627 - val_mae: 0.5831\n",
      "Epoch 73/100\n",
      "6/6 [==============================] - 0s 5ms/step - loss: 0.4492 - mae: 0.5184 - val_loss: 0.5306 - val_mae: 0.5784\n",
      "Epoch 74/100\n",
      "6/6 [==============================] - 0s 4ms/step - loss: 0.4658 - mae: 0.5354 - val_loss: 0.5276 - val_mae: 0.5639\n",
      "Epoch 75/100\n",
      "6/6 [==============================] - 0s 4ms/step - loss: 0.4694 - mae: 0.5473 - val_loss: 0.5145 - val_mae: 0.5730\n",
      "Epoch 76/100\n",
      "6/6 [==============================] - 0s 4ms/step - loss: 0.4297 - mae: 0.5047 - val_loss: 0.5194 - val_mae: 0.5695\n",
      "Epoch 77/100\n",
      "6/6 [==============================] - 0s 5ms/step - loss: 0.4205 - mae: 0.5173 - val_loss: 0.5271 - val_mae: 0.5663\n",
      "Epoch 78/100\n",
      "6/6 [==============================] - 0s 5ms/step - loss: 0.4360 - mae: 0.5258 - val_loss: 0.5236 - val_mae: 0.5793\n",
      "Epoch 79/100\n",
      "6/6 [==============================] - 0s 4ms/step - loss: 0.4598 - mae: 0.5380 - val_loss: 0.5004 - val_mae: 0.5522\n",
      "Epoch 80/100\n",
      "6/6 [==============================] - 0s 4ms/step - loss: 0.4581 - mae: 0.5466 - val_loss: 0.5208 - val_mae: 0.5725\n",
      "Epoch 81/100\n",
      "6/6 [==============================] - 0s 5ms/step - loss: 0.4212 - mae: 0.5017 - val_loss: 0.5319 - val_mae: 0.5769\n",
      "Epoch 82/100\n",
      "6/6 [==============================] - 0s 5ms/step - loss: 0.4534 - mae: 0.5385 - val_loss: 0.5244 - val_mae: 0.5710\n",
      "Epoch 83/100\n",
      "6/6 [==============================] - 0s 5ms/step - loss: 0.4259 - mae: 0.5211 - val_loss: 0.5252 - val_mae: 0.5870\n",
      "Epoch 84/100\n",
      "6/6 [==============================] - 0s 5ms/step - loss: 0.4466 - mae: 0.5370 - val_loss: 0.5248 - val_mae: 0.5634\n",
      "Epoch 85/100\n",
      "6/6 [==============================] - 0s 4ms/step - loss: 0.4205 - mae: 0.5063 - val_loss: 0.5546 - val_mae: 0.5931\n",
      "Epoch 86/100\n",
      "6/6 [==============================] - 0s 4ms/step - loss: 0.4271 - mae: 0.5077 - val_loss: 0.5202 - val_mae: 0.5842\n",
      "Epoch 87/100\n",
      "6/6 [==============================] - 0s 4ms/step - loss: 0.4366 - mae: 0.5313 - val_loss: 0.5213 - val_mae: 0.5909\n",
      "Epoch 88/100\n",
      "6/6 [==============================] - 0s 4ms/step - loss: 0.4149 - mae: 0.5204 - val_loss: 0.5408 - val_mae: 0.5951\n",
      "Epoch 89/100\n",
      "6/6 [==============================] - 0s 5ms/step - loss: 0.4142 - mae: 0.5144 - val_loss: 0.5542 - val_mae: 0.5885\n",
      "Epoch 90/100\n",
      "6/6 [==============================] - 0s 5ms/step - loss: 0.4084 - mae: 0.5011 - val_loss: 0.5291 - val_mae: 0.5744\n",
      "Epoch 91/100\n",
      "6/6 [==============================] - 0s 4ms/step - loss: 0.4103 - mae: 0.5068 - val_loss: 0.5357 - val_mae: 0.5730\n",
      "Epoch 92/100\n",
      "6/6 [==============================] - 0s 5ms/step - loss: 0.3720 - mae: 0.4828 - val_loss: 0.5453 - val_mae: 0.5801\n",
      "Epoch 93/100\n",
      "6/6 [==============================] - 0s 5ms/step - loss: 0.3944 - mae: 0.4950 - val_loss: 0.5664 - val_mae: 0.5940\n",
      "Epoch 94/100\n",
      "6/6 [==============================] - 0s 5ms/step - loss: 0.4072 - mae: 0.5050 - val_loss: 0.5686 - val_mae: 0.6019\n",
      "Epoch 95/100\n",
      "6/6 [==============================] - 0s 5ms/step - loss: 0.4152 - mae: 0.5075 - val_loss: 0.5671 - val_mae: 0.5953\n",
      "Epoch 96/100\n",
      "6/6 [==============================] - 0s 4ms/step - loss: 0.3903 - mae: 0.4956 - val_loss: 0.5436 - val_mae: 0.5750\n",
      "Epoch 97/100\n",
      "6/6 [==============================] - 0s 4ms/step - loss: 0.4101 - mae: 0.5031 - val_loss: 0.5302 - val_mae: 0.5672\n",
      "Epoch 98/100\n",
      "6/6 [==============================] - 0s 4ms/step - loss: 0.4027 - mae: 0.5172 - val_loss: 0.5336 - val_mae: 0.5667\n",
      "Epoch 99/100\n",
      "6/6 [==============================] - 0s 4ms/step - loss: 0.3821 - mae: 0.4939 - val_loss: 0.5493 - val_mae: 0.5941\n",
      "Epoch 100/100\n",
      "6/6 [==============================] - 0s 4ms/step - loss: 0.3923 - mae: 0.4864 - val_loss: 0.5678 - val_mae: 0.5807\n"
     ]
    }
   ],
   "source": [
    "history = model.fit(X_train, y_train, validation_split= 0.15, epochs=100, batch_size=64, verbose=1)"
   ]
  },
  {
   "cell_type": "code",
   "execution_count": 41,
   "metadata": {
    "scrolled": true
   },
   "outputs": [
    {
     "name": "stdout",
     "output_type": "stream",
     "text": [
      "2/2 [==============================] - 0s 1ms/step - loss: 0.4866 - mae: 0.5778\n"
     ]
    },
    {
     "data": {
      "text/plain": [
       "[0.4865849018096924, 0.5778027176856995]"
      ]
     },
     "execution_count": 41,
     "metadata": {},
     "output_type": "execute_result"
    }
   ],
   "source": [
    "model.evaluate(X_test, y_test)"
   ]
  },
  {
   "cell_type": "code",
   "execution_count": 42,
   "metadata": {},
   "outputs": [
    {
     "data": {
      "image/png": "[encoded data removed]",
      "text/plain": [
       "<Figure size 432x288 with 1 Axes>"
      ]
     },
     "metadata": {
      "needs_background": "light"
     },
     "output_type": "display_data"
    }
   ],
   "source": [
    "#### Plot the learning curves\n",
    "import matplotlib.pyplot as plt\n",
    "\n",
    "plt.plot(history.history['loss'])\n",
    "plt.plot(history.history['val_loss'])\n",
    "plt.title('Loss vs Epochs')\n",
    "plt.ylabel('Loss')\n",
    "plt.xlabel('Epochs')\n",
    "plt.legend(['Training', 'Validation'], loc='best')\n",
    "plt.show()"
   ]
  },
  {
   "cell_type": "markdown",
   "metadata": {},
   "source": [
    "#### Batch Normalisation Layers"
   ]
  },
  {
   "cell_type": "code",
   "execution_count": 43,
   "metadata": {},
   "outputs": [],
   "source": [
    "from tensorflow.keras.models import Sequential\n",
    "from tensorflow.keras.layers import Flatten, Dense, Conv2D, MaxPooling2D, BatchNormalization, Dropout"
   ]
  },
  {
   "cell_type": "code",
   "execution_count": 45,
   "metadata": {},
   "outputs": [],
   "source": [
    "# Build the Model\n",
    "\n",
    "model = Sequential([\n",
    "    Dense(64, input_shape=(X_train.shape[1],), activation='relu'),\n",
    "    BatchNormalization(),\n",
    "    Dropout(0.5),\n",
    "    BatchNormalization(),\n",
    "    Dropout(0.5),\n",
    "    Dense(256, activation='relu')\n",
    "])"
   ]
  },
  {
   "cell_type": "code",
   "execution_count": 46,
   "metadata": {
    "scrolled": true
   },
   "outputs": [
    {
     "name": "stdout",
     "output_type": "stream",
     "text": [
      "Model: \"sequential_4\"\n",
      "_________________________________________________________________\n",
      "Layer (type)                 Output Shape              Param #   \n",
      "=================================================================\n",
      "dense_28 (Dense)             (None, 64)                704       \n",
      "_________________________________________________________________\n",
      "batch_normalization (BatchNo (None, 64)                256       \n",
      "_________________________________________________________________\n",
      "dropout_12 (Dropout)         (None, 64)                0         \n",
      "_________________________________________________________________\n",
      "batch_normalization_1 (Batch (None, 64)                256       \n",
      "_________________________________________________________________\n",
      "dropout_13 (Dropout)         (None, 64)                0         \n",
      "_________________________________________________________________\n",
      "dense_29 (Dense)             (None, 256)               16640     \n",
      "=================================================================\n",
      "Total params: 17,856\n",
      "Trainable params: 17,600\n",
      "Non-trainable params: 256\n",
      "_________________________________________________________________\n"
     ]
    }
   ],
   "source": [
    "model.summary()"
   ]
  },
  {
   "cell_type": "code",
   "execution_count": 48,
   "metadata": {},
   "outputs": [],
   "source": [
    "model.add(tf.keras.layers.BatchNormalization(\n",
    "    momentum=0.95, \n",
    "    epsilon=0.005,\n",
    "    axis = -1,\n",
    "    beta_initializer=tf.keras.initializers.RandomNormal(mean=0.0, stddev=0.05), \n",
    "    gamma_initializer=tf.keras.initializers.Constant(value=0.9)\n",
    "))"
   ]
  },
  {
   "cell_type": "code",
   "execution_count": 49,
   "metadata": {},
   "outputs": [],
   "source": [
    "model.add(Dense(1))"
   ]
  },
  {
   "cell_type": "code",
   "execution_count": 50,
   "metadata": {},
   "outputs": [],
   "source": [
    "model.compile(optimizer='adam',\n",
    "              loss='mse',\n",
    "              metrics=['mae'])"
   ]
  },
  {
   "cell_type": "code",
   "execution_count": 52,
   "metadata": {},
   "outputs": [],
   "source": [
    "history = model.fit(X_train, y_train, epochs=100, validation_split=0.15, batch_size=64,verbose=False)"
   ]
  },
  {
   "cell_type": "code",
   "execution_count": 53,
   "metadata": {},
   "outputs": [
    {
     "data": {
      "text/plain": [
       "<matplotlib.legend.Legend at 0x22cb739bd60>"
      ]
     },
     "execution_count": 53,
     "metadata": {},
     "output_type": "execute_result"
    },
    {
     "data": {
      "image/png": "[encoded data removed]",
      "text/plain": [
       "<Figure size 864x288 with 2 Axes>"
      ]
     },
     "metadata": {
      "needs_background": "light"
     },
     "output_type": "display_data"
    }
   ],
   "source": [
    "# Plot the learning curves\n",
    "\n",
    "import pandas as pd\n",
    "import numpy as np\n",
    "import matplotlib.pyplot as plt\n",
    "%matplotlib inline\n",
    "\n",
    "frame = pd.DataFrame(history.history)\n",
    "epochs = np.arange(len(frame))\n",
    "\n",
    "fig = plt.figure(figsize=(12,4))\n",
    "\n",
    "# Loss plot\n",
    "ax = fig.add_subplot(121)\n",
    "ax.plot(epochs, frame['loss'], label=\"Train\")\n",
    "ax.plot(epochs, frame['val_loss'], label=\"Validation\")\n",
    "ax.set_xlabel(\"Epochs\")\n",
    "ax.set_ylabel(\"Loss\")\n",
    "ax.set_title(\"Loss vs Epochs\")\n",
    "ax.legend()\n",
    "\n",
    "# Accuracy plot\n",
    "ax = fig.add_subplot(122)\n",
    "ax.plot(epochs, frame['mae'], label=\"Train\")\n",
    "ax.plot(epochs, frame['val_mae'], label=\"Validation\")\n",
    "ax.set_xlabel(\"Epochs\")\n",
    "ax.set_ylabel(\"Mean Absolute Error\")\n",
    "ax.set_title(\"Mean Absolute Error vs Epochs\")\n",
    "ax.legend()"
   ]
  }
 ],
 "metadata": {
  "kernelspec": {
   "display_name": "Python 3",
   "language": "python",
   "name": "python3"
  },
  "language_info": {
   "codemirror_mode": {
    "name": "ipython",
    "version": 3
   },
   "file_extension": ".py",
   "mimetype": "text/x-python",
   "name": "python",
   "nbconvert_exporter": "python",
   "pygments_lexer": "ipython3",
   "version": "3.8.5"
  }
 },
 "nbformat": 4,
 "nbformat_minor": 4
}
