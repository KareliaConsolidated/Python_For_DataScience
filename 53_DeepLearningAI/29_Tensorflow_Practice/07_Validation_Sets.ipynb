{
 "cells": [
  {
   "cell_type": "code",
   "execution_count": 1,
   "metadata": {},
   "outputs": [],
   "source": [
    "import warnings\n",
    "warnings.filterwarnings('ignore')"
   ]
  },
  {
   "cell_type": "code",
   "execution_count": 2,
   "metadata": {},
   "outputs": [],
   "source": [
    "import numpy as np\n",
    "import pandas as pd\n",
    "import tensorflow as tf"
   ]
  },
  {
   "cell_type": "code",
   "execution_count": 4,
   "metadata": {
    "scrolled": true
   },
   "outputs": [
    {
     "name": "stdout",
     "output_type": "stream",
     "text": [
      ".. _diabetes_dataset:\n",
      "\n",
      "Diabetes dataset\n",
      "----------------\n",
      "\n",
      "Ten baseline variables, age, sex, body mass index, average blood\n",
      "pressure, and six blood serum measurements were obtained for each of n =\n",
      "442 diabetes patients, as well as the response of interest, a\n",
      "quantitative measure of disease progression one year after baseline.\n",
      "\n",
      "**Data Set Characteristics:**\n",
      "\n",
      "  :Number of Instances: 442\n",
      "\n",
      "  :Number of Attributes: First 10 columns are numeric predictive values\n",
      "\n",
      "  :Target: Column 11 is a quantitative measure of disease progression one year after baseline\n",
      "\n",
      "  :Attribute Information:\n",
      "      - age     age in years\n",
      "      - sex\n",
      "      - bmi     body mass index\n",
      "      - bp      average blood pressure\n",
      "      - s1      tc, T-Cells (a type of white blood cells)\n",
      "      - s2      ldl, low-density lipoproteins\n",
      "      - s3      hdl, high-density lipoproteins\n",
      "      - s4      tch, thyroid stimulating hormone\n",
      "      - s5      ltg, lamotrigine\n",
      "      - s6      glu, blood sugar level\n",
      "\n",
      "Note: Each of these 10 feature variables have been mean centered and scaled by the standard deviation times `n_samples` (i.e. the sum of squares of each column totals 1).\n",
      "\n",
      "Source URL:\n",
      "https://www4.stat.ncsu.edu/~boos/var.select/diabetes.html\n",
      "\n",
      "For more information see:\n",
      "Bradley Efron, Trevor Hastie, Iain Johnstone and Robert Tibshirani (2004) \"Least Angle Regression,\" Annals of Statistics (with discussion), 407-499.\n",
      "(https://web.stanford.edu/~hastie/Papers/LARS/LeastAngle_2002.pdf)\n"
     ]
    }
   ],
   "source": [
    "from sklearn.datasets import load_diabetes\n",
    "\n",
    "diabetes_dataset = load_diabetes()\n",
    "print(diabetes_dataset['DESCR'])"
   ]
  },
  {
   "cell_type": "code",
   "execution_count": 5,
   "metadata": {},
   "outputs": [
    {
     "name": "stdout",
     "output_type": "stream",
     "text": [
      "dict_keys(['data', 'target', 'frame', 'DESCR', 'feature_names', 'data_filename', 'target_filename'])\n"
     ]
    }
   ],
   "source": [
    "print(diabetes_dataset.keys())"
   ]
  },
  {
   "cell_type": "code",
   "execution_count": 6,
   "metadata": {},
   "outputs": [],
   "source": [
    "data = diabetes_dataset['data']\n",
    "target = diabetes_dataset['target']"
   ]
  },
  {
   "cell_type": "code",
   "execution_count": 9,
   "metadata": {},
   "outputs": [
    {
     "data": {
      "text/plain": [
       "array([-1.47194752e-02, -1.00165882e+00, -1.44579915e-01,  6.99512942e-01,\n",
       "       -2.22496178e-01, -7.15965848e-01, -1.83538046e-01, -1.15749134e+00,\n",
       "       -5.47147277e-01,  2.05006151e+00, -6.64021672e-01, -1.07957508e+00,\n",
       "        3.48889755e-01,  4.26806019e-01, -4.43258925e-01,  2.45001404e-01,\n",
       "        1.80071184e-01, -1.05621783e-01, -7.15965848e-01,  2.06043272e-01,\n",
       "       -1.09256112e+00, -1.33929596e+00, -1.09256112e+00,  1.20596866e+00,\n",
       "        4.13819975e-01,  6.47568766e-01, -1.96524090e-01, -8.71798376e-01,\n",
       "       -2.74440354e-01,  1.69943833e+00, -3.00412442e-01, -1.20943552e+00,\n",
       "        2.45262887e+00, -8.45826288e-01, -1.13151925e+00, -6.51035629e-01,\n",
       "        1.46568953e+00,  1.60853602e+00,  1.29687096e+00, -8.06868156e-01,\n",
       "       -6.77007716e-01, -1.26137969e+00, -1.18346343e+00, -7.80896068e-01,\n",
       "        1.38777327e+00, -1.28735178e+00,  4.91736239e-01, -1.31593871e-01,\n",
       "       -1.00165882e+00, -1.31593871e-01,  3.72247006e-02,  9.46247777e-01,\n",
       "       -1.20943552e+00, -6.25063541e-01,  3.87847887e-01, -3.13398486e-01,\n",
       "       -1.30033783e+00, -1.49512849e+00,  2.32015360e-01,  2.32015360e-01,\n",
       "       -1.18346343e+00, -1.05621783e-01, -1.30033783e+00, -3.13398486e-01,\n",
       "       -1.05360299e+00,  1.41113052e-01, -2.77055191e-02, -7.15965848e-01,\n",
       "        1.02154920e-01,  3.35903711e-01, -1.35228200e+00,  1.53061975e+00,\n",
       "        6.47568766e-01, -5.34161233e-01, -8.71798376e-01, -1.43019827e+00,\n",
       "        2.32015360e-01,  6.21596678e-01,  1.29687096e+00, -5.08189145e-01,\n",
       "       -1.18607827e-01, -1.31332387e+00, -1.30033783e+00,  7.51457118e-01,\n",
       "       -1.13151925e+00, -1.44579915e-01, -1.26137969e+00, -2.35482222e-01,\n",
       "       -1.43019827e+00, -5.34161233e-01, -7.02979804e-01,  1.54099096e-01,\n",
       "       -1.35228200e+00, -7.28951892e-01, -8.06868156e-01,  1.28127008e-01,\n",
       "       -2.77055191e-02,  1.64749415e+00, -7.80896068e-01, -8.97770464e-01,\n",
       "       -3.13398486e-01, -6.51035629e-01,  1.94617316e+00,  5.95624590e-01,\n",
       "       -7.41937936e-01, -1.28735178e+00, -2.35482222e-01, -1.05621783e-01,\n",
       "        1.03715008e+00, -9.23742551e-01, -6.25063541e-01, -1.20943552e+00,\n",
       "        1.21895470e+00,  1.88124294e+00,  1.37478723e+00,  9.98191953e-01,\n",
       "        1.59554997e+00,  1.67346624e+00,  3.48889755e-01,  6.21596678e-01,\n",
       "        6.21596678e-01,  2.70973492e-01,  3.61875799e-01, -8.84784420e-01,\n",
       "       -4.04300794e-01,  1.15140964e-01, -6.89993760e-01, -5.60133321e-01,\n",
       "       -4.82217057e-01,  1.50464767e+00,  1.58256393e+00,  7.61828325e-02,\n",
       "       -5.86105409e-01, -8.97770464e-01, -6.38049585e-01,  1.55659184e+00,\n",
       "       -8.71798376e-01,  1.66048019e+00,  2.38769865e+00,  1.67346624e+00,\n",
       "       -4.43258925e-01,  2.14096382e+00,  1.07610822e+00, -1.19644947e+00,\n",
       "        2.83959536e-01,  1.38777327e+00,  3.35903711e-01, -3.13398486e-01,\n",
       "       -7.28951892e-01, -3.39370574e-01,  1.76436855e+00, -8.32840244e-01,\n",
       "        1.81631272e+00, -1.05360299e+00,  5.82638546e-01,  4.39792063e-01,\n",
       "       -1.65096101e+00, -8.84784420e-01, -7.28951892e-01,  5.56666458e-01,\n",
       "       -1.28735178e+00,  8.42359425e-01,  2.57987448e-01, -2.74440354e-01,\n",
       "        8.03401293e-01, -1.20943552e+00, -1.06658903e+00,  8.81317557e-01,\n",
       "        1.50464767e+00, -1.73343121e-03, -1.36526805e+00, -1.01464486e+00,\n",
       "        1.85527085e+00, -6.64021672e-01, -1.47194752e-02, -3.26384530e-01,\n",
       "        1.10208030e+00,  9.46247777e-01, -9.23742551e-01, -1.47194752e-02,\n",
       "       -5.86105409e-01, -1.14450530e+00, -1.83538046e-01,  4.26806019e-01,\n",
       "        1.46568953e+00, -6.64021672e-01, -1.96524090e-01, -1.18607827e-01,\n",
       "       -1.44579915e-01, -9.49714639e-01,  1.81631272e+00,  3.35903711e-01,\n",
       "       -7.93882112e-01, -4.69231013e-01, -8.58812332e-01, -3.91314750e-01,\n",
       "       -1.04061695e+00, -3.00412442e-01, -1.31593871e-01, -8.06868156e-01,\n",
       "        7.61828325e-02, -1.46915640e+00,  5.69652502e-01,  9.07289645e-01,\n",
       "        1.62152206e+00, -6.89993760e-01,  5.69652502e-01,  6.47568766e-01,\n",
       "        3.72247006e-02, -9.75686727e-01,  5.04722283e-01, -1.06658903e+00,\n",
       "       -1.02763090e+00, -1.33929596e+00, -1.13151925e+00,  1.43971745e+00,\n",
       "        1.24492679e+00,  1.86825690e+00,  8.03401293e-01,  4.26806019e-01,\n",
       "       -9.62700683e-01, -7.67910024e-01,  1.29687096e+00, -2.77055191e-02,\n",
       "       -9.75686727e-01,  7.25485030e-01, -9.75686727e-01, -5.73119365e-01,\n",
       "        1.02154920e-01, -1.28735178e+00,  8.81317557e-01,  2.42386567e-02,\n",
       "        1.38777327e+00, -8.06868156e-01,  1.21895470e+00, -3.65342662e-01,\n",
       "       -1.10554717e+00, -1.04061695e+00,  1.36180118e+00,  1.42673140e+00,\n",
       "        1.59554997e+00,  3.22917667e-01, -1.05360299e+00, -1.36526805e+00,\n",
       "        4.52778107e-01, -3.52356618e-01, -9.62700683e-01, -1.31332387e+00,\n",
       "        1.37478723e+00,  8.16387337e-01,  1.95915920e+00,  1.17999657e+00,\n",
       "       -7.93882112e-01, -2.77055191e-02,  2.05006151e+00,  1.12526127e-02,\n",
       "        2.51755909e+00, -1.15749134e+00, -8.19854200e-01, -1.32630991e+00,\n",
       "       -1.46915640e+00, -6.38049585e-01,  2.02408942e+00, -4.69231013e-01,\n",
       "       -9.26357388e-02, -1.01464486e+00, -1.39124013e+00, -4.82217057e-01,\n",
       "        1.45270349e+00, -8.45826288e-01,  6.47568766e-01, -3.26384530e-01,\n",
       "        3.87847887e-01,  1.15402448e+00, -1.11853321e+00, -7.54923980e-01,\n",
       "        1.69943833e+00, -1.14450530e+00, -6.51035629e-01,  6.21596678e-01,\n",
       "        1.46568953e+00, -7.54923980e-01,  1.01117800e+00,  3.74861843e-01,\n",
       "        5.02107446e-02,  1.05013613e+00, -1.19644947e+00,  8.68331513e-01,\n",
       "       -9.36728595e-01, -1.09256112e+00,  2.33575448e+00,  1.24492679e+00,\n",
       "       -8.84784420e-01,  6.21596678e-01, -1.26137969e+00, -8.71798376e-01,\n",
       "       -8.19854200e-01, -1.57304475e+00, -3.00412442e-01, -8.97770464e-01,\n",
       "        1.59554997e+00, -1.13151925e+00,  5.95624590e-01,  1.08909426e+00,\n",
       "        1.30985701e+00, -3.65342662e-01, -1.40422618e+00,  2.57987448e-01,\n",
       "       -4.95203101e-01, -1.31593871e-01, -5.60133321e-01,  3.61875799e-01,\n",
       "       -1.05621783e-01,  1.41113052e-01, -6.66636509e-02, -7.15965848e-01,\n",
       "        8.81317557e-01,  4.91736239e-01, -5.60133321e-01,  5.04722283e-01,\n",
       "       -3.91314750e-01,  1.01117800e+00,  1.16701052e+00,  1.24492679e+00,\n",
       "        1.25791283e+00,  5.17708327e-01, -2.74440354e-01,  1.10208030e+00,\n",
       "       -9.62700683e-01, -2.22496178e-01,  1.19298261e+00,  6.08610634e-01,\n",
       "        1.53061975e+00,  1.54099096e-01, -1.04061695e+00, -7.28951892e-01,\n",
       "        1.99811734e+00, -7.93882112e-01,  8.03401293e-01, -7.41937936e-01,\n",
       "        8.29373381e-01,  1.43971745e+00,  3.35903711e-01, -5.08189145e-01,\n",
       "        6.21596678e-01, -1.70552003e-01, -1.70552003e-01, -8.32840244e-01,\n",
       "       -5.36776070e-02, -8.32840244e-01,  1.17999657e+00, -1.05360299e+00,\n",
       "       -9.75686727e-01, -5.60133321e-01,  1.55659184e+00, -1.19644947e+00,\n",
       "       -1.27436574e+00,  8.94303601e-01, -8.06868156e-01,  2.06304756e+00,\n",
       "        1.67346624e+00,  3.87847887e-01,  2.19290800e+00, -1.22242156e+00,\n",
       "        1.42673140e+00,  6.99512942e-01,  1.05013613e+00,  1.16701052e+00,\n",
       "       -3.78328706e-01,  1.93057228e-01, -1.15749134e+00,  5.82638546e-01,\n",
       "       -1.05360299e+00,  2.06043272e-01, -1.57565959e-01,  8.42359425e-01,\n",
       "       -4.04300794e-01,  1.07610822e+00,  1.20596866e+00, -1.45617035e+00,\n",
       "       -1.30033783e+00, -6.25063541e-01, -2.61454310e-01, -8.32840244e-01,\n",
       "       -1.07957508e+00,  8.68331513e-01, -1.04061695e+00,  6.34582722e-01,\n",
       "       -5.47147277e-01, -1.31332387e+00,  1.62152206e+00, -1.15749134e+00,\n",
       "       -4.43258925e-01, -1.07957508e+00,  1.56957789e+00,  1.37478723e+00,\n",
       "       -1.41721222e+00,  5.95624590e-01,  1.16701052e+00,  1.03715008e+00,\n",
       "        2.96945580e-01, -7.67910024e-01,  2.06043272e-01,  1.59554997e+00,\n",
       "        1.82929877e+00,  1.67346624e+00, -1.04061695e+00, -1.57565959e-01,\n",
       "        4.78750195e-01,  3.74861843e-01,  7.38471074e-01, -2.09510134e-01,\n",
       "        1.41374536e+00, -5.08189145e-01, -2.74440354e-01,  2.83959536e-01,\n",
       "        1.36180118e+00, -1.26137969e+00, -8.84784420e-01, -1.43019827e+00,\n",
       "       -7.96496949e-02,  7.77429206e-01,  1.05013613e+00, -7.93882112e-01,\n",
       "       -5.34161233e-01, -1.73343121e-03, -4.17286837e-01, -1.10554717e+00,\n",
       "        2.05006151e+00, -7.54923980e-01,  4.00833931e-01, -1.11853321e+00,\n",
       "        2.70973492e-01, -1.04061695e+00, -1.33929596e+00, -1.14450530e+00,\n",
       "       -1.35228200e+00,  3.35903711e-01, -6.25063541e-01, -2.61454310e-01,\n",
       "        8.81317557e-01, -1.23540761e+00])"
      ]
     },
     "execution_count": 9,
     "metadata": {},
     "output_type": "execute_result"
    }
   ],
   "source": [
    "# Normalize the target data (this will make clearer training curves)\n",
    "target = (target - target.mean(axis=0)) / target.std()\n",
    "target"
   ]
  },
  {
   "cell_type": "code",
   "execution_count": 12,
   "metadata": {},
   "outputs": [
    {
     "name": "stdout",
     "output_type": "stream",
     "text": [
      "(397, 10)\n",
      "(45, 10)\n",
      "(397,)\n",
      "(45,)\n"
     ]
    }
   ],
   "source": [
    "from sklearn.model_selection import train_test_split\n",
    "\n",
    "X_train, X_test, y_train, y_test = train_test_split(data, target, test_size=0.1)\n",
    "\n",
    "print(X_train.shape)\n",
    "print(X_test.shape)\n",
    "print(y_train.shape)\n",
    "print(y_test.shape)"
   ]
  },
  {
   "cell_type": "markdown",
   "metadata": {},
   "source": [
    "### Train a Feedforward Neural Network Model"
   ]
  },
  {
   "cell_type": "code",
   "execution_count": 13,
   "metadata": {},
   "outputs": [],
   "source": [
    "from tensorflow.keras.models import Sequential\n",
    "from tensorflow.keras.layers import Dense\n",
    "\n",
    "def get_model():\n",
    "    model = Sequential([\n",
    "        Dense(128, activation='relu', input_shape=(X_train.shape[1],)),\n",
    "        Dense(128, activation='relu'),\n",
    "        Dense(128, activation='relu'),\n",
    "        Dense(128, activation='relu'),\n",
    "        Dense(128, activation='relu'),\n",
    "        Dense(128, activation='relu'),\n",
    "        Dense(1)\n",
    "    ])\n",
    "    return model"
   ]
  },
  {
   "cell_type": "code",
   "execution_count": 14,
   "metadata": {},
   "outputs": [],
   "source": [
    "model = get_model()"
   ]
  },
  {
   "cell_type": "code",
   "execution_count": 15,
   "metadata": {
    "scrolled": true
   },
   "outputs": [
    {
     "name": "stdout",
     "output_type": "stream",
     "text": [
      "Model: \"sequential\"\n",
      "_________________________________________________________________\n",
      "Layer (type)                 Output Shape              Param #   \n",
      "=================================================================\n",
      "dense (Dense)                (None, 128)               1408      \n",
      "_________________________________________________________________\n",
      "dense_1 (Dense)              (None, 128)               16512     \n",
      "_________________________________________________________________\n",
      "dense_2 (Dense)              (None, 128)               16512     \n",
      "_________________________________________________________________\n",
      "dense_3 (Dense)              (None, 128)               16512     \n",
      "_________________________________________________________________\n",
      "dense_4 (Dense)              (None, 128)               16512     \n",
      "_________________________________________________________________\n",
      "dense_5 (Dense)              (None, 128)               16512     \n",
      "_________________________________________________________________\n",
      "dense_6 (Dense)              (None, 1)                 129       \n",
      "=================================================================\n",
      "Total params: 84,097\n",
      "Trainable params: 84,097\n",
      "Non-trainable params: 0\n",
      "_________________________________________________________________\n"
     ]
    }
   ],
   "source": [
    "# Print the Model Summary\n",
    "model.summary()"
   ]
  },
  {
   "cell_type": "code",
   "execution_count": 16,
   "metadata": {},
   "outputs": [],
   "source": [
    "# Compile the Model\n",
    "model.compile(optimizer='adam', loss='mse', metrics=['mae'])"
   ]
  },
  {
   "cell_type": "code",
   "execution_count": 17,
   "metadata": {},
   "outputs": [
    {
     "name": "stdout",
     "output_type": "stream",
     "text": [
      "Epoch 1/100\n",
      "6/6 - 0s - loss: 0.9665 - mae: 0.8417 - val_loss: 0.9944 - val_mae: 0.8796\n",
      "Epoch 2/100\n",
      "6/6 - 0s - loss: 0.8765 - mae: 0.8041 - val_loss: 0.8381 - val_mae: 0.7989\n",
      "Epoch 3/100\n",
      "6/6 - 0s - loss: 0.6994 - mae: 0.7240 - val_loss: 0.5817 - val_mae: 0.6435\n",
      "Epoch 4/100\n",
      "6/6 - 0s - loss: 0.5644 - mae: 0.6205 - val_loss: 0.4782 - val_mae: 0.5366\n",
      "Epoch 5/100\n",
      "6/6 - 0s - loss: 0.4927 - mae: 0.5681 - val_loss: 0.5279 - val_mae: 0.5899\n",
      "Epoch 6/100\n",
      "6/6 - 0s - loss: 0.5102 - mae: 0.5757 - val_loss: 0.5643 - val_mae: 0.5939\n",
      "Epoch 7/100\n",
      "6/6 - 0s - loss: 0.4930 - mae: 0.5618 - val_loss: 0.5245 - val_mae: 0.5565\n",
      "Epoch 8/100\n",
      "6/6 - 0s - loss: 0.5296 - mae: 0.5870 - val_loss: 0.4590 - val_mae: 0.5586\n",
      "Epoch 9/100\n",
      "6/6 - 0s - loss: 0.5167 - mae: 0.5620 - val_loss: 0.5568 - val_mae: 0.6058\n",
      "Epoch 10/100\n",
      "6/6 - 0s - loss: 0.4823 - mae: 0.5795 - val_loss: 0.4618 - val_mae: 0.5607\n",
      "Epoch 11/100\n",
      "6/6 - 0s - loss: 0.4656 - mae: 0.5476 - val_loss: 0.4533 - val_mae: 0.5307\n",
      "Epoch 12/100\n",
      "6/6 - 0s - loss: 0.4498 - mae: 0.5368 - val_loss: 0.4540 - val_mae: 0.5274\n",
      "Epoch 13/100\n",
      "6/6 - 0s - loss: 0.4411 - mae: 0.5383 - val_loss: 0.4517 - val_mae: 0.5486\n",
      "Epoch 14/100\n",
      "6/6 - 0s - loss: 0.4543 - mae: 0.5342 - val_loss: 0.4728 - val_mae: 0.5405\n",
      "Epoch 15/100\n",
      "6/6 - 0s - loss: 0.4377 - mae: 0.5332 - val_loss: 0.4266 - val_mae: 0.5139\n",
      "Epoch 16/100\n",
      "6/6 - 0s - loss: 0.4294 - mae: 0.5193 - val_loss: 0.4722 - val_mae: 0.5348\n",
      "Epoch 17/100\n",
      "6/6 - 0s - loss: 0.4183 - mae: 0.5225 - val_loss: 0.4243 - val_mae: 0.5285\n",
      "Epoch 18/100\n",
      "6/6 - 0s - loss: 0.4275 - mae: 0.5192 - val_loss: 0.4829 - val_mae: 0.5411\n",
      "Epoch 19/100\n",
      "6/6 - 0s - loss: 0.4146 - mae: 0.5079 - val_loss: 0.4345 - val_mae: 0.5191\n",
      "Epoch 20/100\n",
      "6/6 - 0s - loss: 0.4103 - mae: 0.5129 - val_loss: 0.4249 - val_mae: 0.5094\n",
      "Epoch 21/100\n",
      "6/6 - 0s - loss: 0.4055 - mae: 0.4990 - val_loss: 0.4477 - val_mae: 0.5219\n",
      "Epoch 22/100\n",
      "6/6 - 0s - loss: 0.4103 - mae: 0.5101 - val_loss: 0.4069 - val_mae: 0.5167\n",
      "Epoch 23/100\n",
      "6/6 - 0s - loss: 0.3979 - mae: 0.5005 - val_loss: 0.4351 - val_mae: 0.5182\n",
      "Epoch 24/100\n",
      "6/6 - 0s - loss: 0.3856 - mae: 0.4894 - val_loss: 0.4176 - val_mae: 0.5158\n",
      "Epoch 25/100\n",
      "6/6 - 0s - loss: 0.3839 - mae: 0.4861 - val_loss: 0.4778 - val_mae: 0.5531\n",
      "Epoch 26/100\n",
      "6/6 - 0s - loss: 0.3812 - mae: 0.4912 - val_loss: 0.4416 - val_mae: 0.5232\n",
      "Epoch 27/100\n",
      "6/6 - 0s - loss: 0.3624 - mae: 0.4744 - val_loss: 0.4384 - val_mae: 0.5261\n",
      "Epoch 28/100\n",
      "6/6 - 0s - loss: 0.3529 - mae: 0.4680 - val_loss: 0.4540 - val_mae: 0.5279\n",
      "Epoch 29/100\n",
      "6/6 - 0s - loss: 0.3492 - mae: 0.4592 - val_loss: 0.5011 - val_mae: 0.5466\n",
      "Epoch 30/100\n",
      "6/6 - 0s - loss: 0.3531 - mae: 0.4646 - val_loss: 0.4240 - val_mae: 0.5101\n",
      "Epoch 31/100\n",
      "6/6 - 0s - loss: 0.3279 - mae: 0.4463 - val_loss: 0.4529 - val_mae: 0.5228\n",
      "Epoch 32/100\n",
      "6/6 - 0s - loss: 0.3131 - mae: 0.4345 - val_loss: 0.4074 - val_mae: 0.5070\n",
      "Epoch 33/100\n",
      "6/6 - 0s - loss: 0.3196 - mae: 0.4328 - val_loss: 0.4585 - val_mae: 0.5299\n",
      "Epoch 34/100\n",
      "6/6 - 0s - loss: 0.3104 - mae: 0.4312 - val_loss: 0.4527 - val_mae: 0.5263\n",
      "Epoch 35/100\n",
      "6/6 - 0s - loss: 0.2951 - mae: 0.4231 - val_loss: 0.5820 - val_mae: 0.6056\n",
      "Epoch 36/100\n",
      "6/6 - 0s - loss: 0.3515 - mae: 0.4560 - val_loss: 0.4488 - val_mae: 0.5292\n",
      "Epoch 37/100\n",
      "6/6 - 0s - loss: 0.3267 - mae: 0.4484 - val_loss: 0.4110 - val_mae: 0.5103\n",
      "Epoch 38/100\n",
      "6/6 - 0s - loss: 0.3153 - mae: 0.4409 - val_loss: 0.4216 - val_mae: 0.5080\n",
      "Epoch 39/100\n",
      "6/6 - 0s - loss: 0.2919 - mae: 0.4139 - val_loss: 0.4984 - val_mae: 0.5571\n",
      "Epoch 40/100\n",
      "6/6 - 0s - loss: 0.2747 - mae: 0.4101 - val_loss: 0.4115 - val_mae: 0.5095\n",
      "Epoch 41/100\n",
      "6/6 - 0s - loss: 0.2506 - mae: 0.3822 - val_loss: 0.4780 - val_mae: 0.5418\n",
      "Epoch 42/100\n",
      "6/6 - 0s - loss: 0.2526 - mae: 0.3859 - val_loss: 0.4897 - val_mae: 0.5576\n",
      "Epoch 43/100\n",
      "6/6 - 0s - loss: 0.2302 - mae: 0.3704 - val_loss: 0.4296 - val_mae: 0.5269\n",
      "Epoch 44/100\n",
      "6/6 - 0s - loss: 0.2182 - mae: 0.3547 - val_loss: 0.4873 - val_mae: 0.5333\n",
      "Epoch 45/100\n",
      "6/6 - 0s - loss: 0.2225 - mae: 0.3700 - val_loss: 0.4172 - val_mae: 0.5202\n",
      "Epoch 46/100\n",
      "6/6 - 0s - loss: 0.2946 - mae: 0.4136 - val_loss: 0.4205 - val_mae: 0.5328\n",
      "Epoch 47/100\n",
      "6/6 - 0s - loss: 0.2698 - mae: 0.4143 - val_loss: 0.4849 - val_mae: 0.5382\n",
      "Epoch 48/100\n",
      "6/6 - 0s - loss: 0.2367 - mae: 0.3779 - val_loss: 0.4505 - val_mae: 0.5243\n",
      "Epoch 49/100\n",
      "6/6 - 0s - loss: 0.1963 - mae: 0.3427 - val_loss: 0.5817 - val_mae: 0.5910\n",
      "Epoch 50/100\n",
      "6/6 - 0s - loss: 0.2164 - mae: 0.3607 - val_loss: 0.4556 - val_mae: 0.5201\n",
      "Epoch 51/100\n",
      "6/6 - 0s - loss: 0.1831 - mae: 0.3274 - val_loss: 0.4835 - val_mae: 0.5380\n",
      "Epoch 52/100\n",
      "6/6 - 0s - loss: 0.1685 - mae: 0.3261 - val_loss: 0.4327 - val_mae: 0.5109\n",
      "Epoch 53/100\n",
      "6/6 - 0s - loss: 0.2037 - mae: 0.3475 - val_loss: 0.4644 - val_mae: 0.5491\n",
      "Epoch 54/100\n",
      "6/6 - 0s - loss: 0.1868 - mae: 0.3433 - val_loss: 0.4310 - val_mae: 0.5141\n",
      "Epoch 55/100\n",
      "6/6 - 0s - loss: 0.1902 - mae: 0.3321 - val_loss: 0.6558 - val_mae: 0.6205\n",
      "Epoch 56/100\n",
      "6/6 - 0s - loss: 0.1999 - mae: 0.3481 - val_loss: 0.5448 - val_mae: 0.5565\n",
      "Epoch 57/100\n",
      "6/6 - 0s - loss: 0.1652 - mae: 0.3136 - val_loss: 0.4440 - val_mae: 0.5158\n",
      "Epoch 58/100\n",
      "6/6 - 0s - loss: 0.1843 - mae: 0.3304 - val_loss: 0.4843 - val_mae: 0.5471\n",
      "Epoch 59/100\n",
      "6/6 - 0s - loss: 0.1480 - mae: 0.2993 - val_loss: 0.5196 - val_mae: 0.5500\n",
      "Epoch 60/100\n",
      "6/6 - 0s - loss: 0.1279 - mae: 0.2753 - val_loss: 0.5482 - val_mae: 0.5627\n",
      "Epoch 61/100\n",
      "6/6 - 0s - loss: 0.1318 - mae: 0.2831 - val_loss: 0.4983 - val_mae: 0.5236\n",
      "Epoch 62/100\n",
      "6/6 - 0s - loss: 0.1104 - mae: 0.2537 - val_loss: 0.5365 - val_mae: 0.5469\n",
      "Epoch 63/100\n",
      "6/6 - 0s - loss: 0.1114 - mae: 0.2609 - val_loss: 0.4878 - val_mae: 0.5231\n",
      "Epoch 64/100\n",
      "6/6 - 0s - loss: 0.0894 - mae: 0.2287 - val_loss: 0.5562 - val_mae: 0.5554\n",
      "Epoch 65/100\n",
      "6/6 - 0s - loss: 0.0904 - mae: 0.2300 - val_loss: 0.4846 - val_mae: 0.5160\n",
      "Epoch 66/100\n",
      "6/6 - 0s - loss: 0.0897 - mae: 0.2304 - val_loss: 0.5309 - val_mae: 0.5474\n",
      "Epoch 67/100\n",
      "6/6 - 0s - loss: 0.0826 - mae: 0.2122 - val_loss: 0.4694 - val_mae: 0.5116\n",
      "Epoch 68/100\n",
      "6/6 - 0s - loss: 0.0730 - mae: 0.2015 - val_loss: 0.5446 - val_mae: 0.5500\n",
      "Epoch 69/100\n",
      "6/6 - 0s - loss: 0.0649 - mae: 0.1905 - val_loss: 0.5336 - val_mae: 0.5450\n",
      "Epoch 70/100\n",
      "6/6 - 0s - loss: 0.0635 - mae: 0.1861 - val_loss: 0.5428 - val_mae: 0.5541\n",
      "Epoch 71/100\n",
      "6/6 - 0s - loss: 0.0581 - mae: 0.1763 - val_loss: 0.4920 - val_mae: 0.5163\n",
      "Epoch 72/100\n",
      "6/6 - 0s - loss: 0.0593 - mae: 0.1773 - val_loss: 0.5743 - val_mae: 0.5467\n",
      "Epoch 73/100\n",
      "6/6 - 0s - loss: 0.0649 - mae: 0.1942 - val_loss: 0.5022 - val_mae: 0.5298\n",
      "Epoch 74/100\n",
      "6/6 - 0s - loss: 0.0615 - mae: 0.1852 - val_loss: 0.4408 - val_mae: 0.5041\n",
      "Epoch 75/100\n",
      "6/6 - 0s - loss: 0.0857 - mae: 0.2218 - val_loss: 0.5599 - val_mae: 0.5317\n",
      "Epoch 76/100\n",
      "6/6 - 0s - loss: 0.0688 - mae: 0.2075 - val_loss: 0.5251 - val_mae: 0.5647\n",
      "Epoch 77/100\n",
      "6/6 - 0s - loss: 0.1212 - mae: 0.2718 - val_loss: 0.4977 - val_mae: 0.5395\n",
      "Epoch 78/100\n",
      "6/6 - 0s - loss: 0.1298 - mae: 0.2859 - val_loss: 0.4530 - val_mae: 0.4919\n",
      "Epoch 79/100\n",
      "6/6 - 0s - loss: 0.1154 - mae: 0.2678 - val_loss: 0.4359 - val_mae: 0.4834\n",
      "Epoch 80/100\n",
      "6/6 - 0s - loss: 0.0987 - mae: 0.2400 - val_loss: 0.4683 - val_mae: 0.5090\n",
      "Epoch 81/100\n",
      "6/6 - 0s - loss: 0.0808 - mae: 0.2217 - val_loss: 0.4690 - val_mae: 0.5190\n",
      "Epoch 82/100\n",
      "6/6 - 0s - loss: 0.0880 - mae: 0.2321 - val_loss: 0.4454 - val_mae: 0.5151\n",
      "Epoch 83/100\n",
      "6/6 - 0s - loss: 0.0799 - mae: 0.2187 - val_loss: 0.4170 - val_mae: 0.4878\n",
      "Epoch 84/100\n",
      "6/6 - 0s - loss: 0.0796 - mae: 0.2240 - val_loss: 0.4754 - val_mae: 0.5174\n",
      "Epoch 85/100\n",
      "6/6 - 0s - loss: 0.0703 - mae: 0.2061 - val_loss: 0.4199 - val_mae: 0.4948\n",
      "Epoch 86/100\n",
      "6/6 - 0s - loss: 0.0626 - mae: 0.1897 - val_loss: 0.5386 - val_mae: 0.5386\n",
      "Epoch 87/100\n",
      "6/6 - 0s - loss: 0.0641 - mae: 0.1993 - val_loss: 0.5305 - val_mae: 0.5293\n",
      "Epoch 88/100\n",
      "6/6 - 0s - loss: 0.0543 - mae: 0.1779 - val_loss: 0.5500 - val_mae: 0.5545\n",
      "Epoch 89/100\n",
      "6/6 - 0s - loss: 0.0542 - mae: 0.1786 - val_loss: 0.5217 - val_mae: 0.5272\n",
      "Epoch 90/100\n",
      "6/6 - 0s - loss: 0.0448 - mae: 0.1590 - val_loss: 0.4828 - val_mae: 0.5218\n",
      "Epoch 91/100\n",
      "6/6 - 0s - loss: 0.0428 - mae: 0.1520 - val_loss: 0.4782 - val_mae: 0.5247\n",
      "Epoch 92/100\n",
      "6/6 - 0s - loss: 0.0392 - mae: 0.1469 - val_loss: 0.4824 - val_mae: 0.5218\n",
      "Epoch 93/100\n",
      "6/6 - 0s - loss: 0.0421 - mae: 0.1518 - val_loss: 0.5147 - val_mae: 0.5426\n",
      "Epoch 94/100\n",
      "6/6 - 0s - loss: 0.0409 - mae: 0.1478 - val_loss: 0.5153 - val_mae: 0.5321\n"
     ]
    },
    {
     "name": "stdout",
     "output_type": "stream",
     "text": [
      "Epoch 95/100\n",
      "6/6 - 0s - loss: 0.0338 - mae: 0.1318 - val_loss: 0.4919 - val_mae: 0.5354\n",
      "Epoch 96/100\n",
      "6/6 - 0s - loss: 0.0328 - mae: 0.1268 - val_loss: 0.5077 - val_mae: 0.5423\n",
      "Epoch 97/100\n",
      "6/6 - 0s - loss: 0.0321 - mae: 0.1258 - val_loss: 0.5290 - val_mae: 0.5415\n",
      "Epoch 98/100\n",
      "6/6 - 0s - loss: 0.0340 - mae: 0.1354 - val_loss: 0.5393 - val_mae: 0.5418\n",
      "Epoch 99/100\n",
      "6/6 - 0s - loss: 0.0348 - mae: 0.1372 - val_loss: 0.5392 - val_mae: 0.5443\n",
      "Epoch 100/100\n",
      "6/6 - 0s - loss: 0.0323 - mae: 0.1305 - val_loss: 0.5399 - val_mae: 0.5438\n"
     ]
    }
   ],
   "source": [
    "# Train the Model, with some of the data reserved for validation\n",
    "history = model.fit(X_train, y_train, epochs=100, validation_split=0.15, batch_size=64, verbose=2)"
   ]
  },
  {
   "cell_type": "code",
   "execution_count": 18,
   "metadata": {},
   "outputs": [
    {
     "name": "stdout",
     "output_type": "stream",
     "text": [
      "2/2 [==============================] - 0s 498us/step - loss: 0.7657 - mae: 0.6382\n"
     ]
    },
    {
     "data": {
      "text/plain": [
       "[0.7657392621040344, 0.638214647769928]"
      ]
     },
     "execution_count": 18,
     "metadata": {},
     "output_type": "execute_result"
    }
   ],
   "source": [
    "# Evaluate the model on the test set\n",
    "model.evaluate(X_test, y_test)"
   ]
  },
  {
   "cell_type": "code",
   "execution_count": 19,
   "metadata": {},
   "outputs": [
    {
     "data": {
      "image/png": "[encoded data removed]",
      "text/plain": [
       "<Figure size 432x288 with 1 Axes>"
      ]
     },
     "metadata": {
      "needs_background": "light"
     },
     "output_type": "display_data"
    }
   ],
   "source": [
    "#### Plot the learning curves\n",
    "import matplotlib.pyplot as plt\n",
    "\n",
    "plt.plot(history.history['loss'])\n",
    "plt.plot(history.history['val_loss'])\n",
    "plt.title('Loss vs Epochs')\n",
    "plt.ylabel('Loss')\n",
    "plt.xlabel('Epochs')\n",
    "plt.legend(['Training', 'Validation'], loc='best')\n",
    "plt.show()"
   ]
  }
 ],
 "metadata": {
  "kernelspec": {
   "display_name": "Python 3",
   "language": "python",
   "name": "python3"
  },
  "language_info": {
   "codemirror_mode": {
    "name": "ipython",
    "version": 3
   },
   "file_extension": ".py",
   "mimetype": "text/x-python",
   "name": "python",
   "nbconvert_exporter": "python",
   "pygments_lexer": "ipython3",
   "version": "3.8.5"
  }
 },
 "nbformat": 4,
 "nbformat_minor": 4
}
