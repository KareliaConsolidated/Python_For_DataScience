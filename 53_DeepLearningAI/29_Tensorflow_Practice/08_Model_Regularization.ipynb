{
 "cells": [
  {
   "cell_type": "code",
   "execution_count": 1,
   "metadata": {},
   "outputs": [],
   "source": [
    "import warnings\n",
    "warnings.filterwarnings('ignore')"
   ]
  },
  {
   "cell_type": "code",
   "execution_count": 2,
   "metadata": {},
   "outputs": [],
   "source": [
    "import numpy as np\n",
    "import pandas as pd\n",
    "import tensorflow as tf"
   ]
  },
  {
   "cell_type": "code",
   "execution_count": 3,
   "metadata": {
    "scrolled": true
   },
   "outputs": [
    {
     "name": "stdout",
     "output_type": "stream",
     "text": [
      ".. _diabetes_dataset:\n",
      "\n",
      "Diabetes dataset\n",
      "----------------\n",
      "\n",
      "Ten baseline variables, age, sex, body mass index, average blood\n",
      "pressure, and six blood serum measurements were obtained for each of n =\n",
      "442 diabetes patients, as well as the response of interest, a\n",
      "quantitative measure of disease progression one year after baseline.\n",
      "\n",
      "**Data Set Characteristics:**\n",
      "\n",
      "  :Number of Instances: 442\n",
      "\n",
      "  :Number of Attributes: First 10 columns are numeric predictive values\n",
      "\n",
      "  :Target: Column 11 is a quantitative measure of disease progression one year after baseline\n",
      "\n",
      "  :Attribute Information:\n",
      "      - age     age in years\n",
      "      - sex\n",
      "      - bmi     body mass index\n",
      "      - bp      average blood pressure\n",
      "      - s1      tc, T-Cells (a type of white blood cells)\n",
      "      - s2      ldl, low-density lipoproteins\n",
      "      - s3      hdl, high-density lipoproteins\n",
      "      - s4      tch, thyroid stimulating hormone\n",
      "      - s5      ltg, lamotrigine\n",
      "      - s6      glu, blood sugar level\n",
      "\n",
      "Note: Each of these 10 feature variables have been mean centered and scaled by the standard deviation times `n_samples` (i.e. the sum of squares of each column totals 1).\n",
      "\n",
      "Source URL:\n",
      "https://www4.stat.ncsu.edu/~boos/var.select/diabetes.html\n",
      "\n",
      "For more information see:\n",
      "Bradley Efron, Trevor Hastie, Iain Johnstone and Robert Tibshirani (2004) \"Least Angle Regression,\" Annals of Statistics (with discussion), 407-499.\n",
      "(https://web.stanford.edu/~hastie/Papers/LARS/LeastAngle_2002.pdf)\n"
     ]
    }
   ],
   "source": [
    "from sklearn.datasets import load_diabetes\n",
    "\n",
    "diabetes_dataset = load_diabetes()\n",
    "print(diabetes_dataset['DESCR'])"
   ]
  },
  {
   "cell_type": "code",
   "execution_count": 4,
   "metadata": {},
   "outputs": [
    {
     "name": "stdout",
     "output_type": "stream",
     "text": [
      "dict_keys(['data', 'target', 'frame', 'DESCR', 'feature_names', 'data_filename', 'target_filename'])\n"
     ]
    }
   ],
   "source": [
    "print(diabetes_dataset.keys())"
   ]
  },
  {
   "cell_type": "code",
   "execution_count": 5,
   "metadata": {},
   "outputs": [],
   "source": [
    "data = diabetes_dataset['data']\n",
    "target = diabetes_dataset['target']"
   ]
  },
  {
   "cell_type": "code",
   "execution_count": 6,
   "metadata": {},
   "outputs": [
    {
     "data": {
      "text/plain": [
       "array([-1.47194752e-02, -1.00165882e+00, -1.44579915e-01,  6.99512942e-01,\n",
       "       -2.22496178e-01, -7.15965848e-01, -1.83538046e-01, -1.15749134e+00,\n",
       "       -5.47147277e-01,  2.05006151e+00, -6.64021672e-01, -1.07957508e+00,\n",
       "        3.48889755e-01,  4.26806019e-01, -4.43258925e-01,  2.45001404e-01,\n",
       "        1.80071184e-01, -1.05621783e-01, -7.15965848e-01,  2.06043272e-01,\n",
       "       -1.09256112e+00, -1.33929596e+00, -1.09256112e+00,  1.20596866e+00,\n",
       "        4.13819975e-01,  6.47568766e-01, -1.96524090e-01, -8.71798376e-01,\n",
       "       -2.74440354e-01,  1.69943833e+00, -3.00412442e-01, -1.20943552e+00,\n",
       "        2.45262887e+00, -8.45826288e-01, -1.13151925e+00, -6.51035629e-01,\n",
       "        1.46568953e+00,  1.60853602e+00,  1.29687096e+00, -8.06868156e-01,\n",
       "       -6.77007716e-01, -1.26137969e+00, -1.18346343e+00, -7.80896068e-01,\n",
       "        1.38777327e+00, -1.28735178e+00,  4.91736239e-01, -1.31593871e-01,\n",
       "       -1.00165882e+00, -1.31593871e-01,  3.72247006e-02,  9.46247777e-01,\n",
       "       -1.20943552e+00, -6.25063541e-01,  3.87847887e-01, -3.13398486e-01,\n",
       "       -1.30033783e+00, -1.49512849e+00,  2.32015360e-01,  2.32015360e-01,\n",
       "       -1.18346343e+00, -1.05621783e-01, -1.30033783e+00, -3.13398486e-01,\n",
       "       -1.05360299e+00,  1.41113052e-01, -2.77055191e-02, -7.15965848e-01,\n",
       "        1.02154920e-01,  3.35903711e-01, -1.35228200e+00,  1.53061975e+00,\n",
       "        6.47568766e-01, -5.34161233e-01, -8.71798376e-01, -1.43019827e+00,\n",
       "        2.32015360e-01,  6.21596678e-01,  1.29687096e+00, -5.08189145e-01,\n",
       "       -1.18607827e-01, -1.31332387e+00, -1.30033783e+00,  7.51457118e-01,\n",
       "       -1.13151925e+00, -1.44579915e-01, -1.26137969e+00, -2.35482222e-01,\n",
       "       -1.43019827e+00, -5.34161233e-01, -7.02979804e-01,  1.54099096e-01,\n",
       "       -1.35228200e+00, -7.28951892e-01, -8.06868156e-01,  1.28127008e-01,\n",
       "       -2.77055191e-02,  1.64749415e+00, -7.80896068e-01, -8.97770464e-01,\n",
       "       -3.13398486e-01, -6.51035629e-01,  1.94617316e+00,  5.95624590e-01,\n",
       "       -7.41937936e-01, -1.28735178e+00, -2.35482222e-01, -1.05621783e-01,\n",
       "        1.03715008e+00, -9.23742551e-01, -6.25063541e-01, -1.20943552e+00,\n",
       "        1.21895470e+00,  1.88124294e+00,  1.37478723e+00,  9.98191953e-01,\n",
       "        1.59554997e+00,  1.67346624e+00,  3.48889755e-01,  6.21596678e-01,\n",
       "        6.21596678e-01,  2.70973492e-01,  3.61875799e-01, -8.84784420e-01,\n",
       "       -4.04300794e-01,  1.15140964e-01, -6.89993760e-01, -5.60133321e-01,\n",
       "       -4.82217057e-01,  1.50464767e+00,  1.58256393e+00,  7.61828325e-02,\n",
       "       -5.86105409e-01, -8.97770464e-01, -6.38049585e-01,  1.55659184e+00,\n",
       "       -8.71798376e-01,  1.66048019e+00,  2.38769865e+00,  1.67346624e+00,\n",
       "       -4.43258925e-01,  2.14096382e+00,  1.07610822e+00, -1.19644947e+00,\n",
       "        2.83959536e-01,  1.38777327e+00,  3.35903711e-01, -3.13398486e-01,\n",
       "       -7.28951892e-01, -3.39370574e-01,  1.76436855e+00, -8.32840244e-01,\n",
       "        1.81631272e+00, -1.05360299e+00,  5.82638546e-01,  4.39792063e-01,\n",
       "       -1.65096101e+00, -8.84784420e-01, -7.28951892e-01,  5.56666458e-01,\n",
       "       -1.28735178e+00,  8.42359425e-01,  2.57987448e-01, -2.74440354e-01,\n",
       "        8.03401293e-01, -1.20943552e+00, -1.06658903e+00,  8.81317557e-01,\n",
       "        1.50464767e+00, -1.73343121e-03, -1.36526805e+00, -1.01464486e+00,\n",
       "        1.85527085e+00, -6.64021672e-01, -1.47194752e-02, -3.26384530e-01,\n",
       "        1.10208030e+00,  9.46247777e-01, -9.23742551e-01, -1.47194752e-02,\n",
       "       -5.86105409e-01, -1.14450530e+00, -1.83538046e-01,  4.26806019e-01,\n",
       "        1.46568953e+00, -6.64021672e-01, -1.96524090e-01, -1.18607827e-01,\n",
       "       -1.44579915e-01, -9.49714639e-01,  1.81631272e+00,  3.35903711e-01,\n",
       "       -7.93882112e-01, -4.69231013e-01, -8.58812332e-01, -3.91314750e-01,\n",
       "       -1.04061695e+00, -3.00412442e-01, -1.31593871e-01, -8.06868156e-01,\n",
       "        7.61828325e-02, -1.46915640e+00,  5.69652502e-01,  9.07289645e-01,\n",
       "        1.62152206e+00, -6.89993760e-01,  5.69652502e-01,  6.47568766e-01,\n",
       "        3.72247006e-02, -9.75686727e-01,  5.04722283e-01, -1.06658903e+00,\n",
       "       -1.02763090e+00, -1.33929596e+00, -1.13151925e+00,  1.43971745e+00,\n",
       "        1.24492679e+00,  1.86825690e+00,  8.03401293e-01,  4.26806019e-01,\n",
       "       -9.62700683e-01, -7.67910024e-01,  1.29687096e+00, -2.77055191e-02,\n",
       "       -9.75686727e-01,  7.25485030e-01, -9.75686727e-01, -5.73119365e-01,\n",
       "        1.02154920e-01, -1.28735178e+00,  8.81317557e-01,  2.42386567e-02,\n",
       "        1.38777327e+00, -8.06868156e-01,  1.21895470e+00, -3.65342662e-01,\n",
       "       -1.10554717e+00, -1.04061695e+00,  1.36180118e+00,  1.42673140e+00,\n",
       "        1.59554997e+00,  3.22917667e-01, -1.05360299e+00, -1.36526805e+00,\n",
       "        4.52778107e-01, -3.52356618e-01, -9.62700683e-01, -1.31332387e+00,\n",
       "        1.37478723e+00,  8.16387337e-01,  1.95915920e+00,  1.17999657e+00,\n",
       "       -7.93882112e-01, -2.77055191e-02,  2.05006151e+00,  1.12526127e-02,\n",
       "        2.51755909e+00, -1.15749134e+00, -8.19854200e-01, -1.32630991e+00,\n",
       "       -1.46915640e+00, -6.38049585e-01,  2.02408942e+00, -4.69231013e-01,\n",
       "       -9.26357388e-02, -1.01464486e+00, -1.39124013e+00, -4.82217057e-01,\n",
       "        1.45270349e+00, -8.45826288e-01,  6.47568766e-01, -3.26384530e-01,\n",
       "        3.87847887e-01,  1.15402448e+00, -1.11853321e+00, -7.54923980e-01,\n",
       "        1.69943833e+00, -1.14450530e+00, -6.51035629e-01,  6.21596678e-01,\n",
       "        1.46568953e+00, -7.54923980e-01,  1.01117800e+00,  3.74861843e-01,\n",
       "        5.02107446e-02,  1.05013613e+00, -1.19644947e+00,  8.68331513e-01,\n",
       "       -9.36728595e-01, -1.09256112e+00,  2.33575448e+00,  1.24492679e+00,\n",
       "       -8.84784420e-01,  6.21596678e-01, -1.26137969e+00, -8.71798376e-01,\n",
       "       -8.19854200e-01, -1.57304475e+00, -3.00412442e-01, -8.97770464e-01,\n",
       "        1.59554997e+00, -1.13151925e+00,  5.95624590e-01,  1.08909426e+00,\n",
       "        1.30985701e+00, -3.65342662e-01, -1.40422618e+00,  2.57987448e-01,\n",
       "       -4.95203101e-01, -1.31593871e-01, -5.60133321e-01,  3.61875799e-01,\n",
       "       -1.05621783e-01,  1.41113052e-01, -6.66636509e-02, -7.15965848e-01,\n",
       "        8.81317557e-01,  4.91736239e-01, -5.60133321e-01,  5.04722283e-01,\n",
       "       -3.91314750e-01,  1.01117800e+00,  1.16701052e+00,  1.24492679e+00,\n",
       "        1.25791283e+00,  5.17708327e-01, -2.74440354e-01,  1.10208030e+00,\n",
       "       -9.62700683e-01, -2.22496178e-01,  1.19298261e+00,  6.08610634e-01,\n",
       "        1.53061975e+00,  1.54099096e-01, -1.04061695e+00, -7.28951892e-01,\n",
       "        1.99811734e+00, -7.93882112e-01,  8.03401293e-01, -7.41937936e-01,\n",
       "        8.29373381e-01,  1.43971745e+00,  3.35903711e-01, -5.08189145e-01,\n",
       "        6.21596678e-01, -1.70552003e-01, -1.70552003e-01, -8.32840244e-01,\n",
       "       -5.36776070e-02, -8.32840244e-01,  1.17999657e+00, -1.05360299e+00,\n",
       "       -9.75686727e-01, -5.60133321e-01,  1.55659184e+00, -1.19644947e+00,\n",
       "       -1.27436574e+00,  8.94303601e-01, -8.06868156e-01,  2.06304756e+00,\n",
       "        1.67346624e+00,  3.87847887e-01,  2.19290800e+00, -1.22242156e+00,\n",
       "        1.42673140e+00,  6.99512942e-01,  1.05013613e+00,  1.16701052e+00,\n",
       "       -3.78328706e-01,  1.93057228e-01, -1.15749134e+00,  5.82638546e-01,\n",
       "       -1.05360299e+00,  2.06043272e-01, -1.57565959e-01,  8.42359425e-01,\n",
       "       -4.04300794e-01,  1.07610822e+00,  1.20596866e+00, -1.45617035e+00,\n",
       "       -1.30033783e+00, -6.25063541e-01, -2.61454310e-01, -8.32840244e-01,\n",
       "       -1.07957508e+00,  8.68331513e-01, -1.04061695e+00,  6.34582722e-01,\n",
       "       -5.47147277e-01, -1.31332387e+00,  1.62152206e+00, -1.15749134e+00,\n",
       "       -4.43258925e-01, -1.07957508e+00,  1.56957789e+00,  1.37478723e+00,\n",
       "       -1.41721222e+00,  5.95624590e-01,  1.16701052e+00,  1.03715008e+00,\n",
       "        2.96945580e-01, -7.67910024e-01,  2.06043272e-01,  1.59554997e+00,\n",
       "        1.82929877e+00,  1.67346624e+00, -1.04061695e+00, -1.57565959e-01,\n",
       "        4.78750195e-01,  3.74861843e-01,  7.38471074e-01, -2.09510134e-01,\n",
       "        1.41374536e+00, -5.08189145e-01, -2.74440354e-01,  2.83959536e-01,\n",
       "        1.36180118e+00, -1.26137969e+00, -8.84784420e-01, -1.43019827e+00,\n",
       "       -7.96496949e-02,  7.77429206e-01,  1.05013613e+00, -7.93882112e-01,\n",
       "       -5.34161233e-01, -1.73343121e-03, -4.17286837e-01, -1.10554717e+00,\n",
       "        2.05006151e+00, -7.54923980e-01,  4.00833931e-01, -1.11853321e+00,\n",
       "        2.70973492e-01, -1.04061695e+00, -1.33929596e+00, -1.14450530e+00,\n",
       "       -1.35228200e+00,  3.35903711e-01, -6.25063541e-01, -2.61454310e-01,\n",
       "        8.81317557e-01, -1.23540761e+00])"
      ]
     },
     "execution_count": 6,
     "metadata": {},
     "output_type": "execute_result"
    }
   ],
   "source": [
    "# Normalize the target data (this will make clearer training curves)\n",
    "target = (target - target.mean(axis=0)) / target.std()\n",
    "target"
   ]
  },
  {
   "cell_type": "code",
   "execution_count": 7,
   "metadata": {},
   "outputs": [
    {
     "name": "stdout",
     "output_type": "stream",
     "text": [
      "(397, 10)\n",
      "(45, 10)\n",
      "(397,)\n",
      "(45,)\n"
     ]
    }
   ],
   "source": [
    "from sklearn.model_selection import train_test_split\n",
    "\n",
    "X_train, X_test, y_train, y_test = train_test_split(data, target, test_size=0.1)\n",
    "\n",
    "print(X_train.shape)\n",
    "print(X_test.shape)\n",
    "print(y_train.shape)\n",
    "print(y_test.shape)"
   ]
  },
  {
   "cell_type": "markdown",
   "metadata": {},
   "source": [
    "### Train a Feedforward Neural Network Model"
   ]
  },
  {
   "cell_type": "code",
   "execution_count": 8,
   "metadata": {},
   "outputs": [],
   "source": [
    "from tensorflow.keras.models import Sequential\n",
    "from tensorflow.keras.layers import Dense\n",
    "\n",
    "def get_model():\n",
    "    model = Sequential([\n",
    "        Dense(128, activation='relu', input_shape=(X_train.shape[1],)),\n",
    "        Dense(128, activation='relu'),\n",
    "        Dense(128, activation='relu'),\n",
    "        Dense(128, activation='relu'),\n",
    "        Dense(128, activation='relu'),\n",
    "        Dense(128, activation='relu'),\n",
    "        Dense(1)\n",
    "    ])\n",
    "    return model"
   ]
  },
  {
   "cell_type": "code",
   "execution_count": 9,
   "metadata": {},
   "outputs": [],
   "source": [
    "model = get_model()"
   ]
  },
  {
   "cell_type": "code",
   "execution_count": 10,
   "metadata": {
    "scrolled": true
   },
   "outputs": [
    {
     "name": "stdout",
     "output_type": "stream",
     "text": [
      "Model: \"sequential\"\n",
      "_________________________________________________________________\n",
      "Layer (type)                 Output Shape              Param #   \n",
      "=================================================================\n",
      "dense (Dense)                (None, 128)               1408      \n",
      "_________________________________________________________________\n",
      "dense_1 (Dense)              (None, 128)               16512     \n",
      "_________________________________________________________________\n",
      "dense_2 (Dense)              (None, 128)               16512     \n",
      "_________________________________________________________________\n",
      "dense_3 (Dense)              (None, 128)               16512     \n",
      "_________________________________________________________________\n",
      "dense_4 (Dense)              (None, 128)               16512     \n",
      "_________________________________________________________________\n",
      "dense_5 (Dense)              (None, 128)               16512     \n",
      "_________________________________________________________________\n",
      "dense_6 (Dense)              (None, 1)                 129       \n",
      "=================================================================\n",
      "Total params: 84,097\n",
      "Trainable params: 84,097\n",
      "Non-trainable params: 0\n",
      "_________________________________________________________________\n"
     ]
    }
   ],
   "source": [
    "# Print the Model Summary\n",
    "model.summary()"
   ]
  },
  {
   "cell_type": "code",
   "execution_count": 11,
   "metadata": {},
   "outputs": [],
   "source": [
    "# Compile the Model\n",
    "model.compile(optimizer='adam', loss='mse', metrics=['mae'])"
   ]
  },
  {
   "cell_type": "code",
   "execution_count": 12,
   "metadata": {},
   "outputs": [
    {
     "name": "stdout",
     "output_type": "stream",
     "text": [
      "Epoch 1/100\n",
      "6/6 - 0s - loss: 0.9508 - mae: 0.8336 - val_loss: 1.0497 - val_mae: 0.8760\n",
      "Epoch 2/100\n",
      "6/6 - 0s - loss: 0.8405 - mae: 0.7869 - val_loss: 0.7791 - val_mae: 0.7579\n",
      "Epoch 3/100\n",
      "6/6 - 0s - loss: 0.6163 - mae: 0.6596 - val_loss: 0.5291 - val_mae: 0.5830\n",
      "Epoch 4/100\n",
      "6/6 - 0s - loss: 0.5487 - mae: 0.5902 - val_loss: 0.4730 - val_mae: 0.5493\n",
      "Epoch 5/100\n",
      "6/6 - 0s - loss: 0.5170 - mae: 0.5813 - val_loss: 0.5537 - val_mae: 0.6248\n",
      "Epoch 6/100\n",
      "6/6 - 0s - loss: 0.5246 - mae: 0.5909 - val_loss: 0.4674 - val_mae: 0.5484\n",
      "Epoch 7/100\n",
      "6/6 - 0s - loss: 0.4890 - mae: 0.5652 - val_loss: 0.4639 - val_mae: 0.5459\n",
      "Epoch 8/100\n",
      "6/6 - 0s - loss: 0.4631 - mae: 0.5408 - val_loss: 0.4798 - val_mae: 0.5624\n",
      "Epoch 9/100\n",
      "6/6 - 0s - loss: 0.4577 - mae: 0.5424 - val_loss: 0.4837 - val_mae: 0.5687\n",
      "Epoch 10/100\n",
      "6/6 - 0s - loss: 0.4496 - mae: 0.5430 - val_loss: 0.4754 - val_mae: 0.5612\n",
      "Epoch 11/100\n",
      "6/6 - 0s - loss: 0.4371 - mae: 0.5276 - val_loss: 0.4758 - val_mae: 0.5511\n",
      "Epoch 12/100\n",
      "6/6 - 0s - loss: 0.4418 - mae: 0.5251 - val_loss: 0.4800 - val_mae: 0.5512\n",
      "Epoch 13/100\n",
      "6/6 - 0s - loss: 0.4356 - mae: 0.5232 - val_loss: 0.4780 - val_mae: 0.5553\n",
      "Epoch 14/100\n",
      "6/6 - 0s - loss: 0.4292 - mae: 0.5150 - val_loss: 0.5298 - val_mae: 0.5846\n",
      "Epoch 15/100\n",
      "6/6 - 0s - loss: 0.4113 - mae: 0.5144 - val_loss: 0.4944 - val_mae: 0.5612\n",
      "Epoch 16/100\n",
      "6/6 - 0s - loss: 0.4274 - mae: 0.5191 - val_loss: 0.4817 - val_mae: 0.5544\n",
      "Epoch 17/100\n",
      "6/6 - 0s - loss: 0.4074 - mae: 0.5021 - val_loss: 0.4862 - val_mae: 0.5518\n",
      "Epoch 18/100\n",
      "6/6 - 0s - loss: 0.3953 - mae: 0.4927 - val_loss: 0.5167 - val_mae: 0.5711\n",
      "Epoch 19/100\n",
      "6/6 - 0s - loss: 0.3905 - mae: 0.4974 - val_loss: 0.5095 - val_mae: 0.5668\n",
      "Epoch 20/100\n",
      "6/6 - 0s - loss: 0.3836 - mae: 0.4835 - val_loss: 0.5595 - val_mae: 0.6005\n",
      "Epoch 21/100\n",
      "6/6 - 0s - loss: 0.4036 - mae: 0.4996 - val_loss: 0.4894 - val_mae: 0.5633\n",
      "Epoch 22/100\n",
      "6/6 - 0s - loss: 0.3880 - mae: 0.4909 - val_loss: 0.5252 - val_mae: 0.5641\n",
      "Epoch 23/100\n",
      "6/6 - 0s - loss: 0.3809 - mae: 0.4900 - val_loss: 0.4889 - val_mae: 0.5541\n",
      "Epoch 24/100\n",
      "6/6 - 0s - loss: 0.3659 - mae: 0.4703 - val_loss: 0.5050 - val_mae: 0.5637\n",
      "Epoch 25/100\n",
      "6/6 - 0s - loss: 0.3467 - mae: 0.4613 - val_loss: 0.4921 - val_mae: 0.5602\n",
      "Epoch 26/100\n",
      "6/6 - 0s - loss: 0.3378 - mae: 0.4561 - val_loss: 0.5180 - val_mae: 0.5676\n",
      "Epoch 27/100\n",
      "6/6 - 0s - loss: 0.3361 - mae: 0.4534 - val_loss: 0.5575 - val_mae: 0.5892\n",
      "Epoch 28/100\n",
      "6/6 - 0s - loss: 0.3218 - mae: 0.4464 - val_loss: 0.5442 - val_mae: 0.5805\n",
      "Epoch 29/100\n",
      "6/6 - 0s - loss: 0.3466 - mae: 0.4601 - val_loss: 0.5329 - val_mae: 0.5721\n",
      "Epoch 30/100\n",
      "6/6 - 0s - loss: 0.3054 - mae: 0.4332 - val_loss: 0.5784 - val_mae: 0.5834\n",
      "Epoch 31/100\n",
      "6/6 - 0s - loss: 0.3026 - mae: 0.4299 - val_loss: 0.5981 - val_mae: 0.5962\n",
      "Epoch 32/100\n",
      "6/6 - 0s - loss: 0.3229 - mae: 0.4555 - val_loss: 0.5374 - val_mae: 0.5822\n",
      "Epoch 33/100\n",
      "6/6 - 0s - loss: 0.3228 - mae: 0.4475 - val_loss: 0.5770 - val_mae: 0.5903\n",
      "Epoch 34/100\n",
      "6/6 - 0s - loss: 0.3356 - mae: 0.4543 - val_loss: 0.5261 - val_mae: 0.5782\n",
      "Epoch 35/100\n",
      "6/6 - 0s - loss: 0.3076 - mae: 0.4367 - val_loss: 0.5497 - val_mae: 0.5790\n",
      "Epoch 36/100\n",
      "6/6 - 0s - loss: 0.2731 - mae: 0.4145 - val_loss: 0.5981 - val_mae: 0.5998\n",
      "Epoch 37/100\n",
      "6/6 - 0s - loss: 0.2714 - mae: 0.4154 - val_loss: 0.5672 - val_mae: 0.5826\n",
      "Epoch 38/100\n",
      "6/6 - 0s - loss: 0.2454 - mae: 0.3870 - val_loss: 0.5596 - val_mae: 0.5734\n",
      "Epoch 39/100\n",
      "6/6 - 0s - loss: 0.2280 - mae: 0.3699 - val_loss: 0.5750 - val_mae: 0.5752\n",
      "Epoch 40/100\n",
      "6/6 - 0s - loss: 0.2274 - mae: 0.3650 - val_loss: 0.5998 - val_mae: 0.5858\n",
      "Epoch 41/100\n",
      "6/6 - 0s - loss: 0.2436 - mae: 0.3770 - val_loss: 0.6021 - val_mae: 0.6017\n",
      "Epoch 42/100\n",
      "6/6 - 0s - loss: 0.2686 - mae: 0.4053 - val_loss: 0.5912 - val_mae: 0.5852\n",
      "Epoch 43/100\n",
      "6/6 - 0s - loss: 0.2748 - mae: 0.4089 - val_loss: 0.7409 - val_mae: 0.6747\n",
      "Epoch 44/100\n",
      "6/6 - 0s - loss: 0.2632 - mae: 0.4047 - val_loss: 0.5803 - val_mae: 0.5759\n",
      "Epoch 45/100\n",
      "6/6 - 0s - loss: 0.2671 - mae: 0.4067 - val_loss: 0.6534 - val_mae: 0.6280\n",
      "Epoch 46/100\n",
      "6/6 - 0s - loss: 0.2489 - mae: 0.3903 - val_loss: 0.6534 - val_mae: 0.6296\n",
      "Epoch 47/100\n",
      "6/6 - 0s - loss: 0.2354 - mae: 0.3848 - val_loss: 0.6267 - val_mae: 0.6047\n",
      "Epoch 48/100\n",
      "6/6 - 0s - loss: 0.2157 - mae: 0.3711 - val_loss: 0.5952 - val_mae: 0.5816\n",
      "Epoch 49/100\n",
      "6/6 - 0s - loss: 0.2164 - mae: 0.3582 - val_loss: 0.5700 - val_mae: 0.5728\n",
      "Epoch 50/100\n",
      "6/6 - 0s - loss: 0.2099 - mae: 0.3560 - val_loss: 0.6282 - val_mae: 0.5912\n",
      "Epoch 51/100\n",
      "6/6 - 0s - loss: 0.1819 - mae: 0.3332 - val_loss: 0.6418 - val_mae: 0.6008\n",
      "Epoch 52/100\n",
      "6/6 - 0s - loss: 0.1982 - mae: 0.3537 - val_loss: 0.6540 - val_mae: 0.6059\n",
      "Epoch 53/100\n",
      "6/6 - 0s - loss: 0.1971 - mae: 0.3482 - val_loss: 0.7168 - val_mae: 0.6338\n",
      "Epoch 54/100\n",
      "6/6 - 0s - loss: 0.2040 - mae: 0.3565 - val_loss: 0.7738 - val_mae: 0.6845\n",
      "Epoch 55/100\n",
      "6/6 - 0s - loss: 0.2186 - mae: 0.3654 - val_loss: 0.6370 - val_mae: 0.6021\n",
      "Epoch 56/100\n",
      "6/6 - 0s - loss: 0.1764 - mae: 0.3322 - val_loss: 0.6130 - val_mae: 0.5943\n",
      "Epoch 57/100\n",
      "6/6 - 0s - loss: 0.1523 - mae: 0.3049 - val_loss: 0.7073 - val_mae: 0.6155\n",
      "Epoch 58/100\n",
      "6/6 - 0s - loss: 0.1426 - mae: 0.2882 - val_loss: 0.7524 - val_mae: 0.6442\n",
      "Epoch 59/100\n",
      "6/6 - 0s - loss: 0.1511 - mae: 0.3031 - val_loss: 0.7325 - val_mae: 0.6533\n",
      "Epoch 60/100\n",
      "6/6 - 0s - loss: 0.1511 - mae: 0.3110 - val_loss: 0.6873 - val_mae: 0.6369\n",
      "Epoch 61/100\n",
      "6/6 - 0s - loss: 0.1548 - mae: 0.3111 - val_loss: 0.7201 - val_mae: 0.6363\n",
      "Epoch 62/100\n",
      "6/6 - 0s - loss: 0.1298 - mae: 0.2765 - val_loss: 0.7006 - val_mae: 0.6256\n",
      "Epoch 63/100\n",
      "6/6 - 0s - loss: 0.1242 - mae: 0.2701 - val_loss: 0.7418 - val_mae: 0.6346\n",
      "Epoch 64/100\n",
      "6/6 - 0s - loss: 0.1109 - mae: 0.2622 - val_loss: 0.7408 - val_mae: 0.6339\n",
      "Epoch 65/100\n",
      "6/6 - 0s - loss: 0.1047 - mae: 0.2525 - val_loss: 0.7452 - val_mae: 0.6300\n",
      "Epoch 66/100\n",
      "6/6 - 0s - loss: 0.0966 - mae: 0.2340 - val_loss: 0.7862 - val_mae: 0.6511\n",
      "Epoch 67/100\n",
      "6/6 - 0s - loss: 0.0937 - mae: 0.2324 - val_loss: 0.8316 - val_mae: 0.6791\n",
      "Epoch 68/100\n",
      "6/6 - 0s - loss: 0.1066 - mae: 0.2520 - val_loss: 0.8053 - val_mae: 0.6628\n",
      "Epoch 69/100\n",
      "6/6 - 0s - loss: 0.1036 - mae: 0.2447 - val_loss: 0.7694 - val_mae: 0.6549\n",
      "Epoch 70/100\n",
      "6/6 - 0s - loss: 0.0893 - mae: 0.2281 - val_loss: 0.7521 - val_mae: 0.6454\n",
      "Epoch 71/100\n",
      "6/6 - 0s - loss: 0.0873 - mae: 0.2248 - val_loss: 0.7929 - val_mae: 0.6806\n",
      "Epoch 72/100\n",
      "6/6 - 0s - loss: 0.0783 - mae: 0.2202 - val_loss: 0.7633 - val_mae: 0.6594\n",
      "Epoch 73/100\n",
      "6/6 - 0s - loss: 0.0714 - mae: 0.2011 - val_loss: 0.8832 - val_mae: 0.6941\n",
      "Epoch 74/100\n",
      "6/6 - 0s - loss: 0.0734 - mae: 0.2049 - val_loss: 0.8481 - val_mae: 0.6832\n",
      "Epoch 75/100\n",
      "6/6 - 0s - loss: 0.0804 - mae: 0.2121 - val_loss: 0.8419 - val_mae: 0.7099\n",
      "Epoch 76/100\n",
      "6/6 - 0s - loss: 0.1116 - mae: 0.2627 - val_loss: 0.7886 - val_mae: 0.6701\n",
      "Epoch 77/100\n",
      "6/6 - 0s - loss: 0.0868 - mae: 0.2251 - val_loss: 0.7898 - val_mae: 0.6819\n",
      "Epoch 78/100\n",
      "6/6 - 0s - loss: 0.0750 - mae: 0.2137 - val_loss: 0.7863 - val_mae: 0.6717\n",
      "Epoch 79/100\n",
      "6/6 - 0s - loss: 0.0582 - mae: 0.1787 - val_loss: 0.8319 - val_mae: 0.6920\n",
      "Epoch 80/100\n",
      "6/6 - 0s - loss: 0.0633 - mae: 0.1944 - val_loss: 0.8331 - val_mae: 0.6883\n",
      "Epoch 81/100\n",
      "6/6 - 0s - loss: 0.0509 - mae: 0.1673 - val_loss: 0.8005 - val_mae: 0.6722\n",
      "Epoch 82/100\n",
      "6/6 - 0s - loss: 0.0499 - mae: 0.1688 - val_loss: 0.8504 - val_mae: 0.6955\n",
      "Epoch 83/100\n",
      "6/6 - 0s - loss: 0.0552 - mae: 0.1785 - val_loss: 0.8640 - val_mae: 0.6993\n",
      "Epoch 84/100\n",
      "6/6 - 0s - loss: 0.0507 - mae: 0.1742 - val_loss: 0.8342 - val_mae: 0.6902\n",
      "Epoch 85/100\n",
      "6/6 - 0s - loss: 0.0580 - mae: 0.1850 - val_loss: 0.8771 - val_mae: 0.7103\n",
      "Epoch 86/100\n",
      "6/6 - 0s - loss: 0.0629 - mae: 0.1963 - val_loss: 0.8247 - val_mae: 0.6882\n",
      "Epoch 87/100\n",
      "6/6 - 0s - loss: 0.0641 - mae: 0.1960 - val_loss: 0.8435 - val_mae: 0.6949\n",
      "Epoch 88/100\n",
      "6/6 - 0s - loss: 0.0509 - mae: 0.1792 - val_loss: 0.8239 - val_mae: 0.6784\n",
      "Epoch 89/100\n",
      "6/6 - 0s - loss: 0.0518 - mae: 0.1784 - val_loss: 0.8123 - val_mae: 0.6739\n",
      "Epoch 90/100\n",
      "6/6 - 0s - loss: 0.0502 - mae: 0.1717 - val_loss: 0.8878 - val_mae: 0.7199\n",
      "Epoch 91/100\n",
      "6/6 - 0s - loss: 0.0444 - mae: 0.1635 - val_loss: 0.8236 - val_mae: 0.6801\n",
      "Epoch 92/100\n",
      "6/6 - 0s - loss: 0.0336 - mae: 0.1383 - val_loss: 0.8806 - val_mae: 0.7113\n",
      "Epoch 93/100\n",
      "6/6 - 0s - loss: 0.0371 - mae: 0.1471 - val_loss: 0.9271 - val_mae: 0.7321\n",
      "Epoch 94/100\n",
      "6/6 - 0s - loss: 0.0507 - mae: 0.1749 - val_loss: 0.8651 - val_mae: 0.7042\n"
     ]
    },
    {
     "name": "stdout",
     "output_type": "stream",
     "text": [
      "Epoch 95/100\n",
      "6/6 - 0s - loss: 0.0827 - mae: 0.2345 - val_loss: 0.8319 - val_mae: 0.6972\n",
      "Epoch 96/100\n",
      "6/6 - 0s - loss: 0.0933 - mae: 0.2450 - val_loss: 0.7850 - val_mae: 0.6788\n",
      "Epoch 97/100\n",
      "6/6 - 0s - loss: 0.0579 - mae: 0.1923 - val_loss: 0.8485 - val_mae: 0.6960\n",
      "Epoch 98/100\n",
      "6/6 - 0s - loss: 0.0439 - mae: 0.1617 - val_loss: 0.8463 - val_mae: 0.6941\n",
      "Epoch 99/100\n",
      "6/6 - 0s - loss: 0.0427 - mae: 0.1618 - val_loss: 0.8473 - val_mae: 0.6909\n",
      "Epoch 100/100\n",
      "6/6 - 0s - loss: 0.0290 - mae: 0.1285 - val_loss: 0.8131 - val_mae: 0.6764\n"
     ]
    }
   ],
   "source": [
    "# Train the Model, with some of the data reserved for validation\n",
    "history = model.fit(X_train, y_train, epochs=100, validation_split=0.15, batch_size=64, verbose=2)"
   ]
  },
  {
   "cell_type": "code",
   "execution_count": 13,
   "metadata": {},
   "outputs": [
    {
     "name": "stdout",
     "output_type": "stream",
     "text": [
      "2/2 [==============================] - 0s 1ms/step - loss: 0.5494 - mae: 0.5450\n"
     ]
    },
    {
     "data": {
      "text/plain": [
       "[0.5494046211242676, 0.545042872428894]"
      ]
     },
     "execution_count": 13,
     "metadata": {},
     "output_type": "execute_result"
    }
   ],
   "source": [
    "# Evaluate the model on the test set\n",
    "model.evaluate(X_test, y_test)"
   ]
  },
  {
   "cell_type": "code",
   "execution_count": 14,
   "metadata": {},
   "outputs": [
    {
     "data": {
      "image/png": "[encoded data removed]",
      "text/plain": [
       "<Figure size 432x288 with 1 Axes>"
      ]
     },
     "metadata": {
      "needs_background": "light"
     },
     "output_type": "display_data"
    }
   ],
   "source": [
    "#### Plot the learning curves\n",
    "import matplotlib.pyplot as plt\n",
    "\n",
    "plt.plot(history.history['loss'])\n",
    "plt.plot(history.history['val_loss'])\n",
    "plt.title('Loss vs Epochs')\n",
    "plt.ylabel('Loss')\n",
    "plt.xlabel('Epochs')\n",
    "plt.legend(['Training', 'Validation'], loc='best')\n",
    "plt.show()"
   ]
  },
  {
   "cell_type": "markdown",
   "metadata": {},
   "source": [
    "### Model Regularization"
   ]
  },
  {
   "cell_type": "code",
   "execution_count": 15,
   "metadata": {},
   "outputs": [],
   "source": [
    "from tensorflow.keras.layers import Dropout\n",
    "from tensorflow.keras import regularizers"
   ]
  },
  {
   "cell_type": "code",
   "execution_count": 16,
   "metadata": {},
   "outputs": [],
   "source": [
    "def get_regularized_model(wd, rate):\n",
    "    model = Sequential([\n",
    "        Dense(128, kernel_regularizer= regularizers.l2(wd), activation='relu', input_shape=(X_train.shape[1],)),\n",
    "        Dropout(rate),\n",
    "        Dense(128, kernel_regularizer= regularizers.l2(wd), activation='relu'),\n",
    "        Dropout(rate),\n",
    "        Dense(128, kernel_regularizer= regularizers.l2(wd), activation='relu'),\n",
    "        Dropout(rate),\n",
    "        Dense(128, kernel_regularizer= regularizers.l2(wd), activation='relu'),\n",
    "        Dropout(rate),\n",
    "        Dense(128, kernel_regularizer= regularizers.l2(wd), activation='relu'),\n",
    "        Dropout(rate),\n",
    "        Dense(128, kernel_regularizer= regularizers.l2(wd),activation='relu'),\n",
    "        Dropout(rate),\n",
    "        Dense(1)\n",
    "    ])\n",
    "    return model"
   ]
  },
  {
   "cell_type": "code",
   "execution_count": 17,
   "metadata": {},
   "outputs": [],
   "source": [
    "model = get_regularized_model(1e-5, 0.3)"
   ]
  },
  {
   "cell_type": "code",
   "execution_count": 19,
   "metadata": {},
   "outputs": [],
   "source": [
    "model.compile(optimizer='adam', loss='mse', metrics = ['mae'])"
   ]
  },
  {
   "cell_type": "code",
   "execution_count": 20,
   "metadata": {},
   "outputs": [
    {
     "name": "stdout",
     "output_type": "stream",
     "text": [
      "Epoch 1/100\n",
      "6/6 [==============================] - 0s 29ms/step - loss: 0.9810 - mae: 0.8424 - val_loss: 1.1402 - val_mae: 0.8989\n",
      "Epoch 2/100\n",
      "6/6 [==============================] - 0s 5ms/step - loss: 0.9690 - mae: 0.8388 - val_loss: 1.1151 - val_mae: 0.8961\n",
      "Epoch 3/100\n",
      "6/6 [==============================] - 0s 5ms/step - loss: 0.9310 - mae: 0.8249 - val_loss: 0.9999 - val_mae: 0.8561\n",
      "Epoch 4/100\n",
      "6/6 [==============================] - 0s 5ms/step - loss: 0.8293 - mae: 0.7787 - val_loss: 0.7677 - val_mae: 0.7552\n",
      "Epoch 5/100\n",
      "6/6 [==============================] - 0s 5ms/step - loss: 0.6830 - mae: 0.6992 - val_loss: 0.5730 - val_mae: 0.6193\n",
      "Epoch 6/100\n",
      "6/6 [==============================] - 0s 5ms/step - loss: 0.6674 - mae: 0.6633 - val_loss: 0.5479 - val_mae: 0.5949\n",
      "Epoch 7/100\n",
      "6/6 [==============================] - 0s 5ms/step - loss: 0.6090 - mae: 0.6288 - val_loss: 0.5492 - val_mae: 0.6196\n",
      "Epoch 8/100\n",
      "6/6 [==============================] - 0s 5ms/step - loss: 0.6036 - mae: 0.6452 - val_loss: 0.5551 - val_mae: 0.6303\n",
      "Epoch 9/100\n",
      "6/6 [==============================] - 0s 5ms/step - loss: 0.6340 - mae: 0.6504 - val_loss: 0.5455 - val_mae: 0.6224\n",
      "Epoch 10/100\n",
      "6/6 [==============================] - 0s 5ms/step - loss: 0.5769 - mae: 0.6222 - val_loss: 0.5691 - val_mae: 0.6276\n",
      "Epoch 11/100\n",
      "6/6 [==============================] - 0s 5ms/step - loss: 0.5933 - mae: 0.6384 - val_loss: 0.5310 - val_mae: 0.6011\n",
      "Epoch 12/100\n",
      "6/6 [==============================] - 0s 5ms/step - loss: 0.5891 - mae: 0.6288 - val_loss: 0.5240 - val_mae: 0.5960\n",
      "Epoch 13/100\n",
      "6/6 [==============================] - 0s 5ms/step - loss: 0.5521 - mae: 0.5938 - val_loss: 0.5240 - val_mae: 0.5930\n",
      "Epoch 14/100\n",
      "6/6 [==============================] - 0s 5ms/step - loss: 0.5401 - mae: 0.5944 - val_loss: 0.5212 - val_mae: 0.5855\n",
      "Epoch 15/100\n",
      "6/6 [==============================] - 0s 5ms/step - loss: 0.5906 - mae: 0.6177 - val_loss: 0.5289 - val_mae: 0.6081\n",
      "Epoch 16/100\n",
      "6/6 [==============================] - 0s 5ms/step - loss: 0.5429 - mae: 0.6090 - val_loss: 0.5177 - val_mae: 0.6004\n",
      "Epoch 17/100\n",
      "6/6 [==============================] - 0s 5ms/step - loss: 0.5357 - mae: 0.6004 - val_loss: 0.4932 - val_mae: 0.5695\n",
      "Epoch 18/100\n",
      "6/6 [==============================] - 0s 5ms/step - loss: 0.5119 - mae: 0.5773 - val_loss: 0.5265 - val_mae: 0.5963\n",
      "Epoch 19/100\n",
      "6/6 [==============================] - 0s 5ms/step - loss: 0.5457 - mae: 0.5877 - val_loss: 0.5019 - val_mae: 0.5788\n",
      "Epoch 20/100\n",
      "6/6 [==============================] - 0s 5ms/step - loss: 0.5243 - mae: 0.5860 - val_loss: 0.5142 - val_mae: 0.5916\n",
      "Epoch 21/100\n",
      "6/6 [==============================] - 0s 5ms/step - loss: 0.5307 - mae: 0.5888 - val_loss: 0.5293 - val_mae: 0.6031\n",
      "Epoch 22/100\n",
      "6/6 [==============================] - 0s 5ms/step - loss: 0.5264 - mae: 0.5899 - val_loss: 0.4948 - val_mae: 0.5732\n",
      "Epoch 23/100\n",
      "6/6 [==============================] - 0s 5ms/step - loss: 0.5254 - mae: 0.5779 - val_loss: 0.5002 - val_mae: 0.5693\n",
      "Epoch 24/100\n",
      "6/6 [==============================] - 0s 5ms/step - loss: 0.5373 - mae: 0.5916 - val_loss: 0.4937 - val_mae: 0.5673\n",
      "Epoch 25/100\n",
      "6/6 [==============================] - 0s 5ms/step - loss: 0.4957 - mae: 0.5725 - val_loss: 0.5079 - val_mae: 0.5810\n",
      "Epoch 26/100\n",
      "6/6 [==============================] - 0s 5ms/step - loss: 0.4987 - mae: 0.5679 - val_loss: 0.4930 - val_mae: 0.5655\n",
      "Epoch 27/100\n",
      "6/6 [==============================] - 0s 7ms/step - loss: 0.5029 - mae: 0.5654 - val_loss: 0.5002 - val_mae: 0.5754\n",
      "Epoch 28/100\n",
      "6/6 [==============================] - 0s 5ms/step - loss: 0.5085 - mae: 0.5835 - val_loss: 0.5209 - val_mae: 0.5997\n",
      "Epoch 29/100\n",
      "6/6 [==============================] - 0s 5ms/step - loss: 0.5253 - mae: 0.6021 - val_loss: 0.5216 - val_mae: 0.6027\n",
      "Epoch 30/100\n",
      "6/6 [==============================] - 0s 5ms/step - loss: 0.4896 - mae: 0.5651 - val_loss: 0.5114 - val_mae: 0.5891\n",
      "Epoch 31/100\n",
      "6/6 [==============================] - 0s 5ms/step - loss: 0.5220 - mae: 0.5777 - val_loss: 0.5360 - val_mae: 0.5971\n",
      "Epoch 32/100\n",
      "6/6 [==============================] - 0s 5ms/step - loss: 0.5038 - mae: 0.5730 - val_loss: 0.5118 - val_mae: 0.5805\n",
      "Epoch 33/100\n",
      "6/6 [==============================] - 0s 5ms/step - loss: 0.4973 - mae: 0.5695 - val_loss: 0.5158 - val_mae: 0.5918\n",
      "Epoch 34/100\n",
      "6/6 [==============================] - 0s 5ms/step - loss: 0.4542 - mae: 0.5548 - val_loss: 0.5232 - val_mae: 0.5901\n",
      "Epoch 35/100\n",
      "6/6 [==============================] - 0s 5ms/step - loss: 0.4613 - mae: 0.5512 - val_loss: 0.5024 - val_mae: 0.5714\n",
      "Epoch 36/100\n",
      "6/6 [==============================] - 0s 5ms/step - loss: 0.4965 - mae: 0.5612 - val_loss: 0.5003 - val_mae: 0.5723\n",
      "Epoch 37/100\n",
      "6/6 [==============================] - 0s 5ms/step - loss: 0.4899 - mae: 0.5685 - val_loss: 0.5216 - val_mae: 0.5940\n",
      "Epoch 38/100\n",
      "6/6 [==============================] - 0s 5ms/step - loss: 0.4617 - mae: 0.5503 - val_loss: 0.5055 - val_mae: 0.5752\n",
      "Epoch 39/100\n",
      "6/6 [==============================] - 0s 5ms/step - loss: 0.5079 - mae: 0.5630 - val_loss: 0.5004 - val_mae: 0.5674\n",
      "Epoch 40/100\n",
      "6/6 [==============================] - 0s 5ms/step - loss: 0.4481 - mae: 0.5515 - val_loss: 0.5296 - val_mae: 0.5932\n",
      "Epoch 41/100\n",
      "6/6 [==============================] - 0s 5ms/step - loss: 0.4483 - mae: 0.5273 - val_loss: 0.5008 - val_mae: 0.5657\n",
      "Epoch 42/100\n",
      "6/6 [==============================] - 0s 5ms/step - loss: 0.4731 - mae: 0.5449 - val_loss: 0.5249 - val_mae: 0.5852\n",
      "Epoch 43/100\n",
      "6/6 [==============================] - 0s 5ms/step - loss: 0.4702 - mae: 0.5508 - val_loss: 0.5160 - val_mae: 0.5807\n",
      "Epoch 44/100\n",
      "6/6 [==============================] - 0s 5ms/step - loss: 0.4606 - mae: 0.5348 - val_loss: 0.5150 - val_mae: 0.5843\n",
      "Epoch 45/100\n",
      "6/6 [==============================] - 0s 5ms/step - loss: 0.4641 - mae: 0.5497 - val_loss: 0.5309 - val_mae: 0.5842\n",
      "Epoch 46/100\n",
      "6/6 [==============================] - 0s 5ms/step - loss: 0.4861 - mae: 0.5631 - val_loss: 0.5128 - val_mae: 0.5749\n",
      "Epoch 47/100\n",
      "6/6 [==============================] - 0s 5ms/step - loss: 0.4914 - mae: 0.5593 - val_loss: 0.5282 - val_mae: 0.5933\n",
      "Epoch 48/100\n",
      "6/6 [==============================] - 0s 5ms/step - loss: 0.4409 - mae: 0.5405 - val_loss: 0.5358 - val_mae: 0.5958\n",
      "Epoch 49/100\n",
      "6/6 [==============================] - 0s 5ms/step - loss: 0.4536 - mae: 0.5256 - val_loss: 0.5303 - val_mae: 0.5841\n",
      "Epoch 50/100\n",
      "6/6 [==============================] - 0s 5ms/step - loss: 0.4587 - mae: 0.5391 - val_loss: 0.5255 - val_mae: 0.5859\n",
      "Epoch 51/100\n",
      "6/6 [==============================] - 0s 5ms/step - loss: 0.4477 - mae: 0.5372 - val_loss: 0.5377 - val_mae: 0.5849\n",
      "Epoch 52/100\n",
      "6/6 [==============================] - 0s 5ms/step - loss: 0.4799 - mae: 0.5531 - val_loss: 0.5086 - val_mae: 0.5751\n",
      "Epoch 53/100\n",
      "6/6 [==============================] - 0s 5ms/step - loss: 0.4602 - mae: 0.5348 - val_loss: 0.5412 - val_mae: 0.5979\n",
      "Epoch 54/100\n",
      "6/6 [==============================] - 0s 5ms/step - loss: 0.4270 - mae: 0.5242 - val_loss: 0.5148 - val_mae: 0.5827\n",
      "Epoch 55/100\n",
      "6/6 [==============================] - 0s 5ms/step - loss: 0.4637 - mae: 0.5412 - val_loss: 0.5096 - val_mae: 0.5704\n",
      "Epoch 56/100\n",
      "6/6 [==============================] - 0s 5ms/step - loss: 0.4475 - mae: 0.5312 - val_loss: 0.5161 - val_mae: 0.5639\n",
      "Epoch 57/100\n",
      "6/6 [==============================] - 0s 5ms/step - loss: 0.4177 - mae: 0.5123 - val_loss: 0.5163 - val_mae: 0.5671\n",
      "Epoch 58/100\n",
      "6/6 [==============================] - 0s 5ms/step - loss: 0.4289 - mae: 0.5188 - val_loss: 0.5220 - val_mae: 0.5775\n",
      "Epoch 59/100\n",
      "6/6 [==============================] - 0s 5ms/step - loss: 0.4718 - mae: 0.5624 - val_loss: 0.5307 - val_mae: 0.5880\n",
      "Epoch 60/100\n",
      "6/6 [==============================] - 0s 5ms/step - loss: 0.4423 - mae: 0.5463 - val_loss: 0.5204 - val_mae: 0.5767\n",
      "Epoch 61/100\n",
      "6/6 [==============================] - 0s 5ms/step - loss: 0.4365 - mae: 0.5319 - val_loss: 0.5500 - val_mae: 0.5969\n",
      "Epoch 62/100\n",
      "6/6 [==============================] - 0s 5ms/step - loss: 0.4350 - mae: 0.5126 - val_loss: 0.5421 - val_mae: 0.5841\n",
      "Epoch 63/100\n",
      "6/6 [==============================] - 0s 5ms/step - loss: 0.4376 - mae: 0.5407 - val_loss: 0.5587 - val_mae: 0.6055\n",
      "Epoch 64/100\n"
     ]
    },
    {
     "name": "stdout",
     "output_type": "stream",
     "text": [
      "6/6 [==============================] - 0s 5ms/step - loss: 0.4082 - mae: 0.5160 - val_loss: 0.5466 - val_mae: 0.6073\n",
      "Epoch 65/100\n",
      "6/6 [==============================] - 0s 4ms/step - loss: 0.4177 - mae: 0.5222 - val_loss: 0.5509 - val_mae: 0.5817\n",
      "Epoch 66/100\n",
      "6/6 [==============================] - 0s 4ms/step - loss: 0.3842 - mae: 0.4881 - val_loss: 0.5441 - val_mae: 0.5799\n",
      "Epoch 67/100\n",
      "6/6 [==============================] - 0s 5ms/step - loss: 0.4009 - mae: 0.4946 - val_loss: 0.5356 - val_mae: 0.5791\n",
      "Epoch 68/100\n",
      "6/6 [==============================] - 0s 5ms/step - loss: 0.3681 - mae: 0.4724 - val_loss: 0.5382 - val_mae: 0.5821\n",
      "Epoch 69/100\n",
      "6/6 [==============================] - 0s 9ms/step - loss: 0.3781 - mae: 0.4878 - val_loss: 0.5367 - val_mae: 0.5787\n",
      "Epoch 70/100\n",
      "6/6 [==============================] - 0s 5ms/step - loss: 0.4314 - mae: 0.5251 - val_loss: 0.5467 - val_mae: 0.5910\n",
      "Epoch 71/100\n",
      "6/6 [==============================] - 0s 4ms/step - loss: 0.4139 - mae: 0.5077 - val_loss: 0.5460 - val_mae: 0.5840\n",
      "Epoch 72/100\n",
      "6/6 [==============================] - 0s 4ms/step - loss: 0.3762 - mae: 0.4929 - val_loss: 0.5419 - val_mae: 0.5778\n",
      "Epoch 73/100\n",
      "6/6 [==============================] - 0s 4ms/step - loss: 0.3882 - mae: 0.5031 - val_loss: 0.5405 - val_mae: 0.5851\n",
      "Epoch 74/100\n",
      "6/6 [==============================] - 0s 5ms/step - loss: 0.3802 - mae: 0.4937 - val_loss: 0.5359 - val_mae: 0.5838\n",
      "Epoch 75/100\n",
      "6/6 [==============================] - 0s 5ms/step - loss: 0.4197 - mae: 0.5118 - val_loss: 0.5291 - val_mae: 0.5743\n",
      "Epoch 76/100\n",
      "6/6 [==============================] - 0s 5ms/step - loss: 0.4107 - mae: 0.5008 - val_loss: 0.5434 - val_mae: 0.5778\n",
      "Epoch 77/100\n",
      "6/6 [==============================] - 0s 5ms/step - loss: 0.4004 - mae: 0.4992 - val_loss: 0.5388 - val_mae: 0.5724\n",
      "Epoch 78/100\n",
      "6/6 [==============================] - 0s 5ms/step - loss: 0.3859 - mae: 0.4897 - val_loss: 0.5500 - val_mae: 0.5771\n",
      "Epoch 79/100\n",
      "6/6 [==============================] - 0s 5ms/step - loss: 0.3644 - mae: 0.4883 - val_loss: 0.5335 - val_mae: 0.5815\n",
      "Epoch 80/100\n",
      "6/6 [==============================] - 0s 5ms/step - loss: 0.3910 - mae: 0.5016 - val_loss: 0.5377 - val_mae: 0.5727\n",
      "Epoch 81/100\n",
      "6/6 [==============================] - 0s 5ms/step - loss: 0.4038 - mae: 0.5008 - val_loss: 0.5627 - val_mae: 0.5759\n",
      "Epoch 82/100\n",
      "6/6 [==============================] - 0s 5ms/step - loss: 0.4301 - mae: 0.5064 - val_loss: 0.5415 - val_mae: 0.5821\n",
      "Epoch 83/100\n",
      "6/6 [==============================] - 0s 5ms/step - loss: 0.4049 - mae: 0.4959 - val_loss: 0.5751 - val_mae: 0.5898\n",
      "Epoch 84/100\n",
      "6/6 [==============================] - 0s 5ms/step - loss: 0.3878 - mae: 0.4983 - val_loss: 0.5558 - val_mae: 0.5848\n",
      "Epoch 85/100\n",
      "6/6 [==============================] - 0s 5ms/step - loss: 0.4022 - mae: 0.5015 - val_loss: 0.5658 - val_mae: 0.5978\n",
      "Epoch 86/100\n",
      "6/6 [==============================] - 0s 4ms/step - loss: 0.3985 - mae: 0.5116 - val_loss: 0.5640 - val_mae: 0.6006\n",
      "Epoch 87/100\n",
      "6/6 [==============================] - 0s 5ms/step - loss: 0.4029 - mae: 0.5015 - val_loss: 0.5571 - val_mae: 0.5935\n",
      "Epoch 88/100\n",
      "6/6 [==============================] - 0s 5ms/step - loss: 0.3931 - mae: 0.5002 - val_loss: 0.5707 - val_mae: 0.5936\n",
      "Epoch 89/100\n",
      "6/6 [==============================] - 0s 4ms/step - loss: 0.3876 - mae: 0.4900 - val_loss: 0.5560 - val_mae: 0.5874\n",
      "Epoch 90/100\n",
      "6/6 [==============================] - 0s 5ms/step - loss: 0.3638 - mae: 0.4799 - val_loss: 0.5608 - val_mae: 0.5925\n",
      "Epoch 91/100\n",
      "6/6 [==============================] - 0s 5ms/step - loss: 0.3742 - mae: 0.4976 - val_loss: 0.5319 - val_mae: 0.5843\n",
      "Epoch 92/100\n",
      "6/6 [==============================] - 0s 5ms/step - loss: 0.3829 - mae: 0.4921 - val_loss: 0.5454 - val_mae: 0.5860\n",
      "Epoch 93/100\n",
      "6/6 [==============================] - 0s 5ms/step - loss: 0.3607 - mae: 0.4773 - val_loss: 0.5392 - val_mae: 0.5761\n",
      "Epoch 94/100\n",
      "6/6 [==============================] - 0s 5ms/step - loss: 0.3434 - mae: 0.4683 - val_loss: 0.5598 - val_mae: 0.5915\n",
      "Epoch 95/100\n",
      "6/6 [==============================] - 0s 5ms/step - loss: 0.3815 - mae: 0.4929 - val_loss: 0.5383 - val_mae: 0.5793\n",
      "Epoch 96/100\n",
      "6/6 [==============================] - 0s 5ms/step - loss: 0.3831 - mae: 0.4998 - val_loss: 0.5598 - val_mae: 0.5921\n",
      "Epoch 97/100\n",
      "6/6 [==============================] - 0s 5ms/step - loss: 0.4071 - mae: 0.5154 - val_loss: 0.5552 - val_mae: 0.6003\n",
      "Epoch 98/100\n",
      "6/6 [==============================] - 0s 5ms/step - loss: 0.4216 - mae: 0.5148 - val_loss: 0.5697 - val_mae: 0.6001\n",
      "Epoch 99/100\n",
      "6/6 [==============================] - 0s 5ms/step - loss: 0.3889 - mae: 0.5047 - val_loss: 0.5825 - val_mae: 0.5988\n",
      "Epoch 100/100\n",
      "6/6 [==============================] - 0s 5ms/step - loss: 0.3607 - mae: 0.4777 - val_loss: 0.5719 - val_mae: 0.6040\n"
     ]
    }
   ],
   "source": [
    "history = model.fit(X_train, y_train, validation_split= 0.15, epochs=100, batch_size=64, verbose=1)"
   ]
  },
  {
   "cell_type": "code",
   "execution_count": 21,
   "metadata": {},
   "outputs": [
    {
     "name": "stdout",
     "output_type": "stream",
     "text": [
      "2/2 [==============================] - 0s 1000us/step - loss: 0.4077 - mae: 0.5268\n"
     ]
    },
    {
     "data": {
      "text/plain": [
       "[0.40768545866012573, 0.5268418788909912]"
      ]
     },
     "execution_count": 21,
     "metadata": {},
     "output_type": "execute_result"
    }
   ],
   "source": [
    "model.evaluate(X_test, y_test)"
   ]
  },
  {
   "cell_type": "code",
   "execution_count": 22,
   "metadata": {},
   "outputs": [
    {
     "data": {
      "image/png": "[encoded data removed]",
      "text/plain": [
       "<Figure size 432x288 with 1 Axes>"
      ]
     },
     "metadata": {
      "needs_background": "light"
     },
     "output_type": "display_data"
    }
   ],
   "source": [
    "#### Plot the learning curves\n",
    "import matplotlib.pyplot as plt\n",
    "\n",
    "plt.plot(history.history['loss'])\n",
    "plt.plot(history.history['val_loss'])\n",
    "plt.title('Loss vs Epochs')\n",
    "plt.ylabel('Loss')\n",
    "plt.xlabel('Epochs')\n",
    "plt.legend(['Training', 'Validation'], loc='best')\n",
    "plt.show()"
   ]
  }
 ],
 "metadata": {
  "kernelspec": {
   "display_name": "Python 3",
   "language": "python",
   "name": "python3"
  },
  "language_info": {
   "codemirror_mode": {
    "name": "ipython",
    "version": 3
   },
   "file_extension": ".py",
   "mimetype": "text/x-python",
   "name": "python",
   "nbconvert_exporter": "python",
   "pygments_lexer": "ipython3",
   "version": "3.8.5"
  }
 },
 "nbformat": 4,
 "nbformat_minor": 4
}
