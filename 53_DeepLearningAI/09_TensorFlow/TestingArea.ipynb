{
 "cells": [
  {
   "cell_type": "code",
   "execution_count": 1,
   "metadata": {},
   "outputs": [],
   "source": [
    "import math\n",
    "import numpy as np\n",
    "import h5py\n",
    "import tensorflow as tf\n",
    "from tensorflow.python.framework import ops"
   ]
  },
  {
   "cell_type": "code",
   "execution_count": 2,
   "metadata": {},
   "outputs": [],
   "source": [
    "def load_dataset():\n",
    "    train_dataset = h5py.File('datasets/train_signs.h5', 'r')\n",
    "    train_set_x_orig = np.array(train_dataset['train_set_x'][:]) # Train Set Features\n",
    "    train_set_y_orig = np.array(train_dataset['train_set_y'][:]) # Train Set Labels\n",
    "    \n",
    "    test_dataset = h5py.File('datasets/test_signs.h5', 'r')\n",
    "    test_set_x_orig = np.array(test_dataset['test_set_x'][:]) # Test Set Features\n",
    "    test_set_y_orig = np.array(test_dataset['test_set_y'][:]) # Test Set Labels\n",
    "    \n",
    "    classes = np.array(test_dataset['list_classes'][:]) # The List of Classes\n",
    "    \n",
    "    train_set_y_orig = train_set_y_orig.reshape((1, train_set_y_orig.shape[0]))\n",
    "    test_set_y_orig = test_set_y_orig.reshape((1, test_set_y_orig.shape[0]))\n",
    "    \n",
    "    return train_set_x_orig, train_set_y_orig, test_set_x_orig, test_set_y_orig, classes"
   ]
  },
  {
   "cell_type": "code",
   "execution_count": 3,
   "metadata": {},
   "outputs": [
    {
     "data": {
      "text/plain": [
       "'2.1.0'"
      ]
     },
     "execution_count": 3,
     "metadata": {},
     "output_type": "execute_result"
    }
   ],
   "source": [
    "tf.__version__"
   ]
  },
  {
   "cell_type": "code",
   "execution_count": 4,
   "metadata": {},
   "outputs": [],
   "source": [
    "# Tensorflow Basics\n",
    "# Defining Tensors in TensorFlow\n",
    "\n",
    "# 0D Tensor\n",
    "d0 = tf.ones((1,))\n",
    "\n",
    "# 1D Tensor\n",
    "d1 = tf.ones((2,))\n",
    "\n",
    "\n",
    "# 2D Tensor\n",
    "d2 = tf.ones((2,2))\n",
    "\n",
    "\n",
    "# 3D Tensor\n",
    "d3 = tf.ones((2,2,2))\n"
   ]
  },
  {
   "cell_type": "code",
   "execution_count": 5,
   "metadata": {},
   "outputs": [
    {
     "name": "stdout",
     "output_type": "stream",
     "text": [
      "[1.]\n"
     ]
    }
   ],
   "source": [
    "print(d0.numpy())"
   ]
  },
  {
   "cell_type": "code",
   "execution_count": 6,
   "metadata": {},
   "outputs": [
    {
     "name": "stdout",
     "output_type": "stream",
     "text": [
      "[1. 1.]\n"
     ]
    }
   ],
   "source": [
    "print(d1.numpy())"
   ]
  },
  {
   "cell_type": "code",
   "execution_count": 7,
   "metadata": {},
   "outputs": [
    {
     "name": "stdout",
     "output_type": "stream",
     "text": [
      "[[1. 1.]\n",
      " [1. 1.]]\n"
     ]
    }
   ],
   "source": [
    "print(d2.numpy())"
   ]
  },
  {
   "cell_type": "code",
   "execution_count": 8,
   "metadata": {},
   "outputs": [
    {
     "name": "stdout",
     "output_type": "stream",
     "text": [
      "[[[1. 1.]\n",
      "  [1. 1.]]\n",
      "\n",
      " [[1. 1.]\n",
      "  [1. 1.]]]\n"
     ]
    }
   ],
   "source": [
    "print(d3.numpy())"
   ]
  },
  {
   "cell_type": "code",
   "execution_count": 9,
   "metadata": {},
   "outputs": [],
   "source": [
    "# Defining Constants in Tensorflow\n",
    "# A Constant is the simplest category of tensor\n",
    "# Not Trainable\n",
    "# Can have any dimension\n",
    "\n",
    "# Define a 2*3 Constant:\n",
    "a = tf.constant(3, shape=[2,3])\n",
    "\n",
    "# Define a 2*2 Constant:\n",
    "b = tf.constant([1,2,3,4], shape=[2,2])"
   ]
  },
  {
   "cell_type": "code",
   "execution_count": 10,
   "metadata": {},
   "outputs": [
    {
     "name": "stdout",
     "output_type": "stream",
     "text": [
      "[[3 3 3]\n",
      " [3 3 3]]\n"
     ]
    }
   ],
   "source": [
    "print(a.numpy())"
   ]
  },
  {
   "cell_type": "code",
   "execution_count": 11,
   "metadata": {},
   "outputs": [
    {
     "name": "stdout",
     "output_type": "stream",
     "text": [
      "[[1 2]\n",
      " [3 4]]\n"
     ]
    }
   ],
   "source": [
    "print(b.numpy())"
   ]
  },
  {
   "cell_type": "code",
   "execution_count": 12,
   "metadata": {},
   "outputs": [],
   "source": [
    "# Define a Variable\n",
    "a0 = tf.Variable([1,2,3,4,5,6], dtype=tf.float32)\n",
    "a1 = tf.Variable([1,2,3,4,5,6], dtype=tf.int16)"
   ]
  },
  {
   "cell_type": "code",
   "execution_count": 13,
   "metadata": {},
   "outputs": [
    {
     "name": "stdout",
     "output_type": "stream",
     "text": [
      "[1. 2. 3. 4. 5. 6.]\n"
     ]
    }
   ],
   "source": [
    "print(a0.numpy())"
   ]
  },
  {
   "cell_type": "code",
   "execution_count": 14,
   "metadata": {},
   "outputs": [
    {
     "name": "stdout",
     "output_type": "stream",
     "text": [
      "[1 2 3 4 5 6]\n"
     ]
    }
   ],
   "source": [
    "print(a1.numpy())"
   ]
  },
  {
   "cell_type": "code",
   "execution_count": 15,
   "metadata": {},
   "outputs": [],
   "source": [
    "# Define a Constant\n",
    "b = tf.constant(2, tf.float32)"
   ]
  },
  {
   "cell_type": "code",
   "execution_count": 16,
   "metadata": {},
   "outputs": [],
   "source": [
    "# Compute their product\n",
    "c0 = tf.multiply(a0, b)\n",
    "c1 = a0*b"
   ]
  },
  {
   "cell_type": "code",
   "execution_count": 17,
   "metadata": {},
   "outputs": [
    {
     "name": "stdout",
     "output_type": "stream",
     "text": [
      "tf.Tensor([ 2.  4.  6.  8. 10. 12.], shape=(6,), dtype=float32)\n"
     ]
    }
   ],
   "source": [
    "print(c0)"
   ]
  },
  {
   "cell_type": "code",
   "execution_count": 18,
   "metadata": {},
   "outputs": [
    {
     "name": "stdout",
     "output_type": "stream",
     "text": [
      "tf.Tensor([ 2.  4.  6.  8. 10. 12.], shape=(6,), dtype=float32)\n"
     ]
    }
   ],
   "source": [
    "print(c1)"
   ]
  },
  {
   "cell_type": "code",
   "execution_count": 19,
   "metadata": {},
   "outputs": [],
   "source": [
    "A = tf.ones([2,3,4])"
   ]
  },
  {
   "cell_type": "code",
   "execution_count": 20,
   "metadata": {},
   "outputs": [
    {
     "data": {
      "text/plain": [
       "array([[[1., 1., 1., 1.],\n",
       "        [1., 1., 1., 1.],\n",
       "        [1., 1., 1., 1.]],\n",
       "\n",
       "       [[1., 1., 1., 1.],\n",
       "        [1., 1., 1., 1.],\n",
       "        [1., 1., 1., 1.]]], dtype=float32)"
      ]
     },
     "execution_count": 20,
     "metadata": {},
     "output_type": "execute_result"
    }
   ],
   "source": [
    "A.numpy()"
   ]
  },
  {
   "cell_type": "code",
   "execution_count": 21,
   "metadata": {},
   "outputs": [
    {
     "data": {
      "text/plain": [
       "<tf.Tensor: shape=(3, 4), dtype=float32, numpy=\n",
       "array([[2., 2., 2., 2.],\n",
       "       [2., 2., 2., 2.],\n",
       "       [2., 2., 2., 2.]], dtype=float32)>"
      ]
     },
     "execution_count": 21,
     "metadata": {},
     "output_type": "execute_result"
    }
   ],
   "source": [
    "tf.reduce_sum(A, 0)"
   ]
  },
  {
   "cell_type": "code",
   "execution_count": 22,
   "metadata": {},
   "outputs": [
    {
     "data": {
      "text/plain": [
       "<tf.Tensor: shape=(2, 4), dtype=float32, numpy=\n",
       "array([[3., 3., 3., 3.],\n",
       "       [3., 3., 3., 3.]], dtype=float32)>"
      ]
     },
     "execution_count": 22,
     "metadata": {},
     "output_type": "execute_result"
    }
   ],
   "source": [
    "tf.reduce_sum(A,1)"
   ]
  },
  {
   "cell_type": "code",
   "execution_count": 23,
   "metadata": {},
   "outputs": [
    {
     "data": {
      "text/plain": [
       "<tf.Tensor: shape=(2, 3), dtype=float32, numpy=\n",
       "array([[4., 4., 4.],\n",
       "       [4., 4., 4.]], dtype=float32)>"
      ]
     },
     "execution_count": 23,
     "metadata": {},
     "output_type": "execute_result"
    }
   ],
   "source": [
    "tf.reduce_sum(A,2)"
   ]
  },
  {
   "cell_type": "code",
   "execution_count": 24,
   "metadata": {},
   "outputs": [],
   "source": [
    "import tensorflow as tf"
   ]
  },
  {
   "cell_type": "code",
   "execution_count": 25,
   "metadata": {},
   "outputs": [
    {
     "name": "stdout",
     "output_type": "stream",
     "text": [
      "<module 'tensorflow_core._api.v2.version' from 'F:\\\\DO_NOT_TOUCH\\\\Anaconda3\\\\lib\\\\site-packages\\\\tensorflow_core\\\\_api\\\\v2\\\\version\\\\__init__.py'>\n"
     ]
    }
   ],
   "source": [
    "print(tf.version)"
   ]
  },
  {
   "cell_type": "code",
   "execution_count": 26,
   "metadata": {},
   "outputs": [],
   "source": [
    "string = tf.Variable(\"This is a String\", tf.string)\n",
    "number = tf.Variable(324, tf.int16)\n",
    "floating = tf.Variable(3.567, tf.float64)"
   ]
  },
  {
   "cell_type": "code",
   "execution_count": 27,
   "metadata": {},
   "outputs": [],
   "source": [
    "rank1_tensor = tf.Variable([\"Test\"], tf.string)\n",
    "rank2_tensor = tf.Variable([[\"Test\", \"Ok\"], [\"Test\", \"Yes\"]], tf.string)"
   ]
  },
  {
   "cell_type": "code",
   "execution_count": 28,
   "metadata": {},
   "outputs": [
    {
     "data": {
      "text/plain": [
       "<tf.Tensor: shape=(), dtype=int32, numpy=0>"
      ]
     },
     "execution_count": 28,
     "metadata": {},
     "output_type": "execute_result"
    }
   ],
   "source": [
    "tf.rank(string)"
   ]
  },
  {
   "cell_type": "code",
   "execution_count": 29,
   "metadata": {},
   "outputs": [
    {
     "data": {
      "text/plain": [
       "<tf.Tensor: shape=(), dtype=int32, numpy=1>"
      ]
     },
     "execution_count": 29,
     "metadata": {},
     "output_type": "execute_result"
    }
   ],
   "source": [
    "tf.rank(rank1_tensor)"
   ]
  },
  {
   "cell_type": "code",
   "execution_count": 30,
   "metadata": {},
   "outputs": [
    {
     "data": {
      "text/plain": [
       "<tf.Tensor: shape=(), dtype=int32, numpy=2>"
      ]
     },
     "execution_count": 30,
     "metadata": {},
     "output_type": "execute_result"
    }
   ],
   "source": [
    "tf.rank(rank2_tensor)"
   ]
  },
  {
   "cell_type": "code",
   "execution_count": 31,
   "metadata": {},
   "outputs": [
    {
     "data": {
      "text/plain": [
       "TensorShape([2, 2])"
      ]
     },
     "execution_count": 31,
     "metadata": {},
     "output_type": "execute_result"
    }
   ],
   "source": [
    "rank2_tensor.shape"
   ]
  },
  {
   "cell_type": "code",
   "execution_count": 32,
   "metadata": {},
   "outputs": [],
   "source": [
    "tensor1 = tf.ones([1,2,3]) # tf.ones() creates a shape [1,2,3] tensor full of ones"
   ]
  },
  {
   "cell_type": "code",
   "execution_count": 33,
   "metadata": {},
   "outputs": [
    {
     "data": {
      "text/plain": [
       "<tf.Tensor: shape=(1, 2, 3), dtype=float32, numpy=\n",
       "array([[[1., 1., 1.],\n",
       "        [1., 1., 1.]]], dtype=float32)>"
      ]
     },
     "execution_count": 33,
     "metadata": {},
     "output_type": "execute_result"
    }
   ],
   "source": [
    "tensor1"
   ]
  },
  {
   "cell_type": "code",
   "execution_count": 34,
   "metadata": {},
   "outputs": [],
   "source": [
    "tensor2 = tf.reshape(tensor1, [2,3,1])"
   ]
  },
  {
   "cell_type": "code",
   "execution_count": 35,
   "metadata": {},
   "outputs": [
    {
     "data": {
      "text/plain": [
       "<tf.Tensor: shape=(2, 3, 1), dtype=float32, numpy=\n",
       "array([[[1.],\n",
       "        [1.],\n",
       "        [1.]],\n",
       "\n",
       "       [[1.],\n",
       "        [1.],\n",
       "        [1.]]], dtype=float32)>"
      ]
     },
     "execution_count": 35,
     "metadata": {},
     "output_type": "execute_result"
    }
   ],
   "source": [
    "tensor2"
   ]
  },
  {
   "cell_type": "code",
   "execution_count": 36,
   "metadata": {},
   "outputs": [],
   "source": [
    "tensor3 = tf.reshape(tensor2, [3,-1])"
   ]
  },
  {
   "cell_type": "code",
   "execution_count": 37,
   "metadata": {},
   "outputs": [
    {
     "data": {
      "text/plain": [
       "TensorShape([3, 2])"
      ]
     },
     "execution_count": 37,
     "metadata": {},
     "output_type": "execute_result"
    }
   ],
   "source": [
    "tensor3.shape"
   ]
  },
  {
   "cell_type": "code",
   "execution_count": 39,
   "metadata": {},
   "outputs": [],
   "source": [
    "from tensorflow import keras"
   ]
  },
  {
   "cell_type": "code",
   "execution_count": 40,
   "metadata": {},
   "outputs": [],
   "source": [
    "model = keras.Sequential([keras.layers.Dense(units=1, input_shape=[1])])"
   ]
  },
  {
   "cell_type": "code",
   "execution_count": 41,
   "metadata": {},
   "outputs": [],
   "source": [
    "model.compile(optimizer='sgd', loss='mean_squared_error')"
   ]
  },
  {
   "cell_type": "code",
   "execution_count": 42,
   "metadata": {},
   "outputs": [],
   "source": [
    "xs = np.array([-1.0, 0.0, 1.0, 2.0, 3.0, 4.0], dtype=float)\n",
    "ys = np.array([-3.0, -1.0, 1.0, 3.0, 5.0, 7.0], dtype=float)"
   ]
  },
  {
   "cell_type": "code",
   "execution_count": 43,
   "metadata": {},
   "outputs": [
    {
     "name": "stdout",
     "output_type": "stream",
     "text": [
      "Train on 6 samples\n",
      "Epoch 1/500\n",
      "6/6 [==============================] - 1s 193ms/sample - loss: 38.1441\n",
      "Epoch 2/500\n",
      "6/6 [==============================] - 0s 5ms/sample - loss: 30.3573\n",
      "Epoch 3/500\n",
      "6/6 [==============================] - 0s 1000us/sample - loss: 24.2239\n",
      "Epoch 4/500\n",
      "6/6 [==============================] - 0s 497us/sample - loss: 19.3915\n",
      "Epoch 5/500\n",
      "6/6 [==============================] - 0s 336us/sample - loss: 15.5827\n",
      "Epoch 6/500\n",
      "6/6 [==============================] - 0s 330us/sample - loss: 12.5794\n",
      "Epoch 7/500\n",
      "6/6 [==============================] - 0s 500us/sample - loss: 10.2100\n",
      "Epoch 8/500\n",
      "6/6 [==============================] - 0s 503us/sample - loss: 8.3394\n",
      "Epoch 9/500\n",
      "6/6 [==============================] - 0s 332us/sample - loss: 6.8614\n",
      "Epoch 10/500\n",
      "6/6 [==============================] - 0s 500us/sample - loss: 5.6925\n",
      "Epoch 11/500\n",
      "6/6 [==============================] - 0s 166us/sample - loss: 4.7668\n",
      "Epoch 12/500\n",
      "6/6 [==============================] - 0s 333us/sample - loss: 4.0325\n",
      "Epoch 13/500\n",
      "6/6 [==============================] - 0s 167us/sample - loss: 3.4491\n",
      "Epoch 14/500\n",
      "6/6 [==============================] - 0s 333us/sample - loss: 2.9843\n",
      "Epoch 15/500\n",
      "6/6 [==============================] - 0s 333us/sample - loss: 2.6132\n",
      "Epoch 16/500\n",
      "6/6 [==============================] - 0s 164us/sample - loss: 2.3157\n",
      "Epoch 17/500\n",
      "6/6 [==============================] - 0s 334us/sample - loss: 2.0763\n",
      "Epoch 18/500\n",
      "6/6 [==============================] - 0s 166us/sample - loss: 1.8828\n",
      "Epoch 19/500\n",
      "6/6 [==============================] - 0s 168us/sample - loss: 1.7254\n",
      "Epoch 20/500\n",
      "6/6 [==============================] - 0s 166us/sample - loss: 1.5965\n",
      "Epoch 21/500\n",
      "6/6 [==============================] - 0s 167us/sample - loss: 1.4902\n",
      "Epoch 22/500\n",
      "6/6 [==============================] - 0s 167us/sample - loss: 1.4018\n",
      "Epoch 23/500\n",
      "6/6 [==============================] - 0s 167us/sample - loss: 1.3275\n",
      "Epoch 24/500\n",
      "6/6 [==============================] - 0s 333us/sample - loss: 1.2645\n",
      "Epoch 25/500\n",
      "6/6 [==============================] - 0s 167us/sample - loss: 1.2103\n",
      "Epoch 26/500\n",
      "6/6 [==============================] - 0s 166us/sample - loss: 1.1633\n",
      "Epoch 27/500\n",
      "6/6 [==============================] - 0s 167us/sample - loss: 1.1220\n",
      "Epoch 28/500\n",
      "6/6 [==============================] - 0s 333us/sample - loss: 1.0852\n",
      "Epoch 29/500\n",
      "6/6 [==============================] - 0s 164us/sample - loss: 1.0522\n",
      "Epoch 30/500\n",
      "6/6 [==============================] - 0s 165us/sample - loss: 1.0221\n",
      "Epoch 31/500\n",
      "6/6 [==============================] - 0s 333us/sample - loss: 0.9944\n",
      "Epoch 32/500\n",
      "6/6 [==============================] - 0s 167us/sample - loss: 0.9687\n",
      "Epoch 33/500\n",
      "6/6 [==============================] - 0s 0s/sample - loss: 0.9447\n",
      "Epoch 34/500\n",
      "6/6 [==============================] - 0s 165us/sample - loss: 0.9220\n",
      "Epoch 35/500\n",
      "6/6 [==============================] - 0s 167us/sample - loss: 0.9005\n",
      "Epoch 36/500\n",
      "6/6 [==============================] - 0s 167us/sample - loss: 0.8800\n",
      "Epoch 37/500\n",
      "6/6 [==============================] - 0s 166us/sample - loss: 0.8604\n",
      "Epoch 38/500\n",
      "6/6 [==============================] - 0s 166us/sample - loss: 0.8414\n",
      "Epoch 39/500\n",
      "6/6 [==============================] - 0s 164us/sample - loss: 0.8232\n",
      "Epoch 40/500\n",
      "6/6 [==============================] - 0s 333us/sample - loss: 0.8055\n",
      "Epoch 41/500\n",
      "6/6 [==============================] - 0s 166us/sample - loss: 0.7883\n",
      "Epoch 42/500\n",
      "6/6 [==============================] - 0s 167us/sample - loss: 0.7717\n",
      "Epoch 43/500\n",
      "6/6 [==============================] - 0s 167us/sample - loss: 0.7555\n",
      "Epoch 44/500\n",
      "6/6 [==============================] - 0s 167us/sample - loss: 0.7396\n",
      "Epoch 45/500\n",
      "6/6 [==============================] - 0s 167us/sample - loss: 0.7242\n",
      "Epoch 46/500\n",
      "6/6 [==============================] - 0s 166us/sample - loss: 0.7092\n",
      "Epoch 47/500\n",
      "6/6 [==============================] - 0s 167us/sample - loss: 0.6944\n",
      "Epoch 48/500\n",
      "6/6 [==============================] - 0s 167us/sample - loss: 0.6801\n",
      "Epoch 49/500\n",
      "6/6 [==============================] - 0s 167us/sample - loss: 0.6660\n",
      "Epoch 50/500\n",
      "6/6 [==============================] - 0s 166us/sample - loss: 0.6523\n",
      "Epoch 51/500\n",
      "6/6 [==============================] - 0s 166us/sample - loss: 0.6388\n",
      "Epoch 52/500\n",
      "6/6 [==============================] - 0s 166us/sample - loss: 0.6256\n",
      "Epoch 53/500\n",
      "6/6 [==============================] - 0s 166us/sample - loss: 0.6128\n",
      "Epoch 54/500\n",
      "6/6 [==============================] - 0s 169us/sample - loss: 0.6001\n",
      "Epoch 55/500\n",
      "6/6 [==============================] - 0s 167us/sample - loss: 0.5878\n",
      "Epoch 56/500\n",
      "6/6 [==============================] - 0s 167us/sample - loss: 0.5757\n",
      "Epoch 57/500\n",
      "6/6 [==============================] - 0s 500us/sample - loss: 0.5639\n",
      "Epoch 58/500\n",
      "6/6 [==============================] - 0s 335us/sample - loss: 0.5523\n",
      "Epoch 59/500\n",
      "6/6 [==============================] - 0s 167us/sample - loss: 0.5409\n",
      "Epoch 60/500\n",
      "6/6 [==============================] - 0s 167us/sample - loss: 0.5298\n",
      "Epoch 61/500\n",
      "6/6 [==============================] - 0s 166us/sample - loss: 0.5189\n",
      "Epoch 62/500\n",
      "6/6 [==============================] - 0s 167us/sample - loss: 0.5083\n",
      "Epoch 63/500\n",
      "6/6 [==============================] - 0s 333us/sample - loss: 0.4978\n",
      "Epoch 64/500\n",
      "6/6 [==============================] - 0s 333us/sample - loss: 0.4876\n",
      "Epoch 65/500\n",
      "6/6 [==============================] - 0s 333us/sample - loss: 0.4776\n",
      "Epoch 66/500\n",
      "6/6 [==============================] - 0s 167us/sample - loss: 0.4678\n",
      "Epoch 67/500\n",
      "6/6 [==============================] - 0s 167us/sample - loss: 0.4581\n",
      "Epoch 68/500\n",
      "6/6 [==============================] - 0s 168us/sample - loss: 0.4487\n",
      "Epoch 69/500\n",
      "6/6 [==============================] - 0s 167us/sample - loss: 0.4395\n",
      "Epoch 70/500\n",
      "6/6 [==============================] - 0s 167us/sample - loss: 0.4305\n",
      "Epoch 71/500\n",
      "6/6 [==============================] - 0s 167us/sample - loss: 0.4216\n",
      "Epoch 72/500\n",
      "6/6 [==============================] - 0s 166us/sample - loss: 0.4130\n",
      "Epoch 73/500\n",
      "6/6 [==============================] - 0s 166us/sample - loss: 0.4045\n",
      "Epoch 74/500\n",
      "6/6 [==============================] - 0s 164us/sample - loss: 0.3962\n",
      "Epoch 75/500\n",
      "6/6 [==============================] - 0s 167us/sample - loss: 0.3881\n",
      "Epoch 76/500\n",
      "6/6 [==============================] - 0s 167us/sample - loss: 0.3801\n",
      "Epoch 77/500\n",
      "6/6 [==============================] - 0s 167us/sample - loss: 0.3723\n",
      "Epoch 78/500\n",
      "6/6 [==============================] - 0s 331us/sample - loss: 0.3646\n",
      "Epoch 79/500\n",
      "6/6 [==============================] - 0s 167us/sample - loss: 0.3571\n",
      "Epoch 80/500\n",
      "6/6 [==============================] - 0s 169us/sample - loss: 0.3498\n",
      "Epoch 81/500\n",
      "6/6 [==============================] - 0s 167us/sample - loss: 0.3426\n",
      "Epoch 82/500\n",
      "6/6 [==============================] - 0s 167us/sample - loss: 0.3356\n",
      "Epoch 83/500\n",
      "6/6 [==============================] - 0s 166us/sample - loss: 0.3287\n",
      "Epoch 84/500\n",
      "6/6 [==============================] - 0s 167us/sample - loss: 0.3219\n",
      "Epoch 85/500\n",
      "6/6 [==============================] - 0s 0s/sample - loss: 0.3153\n",
      "Epoch 86/500\n",
      "6/6 [==============================] - 0s 167us/sample - loss: 0.3088\n",
      "Epoch 87/500\n",
      "6/6 [==============================] - 0s 334us/sample - loss: 0.3025\n",
      "Epoch 88/500\n",
      "6/6 [==============================] - 0s 169us/sample - loss: 0.2963\n",
      "Epoch 89/500\n",
      "6/6 [==============================] - 0s 164us/sample - loss: 0.2902\n",
      "Epoch 90/500\n",
      "6/6 [==============================] - 0s 166us/sample - loss: 0.2842\n",
      "Epoch 91/500\n",
      "6/6 [==============================] - 0s 165us/sample - loss: 0.2784\n",
      "Epoch 92/500\n",
      "6/6 [==============================] - 0s 166us/sample - loss: 0.2727\n",
      "Epoch 93/500\n",
      "6/6 [==============================] - 0s 0s/sample - loss: 0.2671\n",
      "Epoch 94/500\n",
      "6/6 [==============================] - 0s 166us/sample - loss: 0.2616\n",
      "Epoch 95/500\n",
      "6/6 [==============================] - 0s 166us/sample - loss: 0.2562\n",
      "Epoch 96/500\n",
      "6/6 [==============================] - 0s 167us/sample - loss: 0.2510\n",
      "Epoch 97/500\n",
      "6/6 [==============================] - 0s 333us/sample - loss: 0.2458\n",
      "Epoch 98/500\n",
      "6/6 [==============================] - 0s 166us/sample - loss: 0.2408\n",
      "Epoch 99/500\n",
      "6/6 [==============================] - 0s 166us/sample - loss: 0.2358\n"
     ]
    },
    {
     "name": "stdout",
     "output_type": "stream",
     "text": [
      "Epoch 100/500\n",
      "6/6 [==============================] - 0s 165us/sample - loss: 0.2310\n",
      "Epoch 101/500\n",
      "6/6 [==============================] - 0s 169us/sample - loss: 0.2262\n",
      "Epoch 102/500\n",
      "6/6 [==============================] - 0s 167us/sample - loss: 0.2216\n",
      "Epoch 103/500\n",
      "6/6 [==============================] - 0s 0s/sample - loss: 0.2170\n",
      "Epoch 104/500\n",
      "6/6 [==============================] - 0s 167us/sample - loss: 0.2126\n",
      "Epoch 105/500\n",
      "6/6 [==============================] - 0s 170us/sample - loss: 0.2082\n",
      "Epoch 106/500\n",
      "6/6 [==============================] - 0s 167us/sample - loss: 0.2039\n",
      "Epoch 107/500\n",
      "6/6 [==============================] - 0s 168us/sample - loss: 0.1997\n",
      "Epoch 108/500\n",
      "6/6 [==============================] - 0s 166us/sample - loss: 0.1956\n",
      "Epoch 109/500\n",
      "6/6 [==============================] - 0s 166us/sample - loss: 0.1916\n",
      "Epoch 110/500\n",
      "6/6 [==============================] - 0s 167us/sample - loss: 0.1877\n",
      "Epoch 111/500\n",
      "6/6 [==============================] - 0s 167us/sample - loss: 0.1838\n",
      "Epoch 112/500\n",
      "6/6 [==============================] - 0s 166us/sample - loss: 0.1800\n",
      "Epoch 113/500\n",
      "6/6 [==============================] - 0s 333us/sample - loss: 0.1763\n",
      "Epoch 114/500\n",
      "6/6 [==============================] - 0s 163us/sample - loss: 0.1727\n",
      "Epoch 115/500\n",
      "6/6 [==============================] - 0s 333us/sample - loss: 0.1692\n",
      "Epoch 116/500\n",
      "6/6 [==============================] - 0s 0s/sample - loss: 0.1657\n",
      "Epoch 117/500\n",
      "6/6 [==============================] - 0s 333us/sample - loss: 0.1623\n",
      "Epoch 118/500\n",
      "6/6 [==============================] - 0s 167us/sample - loss: 0.1590\n",
      "Epoch 119/500\n",
      "6/6 [==============================] - 0s 333us/sample - loss: 0.1557\n",
      "Epoch 120/500\n",
      "6/6 [==============================] - 0s 167us/sample - loss: 0.1525\n",
      "Epoch 121/500\n",
      "6/6 [==============================] - 0s 166us/sample - loss: 0.1494\n",
      "Epoch 122/500\n",
      "6/6 [==============================] - 0s 167us/sample - loss: 0.1463\n",
      "Epoch 123/500\n",
      "6/6 [==============================] - 0s 167us/sample - loss: 0.1433\n",
      "Epoch 124/500\n",
      "6/6 [==============================] - 0s 167us/sample - loss: 0.1404\n",
      "Epoch 125/500\n",
      "6/6 [==============================] - 0s 167us/sample - loss: 0.1375\n",
      "Epoch 126/500\n",
      "6/6 [==============================] - 0s 167us/sample - loss: 0.1346\n",
      "Epoch 127/500\n",
      "6/6 [==============================] - 0s 333us/sample - loss: 0.1319\n",
      "Epoch 128/500\n",
      "6/6 [==============================] - 0s 167us/sample - loss: 0.1292\n",
      "Epoch 129/500\n",
      "6/6 [==============================] - 0s 166us/sample - loss: 0.1265\n",
      "Epoch 130/500\n",
      "6/6 [==============================] - 0s 167us/sample - loss: 0.1239\n",
      "Epoch 131/500\n",
      "6/6 [==============================] - 0s 167us/sample - loss: 0.1214\n",
      "Epoch 132/500\n",
      "6/6 [==============================] - 0s 0s/sample - loss: 0.1189\n",
      "Epoch 133/500\n",
      "6/6 [==============================] - 0s 167us/sample - loss: 0.1164\n",
      "Epoch 134/500\n",
      "6/6 [==============================] - 0s 167us/sample - loss: 0.1140\n",
      "Epoch 135/500\n",
      "6/6 [==============================] - 0s 167us/sample - loss: 0.1117\n",
      "Epoch 136/500\n",
      "6/6 [==============================] - 0s 164us/sample - loss: 0.1094\n",
      "Epoch 137/500\n",
      "6/6 [==============================] - 0s 167us/sample - loss: 0.1072\n",
      "Epoch 138/500\n",
      "6/6 [==============================] - 0s 164us/sample - loss: 0.1050\n",
      "Epoch 139/500\n",
      "6/6 [==============================] - 0s 164us/sample - loss: 0.1028\n",
      "Epoch 140/500\n",
      "6/6 [==============================] - 0s 166us/sample - loss: 0.1007\n",
      "Epoch 141/500\n",
      "6/6 [==============================] - 0s 166us/sample - loss: 0.0986\n",
      "Epoch 142/500\n",
      "6/6 [==============================] - 0s 167us/sample - loss: 0.0966\n",
      "Epoch 143/500\n",
      "6/6 [==============================] - 0s 167us/sample - loss: 0.0946\n",
      "Epoch 144/500\n",
      "6/6 [==============================] - 0s 332us/sample - loss: 0.0927\n",
      "Epoch 145/500\n",
      "6/6 [==============================] - 0s 168us/sample - loss: 0.0908\n",
      "Epoch 146/500\n",
      "6/6 [==============================] - 0s 167us/sample - loss: 0.0889\n",
      "Epoch 147/500\n",
      "6/6 [==============================] - 0s 166us/sample - loss: 0.0871\n",
      "Epoch 148/500\n",
      "6/6 [==============================] - 0s 167us/sample - loss: 0.0853\n",
      "Epoch 149/500\n",
      "6/6 [==============================] - 0s 167us/sample - loss: 0.0835\n",
      "Epoch 150/500\n",
      "6/6 [==============================] - 0s 167us/sample - loss: 0.0818\n",
      "Epoch 151/500\n",
      "6/6 [==============================] - 0s 168us/sample - loss: 0.0801\n",
      "Epoch 152/500\n",
      "6/6 [==============================] - 0s 165us/sample - loss: 0.0785\n",
      "Epoch 153/500\n",
      "6/6 [==============================] - 0s 333us/sample - loss: 0.0769\n",
      "Epoch 154/500\n",
      "6/6 [==============================] - 0s 168us/sample - loss: 0.0753\n",
      "Epoch 155/500\n",
      "6/6 [==============================] - 0s 164us/sample - loss: 0.0738\n",
      "Epoch 156/500\n",
      "6/6 [==============================] - 0s 166us/sample - loss: 0.0722\n",
      "Epoch 157/500\n",
      "6/6 [==============================] - 0s 167us/sample - loss: 0.0708\n",
      "Epoch 158/500\n",
      "6/6 [==============================] - 0s 332us/sample - loss: 0.0693\n",
      "Epoch 159/500\n",
      "6/6 [==============================] - 0s 167us/sample - loss: 0.0679\n",
      "Epoch 160/500\n",
      "6/6 [==============================] - 0s 167us/sample - loss: 0.0665\n",
      "Epoch 161/500\n",
      "6/6 [==============================] - 0s 167us/sample - loss: 0.0651\n",
      "Epoch 162/500\n",
      "6/6 [==============================] - 0s 333us/sample - loss: 0.0638\n",
      "Epoch 163/500\n",
      "6/6 [==============================] - 0s 166us/sample - loss: 0.0625\n",
      "Epoch 164/500\n",
      "6/6 [==============================] - 0s 167us/sample - loss: 0.0612\n",
      "Epoch 165/500\n",
      "6/6 [==============================] - 0s 168us/sample - loss: 0.0599\n",
      "Epoch 166/500\n",
      "6/6 [==============================] - 0s 165us/sample - loss: 0.0587\n",
      "Epoch 167/500\n",
      "6/6 [==============================] - 0s 166us/sample - loss: 0.0575\n",
      "Epoch 168/500\n",
      "6/6 [==============================] - 0s 167us/sample - loss: 0.0563\n",
      "Epoch 169/500\n",
      "6/6 [==============================] - 0s 166us/sample - loss: 0.0552\n",
      "Epoch 170/500\n",
      "6/6 [==============================] - 0s 167us/sample - loss: 0.0540\n",
      "Epoch 171/500\n",
      "6/6 [==============================] - 0s 335us/sample - loss: 0.0529\n",
      "Epoch 172/500\n",
      "6/6 [==============================] - 0s 332us/sample - loss: 0.0518\n",
      "Epoch 173/500\n",
      "6/6 [==============================] - 0s 166us/sample - loss: 0.0508\n",
      "Epoch 174/500\n",
      "6/6 [==============================] - 0s 165us/sample - loss: 0.0497\n",
      "Epoch 175/500\n",
      "6/6 [==============================] - 0s 165us/sample - loss: 0.0487\n",
      "Epoch 176/500\n",
      "6/6 [==============================] - 0s 167us/sample - loss: 0.0477\n",
      "Epoch 177/500\n",
      "6/6 [==============================] - 0s 167us/sample - loss: 0.0467\n",
      "Epoch 178/500\n",
      "6/6 [==============================] - 0s 166us/sample - loss: 0.0458\n",
      "Epoch 179/500\n",
      "6/6 [==============================] - 0s 333us/sample - loss: 0.0448\n",
      "Epoch 180/500\n",
      "6/6 [==============================] - 0s 333us/sample - loss: 0.0439\n",
      "Epoch 181/500\n",
      "6/6 [==============================] - 0s 334us/sample - loss: 0.0430\n",
      "Epoch 182/500\n",
      "6/6 [==============================] - 0s 166us/sample - loss: 0.0421\n",
      "Epoch 183/500\n",
      "6/6 [==============================] - 0s 167us/sample - loss: 0.0413\n",
      "Epoch 184/500\n",
      "6/6 [==============================] - 0s 167us/sample - loss: 0.0404\n",
      "Epoch 185/500\n",
      "6/6 [==============================] - 0s 167us/sample - loss: 0.0396\n",
      "Epoch 186/500\n",
      "6/6 [==============================] - 0s 166us/sample - loss: 0.0388\n",
      "Epoch 187/500\n",
      "6/6 [==============================] - 0s 166us/sample - loss: 0.0380\n",
      "Epoch 188/500\n",
      "6/6 [==============================] - 0s 167us/sample - loss: 0.0372\n",
      "Epoch 189/500\n",
      "6/6 [==============================] - 0s 166us/sample - loss: 0.0364\n",
      "Epoch 190/500\n",
      "6/6 [==============================] - 0s 166us/sample - loss: 0.0357\n",
      "Epoch 191/500\n",
      "6/6 [==============================] - 0s 167us/sample - loss: 0.0349\n",
      "Epoch 192/500\n",
      "6/6 [==============================] - 0s 166us/sample - loss: 0.0342\n",
      "Epoch 193/500\n",
      "6/6 [==============================] - 0s 167us/sample - loss: 0.0335\n",
      "Epoch 194/500\n",
      "6/6 [==============================] - 0s 166us/sample - loss: 0.0328\n",
      "Epoch 195/500\n",
      "6/6 [==============================] - 0s 166us/sample - loss: 0.0322\n",
      "Epoch 196/500\n",
      "6/6 [==============================] - 0s 166us/sample - loss: 0.0315\n",
      "Epoch 197/500\n",
      "6/6 [==============================] - 0s 166us/sample - loss: 0.0308\n"
     ]
    },
    {
     "name": "stdout",
     "output_type": "stream",
     "text": [
      "Epoch 198/500\n",
      "6/6 [==============================] - 0s 165us/sample - loss: 0.0302\n",
      "Epoch 199/500\n",
      "6/6 [==============================] - 0s 169us/sample - loss: 0.0296\n",
      "Epoch 200/500\n",
      "6/6 [==============================] - 0s 0s/sample - loss: 0.0290\n",
      "Epoch 201/500\n",
      "6/6 [==============================] - 0s 167us/sample - loss: 0.0284\n",
      "Epoch 202/500\n",
      "6/6 [==============================] - 0s 167us/sample - loss: 0.0278\n",
      "Epoch 203/500\n",
      "6/6 [==============================] - 0s 167us/sample - loss: 0.0272\n",
      "Epoch 204/500\n",
      "6/6 [==============================] - 0s 167us/sample - loss: 0.0267\n",
      "Epoch 205/500\n",
      "6/6 [==============================] - 0s 0s/sample - loss: 0.0261\n",
      "Epoch 206/500\n",
      "6/6 [==============================] - 0s 164us/sample - loss: 0.0256\n",
      "Epoch 207/500\n",
      "6/6 [==============================] - 0s 167us/sample - loss: 0.0251\n",
      "Epoch 208/500\n",
      "6/6 [==============================] - 0s 333us/sample - loss: 0.0246\n",
      "Epoch 209/500\n",
      "6/6 [==============================] - 0s 333us/sample - loss: 0.0240\n",
      "Epoch 210/500\n",
      "6/6 [==============================] - 0s 166us/sample - loss: 0.0236\n",
      "Epoch 211/500\n",
      "6/6 [==============================] - 0s 167us/sample - loss: 0.0231\n",
      "Epoch 212/500\n",
      "6/6 [==============================] - 0s 168us/sample - loss: 0.0226\n",
      "Epoch 213/500\n",
      "6/6 [==============================] - 0s 167us/sample - loss: 0.0221\n",
      "Epoch 214/500\n",
      "6/6 [==============================] - 0s 164us/sample - loss: 0.0217\n",
      "Epoch 215/500\n",
      "6/6 [==============================] - 0s 166us/sample - loss: 0.0212\n",
      "Epoch 216/500\n",
      "6/6 [==============================] - 0s 166us/sample - loss: 0.0208\n",
      "Epoch 217/500\n",
      "6/6 [==============================] - 0s 167us/sample - loss: 0.0204\n",
      "Epoch 218/500\n",
      "6/6 [==============================] - 0s 0s/sample - loss: 0.0200\n",
      "Epoch 219/500\n",
      "6/6 [==============================] - 0s 167us/sample - loss: 0.0195\n",
      "Epoch 220/500\n",
      "6/6 [==============================] - 0s 168us/sample - loss: 0.0191\n",
      "Epoch 221/500\n",
      "6/6 [==============================] - 0s 166us/sample - loss: 0.0187\n",
      "Epoch 222/500\n",
      "6/6 [==============================] - 0s 167us/sample - loss: 0.0184\n",
      "Epoch 223/500\n",
      "6/6 [==============================] - 0s 167us/sample - loss: 0.0180\n",
      "Epoch 224/500\n",
      "6/6 [==============================] - 0s 334us/sample - loss: 0.0176\n",
      "Epoch 225/500\n",
      "6/6 [==============================] - 0s 164us/sample - loss: 0.0173\n",
      "Epoch 226/500\n",
      "6/6 [==============================] - 0s 166us/sample - loss: 0.0169\n",
      "Epoch 227/500\n",
      "6/6 [==============================] - 0s 167us/sample - loss: 0.0166\n",
      "Epoch 228/500\n",
      "6/6 [==============================] - 0s 164us/sample - loss: 0.0162\n",
      "Epoch 229/500\n",
      "6/6 [==============================] - 0s 167us/sample - loss: 0.0159\n",
      "Epoch 230/500\n",
      "6/6 [==============================] - 0s 166us/sample - loss: 0.0156\n",
      "Epoch 231/500\n",
      "6/6 [==============================] - 0s 169us/sample - loss: 0.0152\n",
      "Epoch 232/500\n",
      "6/6 [==============================] - 0s 167us/sample - loss: 0.0149\n",
      "Epoch 233/500\n",
      "6/6 [==============================] - 0s 166us/sample - loss: 0.0146\n",
      "Epoch 234/500\n",
      "6/6 [==============================] - 0s 169us/sample - loss: 0.0143\n",
      "Epoch 235/500\n",
      "6/6 [==============================] - 0s 164us/sample - loss: 0.0140\n",
      "Epoch 236/500\n",
      "6/6 [==============================] - 0s 165us/sample - loss: 0.0137\n",
      "Epoch 237/500\n",
      "6/6 [==============================] - 0s 165us/sample - loss: 0.0134\n",
      "Epoch 238/500\n",
      "6/6 [==============================] - 0s 167us/sample - loss: 0.0132\n",
      "Epoch 239/500\n",
      "6/6 [==============================] - 0s 333us/sample - loss: 0.0129\n",
      "Epoch 240/500\n",
      "6/6 [==============================] - 0s 167us/sample - loss: 0.0126\n",
      "Epoch 241/500\n",
      "6/6 [==============================] - 0s 166us/sample - loss: 0.0124\n",
      "Epoch 242/500\n",
      "6/6 [==============================] - 0s 167us/sample - loss: 0.0121\n",
      "Epoch 243/500\n",
      "6/6 [==============================] - 0s 166us/sample - loss: 0.0119\n",
      "Epoch 244/500\n",
      "6/6 [==============================] - 0s 167us/sample - loss: 0.0116\n",
      "Epoch 245/500\n",
      "6/6 [==============================] - 0s 164us/sample - loss: 0.0114\n",
      "Epoch 246/500\n",
      "6/6 [==============================] - 0s 165us/sample - loss: 0.0112\n",
      "Epoch 247/500\n",
      "6/6 [==============================] - 0s 167us/sample - loss: 0.0109\n",
      "Epoch 248/500\n",
      "6/6 [==============================] - 0s 167us/sample - loss: 0.0107\n",
      "Epoch 249/500\n",
      "6/6 [==============================] - 0s 167us/sample - loss: 0.0105\n",
      "Epoch 250/500\n",
      "6/6 [==============================] - 0s 169us/sample - loss: 0.0103\n",
      "Epoch 251/500\n",
      "6/6 [==============================] - 0s 164us/sample - loss: 0.0101\n",
      "Epoch 252/500\n",
      "6/6 [==============================] - 0s 167us/sample - loss: 0.0099\n",
      "Epoch 253/500\n",
      "6/6 [==============================] - 0s 167us/sample - loss: 0.0096\n",
      "Epoch 254/500\n",
      "6/6 [==============================] - 0s 167us/sample - loss: 0.0095\n",
      "Epoch 255/500\n",
      "6/6 [==============================] - 0s 166us/sample - loss: 0.0093\n",
      "Epoch 256/500\n",
      "6/6 [==============================] - 0s 167us/sample - loss: 0.0091\n",
      "Epoch 257/500\n",
      "6/6 [==============================] - 0s 165us/sample - loss: 0.0089\n",
      "Epoch 258/500\n",
      "6/6 [==============================] - 0s 166us/sample - loss: 0.0087\n",
      "Epoch 259/500\n",
      "6/6 [==============================] - 0s 169us/sample - loss: 0.0085\n",
      "Epoch 260/500\n",
      "6/6 [==============================] - 0s 167us/sample - loss: 0.0083\n",
      "Epoch 261/500\n",
      "6/6 [==============================] - 0s 169us/sample - loss: 0.0082\n",
      "Epoch 262/500\n",
      "6/6 [==============================] - 0s 165us/sample - loss: 0.0080\n",
      "Epoch 263/500\n",
      "6/6 [==============================] - 0s 167us/sample - loss: 0.0078\n",
      "Epoch 264/500\n",
      "6/6 [==============================] - 0s 167us/sample - loss: 0.0077\n",
      "Epoch 265/500\n",
      "6/6 [==============================] - 0s 166us/sample - loss: 0.0075\n",
      "Epoch 266/500\n",
      "6/6 [==============================] - 0s 167us/sample - loss: 0.0074\n",
      "Epoch 267/500\n",
      "6/6 [==============================] - 0s 167us/sample - loss: 0.0072\n",
      "Epoch 268/500\n",
      "6/6 [==============================] - 0s 0s/sample - loss: 0.0071\n",
      "Epoch 269/500\n",
      "6/6 [==============================] - 0s 0s/sample - loss: 0.0069\n",
      "Epoch 270/500\n",
      "6/6 [==============================] - 0s 167us/sample - loss: 0.0068\n",
      "Epoch 271/500\n",
      "6/6 [==============================] - 0s 167us/sample - loss: 0.0066\n",
      "Epoch 272/500\n",
      "6/6 [==============================] - 0s 333us/sample - loss: 0.0065\n",
      "Epoch 273/500\n",
      "6/6 [==============================] - 0s 167us/sample - loss: 0.0064\n",
      "Epoch 274/500\n",
      "6/6 [==============================] - 0s 167us/sample - loss: 0.0062\n",
      "Epoch 275/500\n",
      "6/6 [==============================] - 0s 167us/sample - loss: 0.0061\n",
      "Epoch 276/500\n",
      "6/6 [==============================] - 0s 167us/sample - loss: 0.0060\n",
      "Epoch 277/500\n",
      "6/6 [==============================] - 0s 166us/sample - loss: 0.0059\n",
      "Epoch 278/500\n",
      "6/6 [==============================] - 0s 166us/sample - loss: 0.0057\n",
      "Epoch 279/500\n",
      "6/6 [==============================] - 0s 167us/sample - loss: 0.0056\n",
      "Epoch 280/500\n",
      "6/6 [==============================] - 0s 166us/sample - loss: 0.0055\n",
      "Epoch 281/500\n",
      "6/6 [==============================] - 0s 167us/sample - loss: 0.0054\n",
      "Epoch 282/500\n",
      "6/6 [==============================] - 0s 167us/sample - loss: 0.0053\n",
      "Epoch 283/500\n",
      "6/6 [==============================] - 0s 167us/sample - loss: 0.0052\n",
      "Epoch 284/500\n",
      "6/6 [==============================] - 0s 333us/sample - loss: 0.0051\n",
      "Epoch 285/500\n",
      "6/6 [==============================] - 0s 167us/sample - loss: 0.0050\n",
      "Epoch 286/500\n",
      "6/6 [==============================] - 0s 164us/sample - loss: 0.0049\n",
      "Epoch 287/500\n",
      "6/6 [==============================] - 0s 165us/sample - loss: 0.0048\n",
      "Epoch 288/500\n",
      "6/6 [==============================] - 0s 164us/sample - loss: 0.0047\n",
      "Epoch 289/500\n",
      "6/6 [==============================] - 0s 170us/sample - loss: 0.0046\n",
      "Epoch 290/500\n",
      "6/6 [==============================] - 0s 167us/sample - loss: 0.0045\n",
      "Epoch 291/500\n",
      "6/6 [==============================] - 0s 166us/sample - loss: 0.0044\n",
      "Epoch 292/500\n",
      "6/6 [==============================] - 0s 168us/sample - loss: 0.0043\n",
      "Epoch 293/500\n",
      "6/6 [==============================] - 0s 165us/sample - loss: 0.0042\n",
      "Epoch 294/500\n",
      "6/6 [==============================] - 0s 167us/sample - loss: 0.0041\n",
      "Epoch 295/500\n",
      "6/6 [==============================] - 0s 333us/sample - loss: 0.0040\n"
     ]
    },
    {
     "name": "stdout",
     "output_type": "stream",
     "text": [
      "Epoch 296/500\n",
      "6/6 [==============================] - 0s 167us/sample - loss: 0.0040\n",
      "Epoch 297/500\n",
      "6/6 [==============================] - 0s 164us/sample - loss: 0.0039\n",
      "Epoch 298/500\n",
      "6/6 [==============================] - 0s 335us/sample - loss: 0.0038\n",
      "Epoch 299/500\n",
      "6/6 [==============================] - 0s 167us/sample - loss: 0.0037\n",
      "Epoch 300/500\n",
      "6/6 [==============================] - 0s 165us/sample - loss: 0.0036\n",
      "Epoch 301/500\n",
      "6/6 [==============================] - 0s 167us/sample - loss: 0.0036\n",
      "Epoch 302/500\n",
      "6/6 [==============================] - 0s 167us/sample - loss: 0.0035\n",
      "Epoch 303/500\n",
      "6/6 [==============================] - 0s 166us/sample - loss: 0.0034\n",
      "Epoch 304/500\n",
      "6/6 [==============================] - 0s 166us/sample - loss: 0.0033\n",
      "Epoch 305/500\n",
      "6/6 [==============================] - 0s 167us/sample - loss: 0.0033\n",
      "Epoch 306/500\n",
      "6/6 [==============================] - 0s 167us/sample - loss: 0.0032\n",
      "Epoch 307/500\n",
      "6/6 [==============================] - 0s 166us/sample - loss: 0.0031\n",
      "Epoch 308/500\n",
      "6/6 [==============================] - 0s 167us/sample - loss: 0.0031\n",
      "Epoch 309/500\n",
      "6/6 [==============================] - 0s 166us/sample - loss: 0.0030\n",
      "Epoch 310/500\n",
      "6/6 [==============================] - 0s 167us/sample - loss: 0.0030\n",
      "Epoch 311/500\n",
      "6/6 [==============================] - 0s 169us/sample - loss: 0.0029\n",
      "Epoch 312/500\n",
      "6/6 [==============================] - 0s 166us/sample - loss: 0.0028\n",
      "Epoch 313/500\n",
      "6/6 [==============================] - 0s 166us/sample - loss: 0.0028\n",
      "Epoch 314/500\n",
      "6/6 [==============================] - 0s 167us/sample - loss: 0.0027\n",
      "Epoch 315/500\n",
      "6/6 [==============================] - 0s 166us/sample - loss: 0.0027\n",
      "Epoch 316/500\n",
      "6/6 [==============================] - 0s 166us/sample - loss: 0.0026\n",
      "Epoch 317/500\n",
      "6/6 [==============================] - 0s 333us/sample - loss: 0.0026\n",
      "Epoch 318/500\n",
      "6/6 [==============================] - 0s 166us/sample - loss: 0.0025\n",
      "Epoch 319/500\n",
      "6/6 [==============================] - 0s 166us/sample - loss: 0.0025\n",
      "Epoch 320/500\n",
      "6/6 [==============================] - 0s 167us/sample - loss: 0.0024\n",
      "Epoch 321/500\n",
      "6/6 [==============================] - 0s 164us/sample - loss: 0.0024\n",
      "Epoch 322/500\n",
      "6/6 [==============================] - 0s 164us/sample - loss: 0.0023\n",
      "Epoch 323/500\n",
      "6/6 [==============================] - 0s 164us/sample - loss: 0.0023\n",
      "Epoch 324/500\n",
      "6/6 [==============================] - 0s 168us/sample - loss: 0.0022\n",
      "Epoch 325/500\n",
      "6/6 [==============================] - 0s 166us/sample - loss: 0.0022\n",
      "Epoch 326/500\n",
      "6/6 [==============================] - 0s 167us/sample - loss: 0.0021\n",
      "Epoch 327/500\n",
      "6/6 [==============================] - 0s 167us/sample - loss: 0.0021\n",
      "Epoch 328/500\n",
      "6/6 [==============================] - 0s 167us/sample - loss: 0.0020\n",
      "Epoch 329/500\n",
      "6/6 [==============================] - 0s 167us/sample - loss: 0.0020\n",
      "Epoch 330/500\n",
      "6/6 [==============================] - 0s 166us/sample - loss: 0.0020\n",
      "Epoch 331/500\n",
      "6/6 [==============================] - 0s 165us/sample - loss: 0.0019\n",
      "Epoch 332/500\n",
      "6/6 [==============================] - 0s 333us/sample - loss: 0.0019\n",
      "Epoch 333/500\n",
      "6/6 [==============================] - 0s 167us/sample - loss: 0.0018\n",
      "Epoch 334/500\n",
      "6/6 [==============================] - 0s 168us/sample - loss: 0.0018\n",
      "Epoch 335/500\n",
      "6/6 [==============================] - 0s 167us/sample - loss: 0.0018\n",
      "Epoch 336/500\n",
      "6/6 [==============================] - 0s 167us/sample - loss: 0.0017\n",
      "Epoch 337/500\n",
      "6/6 [==============================] - 0s 167us/sample - loss: 0.0017\n",
      "Epoch 338/500\n",
      "6/6 [==============================] - 0s 167us/sample - loss: 0.0017\n",
      "Epoch 339/500\n",
      "6/6 [==============================] - 0s 169us/sample - loss: 0.0016\n",
      "Epoch 340/500\n",
      "6/6 [==============================] - 0s 167us/sample - loss: 0.0016\n",
      "Epoch 341/500\n",
      "6/6 [==============================] - 0s 166us/sample - loss: 0.0016\n",
      "Epoch 342/500\n",
      "6/6 [==============================] - 0s 333us/sample - loss: 0.0015\n",
      "Epoch 343/500\n",
      "6/6 [==============================] - 0s 166us/sample - loss: 0.0015\n",
      "Epoch 344/500\n",
      "6/6 [==============================] - 0s 167us/sample - loss: 0.0015\n",
      "Epoch 345/500\n",
      "6/6 [==============================] - 0s 167us/sample - loss: 0.0014\n",
      "Epoch 346/500\n",
      "6/6 [==============================] - 0s 169us/sample - loss: 0.0014\n",
      "Epoch 347/500\n",
      "6/6 [==============================] - 0s 163us/sample - loss: 0.0014\n",
      "Epoch 348/500\n",
      "6/6 [==============================] - 0s 167us/sample - loss: 0.0013\n",
      "Epoch 349/500\n",
      "6/6 [==============================] - 0s 166us/sample - loss: 0.0013\n",
      "Epoch 350/500\n",
      "6/6 [==============================] - 0s 167us/sample - loss: 0.0013\n",
      "Epoch 351/500\n",
      "6/6 [==============================] - 0s 167us/sample - loss: 0.0013\n",
      "Epoch 352/500\n",
      "6/6 [==============================] - 0s 166us/sample - loss: 0.0012\n",
      "Epoch 353/500\n",
      "6/6 [==============================] - 0s 167us/sample - loss: 0.0012\n",
      "Epoch 354/500\n",
      "6/6 [==============================] - 0s 167us/sample - loss: 0.0012\n",
      "Epoch 355/500\n",
      "6/6 [==============================] - 0s 167us/sample - loss: 0.0012\n",
      "Epoch 356/500\n",
      "6/6 [==============================] - 0s 167us/sample - loss: 0.0011\n",
      "Epoch 357/500\n",
      "6/6 [==============================] - 0s 335us/sample - loss: 0.0011\n",
      "Epoch 358/500\n",
      "6/6 [==============================] - 0s 164us/sample - loss: 0.0011\n",
      "Epoch 359/500\n",
      "6/6 [==============================] - 0s 167us/sample - loss: 0.0011\n",
      "Epoch 360/500\n",
      "6/6 [==============================] - 0s 167us/sample - loss: 0.0010\n",
      "Epoch 361/500\n",
      "6/6 [==============================] - 0s 166us/sample - loss: 0.0010\n",
      "Epoch 362/500\n",
      "6/6 [==============================] - 0s 166us/sample - loss: 0.0010\n",
      "Epoch 363/500\n",
      "6/6 [==============================] - 0s 167us/sample - loss: 9.8397e-04\n",
      "Epoch 364/500\n",
      "6/6 [==============================] - 0s 164us/sample - loss: 9.6376e-04\n",
      "Epoch 365/500\n",
      "6/6 [==============================] - 0s 334us/sample - loss: 9.4396e-04\n",
      "Epoch 366/500\n",
      "6/6 [==============================] - 0s 166us/sample - loss: 9.2457e-04\n",
      "Epoch 367/500\n",
      "6/6 [==============================] - 0s 166us/sample - loss: 9.0558e-04\n",
      "Epoch 368/500\n",
      "6/6 [==============================] - 0s 167us/sample - loss: 8.8698e-04\n",
      "Epoch 369/500\n",
      "6/6 [==============================] - 0s 166us/sample - loss: 8.6877e-04\n",
      "Epoch 370/500\n",
      "6/6 [==============================] - 0s 166us/sample - loss: 8.5091e-04\n",
      "Epoch 371/500\n",
      "6/6 [==============================] - 0s 164us/sample - loss: 8.3344e-04\n",
      "Epoch 372/500\n",
      "6/6 [==============================] - 0s 164us/sample - loss: 8.1632e-04\n",
      "Epoch 373/500\n",
      "6/6 [==============================] - 0s 164us/sample - loss: 7.9955e-04\n",
      "Epoch 374/500\n",
      "6/6 [==============================] - 0s 166us/sample - loss: 7.8313e-04\n",
      "Epoch 375/500\n",
      "6/6 [==============================] - 0s 167us/sample - loss: 7.6704e-04\n",
      "Epoch 376/500\n",
      "6/6 [==============================] - 0s 167us/sample - loss: 7.5128e-04\n",
      "Epoch 377/500\n",
      "6/6 [==============================] - 0s 167us/sample - loss: 7.3585e-04\n",
      "Epoch 378/500\n",
      "6/6 [==============================] - 0s 167us/sample - loss: 7.2074e-04\n",
      "Epoch 379/500\n",
      "6/6 [==============================] - 0s 169us/sample - loss: 7.0593e-04\n",
      "Epoch 380/500\n",
      "6/6 [==============================] - 0s 333us/sample - loss: 6.9144e-04\n",
      "Epoch 381/500\n",
      "6/6 [==============================] - 0s 166us/sample - loss: 6.7723e-04\n",
      "Epoch 382/500\n",
      "6/6 [==============================] - 0s 0s/sample - loss: 6.6332e-04\n",
      "Epoch 383/500\n",
      "6/6 [==============================] - 0s 165us/sample - loss: 6.4970e-04\n",
      "Epoch 384/500\n",
      "6/6 [==============================] - 0s 168us/sample - loss: 6.3635e-04\n",
      "Epoch 385/500\n",
      "6/6 [==============================] - 0s 165us/sample - loss: 6.2328e-04\n",
      "Epoch 386/500\n",
      "6/6 [==============================] - 0s 169us/sample - loss: 6.1047e-04\n",
      "Epoch 387/500\n",
      "6/6 [==============================] - 0s 167us/sample - loss: 5.9794e-04\n",
      "Epoch 388/500\n",
      "6/6 [==============================] - 0s 166us/sample - loss: 5.8566e-04\n",
      "Epoch 389/500\n",
      "6/6 [==============================] - 0s 164us/sample - loss: 5.7363e-04\n",
      "Epoch 390/500\n",
      "6/6 [==============================] - 0s 167us/sample - loss: 5.6184e-04\n",
      "Epoch 391/500\n",
      "6/6 [==============================] - 0s 165us/sample - loss: 5.5030e-04\n",
      "Epoch 392/500\n",
      "6/6 [==============================] - 0s 167us/sample - loss: 5.3900e-04\n"
     ]
    },
    {
     "name": "stdout",
     "output_type": "stream",
     "text": [
      "Epoch 393/500\n",
      "6/6 [==============================] - 0s 167us/sample - loss: 5.2793e-04\n",
      "Epoch 394/500\n",
      "6/6 [==============================] - 0s 167us/sample - loss: 5.1709e-04\n",
      "Epoch 395/500\n",
      "6/6 [==============================] - 0s 166us/sample - loss: 5.0646e-04\n",
      "Epoch 396/500\n",
      "6/6 [==============================] - 0s 166us/sample - loss: 4.9606e-04\n",
      "Epoch 397/500\n",
      "6/6 [==============================] - 0s 167us/sample - loss: 4.8587e-04\n",
      "Epoch 398/500\n",
      "6/6 [==============================] - 0s 0s/sample - loss: 4.7589e-04\n",
      "Epoch 399/500\n",
      "6/6 [==============================] - 0s 165us/sample - loss: 4.6612e-04\n",
      "Epoch 400/500\n",
      "6/6 [==============================] - 0s 167us/sample - loss: 4.5654e-04\n",
      "Epoch 401/500\n",
      "6/6 [==============================] - 0s 166us/sample - loss: 4.4716e-04\n",
      "Epoch 402/500\n",
      "6/6 [==============================] - 0s 166us/sample - loss: 4.3798e-04\n",
      "Epoch 403/500\n",
      "6/6 [==============================] - 0s 166us/sample - loss: 4.2899e-04\n",
      "Epoch 404/500\n",
      "6/6 [==============================] - 0s 333us/sample - loss: 4.2017e-04\n",
      "Epoch 405/500\n",
      "6/6 [==============================] - 0s 167us/sample - loss: 4.1154e-04\n",
      "Epoch 406/500\n",
      "6/6 [==============================] - 0s 167us/sample - loss: 4.0309e-04\n",
      "Epoch 407/500\n",
      "6/6 [==============================] - 0s 169us/sample - loss: 3.9481e-04\n",
      "Epoch 408/500\n",
      "6/6 [==============================] - 0s 167us/sample - loss: 3.8670e-04\n",
      "Epoch 409/500\n",
      "6/6 [==============================] - 0s 166us/sample - loss: 3.7875e-04\n",
      "Epoch 410/500\n",
      "6/6 [==============================] - 0s 333us/sample - loss: 3.7098e-04\n",
      "Epoch 411/500\n",
      "6/6 [==============================] - 0s 335us/sample - loss: 3.6336e-04\n",
      "Epoch 412/500\n",
      "6/6 [==============================] - 0s 167us/sample - loss: 3.5589e-04\n",
      "Epoch 413/500\n",
      "6/6 [==============================] - 0s 165us/sample - loss: 3.4858e-04\n",
      "Epoch 414/500\n",
      "6/6 [==============================] - 0s 167us/sample - loss: 3.4142e-04\n",
      "Epoch 415/500\n",
      "6/6 [==============================] - 0s 165us/sample - loss: 3.3441e-04\n",
      "Epoch 416/500\n",
      "6/6 [==============================] - 0s 167us/sample - loss: 3.2754e-04\n",
      "Epoch 417/500\n",
      "6/6 [==============================] - 0s 169us/sample - loss: 3.2081e-04\n",
      "Epoch 418/500\n",
      "6/6 [==============================] - 0s 169us/sample - loss: 3.1422e-04\n",
      "Epoch 419/500\n",
      "6/6 [==============================] - 0s 331us/sample - loss: 3.0777e-04\n",
      "Epoch 420/500\n",
      "6/6 [==============================] - 0s 164us/sample - loss: 3.0145e-04\n",
      "Epoch 421/500\n",
      "6/6 [==============================] - 0s 165us/sample - loss: 2.9525e-04\n",
      "Epoch 422/500\n",
      "6/6 [==============================] - 0s 166us/sample - loss: 2.8919e-04\n",
      "Epoch 423/500\n",
      "6/6 [==============================] - 0s 165us/sample - loss: 2.8325e-04\n",
      "Epoch 424/500\n",
      "6/6 [==============================] - 0s 167us/sample - loss: 2.7743e-04\n",
      "Epoch 425/500\n",
      "6/6 [==============================] - 0s 166us/sample - loss: 2.7173e-04\n",
      "Epoch 426/500\n",
      "6/6 [==============================] - 0s 166us/sample - loss: 2.6615e-04\n",
      "Epoch 427/500\n",
      "6/6 [==============================] - 0s 167us/sample - loss: 2.6068e-04\n",
      "Epoch 428/500\n",
      "6/6 [==============================] - 0s 0s/sample - loss: 2.5533e-04\n",
      "Epoch 429/500\n",
      "6/6 [==============================] - 0s 169us/sample - loss: 2.5008e-04\n",
      "Epoch 430/500\n",
      "6/6 [==============================] - 0s 167us/sample - loss: 2.4495e-04\n",
      "Epoch 431/500\n",
      "6/6 [==============================] - 0s 164us/sample - loss: 2.3992e-04\n",
      "Epoch 432/500\n",
      "6/6 [==============================] - 0s 331us/sample - loss: 2.3499e-04\n",
      "Epoch 433/500\n",
      "6/6 [==============================] - 0s 333us/sample - loss: 2.3016e-04\n",
      "Epoch 434/500\n",
      "6/6 [==============================] - 0s 167us/sample - loss: 2.2543e-04\n",
      "Epoch 435/500\n",
      "6/6 [==============================] - 0s 333us/sample - loss: 2.2080e-04\n",
      "Epoch 436/500\n",
      "6/6 [==============================] - 0s 166us/sample - loss: 2.1627e-04\n",
      "Epoch 437/500\n",
      "6/6 [==============================] - 0s 167us/sample - loss: 2.1183e-04\n",
      "Epoch 438/500\n",
      "6/6 [==============================] - 0s 167us/sample - loss: 2.0748e-04\n",
      "Epoch 439/500\n",
      "6/6 [==============================] - 0s 166us/sample - loss: 2.0321e-04\n",
      "Epoch 440/500\n",
      "6/6 [==============================] - 0s 164us/sample - loss: 1.9904e-04\n",
      "Epoch 441/500\n",
      "6/6 [==============================] - 0s 167us/sample - loss: 1.9495e-04\n",
      "Epoch 442/500\n",
      "6/6 [==============================] - 0s 335us/sample - loss: 1.9095e-04\n",
      "Epoch 443/500\n",
      "6/6 [==============================] - 0s 167us/sample - loss: 1.8702e-04\n",
      "Epoch 444/500\n",
      "6/6 [==============================] - 0s 169us/sample - loss: 1.8318e-04\n",
      "Epoch 445/500\n",
      "6/6 [==============================] - 0s 167us/sample - loss: 1.7942e-04\n",
      "Epoch 446/500\n",
      "6/6 [==============================] - 0s 165us/sample - loss: 1.7574e-04\n",
      "Epoch 447/500\n",
      "6/6 [==============================] - 0s 165us/sample - loss: 1.7212e-04\n",
      "Epoch 448/500\n",
      "6/6 [==============================] - 0s 332us/sample - loss: 1.6859e-04\n",
      "Epoch 449/500\n",
      "6/6 [==============================] - 0s 167us/sample - loss: 1.6513e-04\n",
      "Epoch 450/500\n",
      "6/6 [==============================] - 0s 167us/sample - loss: 1.6173e-04\n",
      "Epoch 451/500\n",
      "6/6 [==============================] - 0s 167us/sample - loss: 1.5841e-04\n",
      "Epoch 452/500\n",
      "6/6 [==============================] - 0s 166us/sample - loss: 1.5516e-04\n",
      "Epoch 453/500\n",
      "6/6 [==============================] - 0s 169us/sample - loss: 1.5197e-04\n",
      "Epoch 454/500\n",
      "6/6 [==============================] - 0s 0s/sample - loss: 1.4885e-04\n",
      "Epoch 455/500\n",
      "6/6 [==============================] - 0s 331us/sample - loss: 1.4579e-04\n",
      "Epoch 456/500\n",
      "6/6 [==============================] - 0s 167us/sample - loss: 1.4280e-04\n",
      "Epoch 457/500\n",
      "6/6 [==============================] - 0s 166us/sample - loss: 1.3987e-04\n",
      "Epoch 458/500\n",
      "6/6 [==============================] - 0s 167us/sample - loss: 1.3699e-04\n",
      "Epoch 459/500\n",
      "6/6 [==============================] - 0s 333us/sample - loss: 1.3418e-04\n",
      "Epoch 460/500\n",
      "6/6 [==============================] - 0s 167us/sample - loss: 1.3142e-04\n",
      "Epoch 461/500\n",
      "6/6 [==============================] - 0s 168us/sample - loss: 1.2872e-04\n",
      "Epoch 462/500\n",
      "6/6 [==============================] - 0s 165us/sample - loss: 1.2608e-04\n",
      "Epoch 463/500\n",
      "6/6 [==============================] - 0s 168us/sample - loss: 1.2349e-04\n",
      "Epoch 464/500\n",
      "6/6 [==============================] - 0s 333us/sample - loss: 1.2095e-04\n",
      "Epoch 465/500\n",
      "6/6 [==============================] - 0s 167us/sample - loss: 1.1847e-04\n",
      "Epoch 466/500\n",
      "6/6 [==============================] - 0s 167us/sample - loss: 1.1604e-04\n",
      "Epoch 467/500\n",
      "6/6 [==============================] - 0s 167us/sample - loss: 1.1365e-04\n",
      "Epoch 468/500\n",
      "6/6 [==============================] - 0s 166us/sample - loss: 1.1132e-04\n",
      "Epoch 469/500\n",
      "6/6 [==============================] - 0s 167us/sample - loss: 1.0903e-04\n",
      "Epoch 470/500\n",
      "6/6 [==============================] - 0s 166us/sample - loss: 1.0679e-04\n",
      "Epoch 471/500\n",
      "6/6 [==============================] - 0s 167us/sample - loss: 1.0460e-04\n",
      "Epoch 472/500\n",
      "6/6 [==============================] - 0s 166us/sample - loss: 1.0245e-04\n",
      "Epoch 473/500\n",
      "6/6 [==============================] - 0s 167us/sample - loss: 1.0034e-04\n",
      "Epoch 474/500\n",
      "6/6 [==============================] - 0s 164us/sample - loss: 9.8284e-05\n",
      "Epoch 475/500\n",
      "6/6 [==============================] - 0s 167us/sample - loss: 9.6264e-05\n",
      "Epoch 476/500\n",
      "6/6 [==============================] - 0s 166us/sample - loss: 9.4288e-05\n",
      "Epoch 477/500\n",
      "6/6 [==============================] - 0s 333us/sample - loss: 9.2352e-05\n",
      "Epoch 478/500\n",
      "6/6 [==============================] - 0s 166us/sample - loss: 9.0453e-05\n",
      "Epoch 479/500\n",
      "6/6 [==============================] - 0s 167us/sample - loss: 8.8597e-05\n",
      "Epoch 480/500\n",
      "6/6 [==============================] - 0s 167us/sample - loss: 8.6777e-05\n",
      "Epoch 481/500\n",
      "6/6 [==============================] - 0s 166us/sample - loss: 8.4994e-05\n",
      "Epoch 482/500\n",
      "6/6 [==============================] - 0s 167us/sample - loss: 8.3248e-05\n",
      "Epoch 483/500\n",
      "6/6 [==============================] - 0s 167us/sample - loss: 8.1537e-05\n",
      "Epoch 484/500\n",
      "6/6 [==============================] - 0s 169us/sample - loss: 7.9864e-05\n",
      "Epoch 485/500\n",
      "6/6 [==============================] - 0s 166us/sample - loss: 7.8223e-05\n",
      "Epoch 486/500\n",
      "6/6 [==============================] - 0s 335us/sample - loss: 7.6617e-05\n"
     ]
    },
    {
     "name": "stdout",
     "output_type": "stream",
     "text": [
      "Epoch 487/500\n",
      "6/6 [==============================] - 0s 167us/sample - loss: 7.5043e-05\n",
      "Epoch 488/500\n",
      "6/6 [==============================] - 0s 165us/sample - loss: 7.3502e-05\n",
      "Epoch 489/500\n",
      "6/6 [==============================] - 0s 167us/sample - loss: 7.1992e-05\n",
      "Epoch 490/500\n",
      "6/6 [==============================] - 0s 167us/sample - loss: 7.0513e-05\n",
      "Epoch 491/500\n",
      "6/6 [==============================] - 0s 168us/sample - loss: 6.9063e-05\n",
      "Epoch 492/500\n",
      "6/6 [==============================] - 0s 167us/sample - loss: 6.7645e-05\n",
      "Epoch 493/500\n",
      "6/6 [==============================] - 0s 166us/sample - loss: 6.6255e-05\n",
      "Epoch 494/500\n",
      "6/6 [==============================] - 0s 167us/sample - loss: 6.4895e-05\n",
      "Epoch 495/500\n",
      "6/6 [==============================] - 0s 166us/sample - loss: 6.3562e-05\n",
      "Epoch 496/500\n",
      "6/6 [==============================] - 0s 0s/sample - loss: 6.2256e-05\n",
      "Epoch 497/500\n",
      "6/6 [==============================] - 0s 0s/sample - loss: 6.0978e-05\n",
      "Epoch 498/500\n",
      "6/6 [==============================] - 0s 165us/sample - loss: 5.9724e-05\n",
      "Epoch 499/500\n",
      "6/6 [==============================] - 0s 169us/sample - loss: 5.8498e-05\n",
      "Epoch 500/500\n",
      "6/6 [==============================] - 0s 166us/sample - loss: 5.7297e-05\n"
     ]
    },
    {
     "data": {
      "text/plain": [
       "<tensorflow.python.keras.callbacks.History at 0x1fcbac3c048>"
      ]
     },
     "execution_count": 43,
     "metadata": {},
     "output_type": "execute_result"
    }
   ],
   "source": [
    "model.fit(xs, ys, epochs=500)"
   ]
  },
  {
   "cell_type": "code",
   "execution_count": 46,
   "metadata": {},
   "outputs": [
    {
     "name": "stdout",
     "output_type": "stream",
     "text": [
      "[[18.977915]]\n"
     ]
    }
   ],
   "source": [
    "print(model.predict([10.0]))"
   ]
  }
 ],
 "metadata": {
  "kernelspec": {
   "display_name": "Python 3",
   "language": "python",
   "name": "python3"
  },
  "language_info": {
   "codemirror_mode": {
    "name": "ipython",
    "version": 3
   },
   "file_extension": ".py",
   "mimetype": "text/x-python",
   "name": "python",
   "nbconvert_exporter": "python",
   "pygments_lexer": "ipython3",
   "version": "3.7.6"
  }
 },
 "nbformat": 4,
 "nbformat_minor": 4
}
