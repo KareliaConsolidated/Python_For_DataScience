{
 "cells": [
  {
   "cell_type": "code",
   "execution_count": 1,
   "metadata": {},
   "outputs": [],
   "source": [
    "import math\n",
    "import numpy as np\n",
    "import h5py\n",
    "import matplotlib.pyplot as plt\n",
    "import tensorflow as tf\n",
    "from tensorflow.python.framework import ops"
   ]
  },
  {
   "cell_type": "code",
   "execution_count": 2,
   "metadata": {},
   "outputs": [],
   "source": [
    "%matplotlib inline\n",
    "np.random.seed(1)"
   ]
  },
  {
   "cell_type": "code",
   "execution_count": 3,
   "metadata": {},
   "outputs": [],
   "source": [
    "def load_dataset():\n",
    "    train_dataset = h5py.File('datasets/train_signs.h5', 'r')\n",
    "    train_set_x_orig = np.array(train_dataset['train_set_x'][:]) # Train Set Features\n",
    "    train_set_y_orig = np.array(train_dataset['train_set_y'][:]) # Train Set Labels\n",
    "    \n",
    "    test_dataset = h5py.File('datasets/test_signs.h5', 'r')\n",
    "    test_set_x_orig = np.array(test_dataset['test_set_x'][:]) # Test Set Features\n",
    "    test_set_y_orig = np.array(test_dataset['test_set_y'][:]) # Test Set Labels\n",
    "    \n",
    "    classes = np.array(test_dataset['list_classes'][:]) # List of Classes\n",
    "    \n",
    "    train_set_y_orig = train_set_y_orig.reshape((1, train_set_y_orig.shape[0]))\n",
    "    test_set_y_orig = test_set_y_orig.reshape((1, test_set_y_orig.shape[0]))\n",
    "    \n",
    "    return train_set_x_orig, train_set_y_orig, test_set_x_orig, test_set_y_orig, classes"
   ]
  },
  {
   "cell_type": "code",
   "execution_count": 4,
   "metadata": {},
   "outputs": [
    {
     "name": "stdout",
     "output_type": "stream",
     "text": [
      "49\n"
     ]
    }
   ],
   "source": [
    "y_hat = tf.constant(36, name='y_hat') # Define y_hat constant\n",
    "y = tf.constant(29, name='y') # Define y constant\n",
    "\n",
    "loss = tf.Variable((y-y_hat)**2, name='loss') # Create a Variable for the loss\n",
    "\n",
    "print(loss.numpy())"
   ]
  },
  {
   "cell_type": "code",
   "execution_count": 5,
   "metadata": {},
   "outputs": [],
   "source": [
    "def linear_function():\n",
    "    \"\"\"\n",
    "    Implements a linear function: \n",
    "            Initializes X to be a random tensor of shape (3,1)\n",
    "            Initializes W to be a random tensor of shape (4,3)\n",
    "            Initializes b to be a random tensor of shape (4,1)\n",
    "    Returns: \n",
    "    Y = WX + b \n",
    "    \"\"\"\n",
    "    np.random.seed(1)\n",
    "    \n",
    "    X = np.random.randn(3, 1)\n",
    "    W = np.random.randn(4, 3)\n",
    "    b = np.random.randn(4, 1)\n",
    "    Y = tf.add(tf.matmul(W, X), b)\n",
    "    \n",
    "    return Y"
   ]
  },
  {
   "cell_type": "code",
   "execution_count": 6,
   "metadata": {},
   "outputs": [
    {
     "name": "stdout",
     "output_type": "stream",
     "text": [
      "Result = \n",
      "[[-2.15657382]\n",
      " [ 2.95891446]\n",
      " [-1.08926781]\n",
      " [-0.84538042]]\n"
     ]
    }
   ],
   "source": [
    "print(\"Result = \\n\" + str(linear_function().numpy()))"
   ]
  },
  {
   "cell_type": "code",
   "execution_count": 7,
   "metadata": {},
   "outputs": [],
   "source": [
    "def sigmoid(z):\n",
    "    \"\"\"\n",
    "    Computes the sigmoid of z\n",
    "    \n",
    "    Arguments:\n",
    "    z -- input value, scalar or vector\n",
    "    \n",
    "    Returns: \n",
    "    results -- the sigmoid of z\n",
    "    \"\"\"\n",
    "    z = tf.constant(np.array(z), dtype=tf.float32)\n",
    "    # compute sigmoid(x)\n",
    "    sigmoid = tf.sigmoid(z)\n",
    "    \n",
    "    return sigmoid.numpy()"
   ]
  },
  {
   "cell_type": "code",
   "execution_count": 8,
   "metadata": {},
   "outputs": [
    {
     "data": {
      "text/plain": [
       "0.9933072"
      ]
     },
     "execution_count": 8,
     "metadata": {},
     "output_type": "execute_result"
    }
   ],
   "source": [
    "sigmoid(5)"
   ]
  },
  {
   "cell_type": "code",
   "execution_count": 9,
   "metadata": {},
   "outputs": [
    {
     "name": "stdout",
     "output_type": "stream",
     "text": [
      "sigmoid(0) = 0.5\n",
      "sigmoid(12) = 0.9999938\n"
     ]
    }
   ],
   "source": [
    "print (\"sigmoid(0) = \" + str(sigmoid(0)))\n",
    "print (\"sigmoid(12) = \" + str(sigmoid(12)))"
   ]
  },
  {
   "cell_type": "code",
   "execution_count": 10,
   "metadata": {},
   "outputs": [],
   "source": [
    "def cost(logits, labels):\n",
    "    logits = tf.constant(logits, dtype=tf.float32)\n",
    "    labels = tf.constant(labels, dtype=tf.float32)\n",
    "    cost = tf.nn.sigmoid_cross_entropy_with_logits(logits, labels)\n",
    "    return cost.numpy()"
   ]
  },
  {
   "cell_type": "code",
   "execution_count": 11,
   "metadata": {},
   "outputs": [
    {
     "name": "stdout",
     "output_type": "stream",
     "text": [
      "cost = [0.6931472 0.6931472 0.6132617 0.4132617]\n"
     ]
    }
   ],
   "source": [
    "logits = np.array([0.2,0.4,0.7,0.9])\n",
    "\n",
    "cost = cost(logits, np.array([0,0,1,1]))\n",
    "print (\"cost = \" + str(cost))"
   ]
  },
  {
   "cell_type": "code",
   "execution_count": 12,
   "metadata": {},
   "outputs": [],
   "source": [
    "def one_hot_matrix(labels, C):\n",
    "    \"\"\"\n",
    "    Creates a matrix where the i-th row corresponds to the ith class number and the jth column\n",
    "                     corresponds to the jth training example. So if example j had a label i. Then entry (i,j) \n",
    "                     will be 1. \n",
    "                     \n",
    "    Arguments:\n",
    "    labels -- vector containing the labels \n",
    "    C -- number of classes, the depth of the one hot dimension\n",
    "    \n",
    "    Returns: \n",
    "    one_hot -- one hot matrix\n",
    "    \"\"\"\n",
    "    C = tf.constant(C, name='C')\n",
    "                    \n",
    "    one_hot_matrix = tf.one_hot(indices=labels, depth=C, axis=0)\n",
    "                    \n",
    "    return one_hot_matrix.numpy()"
   ]
  },
  {
   "cell_type": "code",
   "execution_count": 13,
   "metadata": {},
   "outputs": [
    {
     "name": "stdout",
     "output_type": "stream",
     "text": [
      "one_hot = \n",
      "[[0. 0. 0. 1. 0. 0.]\n",
      " [1. 0. 0. 0. 0. 1.]\n",
      " [0. 1. 0. 0. 1. 0.]\n",
      " [0. 0. 1. 0. 0. 0.]]\n"
     ]
    }
   ],
   "source": [
    "labels = np.array([1,2,3,0,2,1])\n",
    "one_hot = one_hot_matrix(labels, C = 4)\n",
    "print (\"one_hot = \\n\" + str(one_hot))"
   ]
  },
  {
   "cell_type": "code",
   "execution_count": 14,
   "metadata": {},
   "outputs": [],
   "source": [
    "def ones(shape):\n",
    "    \"\"\"\n",
    "    Creates an array of ones of dimension shape\n",
    "    \n",
    "    Arguments:\n",
    "    shape -- shape of the array you want to create\n",
    "        \n",
    "    Returns: \n",
    "    ones -- array containing only ones\n",
    "    \"\"\"\n",
    "    \n",
    "    # Create \"ones\" tensor using tf.ones(...)\n",
    "    ones = tf.ones(shape)\n",
    "    \n",
    "    return ones.numpy()"
   ]
  },
  {
   "cell_type": "code",
   "execution_count": 15,
   "metadata": {},
   "outputs": [
    {
     "name": "stdout",
     "output_type": "stream",
     "text": [
      "ones = [1. 1. 1.]\n"
     ]
    }
   ],
   "source": [
    "print (\"ones = \" + str(ones([3])))"
   ]
  },
  {
   "cell_type": "markdown",
   "metadata": {},
   "source": [
    "# 2 - Building your first neural network in tensorflow\n",
    "\n",
    "In this part of the assignment you will build a neural network using tensorflow. Remember that there are two parts to implement a tensorflow model:\n",
    "\n",
    "- Create the computation graph\n",
    "- Run the graph\n",
    "\n",
    "Let's delve into the problem you'd like to solve!\n",
    "\n",
    "### 2.0 - Problem statement: SIGNS Dataset\n",
    "\n",
    "One afternoon, with some friends we decided to teach our computers to decipher sign language. We spent a few hours taking pictures in front of a white wall and came up with the following dataset. It's now your job to build an algorithm that would facilitate communications from a speech-impaired person to someone who doesn't understand sign language.\n",
    "\n",
    "- **Training set**: 1080 pictures (64 by 64 pixels) of signs representing numbers from 0 to 5 (180 pictures per number).\n",
    "- **Test set**: 120 pictures (64 by 64 pixels) of signs representing numbers from 0 to 5 (20 pictures per number).\n",
    "\n",
    "Note that this is a subset of the SIGNS dataset. The complete dataset contains many more signs.\n",
    "\n",
    "Here are examples for each number, and how an explanation of how we represent the labels. These are the original pictures, before we lowered the image resolutoion to 64 by 64 pixels.\n",
    "<img src=\"images/hands.png\" style=\"width:800px;height:350px;\"><caption><center> <u><font color='purple'> **Figure 1**</u><font color='purple'>: SIGNS dataset <br> <font color='black'> </center>\n",
    "\n",
    "\n",
    "Run the following code to load the dataset."
   ]
  },
  {
   "cell_type": "code",
   "execution_count": 16,
   "metadata": {},
   "outputs": [],
   "source": [
    "# Loading the dataset\n",
    "X_train_orig, Y_train_orig, X_test_orig, Y_test_orig, classes = load_dataset()"
   ]
  },
  {
   "cell_type": "code",
   "execution_count": 17,
   "metadata": {},
   "outputs": [
    {
     "data": {
      "text/plain": [
       "<matplotlib.image.AxesImage at 0x1c113114748>"
      ]
     },
     "execution_count": 17,
     "metadata": {},
     "output_type": "execute_result"
    },
    {
     "data": {
      "image/png": "[encoded data removed]",
      "text/plain": [
       "<Figure size 432x288 with 1 Axes>"
      ]
     },
     "metadata": {
      "needs_background": "light"
     },
     "output_type": "display_data"
    }
   ],
   "source": [
    "index = 0\n",
    "plt.imshow(X_train_orig[index])"
   ]
  },
  {
   "cell_type": "code",
   "execution_count": 18,
   "metadata": {},
   "outputs": [
    {
     "name": "stdout",
     "output_type": "stream",
     "text": [
      "y = 5\n"
     ]
    }
   ],
   "source": [
    "print(\"y = \" + str(np.squeeze(Y_train_orig[:, index])))"
   ]
  },
  {
   "cell_type": "code",
   "execution_count": 19,
   "metadata": {},
   "outputs": [],
   "source": [
    "def convert_to_one_hot(Y, C):\n",
    "    Y = np.eye(C)[Y.reshape(-1)].T\n",
    "    return Y"
   ]
  },
  {
   "cell_type": "code",
   "execution_count": 20,
   "metadata": {},
   "outputs": [
    {
     "name": "stdout",
     "output_type": "stream",
     "text": [
      "number of training examples = 1080\n",
      "number of test examples = 120\n",
      "X_train shape: (12288, 1080)\n",
      "Y_train shape: (6, 1080)\n",
      "X_test shape: (12288, 120)\n",
      "Y_test shape: (6, 120)\n"
     ]
    }
   ],
   "source": [
    "# Flatten the training and test images\n",
    "X_train_Flatten = X_train_orig.reshape(X_train_orig.shape[0], -1).T\n",
    "X_test_Flatten = X_test_orig.reshape(X_test_orig.shape[0], -1).T\n",
    "\n",
    "# Normalize Image Vectors\n",
    "X_train = X_train_Flatten / 255.0\n",
    "X_test = X_test_Flatten / 255.0\n",
    "\n",
    "# Convert training and test labels to one hot matrices\n",
    "Y_train = convert_to_one_hot(Y_train_orig, 6)\n",
    "Y_test = convert_to_one_hot(Y_test_orig, 6)\n",
    "\n",
    "print (\"number of training examples = \" + str(X_train.shape[1]))\n",
    "print (\"number of test examples = \" + str(X_test.shape[1]))\n",
    "print (\"X_train shape: \" + str(X_train.shape))\n",
    "print (\"Y_train shape: \" + str(Y_train.shape))\n",
    "print (\"X_test shape: \" + str(X_test.shape))\n",
    "print (\"Y_test shape: \" + str(Y_test.shape))"
   ]
  },
  {
   "cell_type": "code",
   "execution_count": 28,
   "metadata": {},
   "outputs": [],
   "source": [
    "def initialize_parameters():\n",
    "    \"\"\"\n",
    "    Initializes parameters to build a neural network with tensorflow. The shapes are:\n",
    "                        W1 : [25, 12288]\n",
    "                        b1 : [25, 1]\n",
    "                        W2 : [12, 25]\n",
    "                        b2 : [12, 1]\n",
    "                        W3 : [6, 12]\n",
    "                        b3 : [6, 1]\n",
    "    \n",
    "    Returns:\n",
    "    parameters -- a dictionary of tensors containing W1, b1, W2, b2, W3, b3\n",
    "    \"\"\"\n",
    "    tf.random.set_seed(1)\n",
    "    # Glorot Uniform Initializer is same as Xavier Initializer\n",
    "    initializer = tf.initializers.GlorotUniform()\n",
    "    zeroInit = tf.zeros_initializer()\n",
    "    \n",
    "    W1 = tf.Variable(initializer(shape=(25,12288)), name=\"W1\")\n",
    "    b1 = tf.Variable(zeroInit(shape=(25,1)), name=\"b1\")\n",
    "    W2 = tf.Variable(initializer(shape=(12,25)), name=\"W2\")\n",
    "    b2 = tf.Variable(zeroInit(shape=(12,1)), name=\"b2\")\n",
    "    W3 = tf.Variable(initializer(shape=(6,12)), name=\"W3\")\n",
    "    b3 = tf.Variable(zeroInit(shape=(6,1)), name=\"b3\")\n",
    "    \n",
    "    parameters = {\"W1\": W1,\n",
    "                  \"b1\": b1,\n",
    "                  \"W2\": W2,\n",
    "                  \"b2\": b2,\n",
    "                  \"W3\": W3,\n",
    "                  \"b3\": b3}\n",
    "    \n",
    "    return parameters"
   ]
  },
  {
   "cell_type": "code",
   "execution_count": 29,
   "metadata": {},
   "outputs": [
    {
     "name": "stdout",
     "output_type": "stream",
     "text": [
      "W1 = <tf.Variable 'W1:0' shape=(25, 12288) dtype=float32, numpy=\n",
      "array([[-1.47842336e-02,  1.77251101e-02,  5.78241609e-03, ...,\n",
      "        -5.74509054e-03,  1.67791806e-02, -1.76099837e-02],\n",
      "       [ 7.10822642e-05,  4.51281667e-04, -1.82342455e-02, ...,\n",
      "         1.36572979e-02, -1.17452955e-02,  1.81304589e-02],\n",
      "       [-1.38530191e-02, -8.04699305e-03, -5.75006939e-03, ...,\n",
      "        -1.64859798e-02, -1.49659812e-03, -1.96594968e-02],\n",
      "       ...,\n",
      "       [ 1.79477036e-02, -1.62059460e-02,  1.37278400e-02, ...,\n",
      "         1.88305639e-02, -4.04859334e-03,  8.19192454e-03],\n",
      "       [ 3.84624675e-03, -1.64127555e-02, -1.21785151e-02, ...,\n",
      "         1.00171529e-02,  4.27778065e-03,  5.20760752e-03],\n",
      "       [-4.29783016e-04,  1.21666379e-02, -1.83665771e-02, ...,\n",
      "        -2.16038935e-02,  1.55930333e-02, -1.61311366e-02]], dtype=float32)>\n",
      "b1 = <tf.Variable 'b1:0' shape=(25, 1) dtype=float32, numpy=\n",
      "array([[0.],\n",
      "       [0.],\n",
      "       [0.],\n",
      "       [0.],\n",
      "       [0.],\n",
      "       [0.],\n",
      "       [0.],\n",
      "       [0.],\n",
      "       [0.],\n",
      "       [0.],\n",
      "       [0.],\n",
      "       [0.],\n",
      "       [0.],\n",
      "       [0.],\n",
      "       [0.],\n",
      "       [0.],\n",
      "       [0.],\n",
      "       [0.],\n",
      "       [0.],\n",
      "       [0.],\n",
      "       [0.],\n",
      "       [0.],\n",
      "       [0.],\n",
      "       [0.],\n",
      "       [0.]], dtype=float32)>\n",
      "W2 = <tf.Variable 'W2:0' shape=(12, 25) dtype=float32, numpy=\n",
      "array([[ 8.14008713e-03, -4.54788208e-02, -7.36662745e-02,\n",
      "         3.96647036e-01,  1.51947558e-01, -1.24150753e-01,\n",
      "        -5.14908433e-02,  8.13932419e-02, -3.49342525e-02,\n",
      "         2.03519702e-01, -2.51283050e-01,  3.92682254e-02,\n",
      "         3.93957198e-02,  3.98884416e-02, -1.77269995e-01,\n",
      "        -3.14941496e-01,  1.05434358e-01,  3.01068306e-01,\n",
      "         2.59842277e-02,  4.92084920e-02, -1.65962756e-01,\n",
      "         3.45095456e-01, -3.14313471e-01,  3.73330832e-01,\n",
      "         1.49747789e-01],\n",
      "       [-1.75979912e-01,  2.37341285e-01, -3.23757380e-01,\n",
      "         3.83442521e-01,  2.68462539e-01,  2.90681481e-01,\n",
      "         1.33382559e-01, -2.76917726e-01,  3.56646836e-01,\n",
      "         2.45290816e-01,  3.87604952e-01,  3.89273286e-01,\n",
      "        -3.68357897e-01, -5.94896972e-02,  4.92109060e-02,\n",
      "        -9.37918127e-02, -2.44288862e-01, -3.67015600e-03,\n",
      "        -1.05911314e-01, -2.22704932e-01,  1.17074251e-01,\n",
      "        -2.30879575e-01,  2.46655107e-01, -3.59500229e-01,\n",
      "        -1.23001605e-01],\n",
      "       [ 3.10382843e-02,  2.20543444e-01,  3.09194326e-02,\n",
      "         4.55868244e-02, -3.73587430e-01,  1.73425496e-01,\n",
      "        -3.57087791e-01, -3.15460026e-01,  1.27165556e-01,\n",
      "        -2.11690992e-01,  2.41545081e-01,  7.54535794e-02,\n",
      "        -1.91377655e-01,  1.21006787e-01,  2.43687928e-02,\n",
      "         3.42944741e-01,  3.83697152e-01, -8.94318223e-02,\n",
      "        -7.29059875e-02,  1.93936586e-01,  1.07630789e-02,\n",
      "        -1.97577193e-01, -3.25814784e-01, -3.99634093e-01,\n",
      "         3.08788717e-01],\n",
      "       [ 3.40829730e-01,  2.35236704e-01, -3.25848848e-01,\n",
      "         3.58289361e-01,  3.94452572e-01,  3.46668720e-01,\n",
      "        -3.96484584e-01,  1.50660753e-01, -6.93049431e-02,\n",
      "        -2.28442073e-01, -3.46331060e-01, -3.15855801e-01,\n",
      "        -6.11871481e-02,  1.89649761e-02,  4.71027195e-02,\n",
      "        -2.29302138e-01,  8.86497498e-02,  3.03163409e-01,\n",
      "         8.28105211e-02, -1.04446501e-01,  1.62666857e-01,\n",
      "        -1.60039440e-01, -1.04361624e-01, -3.92597169e-01,\n",
      "         2.51929164e-02],\n",
      "       [-3.82006437e-01,  2.75926888e-02,  2.64293790e-01,\n",
      "        -8.27272832e-02, -3.19030344e-01, -3.89196783e-01,\n",
      "         2.00418234e-01, -3.59383494e-01,  2.87885964e-01,\n",
      "         1.46190166e-01, -3.53499234e-01,  3.04675341e-01,\n",
      "         2.12807775e-01,  1.83891416e-01, -5.03101945e-02,\n",
      "        -1.20571792e-01, -1.10119283e-02,  2.04581380e-01,\n",
      "         8.28064978e-02, -7.89802074e-02,  1.45696819e-01,\n",
      "         2.85986006e-01, -2.71863997e-01,  4.91438806e-02,\n",
      "        -1.74147382e-01],\n",
      "       [-3.35852563e-01,  4.15328145e-02,  1.22750640e-01,\n",
      "        -3.88268948e-01, -7.83745050e-02,  7.11879730e-02,\n",
      "         6.65045381e-02,  6.73559606e-02,  6.80691004e-02,\n",
      "        -1.37644798e-01,  2.36231923e-01, -1.88559383e-01,\n",
      "         3.81682992e-01,  7.22298920e-02,  1.81986094e-01,\n",
      "         2.39999652e-01, -3.33455116e-01, -1.48314238e-03,\n",
      "        -1.51590765e-01,  3.45002949e-01,  2.26031840e-01,\n",
      "         3.31443608e-01,  7.16207922e-02,  1.53863132e-02,\n",
      "         1.66519403e-01],\n",
      "       [ 1.62450373e-02,  3.78961384e-01, -3.14279318e-01,\n",
      "        -3.58963817e-01,  1.86710894e-01,  3.33862782e-01,\n",
      "        -2.97068536e-01, -1.65621817e-01,  1.40788078e-01,\n",
      "        -1.48373783e-01,  1.19255126e-01,  9.80214477e-02,\n",
      "         8.42127502e-02,  2.51740038e-01, -8.85460377e-02,\n",
      "        -3.32402468e-01, -1.55995697e-01, -1.71512678e-01,\n",
      "         1.51105762e-01,  3.54571342e-02,  5.76670468e-02,\n",
      "         3.32962275e-02, -3.26584756e-01,  1.42405331e-02,\n",
      "         1.87086761e-01],\n",
      "       [-2.83525974e-01, -2.04813048e-01, -2.66884446e-01,\n",
      "         2.74828076e-03,  3.13070536e-01, -3.55701894e-01,\n",
      "         2.98977375e-01, -2.94100285e-01, -4.27973270e-03,\n",
      "         1.44075334e-01,  1.44218504e-01, -7.51896501e-02,\n",
      "        -3.44433069e-01,  2.30532587e-02, -4.00804073e-01,\n",
      "         3.64898682e-01, -1.95696935e-01,  1.98725760e-01,\n",
      "         2.10213959e-01, -3.28078210e-01,  3.60456944e-01,\n",
      "         5.73340654e-02,  1.41556025e-01, -9.26416218e-02,\n",
      "        -2.01053604e-01],\n",
      "       [ 3.44884992e-02, -3.44136685e-01,  3.25857878e-01,\n",
      "        -3.94937307e-01,  7.62017071e-02, -1.06648386e-01,\n",
      "        -2.48050988e-01, -1.14018083e-01,  1.98540568e-01,\n",
      "        -2.74736971e-01,  7.00056553e-05,  3.53918433e-01,\n",
      "         2.98598230e-01,  1.00438774e-01, -1.60293862e-01,\n",
      "        -3.71805310e-01,  3.21484506e-02,  8.41613710e-02,\n",
      "        -2.54967034e-01, -2.91985393e-01,  3.77707779e-02,\n",
      "         3.62798274e-02, -2.30673447e-01, -2.19312325e-01,\n",
      "         2.29866087e-01],\n",
      "       [ 2.99574673e-01,  1.79812789e-01, -3.01204920e-01,\n",
      "        -1.69071555e-03, -8.70936215e-02, -3.80265772e-01,\n",
      "         3.40554535e-01,  3.04264188e-01, -7.88420439e-04,\n",
      "        -9.93053615e-02, -2.44301528e-01,  3.85221422e-01,\n",
      "        -1.49261981e-01,  3.38964343e-01, -2.63328046e-01,\n",
      "         2.48440206e-01, -2.49745846e-01, -4.18794155e-03,\n",
      "        -3.74637127e-01, -2.43881866e-01,  3.19749296e-01,\n",
      "        -3.94351780e-02, -1.54265031e-01,  2.07154632e-01,\n",
      "         1.19705498e-01],\n",
      "       [-2.43092090e-01, -3.82378370e-01,  2.43221879e-01,\n",
      "         1.03380799e-01, -2.13825002e-01,  2.13283718e-01,\n",
      "        -3.01922679e-01, -3.85756373e-01,  3.91232550e-01,\n",
      "         2.45687544e-01,  2.98019528e-01,  2.83719659e-01,\n",
      "        -2.55020916e-01, -3.04803431e-01,  6.19050860e-03,\n",
      "         2.33598351e-01,  3.44480395e-01,  1.35082960e-01,\n",
      "        -2.75221646e-01, -1.10524565e-01, -1.14646077e-01,\n",
      "        -2.96982795e-01, -6.34046793e-02,  3.54356050e-01,\n",
      "        -2.78141558e-01],\n",
      "       [ 2.22595334e-02, -3.86280596e-01,  1.43923163e-01,\n",
      "         2.92950869e-01, -1.96748242e-01, -3.79734278e-01,\n",
      "         1.42350495e-01, -4.78713810e-02,  8.09506178e-02,\n",
      "        -2.62232304e-01, -1.17359877e-01,  1.17243707e-01,\n",
      "         1.32745802e-02, -2.97281086e-01, -9.23645496e-02,\n",
      "        -3.71224344e-01,  6.49373829e-02,  3.47947299e-01,\n",
      "        -3.99437547e-02,  3.97379518e-01, -1.15329474e-01,\n",
      "        -1.54762864e-02,  1.60537541e-01, -1.16802752e-01,\n",
      "        -2.75756598e-01]], dtype=float32)>\n",
      "b2 = <tf.Variable 'b2:0' shape=(12, 1) dtype=float32, numpy=\n",
      "array([[0.],\n",
      "       [0.],\n",
      "       [0.],\n",
      "       [0.],\n",
      "       [0.],\n",
      "       [0.],\n",
      "       [0.],\n",
      "       [0.],\n",
      "       [0.],\n",
      "       [0.],\n",
      "       [0.],\n",
      "       [0.]], dtype=float32)>\n"
     ]
    }
   ],
   "source": [
    "parameters = initialize_parameters()\n",
    "print(\"W1 = \" + str(parameters[\"W1\"]))\n",
    "print(\"b1 = \" + str(parameters[\"b1\"]))\n",
    "print(\"W2 = \" + str(parameters[\"W2\"]))\n",
    "print(\"b2 = \" + str(parameters[\"b2\"]))"
   ]
  },
  {
   "cell_type": "code",
   "execution_count": 30,
   "metadata": {},
   "outputs": [],
   "source": [
    "def forward_propagation(X, parameters):\n",
    "    \"\"\"\n",
    "    Implements the forward propagation for the model: LINEAR -> RELU -> LINEAR -> RELU -> LINEAR -> SOFTMAX\n",
    "    \n",
    "    Arguments:\n",
    "    X -- input dataset placeholder, of shape (input size, number of examples)\n",
    "    parameters -- python dictionary containing your parameters \"W1\", \"b1\", \"W2\", \"b2\", \"W3\", \"b3\"\n",
    "                  the shapes are given in initialize_parameters\n",
    "\n",
    "    Returns:\n",
    "    Z3 -- the output of the last LINEAR unit\n",
    "    \"\"\"\n",
    "    \n",
    "    # Retrieve the parameters from the dictionary \"parameters\" \n",
    "    W1 = parameters['W1']\n",
    "    b1 = parameters['b1']\n",
    "    W2 = parameters['W2']\n",
    "    b2 = parameters['b2']\n",
    "    W3 = parameters['W3']\n",
    "    b3 = parameters['b3']\n",
    "    \n",
    "    ### START CODE HERE ### (approx. 5 lines)              # Numpy Equivalents:\n",
    "    Z1 = tf.add(tf.matmul(W1, X), b1)                      # Z1 = np.dot(W1, X) + b1\n",
    "    A1 = tf.nn.relu(Z1)                                    # A1 = relu(Z1)\n",
    "    Z2 = tf.add(tf.matmul(W2, A1), b2)                     # Z2 = np.dot(W2, a1) + b2\n",
    "    A2 = tf.nn.relu(Z2)                                    # A2 = relu(Z2)\n",
    "    Z3 = tf.add(tf.matmul(W3, A2), b3)                     # Z3 = np.dot(W3,Z2) + b3\n",
    "    ### END CODE HERE ###\n",
    "    \n",
    "    return Z3"
   ]
  },
  {
   "cell_type": "code",
   "execution_count": 31,
   "metadata": {},
   "outputs": [
    {
     "ename": "InvalidArgumentError",
     "evalue": "cannot compute _MklMatMul as input #1(zero-based) was expected to be a float tensor but is a int32 tensor [Op:MatMul] name: MatMul/",
     "output_type": "error",
     "traceback": [
      "\u001b[1;31m---------------------------------------------------------------------------\u001b[0m",
      "\u001b[1;31mInvalidArgumentError\u001b[0m                      Traceback (most recent call last)",
      "\u001b[1;32m<ipython-input-31-5e228d1704ca>\u001b[0m in \u001b[0;36m<module>\u001b[1;34m\u001b[0m\n\u001b[0;32m      1\u001b[0m \u001b[0mX\u001b[0m\u001b[1;33m,\u001b[0m \u001b[0mY\u001b[0m \u001b[1;33m=\u001b[0m \u001b[1;36m12288\u001b[0m\u001b[1;33m,\u001b[0m \u001b[1;36m6\u001b[0m\u001b[1;33m\u001b[0m\u001b[1;33m\u001b[0m\u001b[0m\n\u001b[0;32m      2\u001b[0m \u001b[0mparameters\u001b[0m \u001b[1;33m=\u001b[0m \u001b[0minitialize_parameters\u001b[0m\u001b[1;33m(\u001b[0m\u001b[1;33m)\u001b[0m\u001b[1;33m\u001b[0m\u001b[1;33m\u001b[0m\u001b[0m\n\u001b[1;32m----> 3\u001b[1;33m \u001b[0mZ3\u001b[0m \u001b[1;33m=\u001b[0m \u001b[0mforward_propagation\u001b[0m\u001b[1;33m(\u001b[0m\u001b[0mX\u001b[0m\u001b[1;33m,\u001b[0m \u001b[0mparameters\u001b[0m\u001b[1;33m)\u001b[0m\u001b[1;33m\u001b[0m\u001b[1;33m\u001b[0m\u001b[0m\n\u001b[0m\u001b[0;32m      4\u001b[0m \u001b[0mprint\u001b[0m\u001b[1;33m(\u001b[0m\u001b[1;34m\"Z3 = \"\u001b[0m \u001b[1;33m+\u001b[0m\u001b[0mstr\u001b[0m\u001b[1;33m(\u001b[0m\u001b[0mZ3\u001b[0m\u001b[1;33m)\u001b[0m\u001b[1;33m)\u001b[0m\u001b[1;33m\u001b[0m\u001b[1;33m\u001b[0m\u001b[0m\n",
      "\u001b[1;32m<ipython-input-30-04c564993e99>\u001b[0m in \u001b[0;36mforward_propagation\u001b[1;34m(X, parameters)\u001b[0m\n\u001b[0;32m     21\u001b[0m \u001b[1;33m\u001b[0m\u001b[0m\n\u001b[0;32m     22\u001b[0m     \u001b[1;31m### START CODE HERE ### (approx. 5 lines)              # Numpy Equivalents:\u001b[0m\u001b[1;33m\u001b[0m\u001b[1;33m\u001b[0m\u001b[1;33m\u001b[0m\u001b[0m\n\u001b[1;32m---> 23\u001b[1;33m     \u001b[0mZ1\u001b[0m \u001b[1;33m=\u001b[0m \u001b[0mtf\u001b[0m\u001b[1;33m.\u001b[0m\u001b[0madd\u001b[0m\u001b[1;33m(\u001b[0m\u001b[0mtf\u001b[0m\u001b[1;33m.\u001b[0m\u001b[0mmatmul\u001b[0m\u001b[1;33m(\u001b[0m\u001b[0mW1\u001b[0m\u001b[1;33m,\u001b[0m \u001b[0mX\u001b[0m\u001b[1;33m)\u001b[0m\u001b[1;33m,\u001b[0m \u001b[0mb1\u001b[0m\u001b[1;33m)\u001b[0m                      \u001b[1;31m# Z1 = np.dot(W1, X) + b1\u001b[0m\u001b[1;33m\u001b[0m\u001b[1;33m\u001b[0m\u001b[0m\n\u001b[0m\u001b[0;32m     24\u001b[0m     \u001b[0mA1\u001b[0m \u001b[1;33m=\u001b[0m \u001b[0mtf\u001b[0m\u001b[1;33m.\u001b[0m\u001b[0mnn\u001b[0m\u001b[1;33m.\u001b[0m\u001b[0mrelu\u001b[0m\u001b[1;33m(\u001b[0m\u001b[0mZ1\u001b[0m\u001b[1;33m)\u001b[0m                                    \u001b[1;31m# A1 = relu(Z1)\u001b[0m\u001b[1;33m\u001b[0m\u001b[1;33m\u001b[0m\u001b[0m\n\u001b[0;32m     25\u001b[0m     \u001b[0mZ2\u001b[0m \u001b[1;33m=\u001b[0m \u001b[0mtf\u001b[0m\u001b[1;33m.\u001b[0m\u001b[0madd\u001b[0m\u001b[1;33m(\u001b[0m\u001b[0mtf\u001b[0m\u001b[1;33m.\u001b[0m\u001b[0mmatmul\u001b[0m\u001b[1;33m(\u001b[0m\u001b[0mW2\u001b[0m\u001b[1;33m,\u001b[0m \u001b[0mA1\u001b[0m\u001b[1;33m)\u001b[0m\u001b[1;33m,\u001b[0m \u001b[0mb2\u001b[0m\u001b[1;33m)\u001b[0m                     \u001b[1;31m# Z2 = np.dot(W2, a1) + b2\u001b[0m\u001b[1;33m\u001b[0m\u001b[1;33m\u001b[0m\u001b[0m\n",
      "\u001b[1;32mF:\\DO_NOT_TOUCH\\Anaconda3\\lib\\site-packages\\tensorflow_core\\python\\util\\dispatch.py\u001b[0m in \u001b[0;36mwrapper\u001b[1;34m(*args, **kwargs)\u001b[0m\n\u001b[0;32m    178\u001b[0m     \u001b[1;34m\"\"\"Call target, and fall back on dispatchers if there is a TypeError.\"\"\"\u001b[0m\u001b[1;33m\u001b[0m\u001b[1;33m\u001b[0m\u001b[0m\n\u001b[0;32m    179\u001b[0m     \u001b[1;32mtry\u001b[0m\u001b[1;33m:\u001b[0m\u001b[1;33m\u001b[0m\u001b[1;33m\u001b[0m\u001b[0m\n\u001b[1;32m--> 180\u001b[1;33m       \u001b[1;32mreturn\u001b[0m \u001b[0mtarget\u001b[0m\u001b[1;33m(\u001b[0m\u001b[1;33m*\u001b[0m\u001b[0margs\u001b[0m\u001b[1;33m,\u001b[0m \u001b[1;33m**\u001b[0m\u001b[0mkwargs\u001b[0m\u001b[1;33m)\u001b[0m\u001b[1;33m\u001b[0m\u001b[1;33m\u001b[0m\u001b[0m\n\u001b[0m\u001b[0;32m    181\u001b[0m     \u001b[1;32mexcept\u001b[0m \u001b[1;33m(\u001b[0m\u001b[0mTypeError\u001b[0m\u001b[1;33m,\u001b[0m \u001b[0mValueError\u001b[0m\u001b[1;33m)\u001b[0m\u001b[1;33m:\u001b[0m\u001b[1;33m\u001b[0m\u001b[1;33m\u001b[0m\u001b[0m\n\u001b[0;32m    182\u001b[0m       \u001b[1;31m# Note: convert_to_eager_tensor currently raises a ValueError, not a\u001b[0m\u001b[1;33m\u001b[0m\u001b[1;33m\u001b[0m\u001b[1;33m\u001b[0m\u001b[0m\n",
      "\u001b[1;32mF:\\DO_NOT_TOUCH\\Anaconda3\\lib\\site-packages\\tensorflow_core\\python\\ops\\math_ops.py\u001b[0m in \u001b[0;36mmatmul\u001b[1;34m(a, b, transpose_a, transpose_b, adjoint_a, adjoint_b, a_is_sparse, b_is_sparse, name)\u001b[0m\n\u001b[0;32m   2796\u001b[0m     \u001b[1;32melse\u001b[0m\u001b[1;33m:\u001b[0m\u001b[1;33m\u001b[0m\u001b[1;33m\u001b[0m\u001b[0m\n\u001b[0;32m   2797\u001b[0m       return gen_math_ops.mat_mul(\n\u001b[1;32m-> 2798\u001b[1;33m           a, b, transpose_a=transpose_a, transpose_b=transpose_b, name=name)\n\u001b[0m\u001b[0;32m   2799\u001b[0m \u001b[1;33m\u001b[0m\u001b[0m\n\u001b[0;32m   2800\u001b[0m \u001b[1;33m\u001b[0m\u001b[0m\n",
      "\u001b[1;32mF:\\DO_NOT_TOUCH\\Anaconda3\\lib\\site-packages\\tensorflow_core\\python\\ops\\gen_math_ops.py\u001b[0m in \u001b[0;36mmat_mul\u001b[1;34m(a, b, transpose_a, transpose_b, name)\u001b[0m\n\u001b[0;32m   5613\u001b[0m         \u001b[1;32mpass\u001b[0m  \u001b[1;31m# Add nodes to the TensorFlow graph.\u001b[0m\u001b[1;33m\u001b[0m\u001b[1;33m\u001b[0m\u001b[0m\n\u001b[0;32m   5614\u001b[0m     \u001b[1;32mexcept\u001b[0m \u001b[0m_core\u001b[0m\u001b[1;33m.\u001b[0m\u001b[0m_NotOkStatusException\u001b[0m \u001b[1;32mas\u001b[0m \u001b[0me\u001b[0m\u001b[1;33m:\u001b[0m\u001b[1;33m\u001b[0m\u001b[1;33m\u001b[0m\u001b[0m\n\u001b[1;32m-> 5615\u001b[1;33m       \u001b[0m_ops\u001b[0m\u001b[1;33m.\u001b[0m\u001b[0mraise_from_not_ok_status\u001b[0m\u001b[1;33m(\u001b[0m\u001b[0me\u001b[0m\u001b[1;33m,\u001b[0m \u001b[0mname\u001b[0m\u001b[1;33m)\u001b[0m\u001b[1;33m\u001b[0m\u001b[1;33m\u001b[0m\u001b[0m\n\u001b[0m\u001b[0;32m   5616\u001b[0m   \u001b[1;31m# Add nodes to the TensorFlow graph.\u001b[0m\u001b[1;33m\u001b[0m\u001b[1;33m\u001b[0m\u001b[1;33m\u001b[0m\u001b[0m\n\u001b[0;32m   5617\u001b[0m   \u001b[1;32mif\u001b[0m \u001b[0mtranspose_a\u001b[0m \u001b[1;32mis\u001b[0m \u001b[1;32mNone\u001b[0m\u001b[1;33m:\u001b[0m\u001b[1;33m\u001b[0m\u001b[1;33m\u001b[0m\u001b[0m\n",
      "\u001b[1;32mF:\\DO_NOT_TOUCH\\Anaconda3\\lib\\site-packages\\tensorflow_core\\python\\framework\\ops.py\u001b[0m in \u001b[0;36mraise_from_not_ok_status\u001b[1;34m(e, name)\u001b[0m\n\u001b[0;32m   6604\u001b[0m   \u001b[0mmessage\u001b[0m \u001b[1;33m=\u001b[0m \u001b[0me\u001b[0m\u001b[1;33m.\u001b[0m\u001b[0mmessage\u001b[0m \u001b[1;33m+\u001b[0m \u001b[1;33m(\u001b[0m\u001b[1;34m\" name: \"\u001b[0m \u001b[1;33m+\u001b[0m \u001b[0mname\u001b[0m \u001b[1;32mif\u001b[0m \u001b[0mname\u001b[0m \u001b[1;32mis\u001b[0m \u001b[1;32mnot\u001b[0m \u001b[1;32mNone\u001b[0m \u001b[1;32melse\u001b[0m \u001b[1;34m\"\"\u001b[0m\u001b[1;33m)\u001b[0m\u001b[1;33m\u001b[0m\u001b[1;33m\u001b[0m\u001b[0m\n\u001b[0;32m   6605\u001b[0m   \u001b[1;31m# pylint: disable=protected-access\u001b[0m\u001b[1;33m\u001b[0m\u001b[1;33m\u001b[0m\u001b[1;33m\u001b[0m\u001b[0m\n\u001b[1;32m-> 6606\u001b[1;33m   \u001b[0msix\u001b[0m\u001b[1;33m.\u001b[0m\u001b[0mraise_from\u001b[0m\u001b[1;33m(\u001b[0m\u001b[0mcore\u001b[0m\u001b[1;33m.\u001b[0m\u001b[0m_status_to_exception\u001b[0m\u001b[1;33m(\u001b[0m\u001b[0me\u001b[0m\u001b[1;33m.\u001b[0m\u001b[0mcode\u001b[0m\u001b[1;33m,\u001b[0m \u001b[0mmessage\u001b[0m\u001b[1;33m)\u001b[0m\u001b[1;33m,\u001b[0m \u001b[1;32mNone\u001b[0m\u001b[1;33m)\u001b[0m\u001b[1;33m\u001b[0m\u001b[1;33m\u001b[0m\u001b[0m\n\u001b[0m\u001b[0;32m   6607\u001b[0m   \u001b[1;31m# pylint: enable=protected-access\u001b[0m\u001b[1;33m\u001b[0m\u001b[1;33m\u001b[0m\u001b[1;33m\u001b[0m\u001b[0m\n\u001b[0;32m   6608\u001b[0m \u001b[1;33m\u001b[0m\u001b[0m\n",
      "\u001b[1;32mF:\\DO_NOT_TOUCH\\Anaconda3\\lib\\site-packages\\six.py\u001b[0m in \u001b[0;36mraise_from\u001b[1;34m(value, from_value)\u001b[0m\n",
      "\u001b[1;31mInvalidArgumentError\u001b[0m: cannot compute _MklMatMul as input #1(zero-based) was expected to be a float tensor but is a int32 tensor [Op:MatMul] name: MatMul/"
     ]
    }
   ],
   "source": [
    "X, Y = 12288, 6\n",
    "parameters = initialize_parameters()\n",
    "Z3 = forward_propagation(X, parameters)\n",
    "print(\"Z3 = \" +str(Z3))"
   ]
  },
  {
   "cell_type": "code",
   "execution_count": null,
   "metadata": {},
   "outputs": [],
   "source": []
  }
 ],
 "metadata": {
  "kernelspec": {
   "display_name": "Python 3",
   "language": "python",
   "name": "python3"
  },
  "language_info": {
   "codemirror_mode": {
    "name": "ipython",
    "version": 3
   },
   "file_extension": ".py",
   "mimetype": "text/x-python",
   "name": "python",
   "nbconvert_exporter": "python",
   "pygments_lexer": "ipython3",
   "version": "3.7.6"
  }
 },
 "nbformat": 4,
 "nbformat_minor": 4
}
